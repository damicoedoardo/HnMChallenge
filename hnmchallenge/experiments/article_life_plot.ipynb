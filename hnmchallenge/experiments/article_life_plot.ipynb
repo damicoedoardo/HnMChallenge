{
 "cells": [
  {
   "cell_type": "code",
   "execution_count": 37,
   "metadata": {},
   "outputs": [],
   "source": [
    "import logging\n",
    "from tqdm import tqdm\n",
    "import numpy as np\n",
    "import pandas as pd\n",
    "from hnmchallenge.constant import *\n",
    "from hnmchallenge.datasets.all_items_last_month_last_week import AILMLWDataset\n",
    "from hnmchallenge.models.itemknn.itemknn import ItemKNN\n",
    "from hnmchallenge.models_prediction.recs_interface import RecsInterface\n",
    "from hnmchallenge.models_prediction.itemknn_recs import ItemKNNRecs\n",
    "from hnmchallenge.utils.logger import set_color"
   ]
  },
  {
   "cell_type": "code",
   "execution_count": 26,
   "metadata": {},
   "outputs": [],
   "source": [
    "map_score=[]\n",
    "recall_score=[]"
   ]
  },
  {
   "cell_type": "code",
   "execution_count": 38,
   "metadata": {},
   "outputs": [],
   "source": [
    "dataset=AILMLWDataset()\n",
    "full_data = dataset.get_holdin()\n",
    "t_dat = full_data[\"t_dat\"].max()"
   ]
  },
  {
   "cell_type": "code",
   "execution_count": 40,
   "metadata": {},
   "outputs": [],
   "source": [
    "t_dat1=t_dat - pd.to_timedelta(2+1, unit=\"D\")"
   ]
  },
  {
   "cell_type": "code",
   "execution_count": 42,
   "metadata": {},
   "outputs": [
    {
     "name": "stdout",
     "output_type": "stream",
     "text": [
      "2020-09-12 00:00:00\n"
     ]
    }
   ],
   "source": [
    "print(t_dat1)\n",
    "cut=[12,50]#,100]#,200]"
   ]
  },
  {
   "cell_type": "code",
   "execution_count": 31,
   "metadata": {},
   "outputs": [
    {
     "name": "stderr",
     "output_type": "stream",
     "text": [
      "  0%|          | 0/2 [00:00<?, ?it/s]"
     ]
    },
    {
     "name": "stdout",
     "output_type": "stream",
     "text": [
      "hnmchallenge/models_prediction/evaluation_logs/ItemKNN_tw_True_rs_False__17_07_2022__15_46_37.log\n",
      "\u001b[1;32mComputing similarity...\u001b[0m\n"
     ]
    },
    {
     "name": "stderr",
     "output_type": "stream",
     "text": [
      "Done: 100%|██████████| 104547/104547 [00:03<00:00, 28211.72it/s]\n"
     ]
    },
    {
     "data": {
      "application/vnd.jupyter.widget-view+json": {
       "model_id": "1e28400df1d54acdae67e080d62f60b5",
       "version_major": 2,
       "version_minor": 0
      },
      "text/plain": [
       "  0%|          | 0/4 [00:01<?, ?it/s]"
      ]
     },
     "metadata": {},
     "output_type": "display_data"
    },
    {
     "name": "stdout",
     "output_type": "stream",
     "text": [
      "Filtering scores on candidates...\n",
      "Filtering scores on candidates...\n",
      "Filtering scores on candidates...\n",
      "Filtering scores on candidates...\n",
      "63412\n",
      "63412\n"
     ]
    },
    {
     "name": "stderr",
     "output_type": "stream",
     "text": [
      " 50%|█████     | 1/2 [02:44<02:44, 164.45s/it]"
     ]
    },
    {
     "name": "stdout",
     "output_type": "stream",
     "text": [
      "hnmchallenge/models_prediction/evaluation_logs/ItemKNN_tw_True_rs_False__17_07_2022__15_49_22.log\n",
      "\u001b[1;32mComputing similarity...\u001b[0m\n"
     ]
    },
    {
     "name": "stderr",
     "output_type": "stream",
     "text": [
      "Done: 100%|██████████| 104547/104547 [00:03<00:00, 27507.72it/s]\n"
     ]
    },
    {
     "data": {
      "application/vnd.jupyter.widget-view+json": {
       "model_id": "559293c1f7584fcf93bfd783ea72212b",
       "version_major": 2,
       "version_minor": 0
      },
      "text/plain": [
       "  0%|          | 0/4 [00:00<?, ?it/s]"
      ]
     },
     "metadata": {},
     "output_type": "display_data"
    },
    {
     "name": "stdout",
     "output_type": "stream",
     "text": [
      "Filtering scores on candidates...\n",
      "Filtering scores on candidates...\n",
      "Filtering scores on candidates...\n",
      "Filtering scores on candidates...\n",
      "63412\n",
      "63412\n"
     ]
    },
    {
     "name": "stderr",
     "output_type": "stream",
     "text": [
      "100%|██████████| 2/2 [05:23<00:00, 161.60s/it]\n",
      "  0%|          | 0/2 [00:00<?, ?it/s]"
     ]
    },
    {
     "name": "stdout",
     "output_type": "stream",
     "text": [
      "hnmchallenge/models_prediction/evaluation_logs/ItemKNN_tw_True_rs_False__17_07_2022__15_52_00.log\n",
      "\u001b[1;32mComputing similarity...\u001b[0m\n"
     ]
    },
    {
     "name": "stderr",
     "output_type": "stream",
     "text": [
      "Done: 100%|██████████| 104547/104547 [00:02<00:00, 37490.07it/s]\n"
     ]
    },
    {
     "data": {
      "application/vnd.jupyter.widget-view+json": {
       "model_id": "ab73bedd43b74fa3b6794546336c0605",
       "version_major": 2,
       "version_minor": 0
      },
      "text/plain": [
       "  0%|          | 0/4 [00:00<?, ?it/s]"
      ]
     },
     "metadata": {},
     "output_type": "display_data"
    },
    {
     "name": "stdout",
     "output_type": "stream",
     "text": [
      "Filtering scores on candidates...\n",
      "Filtering scores on candidates...\n",
      "Filtering scores on candidates...\n",
      "Filtering scores on candidates...\n",
      "63412\n",
      "63412\n"
     ]
    },
    {
     "name": "stderr",
     "output_type": "stream",
     "text": [
      " 50%|█████     | 1/2 [02:50<02:50, 170.94s/it]"
     ]
    },
    {
     "name": "stdout",
     "output_type": "stream",
     "text": [
      "hnmchallenge/models_prediction/evaluation_logs/ItemKNN_tw_True_rs_False__17_07_2022__15_54_51.log\n",
      "\u001b[1;32mComputing similarity...\u001b[0m\n"
     ]
    },
    {
     "name": "stderr",
     "output_type": "stream",
     "text": [
      "Done: 100%|██████████| 104547/104547 [00:03<00:00, 27330.12it/s]\n"
     ]
    },
    {
     "data": {
      "application/vnd.jupyter.widget-view+json": {
       "model_id": "3107a5d48ea3403aaf54698301a7078c",
       "version_major": 2,
       "version_minor": 0
      },
      "text/plain": [
       "  0%|          | 0/4 [00:01<?, ?it/s]"
      ]
     },
     "metadata": {},
     "output_type": "display_data"
    },
    {
     "name": "stdout",
     "output_type": "stream",
     "text": [
      "Filtering scores on candidates...\n",
      "Filtering scores on candidates...\n",
      "Filtering scores on candidates...\n",
      "Filtering scores on candidates...\n",
      "63412\n",
      "63412\n"
     ]
    },
    {
     "name": "stderr",
     "output_type": "stream",
     "text": [
      "100%|██████████| 2/2 [05:37<00:00, 168.70s/it]\n"
     ]
    }
   ],
   "source": [
    "dataset=AILMLWDataset()\n",
    "map_score=[]\n",
    "recall_score=[]\n",
    "for j in cut:   \n",
    "    x=[]\n",
    "    y=[]\n",
    "    for i in tqdm(range(2)):\n",
    "        full_data = dataset.get_full_data()\n",
    "        t_dat = full_data[\"t_dat\"].max()\n",
    "        t_dat1=t_dat - pd.to_timedelta(i+1, unit=\"D\")\n",
    "        candidate_items = full_data[full_data[\"t_dat\"] >= t_dat1][[\"article_id\"]].drop_duplicates()\n",
    "        candidate_items = candidate_items.values.squeeze()\n",
    "        TW = True\n",
    "        REMOVE_SEEN = False\n",
    "        FC = True\n",
    "        dataset=AILMLWDataset()\n",
    "        for kind in [\"train\"]:  # , \"full\"]:        # for kind in [\"train\", \"full\"]:\n",
    "            rec_ens = ItemKNNRecs(\n",
    "                kind=kind,\n",
    "                cutoff=j,\n",
    "                time_weight=TW,\n",
    "                remove_seen=REMOVE_SEEN,\n",
    "                dataset=dataset,\n",
    "                filter_on_candidates=candidate_items,\n",
    "            )\n",
    "            score, recall=rec_ens.eval_recommendations()\n",
    "            x.append(score)\n",
    "            y.append(recall)\n",
    "    map_score.append(x)\n",
    "    recall_score.append(y)"
   ]
  },
  {
   "cell_type": "code",
   "execution_count": 32,
   "metadata": {},
   "outputs": [
    {
     "name": "stdout",
     "output_type": "stream",
     "text": [
      "[[0.02876718492647003, 0.028658134749787127], [0.030792360285050082, 0.03069527910866924]]\n"
     ]
    }
   ],
   "source": [
    "print(map_score)"
   ]
  },
  {
   "cell_type": "code",
   "execution_count": 34,
   "metadata": {},
   "outputs": [],
   "source": [
    "from pathlib import Path\n",
    "import os\n",
    "\n",
    "DATASET_NAME = \"AILMLW_dataset\"\n",
    "_DATA_PATH = Path(Path.home() / os.environ.get(\"DATA_PATH\"))\n",
    "_DATASET_PATH = _DATA_PATH / \"datasets\" / DATASET_NAME\n",
    "_HOLDIN_PATH = Path(_DATASET_PATH / Path(\"map_score.feather\"))\n",
    "df={'MAP@12':map_score[0], 'recall@12':recall_score[0], 'MAP@50':map_score[1], 'recall@50':recall_score[1] }\n",
    "article_score=pd.DataFrame(df)\n",
    "article_score.to_feather(_HOLDIN_PATH)"
   ]
  },
  {
   "cell_type": "code",
   "execution_count": 36,
   "metadata": {},
   "outputs": [
    {
     "data": {
      "text/html": [
       "<div>\n",
       "<style scoped>\n",
       "    .dataframe tbody tr th:only-of-type {\n",
       "        vertical-align: middle;\n",
       "    }\n",
       "\n",
       "    .dataframe tbody tr th {\n",
       "        vertical-align: top;\n",
       "    }\n",
       "\n",
       "    .dataframe thead th {\n",
       "        text-align: right;\n",
       "    }\n",
       "</style>\n",
       "<table border=\"1\" class=\"dataframe\">\n",
       "  <thead>\n",
       "    <tr style=\"text-align: right;\">\n",
       "      <th></th>\n",
       "      <th>MAP@12</th>\n",
       "      <th>recall@12</th>\n",
       "      <th>MAP@50</th>\n",
       "      <th>recall@50</th>\n",
       "    </tr>\n",
       "  </thead>\n",
       "  <tbody>\n",
       "    <tr>\n",
       "      <th>0</th>\n",
       "      <td>0.028767</td>\n",
       "      <td>0.058788</td>\n",
       "      <td>0.030792</td>\n",
       "      <td>0.097785</td>\n",
       "    </tr>\n",
       "    <tr>\n",
       "      <th>1</th>\n",
       "      <td>0.028658</td>\n",
       "      <td>0.058517</td>\n",
       "      <td>0.030695</td>\n",
       "      <td>0.097736</td>\n",
       "    </tr>\n",
       "  </tbody>\n",
       "</table>\n",
       "</div>"
      ],
      "text/plain": [
       "     MAP@12  recall@12    MAP@50  recall@50\n",
       "0  0.028767   0.058788  0.030792   0.097785\n",
       "1  0.028658   0.058517  0.030695   0.097736"
      ]
     },
     "execution_count": 36,
     "metadata": {},
     "output_type": "execute_result"
    }
   ],
   "source": [
    "article_score"
   ]
  }
 ],
 "metadata": {
  "interpreter": {
   "hash": "de506fd929a0e17bc117e411a14c04dcc80817054af17ef91edabe100d67ef14"
  },
  "kernelspec": {
   "display_name": "Python 3.9.7 ('hnmchallenge-2TdcNkYi-py3.9')",
   "language": "python",
   "name": "python3"
  },
  "language_info": {
   "codemirror_mode": {
    "name": "ipython",
    "version": 3
   },
   "file_extension": ".py",
   "mimetype": "text/x-python",
   "name": "python",
   "nbconvert_exporter": "python",
   "pygments_lexer": "ipython3",
   "version": "3.9.7"
  },
  "orig_nbformat": 4
 },
 "nbformat": 4,
 "nbformat_minor": 2
}
