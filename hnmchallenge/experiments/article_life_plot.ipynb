{
 "cells": [
  {
   "cell_type": "code",
   "execution_count": 3,
   "metadata": {},
   "outputs": [],
   "source": [
    "import logging\n",
    "from tqdm import tqdm\n",
    "import numpy as np\n",
    "import pandas as pd\n",
    "from hnmchallenge.constant import *\n",
    "from hnmchallenge.datasets.all_items_last_month_last_week import AILMLWDataset\n",
    "from hnmchallenge.models.itemknn.itemknn import ItemKNN\n",
    "from hnmchallenge.models_prediction.recs_interface import RecsInterface\n",
    "from hnmchallenge.models_prediction.itemknn_recs import ItemKNNRecs\n",
    "from hnmchallenge.utils.logger import set_color"
   ]
  },
  {
   "cell_type": "code",
   "execution_count": 26,
   "metadata": {},
   "outputs": [],
   "source": [
    "map_score=[]\n",
    "recall_score=[]"
   ]
  },
  {
   "cell_type": "code",
   "execution_count": 16,
   "metadata": {},
   "outputs": [],
   "source": [
    "dataset=AILMLWDataset()\n",
    "holdin = dataset.get_holdin()\n",
    "holdout = dataset.get_holdout()\n",
    "holdin_t_dat = holdin[\"t_dat\"].max()\n",
    "holdout_t_dat = holdout[\"t_dat\"].max()"
   ]
  },
  {
   "cell_type": "code",
   "execution_count": 17,
   "metadata": {},
   "outputs": [
    {
     "data": {
      "text/plain": [
       "Timestamp('2020-09-15 00:00:00')"
      ]
     },
     "execution_count": 17,
     "metadata": {},
     "output_type": "execute_result"
    }
   ],
   "source": [
    "holdin_t_dat"
   ]
  },
  {
   "cell_type": "code",
   "execution_count": 18,
   "metadata": {},
   "outputs": [
    {
     "data": {
      "text/plain": [
       "Timestamp('2020-09-22 00:00:00')"
      ]
     },
     "execution_count": 18,
     "metadata": {},
     "output_type": "execute_result"
    }
   ],
   "source": [
    "holdout_t_dat"
   ]
  },
  {
   "cell_type": "code",
   "execution_count": 19,
   "metadata": {},
   "outputs": [],
   "source": [
    "holdin_ld = set(holdin[holdin[\"t_dat\"]>'2020-09-14 00:00:00'][\"article_id\"].values)\n",
    "holdout = set(holdout[DEFAULT_ITEM_COL].values)\n"
   ]
  },
  {
   "cell_type": "code",
   "execution_count": 28,
   "metadata": {},
   "outputs": [
    {
     "name": "stdout",
     "output_type": "stream",
     "text": [
      "One day intersection\n",
      "7617\n"
     ]
    },
    {
     "data": {
      "text/plain": [
       "6919"
      ]
     },
     "execution_count": 28,
     "metadata": {},
     "output_type": "execute_result"
    }
   ],
   "source": [
    "print(\"One day intersection\")\n",
    "print(len(holdin_ld))\n",
    "len(holdin_ld.intersection(holdout))"
   ]
  },
  {
   "cell_type": "code",
   "execution_count": 26,
   "metadata": {},
   "outputs": [],
   "source": [
    "holdin_lw = set(holdin[holdin[\"t_dat\"]>'2020-09-07 00:00:00'][\"article_id\"].values)"
   ]
  },
  {
   "cell_type": "code",
   "execution_count": 29,
   "metadata": {},
   "outputs": [
    {
     "name": "stdout",
     "output_type": "stream",
     "text": [
      "One week intersection\n",
      "19333\n"
     ]
    },
    {
     "data": {
      "text/plain": [
       "14236"
      ]
     },
     "execution_count": 29,
     "metadata": {},
     "output_type": "execute_result"
    }
   ],
   "source": [
    "print(\"One week intersection\")\n",
    "print(len(holdin_lw))\n",
    "len(holdin_lw.intersection(holdout))"
   ]
  },
  {
   "cell_type": "code",
   "execution_count": 15,
   "metadata": {},
   "outputs": [
    {
     "data": {
      "text/plain": [
       "7617"
      ]
     },
     "execution_count": 15,
     "metadata": {},
     "output_type": "execute_result"
    }
   ],
   "source": [
    "full_data[full_data[\"t_dat\"]>'2020-09-14 00:00:00'][\"article_id\"].nunique()a"
   ]
  },
  {
   "cell_type": "code",
   "execution_count": 40,
   "metadata": {},
   "outputs": [],
   "source": [
    "t_dat1=t_dat - pd.to_timedelta(2a+1, unit=\"D\")"
   ]
  },
  {
   "cell_type": "code",
   "execution_count": 42,
   "metadata": {},
   "outputs": [
    {
     "name": "stdout",
     "output_type": "stream",
     "text": [
      "2020-09-12 00:00:00\n"
     ]
    }
   ],
   "source": [
    "print(t_dat1)\n",
    "cut=[12,50]#,100]#,200]"
   ]
  },
  {
   "cell_type": "code",
   "execution_count": 31,
   "metadata": {},
   "outputs": [
    {
     "name": "stderr",
     "output_type": "stream",
     "text": [
      "  0%|          | 0/2 [00:00<?, ?it/s]"
     ]
    },
    {
     "name": "stdout",
     "output_type": "stream",
     "text": [
      "hnmchallenge/models_prediction/evaluation_logs/ItemKNN_tw_True_rs_False__17_07_2022__15_46_37.log\n",
      "\u001b[1;32mComputing similarity...\u001b[0m\n"
     ]
    },
    {
     "name": "stderr",
     "output_type": "stream",
     "text": [
      "Done: 100%|██████████| 104547/104547 [00:03<00:00, 28211.72it/s]\n"
     ]
    },
    {
     "data": {
      "application/vnd.jupyter.widget-view+json": {
       "model_id": "1e28400df1d54acdae67e080d62f60b5",
       "version_major": 2,
       "version_minor": 0
      },
      "text/plain": [
       "  0%|          | 0/4 [00:01<?, ?it/s]"
      ]
     },
     "metadata": {},
     "output_type": "display_data"
    },
    {
     "name": "stdout",
     "output_type": "stream",
     "text": [
      "Filtering scores on candidates...\n",
      "Filtering scores on candidates...\n",
      "Filtering scores on candidates...\n",
      "Filtering scores on candidates...\n",
      "63412\n",
      "63412\n"
     ]
    },
    {
     "name": "stderr",
     "output_type": "stream",
     "text": [
      " 50%|█████     | 1/2 [02:44<02:44, 164.45s/it]"
     ]
    },
    {
     "name": "stdout",
     "output_type": "stream",
     "text": [
      "hnmchallenge/models_prediction/evaluation_logs/ItemKNN_tw_True_rs_False__17_07_2022__15_49_22.log\n",
      "\u001b[1;32mComputing similarity...\u001b[0m\n"
     ]
    },
    {
     "name": "stderr",
     "output_type": "stream",
     "text": [
      "Done: 100%|██████████| 104547/104547 [00:03<00:00, 27507.72it/s]\n"
     ]
    },
    {
     "data": {
      "application/vnd.jupyter.widget-view+json": {
       "model_id": "559293c1f7584fcf93bfd783ea72212b",
       "version_major": 2,
       "version_minor": 0
      },
      "text/plain": [
       "  0%|          | 0/4 [00:00<?, ?it/s]"
      ]
     },
     "metadata": {},
     "output_type": "display_data"
    },
    {
     "name": "stdout",
     "output_type": "stream",
     "text": [
      "Filtering scores on candidates...\n",
      "Filtering scores on candidates...\n",
      "Filtering scores on candidates...\n",
      "Filtering scores on candidates...\n",
      "63412\n",
      "63412\n"
     ]
    },
    {
     "name": "stderr",
     "output_type": "stream",
     "text": [
      "100%|██████████| 2/2 [05:23<00:00, 161.60s/it]\n",
      "  0%|          | 0/2 [00:00<?, ?it/s]"
     ]
    },
    {
     "name": "stdout",
     "output_type": "stream",
     "text": [
      "hnmchallenge/models_prediction/evaluation_logs/ItemKNN_tw_True_rs_False__17_07_2022__15_52_00.log\n",
      "\u001b[1;32mComputing similarity...\u001b[0m\n"
     ]
    },
    {
     "name": "stderr",
     "output_type": "stream",
     "text": [
      "Done: 100%|██████████| 104547/104547 [00:02<00:00, 37490.07it/s]\n"
     ]
    },
    {
     "data": {
      "application/vnd.jupyter.widget-view+json": {
       "model_id": "ab73bedd43b74fa3b6794546336c0605",
       "version_major": 2,
       "version_minor": 0
      },
      "text/plain": [
       "  0%|          | 0/4 [00:00<?, ?it/s]"
      ]
     },
     "metadata": {},
     "output_type": "display_data"
    },
    {
     "name": "stdout",
     "output_type": "stream",
     "text": [
      "Filtering scores on candidates...\n",
      "Filtering scores on candidates...\n",
      "Filtering scores on candidates...\n",
      "Filtering scores on candidates...\n",
      "63412\n",
      "63412\n"
     ]
    },
    {
     "name": "stderr",
     "output_type": "stream",
     "text": [
      " 50%|█████     | 1/2 [02:50<02:50, 170.94s/it]"
     ]
    },
    {
     "name": "stdout",
     "output_type": "stream",
     "text": [
      "hnmchallenge/models_prediction/evaluation_logs/ItemKNN_tw_True_rs_False__17_07_2022__15_54_51.log\n",
      "\u001b[1;32mComputing similarity...\u001b[0m\n"
     ]
    },
    {
     "name": "stderr",
     "output_type": "stream",
     "text": [
      "Done: 100%|██████████| 104547/104547 [00:03<00:00, 27330.12it/s]\n"
     ]
    },
    {
     "data": {
      "application/vnd.jupyter.widget-view+json": {
       "model_id": "3107a5d48ea3403aaf54698301a7078c",
       "version_major": 2,
       "version_minor": 0
      },
      "text/plain": [
       "  0%|          | 0/4 [00:01<?, ?it/s]"
      ]
     },
     "metadata": {},
     "output_type": "display_data"
    },
    {
     "name": "stdout",
     "output_type": "stream",
     "text": [
      "Filtering scores on candidates...\n",
      "Filtering scores on candidates...\n",
      "Filtering scores on candidates...\n",
      "Filtering scores on candidates...\n",
      "63412\n",
      "63412\n"
     ]
    },
    {
     "name": "stderr",
     "output_type": "stream",
     "text": [
      "100%|██████████| 2/2 [05:37<00:00, 168.70s/it]\n"
     ]
    }
   ],
   "source": [
    "dataset=AILMLWDataset()\n",
    "map_score=[]\n",
    "recall_score=[]\n",
    "for j in cut:   \n",
    "    x=[]\n",
    "    y=[]\n",
    "    for i in tqdm(range(2)):\n",
    "        full_data = dataset.get_full_data()\n",
    "        t_dat = full_data[\"t_dat\"].max()\n",
    "        t_dat1=t_dat - pd.to_timedelta(i+1, unit=\"D\")\n",
    "        candidate_items = full_data[full_data[\"t_dat\"] >= t_dat1][[\"article_id\"]].drop_duplicates()\n",
    "        candidate_items = candidate_items.values.squeeze()\n",
    "        TW = True\n",
    "        REMOVE_SEEN = False\n",
    "        FC = True\n",
    "        dataset=AILMLWDataset()\n",
    "        for kind in [\"train\"]:  # , \"full\"]:        # for kind in [\"train\", \"full\"]:\n",
    "            rec_ens = ItemKNNRecs(\n",
    "                kind=kind,\n",
    "                cutoff=j,\n",
    "                time_weight=TW,\n",
    "                remove_seen=REMOVE_SEEN,\n",
    "                dataset=dataset,\n",
    "                filter_on_candidates=candidate_items,\n",
    "            )\n",
    "            score, recall=rec_ens.eval_recommendations()\n",
    "            x.append(score)\n",
    "            y.append(recall)\n",
    "    map_score.append(x)\n",
    "    recall_score.append(y)"
   ]
  },
  {
   "cell_type": "code",
   "execution_count": 32,
   "metadata": {},
   "outputs": [
    {
     "name": "stdout",
     "output_type": "stream",
     "text": [
      "[[0.02876718492647003, 0.028658134749787127], [0.030792360285050082, 0.03069527910866924]]\n"
     ]
    }
   ],
   "source": [
    "print(map_score)"
   ]
  },
  {
   "cell_type": "code",
   "execution_count": 34,
   "metadata": {},
   "outputs": [],
   "source": [
    "from pathlib import Path\n",
    "import os\n",
    "\n",
    "DATASET_NAME = \"AILMLW_dataset\"\n",
    "_DATA_PATH = Path(Path.home() / os.environ.get(\"DATA_PATH\"))\n",
    "_DATASET_PATH = _DATA_PATH / \"datasets\" / DATASET_NAME\n",
    "_HOLDIN_PATH = Path(_DATASET_PATH / Path(\"map_score.feather\"))\n",
    "df={'MAP@12':map_score[0], 'recall@12':recall_score[0], 'MAP@50':map_score[1], 'recall@50':recall_score[1] }\n",
    "article_score=pd.DataFrame(df)\n",
    "article_score.to_feather(_HOLDIN_PATH)"
   ]
  },
  {
   "cell_type": "code",
   "execution_count": 36,
   "metadata": {},
   "outputs": [
    {
     "data": {
      "text/html": [
       "<div>\n",
       "<style scoped>\n",
       "    .dataframe tbody tr th:only-of-type {\n",
       "        vertical-align: middle;\n",
       "    }\n",
       "\n",
       "    .dataframe tbody tr th {\n",
       "        vertical-align: top;\n",
       "    }\n",
       "\n",
       "    .dataframe thead th {\n",
       "        text-align: right;\n",
       "    }\n",
       "</style>\n",
       "<table border=\"1\" class=\"dataframe\">\n",
       "  <thead>\n",
       "    <tr style=\"text-align: right;\">\n",
       "      <th></th>\n",
       "      <th>MAP@12</th>\n",
       "      <th>recall@12</th>\n",
       "      <th>MAP@50</th>\n",
       "      <th>recall@50</th>\n",
       "    </tr>\n",
       "  </thead>\n",
       "  <tbody>\n",
       "    <tr>\n",
       "      <th>0</th>\n",
       "      <td>0.028767</td>\n",
       "      <td>0.058788</td>\n",
       "      <td>0.030792</td>\n",
       "      <td>0.097785</td>\n",
       "    </tr>\n",
       "    <tr>\n",
       "      <th>1</th>\n",
       "      <td>0.028658</td>\n",
       "      <td>0.058517</td>\n",
       "      <td>0.030695</td>\n",
       "      <td>0.097736</td>\n",
       "    </tr>\n",
       "  </tbody>\n",
       "</table>\n",
       "</div>"
      ],
      "text/plain": [
       "     MAP@12  recall@12    MAP@50  recall@50\n",
       "0  0.028767   0.058788  0.030792   0.097785\n",
       "1  0.028658   0.058517  0.030695   0.097736"
      ]
     },
     "execution_count": 36,
     "metadata": {},
     "output_type": "execute_result"
    }
   ],
   "source": [
    "article_score"
   ]
  },
  {
   "cell_type": "code",
   "execution_count": 5,
   "metadata": {},
   "outputs": [],
   "source": [
    "\n",
    "from pathlib import Path\n",
    "import os\n",
    "import pandas as pd\n",
    "\n",
    "DATASET_NAME = \"AILMLW_dataset\"\n",
    "_DATA_PATH = Path(Path.home() / os.environ.get(\"DATA_PATH\"))\n",
    "_DATASET_PATH = _DATA_PATH / \"datasets\" / DATASET_NAME\n",
    "_HOLDIN_PATH = Path(_DATASET_PATH / Path(\"map_score.feather\"))\n",
    "features = pd.read_feather(dataset._DATASET_PATH / f\"map_score.feather\")"
   ]
  },
  {
   "cell_type": "code",
   "execution_count": 6,
   "metadata": {},
   "outputs": [
    {
     "data": {
      "text/html": [
       "<div>\n",
       "<style scoped>\n",
       "    .dataframe tbody tr th:only-of-type {\n",
       "        vertical-align: middle;\n",
       "    }\n",
       "\n",
       "    .dataframe tbody tr th {\n",
       "        vertical-align: top;\n",
       "    }\n",
       "\n",
       "    .dataframe thead th {\n",
       "        text-align: right;\n",
       "    }\n",
       "</style>\n",
       "<table border=\"1\" class=\"dataframe\">\n",
       "  <thead>\n",
       "    <tr style=\"text-align: right;\">\n",
       "      <th></th>\n",
       "      <th>MAP@12</th>\n",
       "      <th>recall@12</th>\n",
       "      <th>MAP@50</th>\n",
       "      <th>recall@50</th>\n",
       "      <th>MAP@100</th>\n",
       "      <th>recall@100</th>\n",
       "      <th>MAP@200</th>\n",
       "      <th>recall@200</th>\n",
       "    </tr>\n",
       "  </thead>\n",
       "  <tbody>\n",
       "    <tr>\n",
       "      <th>0</th>\n",
       "      <td>0.028329</td>\n",
       "      <td>0.057724</td>\n",
       "      <td>0.030317</td>\n",
       "      <td>0.096392</td>\n",
       "      <td>0.030825</td>\n",
       "      <td>0.124022</td>\n",
       "      <td>0.031175</td>\n",
       "      <td>0.160765</td>\n",
       "    </tr>\n",
       "    <tr>\n",
       "      <th>1</th>\n",
       "      <td>0.028309</td>\n",
       "      <td>0.057478</td>\n",
       "      <td>0.030307</td>\n",
       "      <td>0.096118</td>\n",
       "      <td>0.030810</td>\n",
       "      <td>0.123756</td>\n",
       "      <td>0.031150</td>\n",
       "      <td>0.159473</td>\n",
       "    </tr>\n",
       "    <tr>\n",
       "      <th>2</th>\n",
       "      <td>0.028232</td>\n",
       "      <td>0.057155</td>\n",
       "      <td>0.030224</td>\n",
       "      <td>0.095772</td>\n",
       "      <td>0.030721</td>\n",
       "      <td>0.123066</td>\n",
       "      <td>0.031055</td>\n",
       "      <td>0.158041</td>\n",
       "    </tr>\n",
       "    <tr>\n",
       "      <th>3</th>\n",
       "      <td>0.028114</td>\n",
       "      <td>0.056778</td>\n",
       "      <td>0.030096</td>\n",
       "      <td>0.095253</td>\n",
       "      <td>0.030586</td>\n",
       "      <td>0.122197</td>\n",
       "      <td>0.030916</td>\n",
       "      <td>0.156833</td>\n",
       "    </tr>\n",
       "    <tr>\n",
       "      <th>4</th>\n",
       "      <td>0.028016</td>\n",
       "      <td>0.056555</td>\n",
       "      <td>0.029987</td>\n",
       "      <td>0.094889</td>\n",
       "      <td>0.030474</td>\n",
       "      <td>0.121739</td>\n",
       "      <td>0.030802</td>\n",
       "      <td>0.156075</td>\n",
       "    </tr>\n",
       "    <tr>\n",
       "      <th>...</th>\n",
       "      <td>...</td>\n",
       "      <td>...</td>\n",
       "      <td>...</td>\n",
       "      <td>...</td>\n",
       "      <td>...</td>\n",
       "      <td>...</td>\n",
       "      <td>...</td>\n",
       "      <td>...</td>\n",
       "    </tr>\n",
       "    <tr>\n",
       "      <th>95</th>\n",
       "      <td>0.027305</td>\n",
       "      <td>0.053975</td>\n",
       "      <td>0.029061</td>\n",
       "      <td>0.088475</td>\n",
       "      <td>0.029523</td>\n",
       "      <td>0.114041</td>\n",
       "      <td>0.029816</td>\n",
       "      <td>0.145232</td>\n",
       "    </tr>\n",
       "    <tr>\n",
       "      <th>96</th>\n",
       "      <td>0.027304</td>\n",
       "      <td>0.053975</td>\n",
       "      <td>0.029059</td>\n",
       "      <td>0.088462</td>\n",
       "      <td>0.029521</td>\n",
       "      <td>0.114020</td>\n",
       "      <td>0.029814</td>\n",
       "      <td>0.145230</td>\n",
       "    </tr>\n",
       "    <tr>\n",
       "      <th>97</th>\n",
       "      <td>0.027304</td>\n",
       "      <td>0.053975</td>\n",
       "      <td>0.029057</td>\n",
       "      <td>0.088429</td>\n",
       "      <td>0.029519</td>\n",
       "      <td>0.113993</td>\n",
       "      <td>0.029813</td>\n",
       "      <td>0.145201</td>\n",
       "    </tr>\n",
       "    <tr>\n",
       "      <th>98</th>\n",
       "      <td>0.027303</td>\n",
       "      <td>0.053973</td>\n",
       "      <td>0.029056</td>\n",
       "      <td>0.088410</td>\n",
       "      <td>0.029518</td>\n",
       "      <td>0.113974</td>\n",
       "      <td>0.029811</td>\n",
       "      <td>0.145184</td>\n",
       "    </tr>\n",
       "    <tr>\n",
       "      <th>99</th>\n",
       "      <td>0.027303</td>\n",
       "      <td>0.053973</td>\n",
       "      <td>0.029055</td>\n",
       "      <td>0.088402</td>\n",
       "      <td>0.029517</td>\n",
       "      <td>0.113974</td>\n",
       "      <td>0.029811</td>\n",
       "      <td>0.145178</td>\n",
       "    </tr>\n",
       "  </tbody>\n",
       "</table>\n",
       "<p>100 rows × 8 columns</p>\n",
       "</div>"
      ],
      "text/plain": [
       "      MAP@12  recall@12    MAP@50  recall@50   MAP@100  recall@100   MAP@200  \\\n",
       "0   0.028329   0.057724  0.030317   0.096392  0.030825    0.124022  0.031175   \n",
       "1   0.028309   0.057478  0.030307   0.096118  0.030810    0.123756  0.031150   \n",
       "2   0.028232   0.057155  0.030224   0.095772  0.030721    0.123066  0.031055   \n",
       "3   0.028114   0.056778  0.030096   0.095253  0.030586    0.122197  0.030916   \n",
       "4   0.028016   0.056555  0.029987   0.094889  0.030474    0.121739  0.030802   \n",
       "..       ...        ...       ...        ...       ...         ...       ...   \n",
       "95  0.027305   0.053975  0.029061   0.088475  0.029523    0.114041  0.029816   \n",
       "96  0.027304   0.053975  0.029059   0.088462  0.029521    0.114020  0.029814   \n",
       "97  0.027304   0.053975  0.029057   0.088429  0.029519    0.113993  0.029813   \n",
       "98  0.027303   0.053973  0.029056   0.088410  0.029518    0.113974  0.029811   \n",
       "99  0.027303   0.053973  0.029055   0.088402  0.029517    0.113974  0.029811   \n",
       "\n",
       "    recall@200  \n",
       "0     0.160765  \n",
       "1     0.159473  \n",
       "2     0.158041  \n",
       "3     0.156833  \n",
       "4     0.156075  \n",
       "..         ...  \n",
       "95    0.145232  \n",
       "96    0.145230  \n",
       "97    0.145201  \n",
       "98    0.145184  \n",
       "99    0.145178  \n",
       "\n",
       "[100 rows x 8 columns]"
      ]
     },
     "execution_count": 6,
     "metadata": {},
     "output_type": "execute_result"
    }
   ],
   "source": [
    "features"
   ]
  },
  {
   "cell_type": "code",
   "execution_count": 7,
   "metadata": {},
   "outputs": [
    {
     "data": {
      "text/plain": [
       "0.03031746357957068"
      ]
     },
     "execution_count": 7,
     "metadata": {},
     "output_type": "execute_result"
    }
   ],
   "source": [
    "features[\"MAP@50\"].max()"
   ]
  },
  {
   "cell_type": "code",
   "execution_count": 8,
   "metadata": {},
   "outputs": [
    {
     "data": {
      "image/png": "[encoded data removed]",
      "text/plain": [
       "<Figure size 432x288 with 1 Axes>"
      ]
     },
     "metadata": {
      "needs_background": "light"
     },
     "output_type": "display_data"
    }
   ],
   "source": [
    "from hnmchallenge.matplotlib_utils.setup_plot import setup_plot\n",
    "import seaborn as sns\n",
    "import numpy as np\n",
    "import matplotlib.pyplot as plt\n",
    "#setup_plot(200, fig_ratio=0.5, font_size=8)\n",
    "x = list(features.index.values)\n",
    "\n",
    "fig, ax = plt.subplots()\n",
    "\n",
    "ax= sns.lineplot(x=x, y=list(features[\"MAP@12\"]),label=\"$MAP@12$\")\n",
    "ax3= sns.lineplot(x=x, y=list(features[\"MAP@50\"]),label=\"$MAP@50$\")\n",
    "ax4= sns.lineplot(x=x, y=list(features[\"MAP@100\"]),label=\"$MAP@100$\")\n",
    "ax1 = sns.lineplot(x=x, y=list(features[\"MAP@200\"]),label=\"$MAP@200$\")\n",
    "#ax2 = sns.lineplot(x=x, y=1,label=\"$f(x)=1$\")\n",
    "#sns.lineplot(x=x, y=1/(np.exp(-1+x)),label=\"$f(x)=1/exp(x-1)$\")\n",
    "\n",
    "#plt.gca().legend(labels=[\"$f(x)=1/x^{3}$\", \"_\", \"$f(x)=1/x^{2}$\", \"_\",\"$f(x)=1/x$\", \"_\",\"$f(x)=(730-x)/730$\", \"_\",\"$f(x)=1$\", \"_\",\"$f(x)=exp(x-1)$\"])\n",
    "plt.gca().get_legend().get_frame().set_linewidth(0.5)\n",
    "plt.xlabel(\"$days~back~in~time$\")\n",
    "plt.ylabel(\"$MAP$\")\n",
    "\n",
    "plt.tight_layout(pad=0.1, w_pad=0.0, h_pad=0.0)"
   ]
  }
 ],
 "metadata": {
  "interpreter": {
   "hash": "de506fd929a0e17bc117e411a14c04dcc80817054af17ef91edabe100d67ef14"
  },
  "kernelspec": {
   "display_name": "Python 3.9.7 ('hnmchallenge-2TdcNkYi-py3.9')",
   "language": "python",
   "name": "python3"
  },
  "language_info": {
   "codemirror_mode": {
    "name": "ipython",
    "version": 3
   },
   "file_extension": ".py",
   "mimetype": "text/x-python",
   "name": "python",
   "nbconvert_exporter": "python",
   "pygments_lexer": "ipython3",
   "version": "3.9.7"
  },
  "orig_nbformat": 4
 },
 "nbformat": 4,
 "nbformat_minor": 2
}
