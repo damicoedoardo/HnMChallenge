{
 "cells": [
  {
   "cell_type": "code",
   "execution_count": 130,
   "metadata": {},
   "outputs": [],
   "source": [
    "import math\n",
    "import re\n",
    "import time\n",
    "\n",
    "import joblib\n",
    "import lightgbm as lgb\n",
    "import numpy as np\n",
    "import pandas as pd\n",
    "from tqdm import tqdm\n",
    "\n",
    "from hnmchallenge.constant import *\n",
    "from hnmchallenge.data_reader import DataReader\n",
    "from hnmchallenge.datasets.all_items_last_mont__last_day_last_week import AILMLDWDataset\n",
    "from hnmchallenge.datasets.all_items_last_month_last_day import AILMLDDataset\n",
    "from hnmchallenge.datasets.all_items_last_month_last_week import AILMLWDataset\n",
    "from hnmchallenge.datasets.last2month_last_day import L2MLDDataset\n",
    "from hnmchallenge.datasets.last_month_last_day import LMLDDataset\n",
    "from hnmchallenge.datasets.last_month_last_week_dataset import LMLWDataset\n",
    "from hnmchallenge.datasets.last_month_last_week_user import LMLUWDataset\n",
    "from hnmchallenge.datasets.last_week_last_week import LWLWDataset\n",
    "from hnmchallenge.evaluation.python_evaluation import map_at_k, recall_at_k\n",
    "from hnmchallenge.feature_manager import FeatureManager\n",
    "from hnmchallenge.models.itemknn.itemknn import ItemKNN\n",
    "from hnmchallenge.models_prediction.recs_interface import RecsInterface\n",
    "from hnmchallenge.datasets.first_week_dataset import FirstWeekDataset"
   ]
  },
  {
   "cell_type": "code",
   "execution_count": 131,
   "metadata": {},
   "outputs": [],
   "source": [
    "VERSION = 0\n",
    "NAME = f\"cutf_200_ItemKNN_tw_True_rs_False\"\n",
    "DATASET = f\"{NAME}_{VERSION}.feather\"\n",
    "MODEL_NAME = f\"lgbm_{DATASET}_5.pkl\""
   ]
  },
  {
   "cell_type": "code",
   "execution_count": 132,
   "metadata": {},
   "outputs": [],
   "source": [
    "dataset = FirstWeekDataset()\n",
    "base_load_path = dataset._DATASET_PATH / \"lgbm_models\"\n",
    "model = joblib.load(base_load_path / MODEL_NAME)"
   ]
  },
  {
   "cell_type": "code",
   "execution_count": 133,
   "metadata": {},
   "outputs": [
    {
     "name": "stdout",
     "output_type": "stream",
     "text": [
      "Read Dataset...\n",
      "(12682400, 81)\n"
     ]
    }
   ],
   "source": [
    "print(\"Read Dataset...\")\n",
    "features = pd.read_feather(dataset._DATASET_PATH / f\"dataset_dfs/full/{DATASET}\")\n",
    "print(features.shape)"
   ]
  },
  {
   "cell_type": "code",
   "execution_count": 134,
   "metadata": {},
   "outputs": [
    {
     "name": "stdout",
     "output_type": "stream",
     "text": [
      "Categorical conversion...\n"
     ]
    }
   ],
   "source": [
    "features = features.rename(columns=lambda x: re.sub(\"[^A-Za-z0-9_]+\", \"\", x))\n",
    "\n",
    "cat = [\n",
    "    \"index_code_gbm\",\n",
    "    \"product_group_name_gbm\",\n",
    "    \"index_group_name_gbm\",\n",
    "    \"graphical_appearance_no_gbm\",\n",
    "]\n",
    "cat_index = [i for i, c in enumerate(features.columns) if c in cat]\n",
    "print(\"Categorical conversion...\")\n",
    "for col in cat:\n",
    "    features[col] = pd.Categorical(features[col])"
   ]
  },
  {
   "cell_type": "code",
   "execution_count": 135,
   "metadata": {},
   "outputs": [],
   "source": [
    "customer_article_df = features[[DEFAULT_USER_COL, DEFAULT_ITEM_COL]]\n",
    "X = features.drop([DEFAULT_USER_COL, DEFAULT_ITEM_COL], axis=1)"
   ]
  },
  {
   "cell_type": "code",
   "execution_count": 136,
   "metadata": {},
   "outputs": [
    {
     "name": "stdout",
     "output_type": "stream",
     "text": [
      "Computing Predictions...\n",
      "(12682400,)\n",
      "Took: 1 minutes\n"
     ]
    }
   ],
   "source": [
    "s = time.time()\n",
    "print(\"Computing Predictions...\")\n",
    "y_pred = []\n",
    "\n",
    "batch_size = 30_000_000\n",
    "idx = 0\n",
    "while idx + batch_size < X.shape[0]:\n",
    "    end = idx + batch_size\n",
    "    batch = X.loc[idx : end - 1, :]\n",
    "    score = model.predict(batch, num_iteration=model.best_iteration_, n_jobs=72)\n",
    "    y_pred.extend(score)\n",
    "    idx = end\n",
    "last_batch = X.loc[idx:, :]\n",
    "score = model.predict(last_batch, num_iteration=model.best_iteration_, n_jobs=72)\n",
    "y_pred.extend(score)\n",
    "y_pred = np.array(y_pred)\n",
    "print(y_pred.shape)\n",
    "\n",
    "print(f\"Took: {math.ceil((time.time()-s)/60)} minutes\")"
   ]
  },
  {
   "cell_type": "code",
   "execution_count": 137,
   "metadata": {},
   "outputs": [
    {
     "name": "stderr",
     "output_type": "stream",
     "text": [
      "/tmp/ipykernel_1735843/3128637120.py:1: SettingWithCopyWarning: \n",
      "A value is trying to be set on a copy of a slice from a DataFrame.\n",
      "Try using .loc[row_indexer,col_indexer] = value instead\n",
      "\n",
      "See the caveats in the documentation: https://pandas.pydata.org/pandas-docs/stable/user_guide/indexing.html#returning-a-view-versus-a-copy\n",
      "  customer_article_df[\"predicted_score\"] = y_pred\n"
     ]
    },
    {
     "name": "stdout",
     "output_type": "stream",
     "text": [
      "Sorting scores...\n",
      "     customer_id  article_id  predicted_score\n",
      "3              6        2687         0.723911\n",
      "12             6       62737         0.564720\n",
      "2              6       98054         0.555936\n",
      "72             6       37912         0.353578\n",
      "27             6       35307         0.201512\n",
      "139            6       39230         0.172506\n",
      "67             6       39629         0.170546\n",
      "160            6       98086         0.169760\n",
      "62             6       61890         0.158974\n",
      "59             6        1408         0.063472\n",
      "26             6        1146         0.004017\n",
      "24             6       38400        -0.065058\n",
      "66             6          67        -0.083361\n",
      "33             6        3596        -0.111731\n",
      "49             6       40366        -0.160905\n",
      "115            6       39651        -0.217799\n",
      "152            6       36709        -0.377455\n",
      "134            6       46107        -0.410020\n",
      "92             6       44709        -0.412651\n",
      "69             6         394        -0.446366\n"
     ]
    }
   ],
   "source": [
    "customer_article_df[\"predicted_score\"] = y_pred\n",
    "print(\"Sorting scores...\")\n",
    "customer_article_df = customer_article_df.sort_values(\n",
    "    [DEFAULT_USER_COL, \"predicted_score\"], ascending=[True, False]\n",
    ")\n",
    "print(customer_article_df.head(20))\n",
    "customer_article_df = customer_article_df.reset_index(drop=True)"
   ]
  },
  {
   "cell_type": "code",
   "execution_count": 138,
   "metadata": {},
   "outputs": [],
   "source": [
    "customer_article_df[\"rank\"] = np.tile(np.arange(1,201), customer_article_df[DEFAULT_USER_COL].nunique())"
   ]
  },
  {
   "cell_type": "code",
   "execution_count": 139,
   "metadata": {},
   "outputs": [
    {
     "name": "stdout",
     "output_type": "stream",
     "text": [
      "Filtering predictions...\n"
     ]
    }
   ],
   "source": [
    "print(\"Filtering predictions...\")\n",
    "cutoff = customer_article_df.groupby(DEFAULT_USER_COL).size().values\n",
    "i = 0\n",
    "filter_indices = []\n",
    "for cut in cutoff:\n",
    "    filter_indices.extend(range(i, i + 200))\n",
    "    i = i + cut\n",
    "customer_article_df = customer_article_df.loc[filter_indices]\n",
    "customer_article_df = customer_article_df.drop(\"predicted_score\", axis=1)"
   ]
  },
  {
   "cell_type": "code",
   "execution_count": 140,
   "metadata": {},
   "outputs": [
    {
     "data": {
      "text/html": [
       "<div>\n",
       "<style scoped>\n",
       "    .dataframe tbody tr th:only-of-type {\n",
       "        vertical-align: middle;\n",
       "    }\n",
       "\n",
       "    .dataframe tbody tr th {\n",
       "        vertical-align: top;\n",
       "    }\n",
       "\n",
       "    .dataframe thead th {\n",
       "        text-align: right;\n",
       "    }\n",
       "</style>\n",
       "<table border=\"1\" class=\"dataframe\">\n",
       "  <thead>\n",
       "    <tr style=\"text-align: right;\">\n",
       "      <th></th>\n",
       "      <th>customer_id</th>\n",
       "      <th>article_id</th>\n",
       "      <th>rank</th>\n",
       "    </tr>\n",
       "  </thead>\n",
       "  <tbody>\n",
       "    <tr>\n",
       "      <th>0</th>\n",
       "      <td>6</td>\n",
       "      <td>2687</td>\n",
       "      <td>1</td>\n",
       "    </tr>\n",
       "    <tr>\n",
       "      <th>1</th>\n",
       "      <td>6</td>\n",
       "      <td>62737</td>\n",
       "      <td>2</td>\n",
       "    </tr>\n",
       "    <tr>\n",
       "      <th>2</th>\n",
       "      <td>6</td>\n",
       "      <td>98054</td>\n",
       "      <td>3</td>\n",
       "    </tr>\n",
       "    <tr>\n",
       "      <th>3</th>\n",
       "      <td>6</td>\n",
       "      <td>37912</td>\n",
       "      <td>4</td>\n",
       "    </tr>\n",
       "    <tr>\n",
       "      <th>4</th>\n",
       "      <td>6</td>\n",
       "      <td>35307</td>\n",
       "      <td>5</td>\n",
       "    </tr>\n",
       "    <tr>\n",
       "      <th>...</th>\n",
       "      <td>...</td>\n",
       "      <td>...</td>\n",
       "      <td>...</td>\n",
       "    </tr>\n",
       "    <tr>\n",
       "      <th>12682395</th>\n",
       "      <td>1356690</td>\n",
       "      <td>92948</td>\n",
       "      <td>196</td>\n",
       "    </tr>\n",
       "    <tr>\n",
       "      <th>12682396</th>\n",
       "      <td>1356690</td>\n",
       "      <td>82757</td>\n",
       "      <td>197</td>\n",
       "    </tr>\n",
       "    <tr>\n",
       "      <th>12682397</th>\n",
       "      <td>1356690</td>\n",
       "      <td>57010</td>\n",
       "      <td>198</td>\n",
       "    </tr>\n",
       "    <tr>\n",
       "      <th>12682398</th>\n",
       "      <td>1356690</td>\n",
       "      <td>75064</td>\n",
       "      <td>199</td>\n",
       "    </tr>\n",
       "    <tr>\n",
       "      <th>12682399</th>\n",
       "      <td>1356690</td>\n",
       "      <td>56836</td>\n",
       "      <td>200</td>\n",
       "    </tr>\n",
       "  </tbody>\n",
       "</table>\n",
       "<p>12682400 rows × 3 columns</p>\n",
       "</div>"
      ],
      "text/plain": [
       "          customer_id  article_id  rank\n",
       "0                   6        2687     1\n",
       "1                   6       62737     2\n",
       "2                   6       98054     3\n",
       "3                   6       37912     4\n",
       "4                   6       35307     5\n",
       "...               ...         ...   ...\n",
       "12682395      1356690       92948   196\n",
       "12682396      1356690       82757   197\n",
       "12682397      1356690       57010   198\n",
       "12682398      1356690       75064   199\n",
       "12682399      1356690       56836   200\n",
       "\n",
       "[12682400 rows x 3 columns]"
      ]
     },
     "execution_count": 140,
     "metadata": {},
     "output_type": "execute_result"
    }
   ],
   "source": [
    "customer_article_df"
   ]
  },
  {
   "cell_type": "code",
   "execution_count": 141,
   "metadata": {},
   "outputs": [],
   "source": [
    "eval_data = dataset.get_evaluation_data()"
   ]
  },
  {
   "cell_type": "code",
   "execution_count": 142,
   "metadata": {},
   "outputs": [],
   "source": [
    "item_per_user = eval_data.groupby(DEFAULT_USER_COL)[DEFAULT_ITEM_COL].apply(list)\n",
    "item_per_user_df = item_per_user.to_frame()\n",
    "# items groundtruth\n",
    "eval_groundtruth = (\n",
    "    item_per_user_df.reset_index().explode(DEFAULT_ITEM_COL).drop_duplicates()\n",
    ")"
   ]
  },
  {
   "cell_type": "code",
   "execution_count": 143,
   "metadata": {},
   "outputs": [
    {
     "name": "stdout",
     "output_type": "stream",
     "text": [
      "63412\n",
      "63412\n",
      "0.03245902317812821\n",
      "63412\n",
      "63412\n",
      "0.03511422289376874\n",
      "63412\n",
      "63412\n",
      "0.035528640901562325\n"
     ]
    }
   ],
   "source": [
    "map_list = []\n",
    "rec_list = []\n",
    "cut_list = []\n",
    "for cutoff in [12, 50, 100]:\n",
    "    filtered_res = customer_article_df[customer_article_df[\"rank\"]<=cutoff]\n",
    "    \n",
    "    map_res = map_at_k(eval_groundtruth, filtered_res)\n",
    "    rec_res = recall_at_k(eval_groundtruth, filtered_res)\n",
    "\n",
    "    print(map_res)\n",
    "\n",
    "    map_list.append(map_res)\n",
    "    rec_list.append(rec_res)\n",
    "    cut_list.append(cutoff)"
   ]
  },
  {
   "cell_type": "code",
   "execution_count": 144,
   "metadata": {},
   "outputs": [],
   "source": [
    "res_df = pd.DataFrame(zip(map_list, rec_list, cut_list), columns=[\"map\", \"recall\", \"cutoff\"])"
   ]
  },
  {
   "cell_type": "code",
   "execution_count": 16,
   "metadata": {},
   "outputs": [],
   "source": [
    "res_df.to_csv(\"fourth_week_res.csv\")"
   ]
  },
  {
   "cell_type": "code",
   "execution_count": 145,
   "metadata": {},
   "outputs": [
    {
     "data": {
      "text/html": [
       "<div>\n",
       "<style scoped>\n",
       "    .dataframe tbody tr th:only-of-type {\n",
       "        vertical-align: middle;\n",
       "    }\n",
       "\n",
       "    .dataframe tbody tr th {\n",
       "        vertical-align: top;\n",
       "    }\n",
       "\n",
       "    .dataframe thead th {\n",
       "        text-align: right;\n",
       "    }\n",
       "</style>\n",
       "<table border=\"1\" class=\"dataframe\">\n",
       "  <thead>\n",
       "    <tr style=\"text-align: right;\">\n",
       "      <th></th>\n",
       "      <th>map</th>\n",
       "      <th>recall</th>\n",
       "      <th>cutoff</th>\n",
       "    </tr>\n",
       "  </thead>\n",
       "  <tbody>\n",
       "    <tr>\n",
       "      <th>0</th>\n",
       "      <td>0.032459</td>\n",
       "      <td>0.071917</td>\n",
       "      <td>12</td>\n",
       "    </tr>\n",
       "    <tr>\n",
       "      <th>1</th>\n",
       "      <td>0.035114</td>\n",
       "      <td>0.120215</td>\n",
       "      <td>50</td>\n",
       "    </tr>\n",
       "    <tr>\n",
       "      <th>2</th>\n",
       "      <td>0.035529</td>\n",
       "      <td>0.140730</td>\n",
       "      <td>100</td>\n",
       "    </tr>\n",
       "  </tbody>\n",
       "</table>\n",
       "</div>"
      ],
      "text/plain": [
       "        map    recall  cutoff\n",
       "0  0.032459  0.071917      12\n",
       "1  0.035114  0.120215      50\n",
       "2  0.035529  0.140730     100"
      ]
     },
     "execution_count": 145,
     "metadata": {},
     "output_type": "execute_result"
    }
   ],
   "source": [
    "res_df"
   ]
  },
  {
   "cell_type": "code",
   "execution_count": null,
   "metadata": {},
   "outputs": [],
   "source": []
  }
 ],
 "metadata": {
  "kernelspec": {
   "display_name": "Python 3.9.7 ('hnmchallenge-2TdcNkYi-py3.9')",
   "language": "python",
   "name": "python3"
  },
  "language_info": {
   "codemirror_mode": {
    "name": "ipython",
    "version": 3
   },
   "file_extension": ".py",
   "mimetype": "text/x-python",
   "name": "python",
   "nbconvert_exporter": "python",
   "pygments_lexer": "ipython3",
   "version": "3.9.7"
  },
  "orig_nbformat": 4,
  "vscode": {
   "interpreter": {
    "hash": "de506fd929a0e17bc117e411a14c04dcc80817054af17ef91edabe100d67ef14"
   }
  }
 },
 "nbformat": 4,
 "nbformat_minor": 2
}
