{
 "cells": [
  {
   "cell_type": "code",
   "execution_count": 1,
   "metadata": {},
   "outputs": [],
   "source": [
    "import pandas as pd\n",
    "from hnmchallenge.data_reader import DataReader\n",
    "import matplotlib.pyplot as plt\n",
    "import seaborn as sns\n",
    "import numpy as np\n",
    "\n",
    "\n",
    "from hnmchallenge.models_prediction.recs_interface import RecsInterface\n",
    "from hnmchallenge.datasets.all_items_last_month_last_week import AILMLWDataset\n",
    "from hnmchallenge.evaluation.python_evaluation import map_at_k, recall_at_k\n",
    "from hnmchallenge.datasets.all_items_last_month_last_2nd_week import AILML2WDataset\n",
    "from hnmchallenge.datasets.all_items_last_month_last_3rd_week import AILML3WDataset\n",
    "from hnmchallenge.constant import *"
   ]
  },
  {
   "cell_type": "code",
   "execution_count": 2,
   "metadata": {},
   "outputs": [],
   "source": [
    "import logging\n",
    "logger = logging.getLogger(__name__)\n",
    "logging.basicConfig(level=logging.INFO)"
   ]
  },
  {
   "cell_type": "code",
   "execution_count": 3,
   "metadata": {},
   "outputs": [],
   "source": [
    "dataset = AILMLWDataset()\n",
    "dr = DataReader()"
   ]
  },
  {
   "cell_type": "code",
   "execution_count": 4,
   "metadata": {},
   "outputs": [],
   "source": [
    "fd=dataset.get_full_data()"
   ]
  },
  {
   "cell_type": "code",
   "execution_count": 7,
   "metadata": {},
   "outputs": [],
   "source": [
    "\n",
    "time_weight=True,\n",
    "remove_seen=False,\n",
    "DATASET_NAME = f\"cutf_12_ItemKNN_tw_True_rs_False\"\n",
    "kind=\"full\""
   ]
  },
  {
   "cell_type": "code",
   "execution_count": 11,
   "metadata": {},
   "outputs": [
    {
     "name": "stdout",
     "output_type": "stream",
     "text": [
      "\u001b[1;36mloading recs model:\n",
      " cutf_12_ItemKNN_tw_True_rs_False\u001b[0m\n"
     ]
    }
   ],
   "source": [
    "base_df = RecsInterface.load_recommendations(dataset, DATASET_NAME, kind)"
   ]
  },
  {
   "cell_type": "code",
   "execution_count": 12,
   "metadata": {},
   "outputs": [
    {
     "data": {
      "text/html": [
       "<div>\n",
       "<style scoped>\n",
       "    .dataframe tbody tr th:only-of-type {\n",
       "        vertical-align: middle;\n",
       "    }\n",
       "\n",
       "    .dataframe tbody tr th {\n",
       "        vertical-align: top;\n",
       "    }\n",
       "\n",
       "    .dataframe thead th {\n",
       "        text-align: right;\n",
       "    }\n",
       "</style>\n",
       "<table border=\"1\" class=\"dataframe\">\n",
       "  <thead>\n",
       "    <tr style=\"text-align: right;\">\n",
       "      <th></th>\n",
       "      <th>customer_id</th>\n",
       "      <th>ItemKNN_tw_True_rs_False_recs</th>\n",
       "      <th>ItemKNN_tw_True_rs_False_score</th>\n",
       "      <th>ItemKNN_tw_True_rs_False_rank</th>\n",
       "    </tr>\n",
       "  </thead>\n",
       "  <tbody>\n",
       "    <tr>\n",
       "      <th>0</th>\n",
       "      <td>0</td>\n",
       "      <td>100206</td>\n",
       "      <td>0.019349</td>\n",
       "      <td>1.0</td>\n",
       "    </tr>\n",
       "    <tr>\n",
       "      <th>1</th>\n",
       "      <td>0</td>\n",
       "      <td>82209</td>\n",
       "      <td>0.001501</td>\n",
       "      <td>2.0</td>\n",
       "    </tr>\n",
       "    <tr>\n",
       "      <th>2</th>\n",
       "      <td>0</td>\n",
       "      <td>2880</td>\n",
       "      <td>0.001332</td>\n",
       "      <td>3.0</td>\n",
       "    </tr>\n",
       "    <tr>\n",
       "      <th>3</th>\n",
       "      <td>0</td>\n",
       "      <td>96355</td>\n",
       "      <td>0.001310</td>\n",
       "      <td>4.0</td>\n",
       "    </tr>\n",
       "    <tr>\n",
       "      <th>4</th>\n",
       "      <td>0</td>\n",
       "      <td>89354</td>\n",
       "      <td>0.001293</td>\n",
       "      <td>5.0</td>\n",
       "    </tr>\n",
       "    <tr>\n",
       "      <th>...</th>\n",
       "      <td>...</td>\n",
       "      <td>...</td>\n",
       "      <td>...</td>\n",
       "      <td>...</td>\n",
       "    </tr>\n",
       "    <tr>\n",
       "      <th>16638337</th>\n",
       "      <td>1371979</td>\n",
       "      <td>102098</td>\n",
       "      <td>NaN</td>\n",
       "      <td>NaN</td>\n",
       "    </tr>\n",
       "    <tr>\n",
       "      <th>16638338</th>\n",
       "      <td>1371979</td>\n",
       "      <td>38400</td>\n",
       "      <td>NaN</td>\n",
       "      <td>NaN</td>\n",
       "    </tr>\n",
       "    <tr>\n",
       "      <th>16638339</th>\n",
       "      <td>1371979</td>\n",
       "      <td>102327</td>\n",
       "      <td>NaN</td>\n",
       "      <td>NaN</td>\n",
       "    </tr>\n",
       "    <tr>\n",
       "      <th>16638340</th>\n",
       "      <td>1371979</td>\n",
       "      <td>76736</td>\n",
       "      <td>NaN</td>\n",
       "      <td>NaN</td>\n",
       "    </tr>\n",
       "    <tr>\n",
       "      <th>16638341</th>\n",
       "      <td>1371979</td>\n",
       "      <td>99094</td>\n",
       "      <td>NaN</td>\n",
       "      <td>NaN</td>\n",
       "    </tr>\n",
       "  </tbody>\n",
       "</table>\n",
       "<p>16638342 rows × 4 columns</p>\n",
       "</div>"
      ],
      "text/plain": [
       "          customer_id  ItemKNN_tw_True_rs_False_recs  \\\n",
       "0                   0                         100206   \n",
       "1                   0                          82209   \n",
       "2                   0                           2880   \n",
       "3                   0                          96355   \n",
       "4                   0                          89354   \n",
       "...               ...                            ...   \n",
       "16638337      1371979                         102098   \n",
       "16638338      1371979                          38400   \n",
       "16638339      1371979                         102327   \n",
       "16638340      1371979                          76736   \n",
       "16638341      1371979                          99094   \n",
       "\n",
       "          ItemKNN_tw_True_rs_False_score  ItemKNN_tw_True_rs_False_rank  \n",
       "0                               0.019349                            1.0  \n",
       "1                               0.001501                            2.0  \n",
       "2                               0.001332                            3.0  \n",
       "3                               0.001310                            4.0  \n",
       "4                               0.001293                            5.0  \n",
       "...                                  ...                            ...  \n",
       "16638337                             NaN                            NaN  \n",
       "16638338                             NaN                            NaN  \n",
       "16638339                             NaN                            NaN  \n",
       "16638340                             NaN                            NaN  \n",
       "16638341                             NaN                            NaN  \n",
       "\n",
       "[16638342 rows x 4 columns]"
      ]
     },
     "execution_count": 12,
     "metadata": {},
     "output_type": "execute_result"
    }
   ],
   "source": [
    "base_df"
   ]
  },
  {
   "cell_type": "code",
   "execution_count": 17,
   "metadata": {},
   "outputs": [],
   "source": [
    "base_df.rename(columns = {\"ItemKNN_tw_True_rs_False_recs\":'article_id'}, inplace = True)"
   ]
  },
  {
   "cell_type": "code",
   "execution_count": 18,
   "metadata": {},
   "outputs": [],
   "source": [
    "user_map_dict, item_map_dict = dataset.get_new_raw_mapping_dict()\n",
    "\n",
    "grp_recs_df = base_df.groupby(DEFAULT_USER_COL)[DEFAULT_ITEM_COL].apply(list)\n",
    "grp_recs_df = grp_recs_df.to_frame().reset_index()\n",
    "# map back to original ids\n",
    "grp_recs_df[DEFAULT_USER_COL] = grp_recs_df[DEFAULT_USER_COL].apply(\n",
    "    lambda x: user_map_dict.get(x)\n",
    ")\n",
    "grp_recs_df[DEFAULT_ITEM_COL] = grp_recs_df[DEFAULT_ITEM_COL].apply(\n",
    "    lambda x: \" \".join(list(map(item_map_dict.get, x)))\n",
    ")\n",
    "grp_recs_df = grp_recs_df.rename(\n",
    "    columns={DEFAULT_ITEM_COL: DEFAULT_PREDICTION_COL}\n",
    ")\n",
    "\n",
    "final_recs = grp_recs_df"
   ]
  },
  {
   "cell_type": "code",
   "execution_count": 19,
   "metadata": {},
   "outputs": [
    {
     "data": {
      "text/html": [
       "<div>\n",
       "<style scoped>\n",
       "    .dataframe tbody tr th:only-of-type {\n",
       "        vertical-align: middle;\n",
       "    }\n",
       "\n",
       "    .dataframe tbody tr th {\n",
       "        vertical-align: top;\n",
       "    }\n",
       "\n",
       "    .dataframe thead th {\n",
       "        text-align: right;\n",
       "    }\n",
       "</style>\n",
       "<table border=\"1\" class=\"dataframe\">\n",
       "  <thead>\n",
       "    <tr style=\"text-align: right;\">\n",
       "      <th></th>\n",
       "      <th>customer_id</th>\n",
       "      <th>prediction</th>\n",
       "    </tr>\n",
       "  </thead>\n",
       "  <tbody>\n",
       "    <tr>\n",
       "      <th>0</th>\n",
       "      <td>000058a12d5b43e67d225668fa1f8d618c13dc232df0ca...</td>\n",
       "      <td>0794321007 0750424014 0351484002 0794321011 08...</td>\n",
       "    </tr>\n",
       "    <tr>\n",
       "      <th>1</th>\n",
       "      <td>00007d2de826758b65a93dd24ce629ed66842531df6699...</td>\n",
       "      <td>0160442007 0160442010 0666444002 0372860001 03...</td>\n",
       "    </tr>\n",
       "    <tr>\n",
       "      <th>2</th>\n",
       "      <td>00083cda041544b2fbb0e0d2905ad17da7cf1007526fb4...</td>\n",
       "      <td>0783504004 0559630003 0600886001 0351484002 05...</td>\n",
       "    </tr>\n",
       "    <tr>\n",
       "      <th>3</th>\n",
       "      <td>0008968c0d451dbc5a9968da03196fe20051965edde741...</td>\n",
       "      <td>0893059004 0868134001 0808462002 0778064001 08...</td>\n",
       "    </tr>\n",
       "    <tr>\n",
       "      <th>4</th>\n",
       "      <td>000aa7f0dc06cd7174389e76c9e132a67860c5f65f9706...</td>\n",
       "      <td>0706016001 0706016002 0706016003 0796210001 07...</td>\n",
       "    </tr>\n",
       "    <tr>\n",
       "      <th>...</th>\n",
       "      <td>...</td>\n",
       "      <td>...</td>\n",
       "    </tr>\n",
       "    <tr>\n",
       "      <th>1371975</th>\n",
       "      <td>ffe5801cb2a5b51d4d068322d7f8082e995f427a6f22a6...</td>\n",
       "      <td>0924243001 0924243002 0923758001 0918522001 09...</td>\n",
       "    </tr>\n",
       "    <tr>\n",
       "      <th>1371976</th>\n",
       "      <td>ffeb3ca867aba57a312fe9d28d67dd46ef2240fe92a94c...</td>\n",
       "      <td>0924243001 0924243002 0923758001 0918522001 09...</td>\n",
       "    </tr>\n",
       "    <tr>\n",
       "      <th>1371977</th>\n",
       "      <td>fff456fa60aac9174456c2f36ede5e0f25429a16c88a34...</td>\n",
       "      <td>0924243001 0924243002 0923758001 0918522001 09...</td>\n",
       "    </tr>\n",
       "    <tr>\n",
       "      <th>1371978</th>\n",
       "      <td>fffa8d3cea26d4f5186472b923629b35fa28051f258030...</td>\n",
       "      <td>0924243001 0924243002 0923758001 0918522001 09...</td>\n",
       "    </tr>\n",
       "    <tr>\n",
       "      <th>1371979</th>\n",
       "      <td>ffff01710b4f0d558ff62d7dc00f0641065b37e840bb43...</td>\n",
       "      <td>0924243001 0924243002 0923758001 0918522001 09...</td>\n",
       "    </tr>\n",
       "  </tbody>\n",
       "</table>\n",
       "<p>1371980 rows × 2 columns</p>\n",
       "</div>"
      ],
      "text/plain": [
       "                                               customer_id  \\\n",
       "0        000058a12d5b43e67d225668fa1f8d618c13dc232df0ca...   \n",
       "1        00007d2de826758b65a93dd24ce629ed66842531df6699...   \n",
       "2        00083cda041544b2fbb0e0d2905ad17da7cf1007526fb4...   \n",
       "3        0008968c0d451dbc5a9968da03196fe20051965edde741...   \n",
       "4        000aa7f0dc06cd7174389e76c9e132a67860c5f65f9706...   \n",
       "...                                                    ...   \n",
       "1371975  ffe5801cb2a5b51d4d068322d7f8082e995f427a6f22a6...   \n",
       "1371976  ffeb3ca867aba57a312fe9d28d67dd46ef2240fe92a94c...   \n",
       "1371977  fff456fa60aac9174456c2f36ede5e0f25429a16c88a34...   \n",
       "1371978  fffa8d3cea26d4f5186472b923629b35fa28051f258030...   \n",
       "1371979  ffff01710b4f0d558ff62d7dc00f0641065b37e840bb43...   \n",
       "\n",
       "                                                prediction  \n",
       "0        0794321007 0750424014 0351484002 0794321011 08...  \n",
       "1        0160442007 0160442010 0666444002 0372860001 03...  \n",
       "2        0783504004 0559630003 0600886001 0351484002 05...  \n",
       "3        0893059004 0868134001 0808462002 0778064001 08...  \n",
       "4        0706016001 0706016002 0706016003 0796210001 07...  \n",
       "...                                                    ...  \n",
       "1371975  0924243001 0924243002 0923758001 0918522001 09...  \n",
       "1371976  0924243001 0924243002 0923758001 0918522001 09...  \n",
       "1371977  0924243001 0924243002 0923758001 0918522001 09...  \n",
       "1371978  0924243001 0924243002 0923758001 0918522001 09...  \n",
       "1371979  0924243001 0924243002 0923758001 0918522001 09...  \n",
       "\n",
       "[1371980 rows x 2 columns]"
      ]
     },
     "execution_count": 19,
     "metadata": {},
     "output_type": "execute_result"
    }
   ],
   "source": [
    "final_recs"
   ]
  },
  {
   "cell_type": "code",
   "execution_count": 20,
   "metadata": {},
   "outputs": [],
   "source": [
    "final_recs.to_csv('submission_item_1month.csv', index=False)"
   ]
  },
  {
   "cell_type": "code",
   "execution_count": 53,
   "metadata": {},
   "outputs": [],
   "source": [
    "filter_indices = []\n",
    "cutoff = base_df.groupby(DEFAULT_USER_COL).size().values\n",
    "i = 0\n",
    "for cut in cutoff:\n",
    "    filter_indices.extend(range(i, i + 12))\n",
    "    i = i + cut\n",
    "customer_article_df = base_df.loc[filter_indices]"
   ]
  },
  {
   "cell_type": "code",
   "execution_count": 54,
   "metadata": {},
   "outputs": [
    {
     "name": "stderr",
     "output_type": "stream",
     "text": [
      "INFO:__main__:Remaining Users (at least one hit): 2322\n",
      "INFO:__main__:\n",
      "Metrics on ALL users\n"
     ]
    },
    {
     "name": "stdout",
     "output_type": "stream",
     "text": [
      "68984\n"
     ]
    },
    {
     "name": "stderr",
     "output_type": "stream",
     "text": [
      "INFO:__main__:MAP@12: 0.0005499728872257096\n"
     ]
    },
    {
     "name": "stdout",
     "output_type": "stream",
     "text": [
      "68984\n"
     ]
    },
    {
     "name": "stderr",
     "output_type": "stream",
     "text": [
      "INFO:__main__:RECALL@12: 0.012314566651308067\n",
      "INFO:__main__:\n",
      "Metrics on ONE-HIT users\n",
      "INFO:__main__:MAP@12: 0.016339073924366215\n",
      "INFO:__main__:RECALL@12: 0.3658518802212901\n"
     ]
    },
    {
     "name": "stdout",
     "output_type": "stream",
     "text": [
      "2322\n",
      "2322\n"
     ]
    }
   ],
   "source": [
    "RECS_NAME= \"Popularity_cutoff_200\" \n",
    "cutoff=12   # retrieve the holdout\n",
    "holdout = dataset.get_holdout()\n",
    "# retrieve items per user in holdout\n",
    "item_per_user = holdout.groupby(DEFAULT_USER_COL)[DEFAULT_ITEM_COL].apply(list)\n",
    "item_per_user_df = item_per_user.to_frame()\n",
    "# items groundtruth\n",
    "holdout_groundtruth = (\n",
    "    item_per_user_df.reset_index().explode(DEFAULT_ITEM_COL).drop_duplicates()\n",
    ")\n",
    "\n",
    "# merge recs and item groundtruth\n",
    "merged = pd.merge(\n",
    "    customer_article_df,\n",
    "    holdout_groundtruth,\n",
    "    left_on=[DEFAULT_USER_COL, f\"{RECS_NAME}_recs\"],\n",
    "    right_on=[DEFAULT_USER_COL, \"article_id\"],\n",
    "    how=\"left\",\n",
    ")\n",
    "\n",
    "# we have to remove the user for which we do not do at least one hit,\n",
    "# since we would not have the relavance for the items\n",
    "merged.loc[merged[\"article_id\"].notnull(), \"article_id\"] = 1\n",
    "merged[\"hit_sum\"] = merged.groupby(DEFAULT_USER_COL)[\"article_id\"].transform(\n",
    "    \"sum\"\n",
    ")\n",
    "\n",
    "merged_filtered = merged[merged[\"hit_sum\"] > 0]\n",
    "\n",
    "pred = (\n",
    "    merged[\n",
    "        [DEFAULT_USER_COL, f\"{RECS_NAME}_recs\", f\"{RECS_NAME}_rank\"]\n",
    "    ]\n",
    "    .copy()\n",
    "    .rename(\n",
    "        {\n",
    "            f\"{RECS_NAME}_recs\": DEFAULT_ITEM_COL,\n",
    "            f\"{RECS_NAME}_rank\": \"rank\",\n",
    "        },\n",
    "        axis=1,\n",
    "    )\n",
    ")\n",
    "pred_filtered = (\n",
    "    merged_filtered[\n",
    "        [DEFAULT_USER_COL, f\"{RECS_NAME}_recs\", f\"{RECS_NAME}_rank\"]\n",
    "    ]\n",
    "    .copy()\n",
    "    .rename(\n",
    "        {\n",
    "            f\"{RECS_NAME}_recs\": DEFAULT_ITEM_COL,\n",
    "            f\"{RECS_NAME}_rank\": \"rank\",\n",
    "        },\n",
    "        axis=1,\n",
    "    )\n",
    ")\n",
    "ground_truth = holdout_groundtruth[[DEFAULT_USER_COL, DEFAULT_ITEM_COL]].copy()\n",
    "logger.info(\n",
    "    f\"Remaining Users (at least one hit): {merged_filtered[DEFAULT_USER_COL].nunique()}\"\n",
    ")\n",
    "logger.info(\"\\nMetrics on ALL users\")\n",
    "logger.info(f\"MAP@{cutoff}: {map_at_k(ground_truth, pred)}\")\n",
    "logger.info(f\"RECALL@{cutoff}: {recall_at_k(ground_truth, pred)}\")\n",
    "logger.info(\"\\nMetrics on ONE-HIT users\")\n",
    "logger.info(f\"MAP@{cutoff}: {map_at_k(ground_truth, pred_filtered)}\")\n",
    "logger.info(\n",
    "    f\"RECALL@{cutoff}: {recall_at_k(ground_truth, pred_filtered)}\",\n",
    ")\n"
   ]
  },
  {
   "cell_type": "code",
   "execution_count": null,
   "metadata": {},
   "outputs": [],
   "source": []
  }
 ],
 "metadata": {
  "interpreter": {
   "hash": "de506fd929a0e17bc117e411a14c04dcc80817054af17ef91edabe100d67ef14"
  },
  "kernelspec": {
   "display_name": "Python 3.9.7 ('hnmchallenge-2TdcNkYi-py3.9')",
   "language": "python",
   "name": "python3"
  },
  "language_info": {
   "codemirror_mode": {
    "name": "ipython",
    "version": 3
   },
   "file_extension": ".py",
   "mimetype": "text/x-python",
   "name": "python",
   "nbconvert_exporter": "python",
   "pygments_lexer": "ipython3",
   "version": "3.9.7"
  },
  "orig_nbformat": 4
 },
 "nbformat": 4,
 "nbformat_minor": 2
}
