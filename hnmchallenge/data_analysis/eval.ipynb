{
 "cells": [
  {
   "cell_type": "code",
   "execution_count": 43,
   "metadata": {},
   "outputs": [],
   "source": [
    "import pandas as pd\n",
    "from hnmchallenge.data_reader import DataReader\n",
    "import matplotlib.pyplot as plt\n",
    "import seaborn as sns\n",
    "import numpy as np\n",
    "\n",
    "\n",
    "from hnmchallenge.models_prediction.recs_interface import RecsInterface\n",
    "from hnmchallenge.datasets.all_items_last_month_last_week import AILMLWDataset\n",
    "from hnmchallenge.evaluation.python_evaluation import map_at_k, recall_at_k\n",
    "from hnmchallenge.datasets.all_items_last_month_last_2nd_week import AILML2WDataset\n",
    "from hnmchallenge.datasets.all_items_last_month_last_3rd_week import AILML3WDataset\n",
    "from hnmchallenge.constant import *"
   ]
  },
  {
   "cell_type": "code",
   "execution_count": 44,
   "metadata": {},
   "outputs": [],
   "source": [
    "import logging\n",
    "logger = logging.getLogger(__name__)\n",
    "logging.basicConfig(level=logging.INFO)"
   ]
  },
  {
   "cell_type": "code",
   "execution_count": 45,
   "metadata": {},
   "outputs": [],
   "source": [
    "dataset = AILMLWDataset()\n",
    "dr = DataReader()"
   ]
  },
  {
   "cell_type": "code",
   "execution_count": 46,
   "metadata": {},
   "outputs": [],
   "source": [
    "fd=dataset.get_full_data()"
   ]
  },
  {
   "cell_type": "code",
   "execution_count": 47,
   "metadata": {},
   "outputs": [],
   "source": [
    "DATASET_NAME = f\"cutf_200_Popularity_cutoff_200\"\n",
    "kind=\"train\""
   ]
  },
  {
   "cell_type": "code",
   "execution_count": 48,
   "metadata": {},
   "outputs": [
    {
     "name": "stdout",
     "output_type": "stream",
     "text": [
      "\u001b[1;36mloading recs model:\n",
      " cutf_200_Popularity_cutoff_200\u001b[0m\n"
     ]
    }
   ],
   "source": [
    "base_df = RecsInterface.load_recommendations(dataset, DATASET_NAME, kind)"
   ]
  },
  {
   "cell_type": "code",
   "execution_count": 49,
   "metadata": {},
   "outputs": [
    {
     "data": {
      "text/html": [
       "<div>\n",
       "<style scoped>\n",
       "    .dataframe tbody tr th:only-of-type {\n",
       "        vertical-align: middle;\n",
       "    }\n",
       "\n",
       "    .dataframe tbody tr th {\n",
       "        vertical-align: top;\n",
       "    }\n",
       "\n",
       "    .dataframe thead th {\n",
       "        text-align: right;\n",
       "    }\n",
       "</style>\n",
       "<table border=\"1\" class=\"dataframe\">\n",
       "  <thead>\n",
       "    <tr style=\"text-align: right;\">\n",
       "      <th></th>\n",
       "      <th>customer_id</th>\n",
       "      <th>Popularity_cutoff_200_recs</th>\n",
       "      <th>Popularity_cutoff_200_score</th>\n",
       "      <th>Popularity_cutoff_200_rank</th>\n",
       "      <th>relevance</th>\n",
       "    </tr>\n",
       "  </thead>\n",
       "  <tbody>\n",
       "    <tr>\n",
       "      <th>0</th>\n",
       "      <td>0</td>\n",
       "      <td>67</td>\n",
       "      <td>0.583459</td>\n",
       "      <td>18</td>\n",
       "      <td>NaN</td>\n",
       "    </tr>\n",
       "    <tr>\n",
       "      <th>1</th>\n",
       "      <td>0</td>\n",
       "      <td>111</td>\n",
       "      <td>0.379699</td>\n",
       "      <td>67</td>\n",
       "      <td>NaN</td>\n",
       "    </tr>\n",
       "    <tr>\n",
       "      <th>2</th>\n",
       "      <td>0</td>\n",
       "      <td>394</td>\n",
       "      <td>0.326316</td>\n",
       "      <td>111</td>\n",
       "      <td>NaN</td>\n",
       "    </tr>\n",
       "    <tr>\n",
       "      <th>3</th>\n",
       "      <td>0</td>\n",
       "      <td>486</td>\n",
       "      <td>0.404511</td>\n",
       "      <td>58</td>\n",
       "      <td>NaN</td>\n",
       "    </tr>\n",
       "    <tr>\n",
       "      <th>4</th>\n",
       "      <td>0</td>\n",
       "      <td>865</td>\n",
       "      <td>0.334586</td>\n",
       "      <td>104</td>\n",
       "      <td>NaN</td>\n",
       "    </tr>\n",
       "    <tr>\n",
       "      <th>...</th>\n",
       "      <td>...</td>\n",
       "      <td>...</td>\n",
       "      <td>...</td>\n",
       "      <td>...</td>\n",
       "      <td>...</td>\n",
       "    </tr>\n",
       "    <tr>\n",
       "      <th>274395995</th>\n",
       "      <td>1371979</td>\n",
       "      <td>102563</td>\n",
       "      <td>0.270677</td>\n",
       "      <td>168</td>\n",
       "      <td>NaN</td>\n",
       "    </tr>\n",
       "    <tr>\n",
       "      <th>274395996</th>\n",
       "      <td>1371979</td>\n",
       "      <td>102590</td>\n",
       "      <td>0.285714</td>\n",
       "      <td>148</td>\n",
       "      <td>NaN</td>\n",
       "    </tr>\n",
       "    <tr>\n",
       "      <th>274395997</th>\n",
       "      <td>1371979</td>\n",
       "      <td>102629</td>\n",
       "      <td>0.269925</td>\n",
       "      <td>169</td>\n",
       "      <td>NaN</td>\n",
       "    </tr>\n",
       "    <tr>\n",
       "      <th>274395998</th>\n",
       "      <td>1371979</td>\n",
       "      <td>102825</td>\n",
       "      <td>0.343609</td>\n",
       "      <td>96</td>\n",
       "      <td>NaN</td>\n",
       "    </tr>\n",
       "    <tr>\n",
       "      <th>274395999</th>\n",
       "      <td>1371979</td>\n",
       "      <td>102969</td>\n",
       "      <td>0.377444</td>\n",
       "      <td>71</td>\n",
       "      <td>NaN</td>\n",
       "    </tr>\n",
       "  </tbody>\n",
       "</table>\n",
       "<p>274396000 rows × 5 columns</p>\n",
       "</div>"
      ],
      "text/plain": [
       "           customer_id  Popularity_cutoff_200_recs  \\\n",
       "0                    0                          67   \n",
       "1                    0                         111   \n",
       "2                    0                         394   \n",
       "3                    0                         486   \n",
       "4                    0                         865   \n",
       "...                ...                         ...   \n",
       "274395995      1371979                      102563   \n",
       "274395996      1371979                      102590   \n",
       "274395997      1371979                      102629   \n",
       "274395998      1371979                      102825   \n",
       "274395999      1371979                      102969   \n",
       "\n",
       "           Popularity_cutoff_200_score  Popularity_cutoff_200_rank  relevance  \n",
       "0                             0.583459                          18        NaN  \n",
       "1                             0.379699                          67        NaN  \n",
       "2                             0.326316                         111        NaN  \n",
       "3                             0.404511                          58        NaN  \n",
       "4                             0.334586                         104        NaN  \n",
       "...                                ...                         ...        ...  \n",
       "274395995                     0.270677                         168        NaN  \n",
       "274395996                     0.285714                         148        NaN  \n",
       "274395997                     0.269925                         169        NaN  \n",
       "274395998                     0.343609                          96        NaN  \n",
       "274395999                     0.377444                          71        NaN  \n",
       "\n",
       "[274396000 rows x 5 columns]"
      ]
     },
     "execution_count": 49,
     "metadata": {},
     "output_type": "execute_result"
    }
   ],
   "source": [
    "base_df"
   ]
  },
  {
   "cell_type": "code",
   "execution_count": 53,
   "metadata": {},
   "outputs": [],
   "source": [
    "filter_indices = []\n",
    "cutoff = base_df.groupby(DEFAULT_USER_COL).size().values\n",
    "i = 0\n",
    "for cut in cutoff:\n",
    "    filter_indices.extend(range(i, i + 12))\n",
    "    i = i + cut\n",
    "customer_article_df = base_df.loc[filter_indices]"
   ]
  },
  {
   "cell_type": "code",
   "execution_count": 54,
   "metadata": {},
   "outputs": [
    {
     "name": "stderr",
     "output_type": "stream",
     "text": [
      "INFO:__main__:Remaining Users (at least one hit): 2322\n",
      "INFO:__main__:\n",
      "Metrics on ALL users\n"
     ]
    },
    {
     "name": "stdout",
     "output_type": "stream",
     "text": [
      "68984\n"
     ]
    },
    {
     "name": "stderr",
     "output_type": "stream",
     "text": [
      "INFO:__main__:MAP@12: 0.0005499728872257096\n"
     ]
    },
    {
     "name": "stdout",
     "output_type": "stream",
     "text": [
      "68984\n"
     ]
    },
    {
     "name": "stderr",
     "output_type": "stream",
     "text": [
      "INFO:__main__:RECALL@12: 0.012314566651308067\n",
      "INFO:__main__:\n",
      "Metrics on ONE-HIT users\n",
      "INFO:__main__:MAP@12: 0.016339073924366215\n",
      "INFO:__main__:RECALL@12: 0.3658518802212901\n"
     ]
    },
    {
     "name": "stdout",
     "output_type": "stream",
     "text": [
      "2322\n",
      "2322\n"
     ]
    }
   ],
   "source": [
    "RECS_NAME= \"Popularity_cutoff_200\" \n",
    "cutoff=12   # retrieve the holdout\n",
    "holdout = dataset.get_holdout()\n",
    "# retrieve items per user in holdout\n",
    "item_per_user = holdout.groupby(DEFAULT_USER_COL)[DEFAULT_ITEM_COL].apply(list)\n",
    "item_per_user_df = item_per_user.to_frame()\n",
    "# items groundtruth\n",
    "holdout_groundtruth = (\n",
    "    item_per_user_df.reset_index().explode(DEFAULT_ITEM_COL).drop_duplicates()\n",
    ")\n",
    "\n",
    "# merge recs and item groundtruth\n",
    "merged = pd.merge(\n",
    "    customer_article_df,\n",
    "    holdout_groundtruth,\n",
    "    left_on=[DEFAULT_USER_COL, f\"{RECS_NAME}_recs\"],\n",
    "    right_on=[DEFAULT_USER_COL, \"article_id\"],\n",
    "    how=\"left\",\n",
    ")\n",
    "\n",
    "# we have to remove the user for which we do not do at least one hit,\n",
    "# since we would not have the relavance for the items\n",
    "merged.loc[merged[\"article_id\"].notnull(), \"article_id\"] = 1\n",
    "merged[\"hit_sum\"] = merged.groupby(DEFAULT_USER_COL)[\"article_id\"].transform(\n",
    "    \"sum\"\n",
    ")\n",
    "\n",
    "merged_filtered = merged[merged[\"hit_sum\"] > 0]\n",
    "\n",
    "pred = (\n",
    "    merged[\n",
    "        [DEFAULT_USER_COL, f\"{RECS_NAME}_recs\", f\"{RECS_NAME}_rank\"]\n",
    "    ]\n",
    "    .copy()\n",
    "    .rename(\n",
    "        {\n",
    "            f\"{RECS_NAME}_recs\": DEFAULT_ITEM_COL,\n",
    "            f\"{RECS_NAME}_rank\": \"rank\",\n",
    "        },\n",
    "        axis=1,\n",
    "    )\n",
    ")\n",
    "pred_filtered = (\n",
    "    merged_filtered[\n",
    "        [DEFAULT_USER_COL, f\"{RECS_NAME}_recs\", f\"{RECS_NAME}_rank\"]\n",
    "    ]\n",
    "    .copy()\n",
    "    .rename(\n",
    "        {\n",
    "            f\"{RECS_NAME}_recs\": DEFAULT_ITEM_COL,\n",
    "            f\"{RECS_NAME}_rank\": \"rank\",\n",
    "        },\n",
    "        axis=1,\n",
    "    )\n",
    ")\n",
    "ground_truth = holdout_groundtruth[[DEFAULT_USER_COL, DEFAULT_ITEM_COL]].copy()\n",
    "logger.info(\n",
    "    f\"Remaining Users (at least one hit): {merged_filtered[DEFAULT_USER_COL].nunique()}\"\n",
    ")\n",
    "logger.info(\"\\nMetrics on ALL users\")\n",
    "logger.info(f\"MAP@{cutoff}: {map_at_k(ground_truth, pred)}\")\n",
    "logger.info(f\"RECALL@{cutoff}: {recall_at_k(ground_truth, pred)}\")\n",
    "logger.info(\"\\nMetrics on ONE-HIT users\")\n",
    "logger.info(f\"MAP@{cutoff}: {map_at_k(ground_truth, pred_filtered)}\")\n",
    "logger.info(\n",
    "    f\"RECALL@{cutoff}: {recall_at_k(ground_truth, pred_filtered)}\",\n",
    ")\n"
   ]
  },
  {
   "cell_type": "code",
   "execution_count": null,
   "metadata": {},
   "outputs": [],
   "source": []
  }
 ],
 "metadata": {
  "interpreter": {
   "hash": "de506fd929a0e17bc117e411a14c04dcc80817054af17ef91edabe100d67ef14"
  },
  "kernelspec": {
   "display_name": "Python 3.9.7 ('hnmchallenge-2TdcNkYi-py3.9')",
   "language": "python",
   "name": "python3"
  },
  "language_info": {
   "codemirror_mode": {
    "name": "ipython",
    "version": 3
   },
   "file_extension": ".py",
   "mimetype": "text/x-python",
   "name": "python",
   "nbconvert_exporter": "python",
   "pygments_lexer": "ipython3",
   "version": "3.9.7"
  },
  "orig_nbformat": 4
 },
 "nbformat": 4,
 "nbformat_minor": 2
}
