{
 "cells": [
  {
   "cell_type": "code",
   "execution_count": 6,
   "metadata": {},
   "outputs": [],
   "source": [
    "import pandas as pd\n",
    "from hnmchallenge.constant import *\n",
    "from hnmchallenge.models.itemknn.itemknn import ItemKNN\n",
    "from hnmchallenge.models_prediction.recs_interface import RecsInterface\n",
    "from hnmchallenge.stratified_dataset import StratifiedDataset\n",
    "from hnmchallenge.utils.logger import set_color\n",
    "from hnmchallenge.models_prediction.itemknn_recs import ItemKNNRecs\n",
    "from hnmchallenge.models_prediction.ensemble_recs_interface import EnsembleRecs"
   ]
  },
  {
   "cell_type": "code",
   "execution_count": 3,
   "metadata": {},
   "outputs": [],
   "source": [
    "dataset = StratifiedDataset()"
   ]
  },
  {
   "cell_type": "code",
   "execution_count": 22,
   "metadata": {},
   "outputs": [],
   "source": [
    "rec_ens_1 = ItemKNNRecs(\n",
    "        kind=\"train\", cutoff=100, time_weight=True, remove_seen=False, dataset=dataset\n",
    "    )\n",
    "\n",
    "rec_ens_2 = ItemKNNRecs(\n",
    "        kind=\"train\", cutoff=100, time_weight=False, remove_seen=False, dataset=dataset\n",
    "    )\n",
    "rec_ens_3 = ItemKNNRecs(\n",
    "        kind=\"train\", cutoff=100, time_weight=True, remove_seen=True, dataset=dataset\n",
    "    )"
   ]
  },
  {
   "cell_type": "code",
   "execution_count": 13,
   "metadata": {},
   "outputs": [
    {
     "name": "stdout",
     "output_type": "stream",
     "text": [
      "Creating ensemble with:\n",
      "ItemKNN_tw_True_rs_False\n",
      "ItemKNN_tw_False_rs_False\n"
     ]
    }
   ],
   "source": [
    "ensemble = EnsembleRecs(models_list=[rec_ens_1, rec_ens_2, rec_ens_3], kind=\"train\", dataset=StratifiedDataset)"
   ]
  },
  {
   "cell_type": "code",
   "execution_count": 21,
   "metadata": {},
   "outputs": [
    {
     "name": "stdout",
     "output_type": "stream",
     "text": [
      "\u001b[1;32mComputing similarity...\u001b[0m\n"
     ]
    },
    {
     "data": {
      "application/vnd.jupyter.widget-view+json": {
       "model_id": "8c841f7894674ddf9e4168bae6818f5f",
       "version_major": 2,
       "version_minor": 0
      },
      "text/plain": [
       "  0%|          | 0/1 [00:01<?, ?it/s]"
      ]
     },
     "metadata": {},
     "output_type": "display_data"
    },
    {
     "name": "stdout",
     "output_type": "stream",
     "text": [
      "\u001b[1;32mComputing similarity...\u001b[0m\n"
     ]
    },
    {
     "data": {
      "application/vnd.jupyter.widget-view+json": {
       "model_id": "a1b58f41980140328a5c5089fd57fc88",
       "version_major": 2,
       "version_minor": 0
      },
      "text/plain": [
       "  0%|          | 0/1 [00:00<?, ?it/s]"
      ]
     },
     "metadata": {},
     "output_type": "display_data"
    },
    {
     "name": "stdout",
     "output_type": "stream",
     "text": [
      "       customer_id  ItemKNN_tw_True_rs_False_score  \\\n",
      "0                0                        0.010251   \n",
      "1                0                        0.010230   \n",
      "2                0                        0.009971   \n",
      "3                0                        0.006985   \n",
      "4                0                        0.006964   \n",
      "...            ...                             ...   \n",
      "12513           98                             NaN   \n",
      "12514           98                             NaN   \n",
      "12515           98                             NaN   \n",
      "12516           98                             NaN   \n",
      "12517           98                             NaN   \n",
      "\n",
      "       ItemKNN_tw_True_rs_False_rank  ItemKNN_tw_False_rs_False_score  \\\n",
      "0                                1.0                         1.719766   \n",
      "1                                2.0                         1.721037   \n",
      "2                                3.0                         1.659686   \n",
      "3                                4.0                         1.147965   \n",
      "4                                5.0                         1.153606   \n",
      "...                              ...                              ...   \n",
      "12513                            NaN                         0.052019   \n",
      "12514                            NaN                         0.051511   \n",
      "12515                            NaN                         0.051487   \n",
      "12516                            NaN                         0.051476   \n",
      "12517                            NaN                         0.051237   \n",
      "\n",
      "       ItemKNN_tw_False_rs_False_rank     recs  \n",
      "0                                 4.0   1482.0  \n",
      "1                                 3.0   1638.0  \n",
      "2                                 5.0   1797.0  \n",
      "3                                 7.0   4861.0  \n",
      "4                                 6.0   1652.0  \n",
      "...                               ...      ...  \n",
      "12513                            94.0   1516.0  \n",
      "12514                            96.0   3199.0  \n",
      "12515                            97.0   2630.0  \n",
      "12516                            98.0    620.0  \n",
      "12517                            99.0  10949.0  \n",
      "\n",
      "[12518 rows x 6 columns]\n",
      "Average recs per user: 125.18\n"
     ]
    },
    {
     "data": {
      "text/html": [
       "<div>\n",
       "<style scoped>\n",
       "    .dataframe tbody tr th:only-of-type {\n",
       "        vertical-align: middle;\n",
       "    }\n",
       "\n",
       "    .dataframe tbody tr th {\n",
       "        vertical-align: top;\n",
       "    }\n",
       "\n",
       "    .dataframe thead th {\n",
       "        text-align: right;\n",
       "    }\n",
       "</style>\n",
       "<table border=\"1\" class=\"dataframe\">\n",
       "  <thead>\n",
       "    <tr style=\"text-align: right;\">\n",
       "      <th></th>\n",
       "      <th>customer_id</th>\n",
       "      <th>ItemKNN_tw_True_rs_False_score</th>\n",
       "      <th>ItemKNN_tw_True_rs_False_rank</th>\n",
       "      <th>ItemKNN_tw_False_rs_False_score</th>\n",
       "      <th>ItemKNN_tw_False_rs_False_rank</th>\n",
       "      <th>recs</th>\n",
       "    </tr>\n",
       "  </thead>\n",
       "  <tbody>\n",
       "    <tr>\n",
       "      <th>0</th>\n",
       "      <td>0</td>\n",
       "      <td>0.010251</td>\n",
       "      <td>1.0</td>\n",
       "      <td>1.719766</td>\n",
       "      <td>4.0</td>\n",
       "      <td>1482.0</td>\n",
       "    </tr>\n",
       "    <tr>\n",
       "      <th>1</th>\n",
       "      <td>0</td>\n",
       "      <td>0.010230</td>\n",
       "      <td>2.0</td>\n",
       "      <td>1.721037</td>\n",
       "      <td>3.0</td>\n",
       "      <td>1638.0</td>\n",
       "    </tr>\n",
       "    <tr>\n",
       "      <th>2</th>\n",
       "      <td>0</td>\n",
       "      <td>0.009971</td>\n",
       "      <td>3.0</td>\n",
       "      <td>1.659686</td>\n",
       "      <td>5.0</td>\n",
       "      <td>1797.0</td>\n",
       "    </tr>\n",
       "    <tr>\n",
       "      <th>3</th>\n",
       "      <td>0</td>\n",
       "      <td>0.006985</td>\n",
       "      <td>4.0</td>\n",
       "      <td>1.147965</td>\n",
       "      <td>7.0</td>\n",
       "      <td>4861.0</td>\n",
       "    </tr>\n",
       "    <tr>\n",
       "      <th>4</th>\n",
       "      <td>0</td>\n",
       "      <td>0.006964</td>\n",
       "      <td>5.0</td>\n",
       "      <td>1.153606</td>\n",
       "      <td>6.0</td>\n",
       "      <td>1652.0</td>\n",
       "    </tr>\n",
       "    <tr>\n",
       "      <th>...</th>\n",
       "      <td>...</td>\n",
       "      <td>...</td>\n",
       "      <td>...</td>\n",
       "      <td>...</td>\n",
       "      <td>...</td>\n",
       "      <td>...</td>\n",
       "    </tr>\n",
       "    <tr>\n",
       "      <th>12513</th>\n",
       "      <td>98</td>\n",
       "      <td>NaN</td>\n",
       "      <td>NaN</td>\n",
       "      <td>0.052019</td>\n",
       "      <td>94.0</td>\n",
       "      <td>1516.0</td>\n",
       "    </tr>\n",
       "    <tr>\n",
       "      <th>12514</th>\n",
       "      <td>98</td>\n",
       "      <td>NaN</td>\n",
       "      <td>NaN</td>\n",
       "      <td>0.051511</td>\n",
       "      <td>96.0</td>\n",
       "      <td>3199.0</td>\n",
       "    </tr>\n",
       "    <tr>\n",
       "      <th>12515</th>\n",
       "      <td>98</td>\n",
       "      <td>NaN</td>\n",
       "      <td>NaN</td>\n",
       "      <td>0.051487</td>\n",
       "      <td>97.0</td>\n",
       "      <td>2630.0</td>\n",
       "    </tr>\n",
       "    <tr>\n",
       "      <th>12516</th>\n",
       "      <td>98</td>\n",
       "      <td>NaN</td>\n",
       "      <td>NaN</td>\n",
       "      <td>0.051476</td>\n",
       "      <td>98.0</td>\n",
       "      <td>620.0</td>\n",
       "    </tr>\n",
       "    <tr>\n",
       "      <th>12517</th>\n",
       "      <td>98</td>\n",
       "      <td>NaN</td>\n",
       "      <td>NaN</td>\n",
       "      <td>0.051237</td>\n",
       "      <td>99.0</td>\n",
       "      <td>10949.0</td>\n",
       "    </tr>\n",
       "  </tbody>\n",
       "</table>\n",
       "<p>12518 rows × 6 columns</p>\n",
       "</div>"
      ],
      "text/plain": [
       "       customer_id  ItemKNN_tw_True_rs_False_score  \\\n",
       "0                0                        0.010251   \n",
       "1                0                        0.010230   \n",
       "2                0                        0.009971   \n",
       "3                0                        0.006985   \n",
       "4                0                        0.006964   \n",
       "...            ...                             ...   \n",
       "12513           98                             NaN   \n",
       "12514           98                             NaN   \n",
       "12515           98                             NaN   \n",
       "12516           98                             NaN   \n",
       "12517           98                             NaN   \n",
       "\n",
       "       ItemKNN_tw_True_rs_False_rank  ItemKNN_tw_False_rs_False_score  \\\n",
       "0                                1.0                         1.719766   \n",
       "1                                2.0                         1.721037   \n",
       "2                                3.0                         1.659686   \n",
       "3                                4.0                         1.147965   \n",
       "4                                5.0                         1.153606   \n",
       "...                              ...                              ...   \n",
       "12513                            NaN                         0.052019   \n",
       "12514                            NaN                         0.051511   \n",
       "12515                            NaN                         0.051487   \n",
       "12516                            NaN                         0.051476   \n",
       "12517                            NaN                         0.051237   \n",
       "\n",
       "       ItemKNN_tw_False_rs_False_rank     recs  \n",
       "0                                 4.0   1482.0  \n",
       "1                                 3.0   1638.0  \n",
       "2                                 5.0   1797.0  \n",
       "3                                 7.0   4861.0  \n",
       "4                                 6.0   1652.0  \n",
       "...                               ...      ...  \n",
       "12513                            94.0   1516.0  \n",
       "12514                            96.0   3199.0  \n",
       "12515                            97.0   2630.0  \n",
       "12516                            98.0    620.0  \n",
       "12517                            99.0  10949.0  \n",
       "\n",
       "[12518 rows x 6 columns]"
      ]
     },
     "execution_count": 21,
     "metadata": {},
     "output_type": "execute_result"
    }
   ],
   "source": [
    "ensemble.get_recommendations()"
   ]
  },
  {
   "cell_type": "code",
   "execution_count": 47,
   "metadata": {},
   "outputs": [],
   "source": [
    "a = pd.DataFrame([[1,0,1], [1,0,1], [3,0,1]], columns=[\"recs_a\", \"a_score\", \"a_rank\"])"
   ]
  },
  {
   "cell_type": "code",
   "execution_count": 48,
   "metadata": {},
   "outputs": [
    {
     "data": {
      "text/html": [
       "<div>\n",
       "<style scoped>\n",
       "    .dataframe tbody tr th:only-of-type {\n",
       "        vertical-align: middle;\n",
       "    }\n",
       "\n",
       "    .dataframe tbody tr th {\n",
       "        vertical-align: top;\n",
       "    }\n",
       "\n",
       "    .dataframe thead th {\n",
       "        text-align: right;\n",
       "    }\n",
       "</style>\n",
       "<table border=\"1\" class=\"dataframe\">\n",
       "  <thead>\n",
       "    <tr style=\"text-align: right;\">\n",
       "      <th></th>\n",
       "      <th>recs_a</th>\n",
       "      <th>a_score</th>\n",
       "      <th>a_rank</th>\n",
       "    </tr>\n",
       "  </thead>\n",
       "  <tbody>\n",
       "    <tr>\n",
       "      <th>0</th>\n",
       "      <td>1</td>\n",
       "      <td>0</td>\n",
       "      <td>1</td>\n",
       "    </tr>\n",
       "    <tr>\n",
       "      <th>1</th>\n",
       "      <td>1</td>\n",
       "      <td>0</td>\n",
       "      <td>1</td>\n",
       "    </tr>\n",
       "    <tr>\n",
       "      <th>2</th>\n",
       "      <td>3</td>\n",
       "      <td>0</td>\n",
       "      <td>1</td>\n",
       "    </tr>\n",
       "  </tbody>\n",
       "</table>\n",
       "</div>"
      ],
      "text/plain": [
       "   recs_a  a_score  a_rank\n",
       "0       1        0       1\n",
       "1       1        0       1\n",
       "2       3        0       1"
      ]
     },
     "execution_count": 48,
     "metadata": {},
     "output_type": "execute_result"
    }
   ],
   "source": [
    "a"
   ]
  },
  {
   "cell_type": "code",
   "execution_count": 49,
   "metadata": {},
   "outputs": [
    {
     "data": {
      "text/plain": [
       "1.5"
      ]
     },
     "execution_count": 49,
     "metadata": {},
     "output_type": "execute_result"
    }
   ],
   "source": [
    "a.groupby(\"recs_a\").size().values.mean()"
   ]
  },
  {
   "cell_type": "code",
   "execution_count": 36,
   "metadata": {},
   "outputs": [],
   "source": [
    "b = pd.DataFrame([[2,10, 11], [3,10,11], [4,10,11]], columns=[\"recs_b\", \"b_score\", \"b_rank\"])"
   ]
  },
  {
   "cell_type": "code",
   "execution_count": 37,
   "metadata": {},
   "outputs": [],
   "source": [
    "merged = pd.merge(a, b, left_on=\"recs_a\", right_on=\"recs_b\", how=\"outer\")"
   ]
  },
  {
   "cell_type": "code",
   "execution_count": 38,
   "metadata": {},
   "outputs": [
    {
     "data": {
      "text/html": [
       "<div>\n",
       "<style scoped>\n",
       "    .dataframe tbody tr th:only-of-type {\n",
       "        vertical-align: middle;\n",
       "    }\n",
       "\n",
       "    .dataframe tbody tr th {\n",
       "        vertical-align: top;\n",
       "    }\n",
       "\n",
       "    .dataframe thead th {\n",
       "        text-align: right;\n",
       "    }\n",
       "</style>\n",
       "<table border=\"1\" class=\"dataframe\">\n",
       "  <thead>\n",
       "    <tr style=\"text-align: right;\">\n",
       "      <th></th>\n",
       "      <th>recs_a</th>\n",
       "      <th>a_score</th>\n",
       "      <th>a_rank</th>\n",
       "      <th>recs_b</th>\n",
       "      <th>b_score</th>\n",
       "      <th>b_rank</th>\n",
       "    </tr>\n",
       "  </thead>\n",
       "  <tbody>\n",
       "    <tr>\n",
       "      <th>0</th>\n",
       "      <td>1.0</td>\n",
       "      <td>0.0</td>\n",
       "      <td>1.0</td>\n",
       "      <td>NaN</td>\n",
       "      <td>NaN</td>\n",
       "      <td>NaN</td>\n",
       "    </tr>\n",
       "    <tr>\n",
       "      <th>1</th>\n",
       "      <td>2.0</td>\n",
       "      <td>0.0</td>\n",
       "      <td>1.0</td>\n",
       "      <td>2.0</td>\n",
       "      <td>10.0</td>\n",
       "      <td>11.0</td>\n",
       "    </tr>\n",
       "    <tr>\n",
       "      <th>2</th>\n",
       "      <td>3.0</td>\n",
       "      <td>0.0</td>\n",
       "      <td>1.0</td>\n",
       "      <td>3.0</td>\n",
       "      <td>10.0</td>\n",
       "      <td>11.0</td>\n",
       "    </tr>\n",
       "    <tr>\n",
       "      <th>3</th>\n",
       "      <td>NaN</td>\n",
       "      <td>NaN</td>\n",
       "      <td>NaN</td>\n",
       "      <td>4.0</td>\n",
       "      <td>10.0</td>\n",
       "      <td>11.0</td>\n",
       "    </tr>\n",
       "  </tbody>\n",
       "</table>\n",
       "</div>"
      ],
      "text/plain": [
       "   recs_a  a_score  a_rank  recs_b  b_score  b_rank\n",
       "0     1.0      0.0     1.0     NaN      NaN     NaN\n",
       "1     2.0      0.0     1.0     2.0     10.0    11.0\n",
       "2     3.0      0.0     1.0     3.0     10.0    11.0\n",
       "3     NaN      NaN     NaN     4.0     10.0    11.0"
      ]
     },
     "execution_count": 38,
     "metadata": {},
     "output_type": "execute_result"
    }
   ],
   "source": [
    "merged"
   ]
  },
  {
   "cell_type": "code",
   "execution_count": 39,
   "metadata": {},
   "outputs": [],
   "source": [
    "merged[\"recs\"] = merged.filter(like=\"recs\").ffill(axis=1).iloc[:, -1]"
   ]
  },
  {
   "cell_type": "code",
   "execution_count": 40,
   "metadata": {},
   "outputs": [
    {
     "data": {
      "text/html": [
       "<div>\n",
       "<style scoped>\n",
       "    .dataframe tbody tr th:only-of-type {\n",
       "        vertical-align: middle;\n",
       "    }\n",
       "\n",
       "    .dataframe tbody tr th {\n",
       "        vertical-align: top;\n",
       "    }\n",
       "\n",
       "    .dataframe thead th {\n",
       "        text-align: right;\n",
       "    }\n",
       "</style>\n",
       "<table border=\"1\" class=\"dataframe\">\n",
       "  <thead>\n",
       "    <tr style=\"text-align: right;\">\n",
       "      <th></th>\n",
       "      <th>recs_a</th>\n",
       "      <th>a_score</th>\n",
       "      <th>a_rank</th>\n",
       "      <th>recs_b</th>\n",
       "      <th>b_score</th>\n",
       "      <th>b_rank</th>\n",
       "      <th>recs</th>\n",
       "    </tr>\n",
       "  </thead>\n",
       "  <tbody>\n",
       "    <tr>\n",
       "      <th>0</th>\n",
       "      <td>1.0</td>\n",
       "      <td>0.0</td>\n",
       "      <td>1.0</td>\n",
       "      <td>NaN</td>\n",
       "      <td>NaN</td>\n",
       "      <td>NaN</td>\n",
       "      <td>1.0</td>\n",
       "    </tr>\n",
       "    <tr>\n",
       "      <th>1</th>\n",
       "      <td>2.0</td>\n",
       "      <td>0.0</td>\n",
       "      <td>1.0</td>\n",
       "      <td>2.0</td>\n",
       "      <td>10.0</td>\n",
       "      <td>11.0</td>\n",
       "      <td>2.0</td>\n",
       "    </tr>\n",
       "    <tr>\n",
       "      <th>2</th>\n",
       "      <td>3.0</td>\n",
       "      <td>0.0</td>\n",
       "      <td>1.0</td>\n",
       "      <td>3.0</td>\n",
       "      <td>10.0</td>\n",
       "      <td>11.0</td>\n",
       "      <td>3.0</td>\n",
       "    </tr>\n",
       "    <tr>\n",
       "      <th>3</th>\n",
       "      <td>NaN</td>\n",
       "      <td>NaN</td>\n",
       "      <td>NaN</td>\n",
       "      <td>4.0</td>\n",
       "      <td>10.0</td>\n",
       "      <td>11.0</td>\n",
       "      <td>4.0</td>\n",
       "    </tr>\n",
       "  </tbody>\n",
       "</table>\n",
       "</div>"
      ],
      "text/plain": [
       "   recs_a  a_score  a_rank  recs_b  b_score  b_rank  recs\n",
       "0     1.0      0.0     1.0     NaN      NaN     NaN   1.0\n",
       "1     2.0      0.0     1.0     2.0     10.0    11.0   2.0\n",
       "2     3.0      0.0     1.0     3.0     10.0    11.0   3.0\n",
       "3     NaN      NaN     NaN     4.0     10.0    11.0   4.0"
      ]
     },
     "execution_count": 40,
     "metadata": {},
     "output_type": "execute_result"
    }
   ],
   "source": [
    "merged"
   ]
  },
  {
   "cell_type": "code",
   "execution_count": 21,
   "metadata": {},
   "outputs": [
    {
     "data": {
      "text/html": [
       "<div>\n",
       "<style scoped>\n",
       "    .dataframe tbody tr th:only-of-type {\n",
       "        vertical-align: middle;\n",
       "    }\n",
       "\n",
       "    .dataframe tbody tr th {\n",
       "        vertical-align: top;\n",
       "    }\n",
       "\n",
       "    .dataframe thead th {\n",
       "        text-align: right;\n",
       "    }\n",
       "</style>\n",
       "<table border=\"1\" class=\"dataframe\">\n",
       "  <thead>\n",
       "    <tr style=\"text-align: right;\">\n",
       "      <th></th>\n",
       "      <th>a</th>\n",
       "      <th>a_score</th>\n",
       "      <th>a_rank</th>\n",
       "      <th>b</th>\n",
       "      <th>b_score</th>\n",
       "      <th>b_rank</th>\n",
       "    </tr>\n",
       "  </thead>\n",
       "  <tbody>\n",
       "    <tr>\n",
       "      <th>0</th>\n",
       "      <td>1.0</td>\n",
       "      <td>0.0</td>\n",
       "      <td>1.0</td>\n",
       "      <td>-1.0</td>\n",
       "      <td>NaN</td>\n",
       "      <td>NaN</td>\n",
       "    </tr>\n",
       "    <tr>\n",
       "      <th>1</th>\n",
       "      <td>2.0</td>\n",
       "      <td>0.0</td>\n",
       "      <td>1.0</td>\n",
       "      <td>2.0</td>\n",
       "      <td>10.0</td>\n",
       "      <td>11.0</td>\n",
       "    </tr>\n",
       "    <tr>\n",
       "      <th>2</th>\n",
       "      <td>3.0</td>\n",
       "      <td>0.0</td>\n",
       "      <td>1.0</td>\n",
       "      <td>3.0</td>\n",
       "      <td>10.0</td>\n",
       "      <td>11.0</td>\n",
       "    </tr>\n",
       "    <tr>\n",
       "      <th>3</th>\n",
       "      <td>-1.0</td>\n",
       "      <td>NaN</td>\n",
       "      <td>NaN</td>\n",
       "      <td>4.0</td>\n",
       "      <td>10.0</td>\n",
       "      <td>11.0</td>\n",
       "    </tr>\n",
       "  </tbody>\n",
       "</table>\n",
       "</div>"
      ],
      "text/plain": [
       "     a  a_score  a_rank    b  b_score  b_rank\n",
       "0  1.0      0.0     1.0 -1.0      NaN     NaN\n",
       "1  2.0      0.0     1.0  2.0     10.0    11.0\n",
       "2  3.0      0.0     1.0  3.0     10.0    11.0\n",
       "3 -1.0      NaN     NaN  4.0     10.0    11.0"
      ]
     },
     "execution_count": 21,
     "metadata": {},
     "output_type": "execute_result"
    }
   ],
   "source": [
    "merged[\"a\"] = merged[\"a\"].fillna(-1)\n",
    "merged[\"b\"] = merged[\"b\"].fillna(-1)\n",
    "merged"
   ]
  },
  {
   "cell_type": "code",
   "execution_count": 22,
   "metadata": {},
   "outputs": [
    {
     "ename": "ValueError",
     "evalue": "The truth value of a Series is ambiguous. Use a.empty, a.bool(), a.item(), a.any() or a.all().",
     "output_type": "error",
     "traceback": [
      "\u001b[0;31m---------------------------------------------------------------------------\u001b[0m",
      "\u001b[0;31mValueError\u001b[0m                                Traceback (most recent call last)",
      "Input \u001b[0;32mIn [22]\u001b[0m, in \u001b[0;36m<cell line: 1>\u001b[0;34m()\u001b[0m\n\u001b[0;32m----> 1\u001b[0m merged[\u001b[38;5;124m\"\u001b[39m\u001b[38;5;124mtemp\u001b[39m\u001b[38;5;124m\"\u001b[39m] \u001b[38;5;241m=\u001b[39m \u001b[38;5;28;43mmax\u001b[39;49m\u001b[43m(\u001b[49m\u001b[43mmerged\u001b[49m\u001b[43m[\u001b[49m\u001b[38;5;124;43m\"\u001b[39;49m\u001b[38;5;124;43ma\u001b[39;49m\u001b[38;5;124;43m\"\u001b[39;49m\u001b[43m]\u001b[49m\u001b[43m,\u001b[49m\u001b[43m \u001b[49m\u001b[43mmerged\u001b[49m\u001b[43m[\u001b[49m\u001b[38;5;124;43m\"\u001b[39;49m\u001b[38;5;124;43mb\u001b[39;49m\u001b[38;5;124;43m\"\u001b[39;49m\u001b[43m]\u001b[49m\u001b[43m)\u001b[49m\n",
      "File \u001b[0;32m/raid/home/edoardo/GitProjects/HnMChallenge/.venv/lib/python3.9/site-packages/pandas/core/generic.py:1535\u001b[0m, in \u001b[0;36mNDFrame.__nonzero__\u001b[0;34m(self)\u001b[0m\n\u001b[1;32m   1533\u001b[0m \u001b[38;5;129m@final\u001b[39m\n\u001b[1;32m   1534\u001b[0m \u001b[38;5;28;01mdef\u001b[39;00m \u001b[38;5;21m__nonzero__\u001b[39m(\u001b[38;5;28mself\u001b[39m):\n\u001b[0;32m-> 1535\u001b[0m     \u001b[38;5;28;01mraise\u001b[39;00m \u001b[38;5;167;01mValueError\u001b[39;00m(\n\u001b[1;32m   1536\u001b[0m         \u001b[38;5;124mf\u001b[39m\u001b[38;5;124m\"\u001b[39m\u001b[38;5;124mThe truth value of a \u001b[39m\u001b[38;5;132;01m{\u001b[39;00m\u001b[38;5;28mtype\u001b[39m(\u001b[38;5;28mself\u001b[39m)\u001b[38;5;241m.\u001b[39m\u001b[38;5;18m__name__\u001b[39m\u001b[38;5;132;01m}\u001b[39;00m\u001b[38;5;124m is ambiguous. \u001b[39m\u001b[38;5;124m\"\u001b[39m\n\u001b[1;32m   1537\u001b[0m         \u001b[38;5;124m\"\u001b[39m\u001b[38;5;124mUse a.empty, a.bool(), a.item(), a.any() or a.all().\u001b[39m\u001b[38;5;124m\"\u001b[39m\n\u001b[1;32m   1538\u001b[0m     )\n",
      "\u001b[0;31mValueError\u001b[0m: The truth value of a Series is ambiguous. Use a.empty, a.bool(), a.item(), a.any() or a.all()."
     ]
    }
   ],
   "source": [
    "merged[\"temp\"] = max(merged[\"a\"], merged[\"b\"])"
   ]
  },
  {
   "cell_type": "code",
   "execution_count": null,
   "metadata": {},
   "outputs": [],
   "source": [
    "for i, j in zip(i in range(len(df)), j in cutoff):\n",
    "    if i == 0:\n",
    "        pass\n",
    "    else:\n",
    "        i = j\n",
    "    filtered = df.loc[i:i+12,:]\n",
    "    i = j"
   ]
  },
  {
   "cell_type": "code",
   "execution_count": null,
   "metadata": {},
   "outputs": [],
   "source": [
    "rs\n",
    "i = 0\n",
    "for cut in cutoffs:\n",
    "    df.loc[i:i+12, :]\n",
    "    i = cut"
   ]
  }
 ],
 "metadata": {
  "interpreter": {
   "hash": "49c059d58f0ec17badd0cdbe6e6b441d467a7aa9fe76b97f622dc3d7d564b644"
  },
  "kernelspec": {
   "display_name": "Python 3.9.7 64-bit ('.venv': poetry)",
   "language": "python",
   "name": "python3"
  },
  "language_info": {
   "codemirror_mode": {
    "name": "ipython",
    "version": 3
   },
   "file_extension": ".py",
   "mimetype": "text/x-python",
   "name": "python",
   "nbconvert_exporter": "python",
   "pygments_lexer": "ipython3",
   "version": "3.9.7"
  },
  "orig_nbformat": 4
 },
 "nbformat": 4,
 "nbformat_minor": 2
}
