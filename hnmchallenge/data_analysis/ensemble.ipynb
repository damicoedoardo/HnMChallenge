{
 "cells": [
  {
   "cell_type": "code",
   "execution_count": 1,
   "metadata": {},
   "outputs": [],
   "source": [
    "import pandas as pd\n",
    "from hnmchallenge.constant import *\n",
    "from hnmchallenge.models.itemknn.itemknn import ItemKNN\n",
    "from hnmchallenge.models_prediction.recs_interface import RecsInterface\n",
    "from hnmchallenge.stratified_dataset import StratifiedDataset\n",
    "from hnmchallenge.utils.logger import set_color\n",
    "from hnmchallenge.models_prediction.itemknn_recs import ItemKNNRecs\n",
    "from hnmchallenge.models_prediction.ensemble_recs import EnsembleRecs"
   ]
  },
  {
   "cell_type": "code",
   "execution_count": 2,
   "metadata": {},
   "outputs": [],
   "source": [
    "dataset = StratifiedDataset()"
   ]
  },
  {
   "cell_type": "code",
   "execution_count": 4,
   "metadata": {},
   "outputs": [],
   "source": [
    "rec_ens_1 = ItemKNNRecs(\n",
    "        kind=\"train\", cutoff=100, time_weight=True, remove_seen=False, dataset=dataset\n",
    "    )\n",
    "\n",
    "rec_ens_2 = ItemKNNRecs(\n",
    "        kind=\"train\", cutoff=100, time_weight=False, remove_seen=False, dataset=dataset\n",
    "    )\n",
    "rec_ens_3 = ItemKNNRecs(\n",
    "        kind=\"train\", cutoff=100, time_weight=True, remove_seen=True, dataset=dataset\n",
    "    )"
   ]
  },
  {
   "cell_type": "code",
   "execution_count": 5,
   "metadata": {},
   "outputs": [
    {
     "name": "stdout",
     "output_type": "stream",
     "text": [
      "Creating ensemble with:\n",
      "ItemKNN_tw_True_rs_False\n",
      "ItemKNN_tw_False_rs_False\n",
      "ItemKNN_tw_True_rs_True\n",
      "\n",
      "\n"
     ]
    }
   ],
   "source": [
    "ensemble = EnsembleRecs(models_list=[rec_ens_1, rec_ens_2, rec_ens_3], kind=\"train\", dataset=dataset)"
   ]
  },
  {
   "cell_type": "code",
   "execution_count": 6,
   "metadata": {},
   "outputs": [
    {
     "name": "stderr",
     "output_type": "stream",
     "text": [
      "INFO 2022-03-23 14:37:51,873 - Evaluating Ensemble:\n",
      " ItemKNN_tw_True_rs_False\n",
      "ItemKNN_tw_False_rs_False\n",
      "ItemKNN_tw_True_rs_True \n",
      "\n",
      " cutoff:100 \n",
      "\n"
     ]
    },
    {
     "name": "stdout",
     "output_type": "stream",
     "text": [
      "\u001b[1;32mComputing similarity...\u001b[0m\n"
     ]
    },
    {
     "data": {
      "application/vnd.jupyter.widget-view+json": {
       "model_id": "23721347bcf94e5c9f96acd283e4ea8d",
       "version_major": 2,
       "version_minor": 0
      },
      "text/plain": [
       "  0%|          | 0/1 [00:01<?, ?it/s]"
      ]
     },
     "metadata": {},
     "output_type": "display_data"
    },
    {
     "name": "stdout",
     "output_type": "stream",
     "text": [
      "\u001b[1;32mComputing similarity...\u001b[0m\n"
     ]
    },
    {
     "data": {
      "application/vnd.jupyter.widget-view+json": {
       "model_id": "4965a8207a4940f9b03aa945d6b954cc",
       "version_major": 2,
       "version_minor": 0
      },
      "text/plain": [
       "  0%|          | 0/1 [00:01<?, ?it/s]"
      ]
     },
     "metadata": {},
     "output_type": "display_data"
    },
    {
     "name": "stdout",
     "output_type": "stream",
     "text": [
      "\u001b[1;32mComputing similarity...\u001b[0m\n"
     ]
    },
    {
     "data": {
      "application/vnd.jupyter.widget-view+json": {
       "model_id": "cfd3ca7c7fd5403888d5e8cdaebec9e9",
       "version_major": 2,
       "version_minor": 0
      },
      "text/plain": [
       "  0%|          | 0/1 [00:01<?, ?it/s]"
      ]
     },
     "metadata": {},
     "output_type": "display_data"
    },
    {
     "name": "stderr",
     "output_type": "stream",
     "text": [
      "INFO 2022-03-23 14:39:03,868 - Average recs per user:141.98\n",
      "INFO 2022-03-23 14:39:04,019 - Remaining Users (at least one hit): 2\n",
      "INFO 2022-03-23 14:39:04,020 - \n",
      "Metrics on ALL users\n"
     ]
    },
    {
     "name": "stdout",
     "output_type": "stream",
     "text": [
      "Average recs per user: 141.98\n",
      "[  0   1   2 ...  98  99 100]\n"
     ]
    },
    {
     "name": "stderr",
     "output_type": "stream",
     "text": [
      "INFO 2022-03-23 14:39:04,086 - MAP@100: 0.000981636505042827\n",
      "INFO 2022-03-23 14:39:04,145 - RECALL@100: 0.04722222222222222\n",
      "INFO 2022-03-23 14:39:04,146 - \n",
      "Metrics on ONE-HIT users\n",
      "INFO 2022-03-23 14:39:04,220 - MAP@100: 0.005889819030256961\n",
      "INFO 2022-03-23 14:39:04,272 - RECALL@100: 0.2833333333333333\n"
     ]
    }
   ],
   "source": [
    "ensemble.eval_recommendations(dataset_name=\"dataset_v0\")"
   ]
  },
  {
   "cell_type": "code",
   "execution_count": 7,
   "metadata": {},
   "outputs": [],
   "source": [
    "a = [\"_recs\", \"a\", \"b\"]"
   ]
  },
  {
   "cell_type": "code",
   "execution_count": 10,
   "metadata": {},
   "outputs": [],
   "source": [
    "b = [e for e in a if \"recs\" in e]"
   ]
  },
  {
   "cell_type": "code",
   "execution_count": 11,
   "metadata": {},
   "outputs": [
    {
     "data": {
      "text/plain": [
       "['_recs']"
      ]
     },
     "execution_count": 11,
     "metadata": {},
     "output_type": "execute_result"
    }
   ],
   "source": [
    "b"
   ]
  },
  {
   "cell_type": "code",
   "execution_count": null,
   "metadata": {},
   "outputs": [],
   "source": []
  },
  {
   "cell_type": "code",
   "execution_count": null,
   "metadata": {},
   "outputs": [],
   "source": [
    "ens_recs"
   ]
  },
  {
   "cell_type": "code",
   "execution_count": null,
   "metadata": {},
   "outputs": [],
   "source": [
    "models_names = [model.RECS_NAME + \"_score\" for model in ensemble.models_list]"
   ]
  },
  {
   "cell_type": "code",
   "execution_count": null,
   "metadata": {},
   "outputs": [],
   "source": [
    "models_names"
   ]
  },
  {
   "cell_type": "code",
   "execution_count": null,
   "metadata": {},
   "outputs": [],
   "source": [
    "ens_recs.sort_values([DEFAULT_USER_COL, *models_names], ascending=False)"
   ]
  },
  {
   "cell_type": "code",
   "execution_count": null,
   "metadata": {},
   "outputs": [],
   "source": [
    "recs_per_user = ens_recs.groupby(DEFAULT_USER_COL).size().values"
   ]
  },
  {
   "cell_type": "code",
   "execution_count": null,
   "metadata": {},
   "outputs": [],
   "source": [
    "import numpy as np\n",
    "a = list(map(lambda x: np.arange(x), recs_per_user))"
   ]
  },
  {
   "cell_type": "code",
   "execution_count": null,
   "metadata": {},
   "outputs": [],
   "source": [
    "ens_rank = np.concatenate(a)"
   ]
  },
  {
   "cell_type": "code",
   "execution_count": null,
   "metadata": {},
   "outputs": [],
   "source": [
    "ens_recs[\"ensemble_rank\"] = ens_rank"
   ]
  },
  {
   "cell_type": "code",
   "execution_count": null,
   "metadata": {},
   "outputs": [],
   "source": [
    "ens_recs"
   ]
  },
  {
   "cell_type": "code",
   "execution_count": null,
   "metadata": {},
   "outputs": [],
   "source": [
    "len(ens_rank)"
   ]
  },
  {
   "cell_type": "code",
   "execution_count": null,
   "metadata": {},
   "outputs": [],
   "source": [
    "a = pd.DataFrame([[1,0,1], [1,0,1], [3,0,1]], columns=[\"recs_a\", \"a_score\", \"a_rank\"])"
   ]
  },
  {
   "cell_type": "code",
   "execution_count": null,
   "metadata": {},
   "outputs": [],
   "source": [
    "a"
   ]
  },
  {
   "cell_type": "code",
   "execution_count": null,
   "metadata": {},
   "outputs": [],
   "source": [
    "a.groupby(\"recs_a\").size().values.mean()"
   ]
  },
  {
   "cell_type": "code",
   "execution_count": null,
   "metadata": {},
   "outputs": [],
   "source": [
    "b = pd.DataFrame([[2,10, 11], [3,10,11], [4,10,11]], columns=[\"recs_b\", \"b_score\", \"b_rank\"])"
   ]
  },
  {
   "cell_type": "code",
   "execution_count": null,
   "metadata": {},
   "outputs": [],
   "source": [
    "merged = pd.merge(a, b, left_on=\"recs_a\", right_on=\"recs_b\", how=\"outer\")"
   ]
  },
  {
   "cell_type": "code",
   "execution_count": null,
   "metadata": {},
   "outputs": [],
   "source": [
    "merged"
   ]
  },
  {
   "cell_type": "code",
   "execution_count": null,
   "metadata": {},
   "outputs": [],
   "source": [
    "merged[\"recs\"] = merged.filter(like=\"recs\").ffill(axis=1).iloc[:, -1]"
   ]
  },
  {
   "cell_type": "code",
   "execution_count": null,
   "metadata": {},
   "outputs": [],
   "source": [
    "merged"
   ]
  },
  {
   "cell_type": "code",
   "execution_count": null,
   "metadata": {},
   "outputs": [],
   "source": [
    "merged[\"a\"] = merged[\"a\"].fillna(-1)\n",
    "merged[\"b\"] = merged[\"b\"].fillna(-1)\n",
    "merged"
   ]
  },
  {
   "cell_type": "code",
   "execution_count": null,
   "metadata": {},
   "outputs": [],
   "source": [
    "merged[\"temp\"] = max(merged[\"a\"], merged[\"b\"])"
   ]
  },
  {
   "cell_type": "code",
   "execution_count": null,
   "metadata": {},
   "outputs": [],
   "source": [
    "for i, j in zip(i in range(len(df)), j in cutoff):\n",
    "    if i == 0:\n",
    "        pass\n",
    "    else:\n",
    "        i = j\n",
    "    filtered = df.loc[i:i+12,:]\n",
    "    i = j"
   ]
  },
  {
   "cell_type": "code",
   "execution_count": null,
   "metadata": {},
   "outputs": [],
   "source": [
    "rs\n",
    "i = 0\n",
    "for cut in cutoffs:\n",
    "    df.loc[i:i+12, :]\n",
    "    i = cut"
   ]
  }
 ],
 "metadata": {
  "interpreter": {
   "hash": "49c059d58f0ec17badd0cdbe6e6b441d467a7aa9fe76b97f622dc3d7d564b644"
  },
  "kernelspec": {
   "display_name": "Python 3.9.7 64-bit ('.venv': poetry)",
   "language": "python",
   "name": "python3"
  },
  "language_info": {
   "codemirror_mode": {
    "name": "ipython",
    "version": 3
   },
   "file_extension": ".py",
   "mimetype": "text/x-python",
   "name": "python",
   "nbconvert_exporter": "python",
   "pygments_lexer": "ipython3",
   "version": "3.9.7"
  },
  "orig_nbformat": 4
 },
 "nbformat": 4,
 "nbformat_minor": 2
}
