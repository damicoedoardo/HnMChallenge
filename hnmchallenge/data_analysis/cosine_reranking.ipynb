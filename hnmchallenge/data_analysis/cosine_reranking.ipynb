{
 "cells": [
  {
   "cell_type": "code",
   "execution_count": 1,
   "metadata": {},
   "outputs": [],
   "source": [
    "import pandas as pd\n",
    "from hnmchallenge.data_reader import DataReader\n",
    "import matplotlib.pyplot as plt\n",
    "import seaborn as sns\n",
    "import numpy as np\n",
    "from hnmchallenge.dataset import Dataset\n",
    "from hnmchallenge.filtered_dataset import FilterdDataset\n",
    "from hnmchallenge.models.top_pop import TopPop\n",
    "from hnmchallenge.evaluation.python_evaluation import map_at_k, recall_at_k\n",
    "from hnmchallenge.constant import *\n",
    "from hnmchallenge.models.sgmc.sgmc import SGMC\n",
    "from hnmchallenge.models.ease.ease import EASE\n",
    "from hnmchallenge.models.itemknn.itemknn import ItemKNN "
   ]
  },
  {
   "cell_type": "code",
   "execution_count": 2,
   "metadata": {},
   "outputs": [],
   "source": [
    "import logging\n",
    "logger = logging.getLogger(__name__)\n",
    "logging.basicConfig(level=logging.DEBUG)"
   ]
  },
  {
   "cell_type": "code",
   "execution_count": 3,
   "metadata": {},
   "outputs": [],
   "source": [
    "dataset = FilterdDataset()\n",
    "dr = DataReader()"
   ]
  },
  {
   "cell_type": "code",
   "execution_count": 4,
   "metadata": {},
   "outputs": [],
   "source": [
    "recom = ItemKNN(dataset, topk=1000, time_weight=True)"
   ]
  },
  {
   "cell_type": "code",
   "execution_count": 5,
   "metadata": {},
   "outputs": [],
   "source": [
    "train = dataset.get_train_df()\n",
    "train_sub = dataset.get_train_df_user_subset()\n",
    "fd = dr.get_filtered_full_data()"
   ]
  },
  {
   "cell_type": "code",
   "execution_count": 6,
   "metadata": {},
   "outputs": [
    {
     "name": "stderr",
     "output_type": "stream",
     "text": [
      "INFO:hnmchallenge.utils.pandas_utils:\u001b[1;33munique customer_id: 1128716\u001b[0m\n",
      "WARNING:hnmchallenge.utils.sparse_matrix:\u001b[1;31musers_num is None, remap user ids to consecutive\u001b[0m\n"
     ]
    },
    {
     "name": "stdout",
     "output_type": "stream",
     "text": [
      "func:interactions_to_sparse_matrix\n",
      " took: 9.447617769241333 sec\n"
     ]
    }
   ],
   "source": [
    "recom.compute_similarity_matrix(train)"
   ]
  },
  {
   "cell_type": "code",
   "execution_count": 7,
   "metadata": {},
   "outputs": [
    {
     "name": "stderr",
     "output_type": "stream",
     "text": [
      "INFO:hnmchallenge.recommender_interface:\u001b[1;36mRecommending items MULTICORE\u001b[0m\n"
     ]
    },
    {
     "data": {
      "application/vnd.jupyter.widget-view+json": {
       "model_id": "bdff007d49b84f148989cc7aec3e1ae5",
       "version_major": 2,
       "version_minor": 0
      },
      "text/plain": [
       "  0%|          | 0/113 [00:00<?, ?it/s]"
      ]
     },
     "metadata": {},
     "output_type": "display_data"
    },
    {
     "name": "stdout",
     "output_type": "stream",
     "text": [
      "Predicting using time_weight importance...\n"
     ]
    },
    {
     "name": "stderr",
     "output_type": "stream",
     "text": [
      "INFO:hnmchallenge.utils.pandas_utils:\u001b[1;33munique customer_id: 9989\u001b[0m\n",
      "WARNING:hnmchallenge.utils.sparse_matrix:\u001b[1;31musers_num is None, remap user ids to consecutive\u001b[0m\n",
      "INFO:hnmchallenge.utils.sparse_matrix:\u001b[1;31mApplying time weight on user-item interactions\u001b[0m\n"
     ]
    },
    {
     "name": "stdout",
     "output_type": "stream",
     "text": [
      "Predicting using time_weight importance...\n"
     ]
    },
    {
     "name": "stderr",
     "output_type": "stream",
     "text": [
      "INFO:hnmchallenge.utils.pandas_utils:\u001b[1;33munique customer_id: 9989\u001b[0m\n",
      "WARNING:hnmchallenge.utils.sparse_matrix:\u001b[1;31musers_num is None, remap user ids to consecutive\u001b[0m\n",
      "INFO:hnmchallenge.utils.sparse_matrix:\u001b[1;31mApplying time weight on user-item interactions\u001b[0m\n"
     ]
    },
    {
     "name": "stdout",
     "output_type": "stream",
     "text": [
      "func:interactions_to_sparse_matrix\n",
      " took: 5.05313515663147 sec\n"
     ]
    },
    {
     "name": "stderr",
     "output_type": "stream",
     "text": [
      "INFO:hnmchallenge.recommender_interface:\u001b[1;36mSPARSE Item Similarity MUL...\u001b[0m\n"
     ]
    },
    {
     "name": "stdout",
     "output_type": "stream",
     "text": [
      "func:interactions_to_sparse_matrix\n",
      " took: 3.8239996433258057 sec\n"
     ]
    },
    {
     "name": "stderr",
     "output_type": "stream",
     "text": [
      "INFO:hnmchallenge.recommender_interface:\u001b[1;36mSPARSE Item Similarity MUL...\u001b[0m\n"
     ]
    },
    {
     "name": "stdout",
     "output_type": "stream",
     "text": [
      "Predicting using time_weight importance...\n"
     ]
    },
    {
     "name": "stderr",
     "output_type": "stream",
     "text": [
      "INFO:hnmchallenge.utils.pandas_utils:\u001b[1;33munique customer_id: 9989\u001b[0m\n",
      "WARNING:hnmchallenge.utils.sparse_matrix:\u001b[1;31musers_num is None, remap user ids to consecutive\u001b[0m\n",
      "INFO:hnmchallenge.utils.sparse_matrix:\u001b[1;31mApplying time weight on user-item interactions\u001b[0m\n"
     ]
    },
    {
     "name": "stdout",
     "output_type": "stream",
     "text": [
      "func:interactions_to_sparse_matrix\n",
      " took: 3.58581805229187 sec\n"
     ]
    },
    {
     "name": "stderr",
     "output_type": "stream",
     "text": [
      "INFO:hnmchallenge.recommender_interface:\u001b[1;36mSPARSE Item Similarity MUL...\u001b[0m\n"
     ]
    },
    {
     "name": "stdout",
     "output_type": "stream",
     "text": [
      "Predicting using time_weight importance...\n"
     ]
    },
    {
     "name": "stderr",
     "output_type": "stream",
     "text": [
      "INFO:hnmchallenge.utils.pandas_utils:\u001b[1;33munique customer_id: 9989\u001b[0m\n",
      "WARNING:hnmchallenge.utils.sparse_matrix:\u001b[1;31musers_num is None, remap user ids to consecutive\u001b[0m\n",
      "INFO:hnmchallenge.utils.sparse_matrix:\u001b[1;31mApplying time weight on user-item interactions\u001b[0m\n"
     ]
    },
    {
     "name": "stdout",
     "output_type": "stream",
     "text": [
      "func:interactions_to_sparse_matrix\n",
      " took: 3.5240864753723145 sec\n"
     ]
    },
    {
     "name": "stderr",
     "output_type": "stream",
     "text": [
      "INFO:hnmchallenge.recommender_interface:\u001b[1;36mSPARSE Item Similarity MUL...\u001b[0m\n"
     ]
    },
    {
     "name": "stdout",
     "output_type": "stream",
     "text": [
      "Predicting using time_weight importance...\n"
     ]
    },
    {
     "name": "stderr",
     "output_type": "stream",
     "text": [
      "INFO:hnmchallenge.utils.pandas_utils:\u001b[1;33munique customer_id: 9989\u001b[0m\n",
      "WARNING:hnmchallenge.utils.sparse_matrix:\u001b[1;31musers_num is None, remap user ids to consecutive\u001b[0m\n",
      "INFO:hnmchallenge.utils.sparse_matrix:\u001b[1;31mApplying time weight on user-item interactions\u001b[0m\n",
      "INFO:hnmchallenge.utils.sparse_matrix:\u001b[1;36mSort_top_k:True\u001b[0m\n"
     ]
    },
    {
     "name": "stdout",
     "output_type": "stream",
     "text": [
      "func:interactions_to_sparse_matrix\n",
      " took: 3.4159536361694336 sec\n"
     ]
    },
    {
     "name": "stderr",
     "output_type": "stream",
     "text": [
      "INFO:hnmchallenge.recommender_interface:\u001b[1;36mSPARSE Item Similarity MUL...\u001b[0m\n"
     ]
    },
    {
     "name": "stdout",
     "output_type": "stream",
     "text": [
      "Predicting using time_weight importance...\n"
     ]
    },
    {
     "name": "stderr",
     "output_type": "stream",
     "text": [
      "INFO:hnmchallenge.utils.pandas_utils:\u001b[1;33munique customer_id: 9989\u001b[0m\n",
      "WARNING:hnmchallenge.utils.sparse_matrix:\u001b[1;31musers_num is None, remap user ids to consecutive\u001b[0m\n",
      "INFO:hnmchallenge.utils.sparse_matrix:\u001b[1;31mApplying time weight on user-item interactions\u001b[0m\n",
      "INFO:hnmchallenge.utils.sparse_matrix:\u001b[1;36mSort_top_k:True\u001b[0m\n"
     ]
    },
    {
     "name": "stdout",
     "output_type": "stream",
     "text": [
      "func:interactions_to_sparse_matrix\n",
      " took: 3.600123167037964 sec\n"
     ]
    },
    {
     "name": "stderr",
     "output_type": "stream",
     "text": [
      "INFO:hnmchallenge.recommender_interface:\u001b[1;36mSPARSE Item Similarity MUL...\u001b[0m\n"
     ]
    },
    {
     "name": "stdout",
     "output_type": "stream",
     "text": [
      "Predicting using time_weight importance...\n"
     ]
    },
    {
     "name": "stderr",
     "output_type": "stream",
     "text": [
      "INFO:hnmchallenge.utils.pandas_utils:\u001b[1;33munique customer_id: 9989\u001b[0m\n",
      "WARNING:hnmchallenge.utils.sparse_matrix:\u001b[1;31musers_num is None, remap user ids to consecutive\u001b[0m\n",
      "INFO:hnmchallenge.utils.sparse_matrix:\u001b[1;31mApplying time weight on user-item interactions\u001b[0m\n",
      "INFO:hnmchallenge.utils.sparse_matrix:\u001b[1;36mSort_top_k:True\u001b[0m\n",
      "INFO:hnmchallenge.utils.sparse_matrix:\u001b[1;36mSort_top_k:True\u001b[0m\n",
      "INFO:hnmchallenge.utils.pandas_utils:\u001b[1;33munique customer_id: 9989\u001b[0m\n"
     ]
    },
    {
     "name": "stdout",
     "output_type": "stream",
     "text": [
      "func:interactions_to_sparse_matrix\n",
      " took: 3.5871083736419678 sec\n"
     ]
    },
    {
     "name": "stderr",
     "output_type": "stream",
     "text": [
      "INFO:hnmchallenge.recommender_interface:\u001b[1;36mSPARSE Item Similarity MUL...\u001b[0m\n"
     ]
    },
    {
     "name": "stdout",
     "output_type": "stream",
     "text": [
      "Predicting using time_weight importance...\n"
     ]
    },
    {
     "name": "stderr",
     "output_type": "stream",
     "text": [
      "WARNING:hnmchallenge.utils.sparse_matrix:\u001b[1;31musers_num is None, remap user ids to consecutive\u001b[0m\n",
      "INFO:hnmchallenge.utils.sparse_matrix:\u001b[1;31mApplying time weight on user-item interactions\u001b[0m\n"
     ]
    },
    {
     "name": "stdout",
     "output_type": "stream",
     "text": [
      "func:interactions_to_sparse_matrix\n",
      " took: 3.665316104888916 sec\n"
     ]
    },
    {
     "name": "stderr",
     "output_type": "stream",
     "text": [
      "INFO:hnmchallenge.recommender_interface:\u001b[1;36mSPARSE Item Similarity MUL...\u001b[0m\n"
     ]
    },
    {
     "name": "stdout",
     "output_type": "stream",
     "text": [
      "Predicting using time_weight importance...\n"
     ]
    },
    {
     "name": "stderr",
     "output_type": "stream",
     "text": [
      "INFO:hnmchallenge.utils.pandas_utils:\u001b[1;33munique customer_id: 9989\u001b[0m\n",
      "WARNING:hnmchallenge.utils.sparse_matrix:\u001b[1;31musers_num is None, remap user ids to consecutive\u001b[0m\n",
      "INFO:hnmchallenge.utils.sparse_matrix:\u001b[1;31mApplying time weight on user-item interactions\u001b[0m\n",
      "INFO:hnmchallenge.utils.sparse_matrix:\u001b[1;36mSort_top_k:True\u001b[0m\n"
     ]
    },
    {
     "name": "stdout",
     "output_type": "stream",
     "text": [
      "func:interactions_to_sparse_matrix\n",
      " took: 3.163217306137085 sec\n"
     ]
    },
    {
     "name": "stderr",
     "output_type": "stream",
     "text": [
      "INFO:hnmchallenge.recommender_interface:\u001b[1;36mSPARSE Item Similarity MUL...\u001b[0m\n",
      "INFO:hnmchallenge.utils.sparse_matrix:\u001b[1;36mSort_top_k:True\u001b[0m\n"
     ]
    },
    {
     "name": "stdout",
     "output_type": "stream",
     "text": [
      "Predicting using time_weight importance...\n"
     ]
    },
    {
     "name": "stderr",
     "output_type": "stream",
     "text": [
      "INFO:hnmchallenge.utils.pandas_utils:\u001b[1;33munique customer_id: 9989\u001b[0m\n",
      "WARNING:hnmchallenge.utils.sparse_matrix:\u001b[1;31musers_num is None, remap user ids to consecutive\u001b[0m\n",
      "INFO:hnmchallenge.utils.sparse_matrix:\u001b[1;31mApplying time weight on user-item interactions\u001b[0m\n"
     ]
    },
    {
     "name": "stdout",
     "output_type": "stream",
     "text": [
      "func:interactions_to_sparse_matrix\n",
      " took: 3.534510612487793 sec\n"
     ]
    },
    {
     "name": "stderr",
     "output_type": "stream",
     "text": [
      "INFO:hnmchallenge.recommender_interface:\u001b[1;36mSPARSE Item Similarity MUL...\u001b[0m\n",
      "INFO:hnmchallenge.utils.sparse_matrix:\u001b[1;36mSort_top_k:True\u001b[0m\n"
     ]
    },
    {
     "name": "stdout",
     "output_type": "stream",
     "text": [
      "Predicting using time_weight importance...\n"
     ]
    },
    {
     "name": "stderr",
     "output_type": "stream",
     "text": [
      "INFO:hnmchallenge.utils.pandas_utils:\u001b[1;33munique customer_id: 9989\u001b[0m\n",
      "WARNING:hnmchallenge.utils.sparse_matrix:\u001b[1;31musers_num is None, remap user ids to consecutive\u001b[0m\n",
      "INFO:hnmchallenge.utils.sparse_matrix:\u001b[1;31mApplying time weight on user-item interactions\u001b[0m\n"
     ]
    },
    {
     "name": "stdout",
     "output_type": "stream",
     "text": [
      "func:interactions_to_sparse_matrix\n",
      " took: 3.30232572555542 sec\n"
     ]
    },
    {
     "name": "stderr",
     "output_type": "stream",
     "text": [
      "INFO:hnmchallenge.recommender_interface:\u001b[1;36mSPARSE Item Similarity MUL...\u001b[0m\n"
     ]
    },
    {
     "name": "stdout",
     "output_type": "stream",
     "text": [
      "Predicting using time_weight importance...\n"
     ]
    },
    {
     "name": "stderr",
     "output_type": "stream",
     "text": [
      "INFO:hnmchallenge.utils.pandas_utils:\u001b[1;33munique customer_id: 9989\u001b[0m\n",
      "INFO:hnmchallenge.utils.sparse_matrix:\u001b[1;36mSort_top_k:True\u001b[0m\n",
      "WARNING:hnmchallenge.utils.sparse_matrix:\u001b[1;31musers_num is None, remap user ids to consecutive\u001b[0m\n",
      "INFO:hnmchallenge.utils.sparse_matrix:\u001b[1;31mApplying time weight on user-item interactions\u001b[0m\n",
      "INFO:hnmchallenge.utils.sparse_matrix:\u001b[1;36mSort_top_k:True\u001b[0m\n"
     ]
    },
    {
     "name": "stdout",
     "output_type": "stream",
     "text": [
      "func:interactions_to_sparse_matrix\n",
      " took: 3.217350482940674 sec\n"
     ]
    },
    {
     "name": "stderr",
     "output_type": "stream",
     "text": [
      "INFO:hnmchallenge.recommender_interface:\u001b[1;36mSPARSE Item Similarity MUL...\u001b[0m\n"
     ]
    },
    {
     "name": "stdout",
     "output_type": "stream",
     "text": [
      "Predicting using time_weight importance...\n"
     ]
    },
    {
     "name": "stderr",
     "output_type": "stream",
     "text": [
      "INFO:hnmchallenge.utils.pandas_utils:\u001b[1;33munique customer_id: 9989\u001b[0m\n",
      "WARNING:hnmchallenge.utils.sparse_matrix:\u001b[1;31musers_num is None, remap user ids to consecutive\u001b[0m\n",
      "INFO:hnmchallenge.utils.sparse_matrix:\u001b[1;31mApplying time weight on user-item interactions\u001b[0m\n"
     ]
    },
    {
     "name": "stdout",
     "output_type": "stream",
     "text": [
      "func:interactions_to_sparse_matrix\n",
      " took: 3.135890007019043 sec\n"
     ]
    },
    {
     "name": "stderr",
     "output_type": "stream",
     "text": [
      "INFO:hnmchallenge.recommender_interface:\u001b[1;36mSPARSE Item Similarity MUL...\u001b[0m\n",
      "INFO:hnmchallenge.utils.sparse_matrix:\u001b[1;36mSort_top_k:True\u001b[0m\n"
     ]
    },
    {
     "name": "stdout",
     "output_type": "stream",
     "text": [
      "Predicting using time_weight importance...\n"
     ]
    },
    {
     "name": "stderr",
     "output_type": "stream",
     "text": [
      "INFO:hnmchallenge.utils.pandas_utils:\u001b[1;33munique customer_id: 9989\u001b[0m\n",
      "WARNING:hnmchallenge.utils.sparse_matrix:\u001b[1;31musers_num is None, remap user ids to consecutive\u001b[0m\n",
      "INFO:hnmchallenge.utils.sparse_matrix:\u001b[1;31mApplying time weight on user-item interactions\u001b[0m\n",
      "INFO:hnmchallenge.utils.sparse_matrix:\u001b[1;36mSort_top_k:True\u001b[0m\n"
     ]
    },
    {
     "name": "stdout",
     "output_type": "stream",
     "text": [
      "func:interactions_to_sparse_matrix\n",
      " took: 3.2059619426727295 sec\n"
     ]
    },
    {
     "name": "stderr",
     "output_type": "stream",
     "text": [
      "INFO:hnmchallenge.recommender_interface:\u001b[1;36mSPARSE Item Similarity MUL...\u001b[0m\n"
     ]
    },
    {
     "name": "stdout",
     "output_type": "stream",
     "text": [
      "Predicting using time_weight importance...\n"
     ]
    },
    {
     "name": "stderr",
     "output_type": "stream",
     "text": [
      "INFO:hnmchallenge.utils.pandas_utils:\u001b[1;33munique customer_id: 9989\u001b[0m\n",
      "WARNING:hnmchallenge.utils.sparse_matrix:\u001b[1;31musers_num is None, remap user ids to consecutive\u001b[0m\n",
      "INFO:hnmchallenge.utils.sparse_matrix:\u001b[1;31mApplying time weight on user-item interactions\u001b[0m\n",
      "INFO:hnmchallenge.utils.sparse_matrix:\u001b[1;36mSort_top_k:True\u001b[0m\n"
     ]
    },
    {
     "name": "stdout",
     "output_type": "stream",
     "text": [
      "func:interactions_to_sparse_matrix\n",
      " took: 3.1763124465942383 sec\n"
     ]
    },
    {
     "name": "stderr",
     "output_type": "stream",
     "text": [
      "INFO:hnmchallenge.recommender_interface:\u001b[1;36mSPARSE Item Similarity MUL...\u001b[0m\n"
     ]
    },
    {
     "name": "stdout",
     "output_type": "stream",
     "text": [
      "Predicting using time_weight importance...\n"
     ]
    },
    {
     "name": "stderr",
     "output_type": "stream",
     "text": [
      "INFO:hnmchallenge.utils.pandas_utils:\u001b[1;33munique customer_id: 9989\u001b[0m\n",
      "WARNING:hnmchallenge.utils.sparse_matrix:\u001b[1;31musers_num is None, remap user ids to consecutive\u001b[0m\n",
      "INFO:hnmchallenge.utils.sparse_matrix:\u001b[1;31mApplying time weight on user-item interactions\u001b[0m\n",
      "INFO:hnmchallenge.utils.sparse_matrix:\u001b[1;36mSort_top_k:True\u001b[0m\n"
     ]
    },
    {
     "name": "stdout",
     "output_type": "stream",
     "text": [
      "func:interactions_to_sparse_matrix\n",
      " took: 4.1410534381866455 sec\n"
     ]
    },
    {
     "name": "stderr",
     "output_type": "stream",
     "text": [
      "INFO:hnmchallenge.recommender_interface:\u001b[1;36mSPARSE Item Similarity MUL...\u001b[0m\n"
     ]
    },
    {
     "name": "stdout",
     "output_type": "stream",
     "text": [
      "Predicting using time_weight importance...\n"
     ]
    },
    {
     "name": "stderr",
     "output_type": "stream",
     "text": [
      "INFO:hnmchallenge.utils.pandas_utils:\u001b[1;33munique customer_id: 9989\u001b[0m\n",
      "WARNING:hnmchallenge.utils.sparse_matrix:\u001b[1;31musers_num is None, remap user ids to consecutive\u001b[0m\n",
      "INFO:hnmchallenge.utils.sparse_matrix:\u001b[1;31mApplying time weight on user-item interactions\u001b[0m\n"
     ]
    },
    {
     "name": "stdout",
     "output_type": "stream",
     "text": [
      "func:interactions_to_sparse_matrix\n",
      " took: 2.950448513031006 sec\n"
     ]
    },
    {
     "name": "stderr",
     "output_type": "stream",
     "text": [
      "INFO:hnmchallenge.recommender_interface:\u001b[1;36mSPARSE Item Similarity MUL...\u001b[0m\n"
     ]
    },
    {
     "name": "stdout",
     "output_type": "stream",
     "text": [
      "Predicting using time_weight importance...\n"
     ]
    },
    {
     "name": "stderr",
     "output_type": "stream",
     "text": [
      "INFO:hnmchallenge.utils.pandas_utils:\u001b[1;33munique customer_id: 9989\u001b[0m\n",
      "WARNING:hnmchallenge.utils.sparse_matrix:\u001b[1;31musers_num is None, remap user ids to consecutive\u001b[0m\n",
      "INFO:hnmchallenge.utils.sparse_matrix:\u001b[1;31mApplying time weight on user-item interactions\u001b[0m\n",
      "INFO:hnmchallenge.utils.sparse_matrix:\u001b[1;36mSort_top_k:True\u001b[0m\n",
      "INFO:hnmchallenge.utils.sparse_matrix:\u001b[1;36mSort_top_k:True\u001b[0m\n"
     ]
    },
    {
     "name": "stdout",
     "output_type": "stream",
     "text": [
      "func:interactions_to_sparse_matrix\n",
      " took: 2.914580821990967 sec\n"
     ]
    },
    {
     "name": "stderr",
     "output_type": "stream",
     "text": [
      "INFO:hnmchallenge.recommender_interface:\u001b[1;36mSPARSE Item Similarity MUL...\u001b[0m\n"
     ]
    },
    {
     "name": "stdout",
     "output_type": "stream",
     "text": [
      "Predicting using time_weight importance...\n"
     ]
    },
    {
     "name": "stderr",
     "output_type": "stream",
     "text": [
      "INFO:hnmchallenge.utils.pandas_utils:\u001b[1;33munique customer_id: 9989\u001b[0m\n",
      "WARNING:hnmchallenge.utils.sparse_matrix:\u001b[1;31musers_num is None, remap user ids to consecutive\u001b[0m\n",
      "INFO:hnmchallenge.utils.sparse_matrix:\u001b[1;31mApplying time weight on user-item interactions\u001b[0m\n"
     ]
    },
    {
     "name": "stdout",
     "output_type": "stream",
     "text": [
      "func:interactions_to_sparse_matrix\n",
      " took: 2.8242955207824707 sec"
     ]
    },
    {
     "name": "stderr",
     "output_type": "stream",
     "text": [
      "INFO:hnmchallenge.utils.sparse_matrix:\u001b[1;36mSort_top_k:True\u001b[0m\n"
     ]
    },
    {
     "name": "stdout",
     "output_type": "stream",
     "text": [
      "\n"
     ]
    },
    {
     "name": "stderr",
     "output_type": "stream",
     "text": [
      "INFO:hnmchallenge.recommender_interface:\u001b[1;36mSPARSE Item Similarity MUL...\u001b[0m\n"
     ]
    },
    {
     "name": "stdout",
     "output_type": "stream",
     "text": [
      "Predicting using time_weight importance...\n"
     ]
    },
    {
     "name": "stderr",
     "output_type": "stream",
     "text": [
      "INFO:hnmchallenge.utils.pandas_utils:\u001b[1;33munique customer_id: 9989\u001b[0m\n",
      "WARNING:hnmchallenge.utils.sparse_matrix:\u001b[1;31musers_num is None, remap user ids to consecutive\u001b[0m\n",
      "INFO:hnmchallenge.utils.sparse_matrix:\u001b[1;31mApplying time weight on user-item interactions\u001b[0m\n",
      "INFO:hnmchallenge.utils.sparse_matrix:\u001b[1;36mSort_top_k:True\u001b[0m\n"
     ]
    },
    {
     "name": "stdout",
     "output_type": "stream",
     "text": [
      "func:interactions_to_sparse_matrix\n",
      " took: 2.7530736923217773 sec\n"
     ]
    },
    {
     "name": "stderr",
     "output_type": "stream",
     "text": [
      "INFO:hnmchallenge.recommender_interface:\u001b[1;36mSPARSE Item Similarity MUL...\u001b[0m\n"
     ]
    },
    {
     "name": "stdout",
     "output_type": "stream",
     "text": [
      "Predicting using time_weight importance...\n"
     ]
    },
    {
     "name": "stderr",
     "output_type": "stream",
     "text": [
      "INFO:hnmchallenge.utils.pandas_utils:\u001b[1;33munique customer_id: 9989\u001b[0m\n",
      "WARNING:hnmchallenge.utils.sparse_matrix:\u001b[1;31musers_num is None, remap user ids to consecutive\u001b[0m\n",
      "INFO:hnmchallenge.utils.sparse_matrix:\u001b[1;31mApplying time weight on user-item interactions\u001b[0m\n",
      "INFO:hnmchallenge.utils.sparse_matrix:\u001b[1;36mSort_top_k:True\u001b[0m\n",
      "INFO:hnmchallenge.recommender_interface:\u001b[1;36mSPARSE Item Similarity MUL...\u001b[0m\n"
     ]
    },
    {
     "name": "stdout",
     "output_type": "stream",
     "text": [
      "func:interactions_to_sparse_matrix\n",
      " took: 2.5180301666259766 sec\n",
      "Predicting using time_weight importance...\n"
     ]
    },
    {
     "name": "stderr",
     "output_type": "stream",
     "text": [
      "INFO:hnmchallenge.utils.pandas_utils:\u001b[1;33munique customer_id: 9989\u001b[0m\n",
      "WARNING:hnmchallenge.utils.sparse_matrix:\u001b[1;31musers_num is None, remap user ids to consecutive\u001b[0m\n",
      "INFO:hnmchallenge.utils.sparse_matrix:\u001b[1;31mApplying time weight on user-item interactions\u001b[0m\n",
      "INFO:hnmchallenge.utils.sparse_matrix:\u001b[1;36mSort_top_k:True\u001b[0m\n"
     ]
    },
    {
     "name": "stdout",
     "output_type": "stream",
     "text": [
      "func:interactions_to_sparse_matrix\n",
      " took: 3.187178373336792 sec\n"
     ]
    },
    {
     "name": "stderr",
     "output_type": "stream",
     "text": [
      "INFO:hnmchallenge.recommender_interface:\u001b[1;36mSPARSE Item Similarity MUL...\u001b[0m\n"
     ]
    },
    {
     "name": "stdout",
     "output_type": "stream",
     "text": [
      "Predicting using time_weight importance...\n"
     ]
    },
    {
     "name": "stderr",
     "output_type": "stream",
     "text": [
      "INFO:hnmchallenge.utils.pandas_utils:\u001b[1;33munique customer_id: 9989\u001b[0m\n",
      "WARNING:hnmchallenge.utils.sparse_matrix:\u001b[1;31musers_num is None, remap user ids to consecutive\u001b[0m\n",
      "INFO:hnmchallenge.utils.sparse_matrix:\u001b[1;31mApplying time weight on user-item interactions\u001b[0m\n",
      "INFO:hnmchallenge.utils.sparse_matrix:\u001b[1;36mSort_top_k:True\u001b[0m\n"
     ]
    },
    {
     "name": "stdout",
     "output_type": "stream",
     "text": [
      "func:interactions_to_sparse_matrix\n",
      " took: 2.3422272205352783 sec\n"
     ]
    },
    {
     "name": "stderr",
     "output_type": "stream",
     "text": [
      "INFO:hnmchallenge.recommender_interface:\u001b[1;36mSPARSE Item Similarity MUL...\u001b[0m\n"
     ]
    },
    {
     "name": "stdout",
     "output_type": "stream",
     "text": [
      "Predicting using time_weight importance...\n"
     ]
    },
    {
     "name": "stderr",
     "output_type": "stream",
     "text": [
      "INFO:hnmchallenge.utils.pandas_utils:\u001b[1;33munique customer_id: 9989\u001b[0m\n",
      "WARNING:hnmchallenge.utils.sparse_matrix:\u001b[1;31musers_num is None, remap user ids to consecutive\u001b[0m\n",
      "INFO:hnmchallenge.utils.sparse_matrix:\u001b[1;31mApplying time weight on user-item interactions\u001b[0m\n",
      "INFO:hnmchallenge.utils.sparse_matrix:\u001b[1;36mSort_top_k:True\u001b[0m\n"
     ]
    },
    {
     "name": "stdout",
     "output_type": "stream",
     "text": [
      "func:interactions_to_sparse_matrix\n",
      " took: 2.3660736083984375 sec\n"
     ]
    },
    {
     "name": "stderr",
     "output_type": "stream",
     "text": [
      "INFO:hnmchallenge.recommender_interface:\u001b[1;36mSPARSE Item Similarity MUL...\u001b[0m\n"
     ]
    },
    {
     "name": "stdout",
     "output_type": "stream",
     "text": [
      "Predicting using time_weight importance...\n"
     ]
    },
    {
     "name": "stderr",
     "output_type": "stream",
     "text": [
      "INFO:hnmchallenge.utils.pandas_utils:\u001b[1;33munique customer_id: 9989\u001b[0m\n",
      "WARNING:hnmchallenge.utils.sparse_matrix:\u001b[1;31musers_num is None, remap user ids to consecutive\u001b[0m\n",
      "INFO:hnmchallenge.utils.sparse_matrix:\u001b[1;31mApplying time weight on user-item interactions\u001b[0m\n",
      "INFO:hnmchallenge.utils.sparse_matrix:\u001b[1;36mSort_top_k:True\u001b[0m\n"
     ]
    },
    {
     "name": "stdout",
     "output_type": "stream",
     "text": [
      "func:interactions_to_sparse_matrix\n",
      " took: 2.416123151779175 sec"
     ]
    },
    {
     "name": "stderr",
     "output_type": "stream",
     "text": [
      "INFO:hnmchallenge.recommender_interface:\u001b[1;36mSPARSE Item Similarity MUL...\u001b[0m\n"
     ]
    },
    {
     "name": "stdout",
     "output_type": "stream",
     "text": [
      "\n",
      "Predicting using time_weight importance...\n"
     ]
    },
    {
     "name": "stderr",
     "output_type": "stream",
     "text": [
      "INFO:hnmchallenge.utils.pandas_utils:\u001b[1;33munique customer_id: 9989\u001b[0m\n",
      "WARNING:hnmchallenge.utils.sparse_matrix:\u001b[1;31musers_num is None, remap user ids to consecutive\u001b[0m\n",
      "INFO:hnmchallenge.utils.sparse_matrix:\u001b[1;31mApplying time weight on user-item interactions\u001b[0m\n",
      "INFO:hnmchallenge.utils.sparse_matrix:\u001b[1;36mSort_top_k:True\u001b[0m\n"
     ]
    },
    {
     "name": "stdout",
     "output_type": "stream",
     "text": [
      "func:interactions_to_sparse_matrix\n",
      " took: 2.4922964572906494 sec\n"
     ]
    },
    {
     "name": "stderr",
     "output_type": "stream",
     "text": [
      "INFO:hnmchallenge.recommender_interface:\u001b[1;36mSPARSE Item Similarity MUL...\u001b[0m\n",
      "INFO:hnmchallenge.utils.sparse_matrix:\u001b[1;36mSort_top_k:True\u001b[0m\n"
     ]
    },
    {
     "name": "stdout",
     "output_type": "stream",
     "text": [
      "Predicting using time_weight importance...\n"
     ]
    },
    {
     "name": "stderr",
     "output_type": "stream",
     "text": [
      "INFO:hnmchallenge.utils.pandas_utils:\u001b[1;33munique customer_id: 9989\u001b[0m\n",
      "WARNING:hnmchallenge.utils.sparse_matrix:\u001b[1;31musers_num is None, remap user ids to consecutive\u001b[0m\n",
      "INFO:hnmchallenge.utils.sparse_matrix:\u001b[1;31mApplying time weight on user-item interactions\u001b[0m\n"
     ]
    },
    {
     "name": "stdout",
     "output_type": "stream",
     "text": [
      "func:interactions_to_sparse_matrix\n",
      " took: 2.4576337337493896 sec\n"
     ]
    },
    {
     "name": "stderr",
     "output_type": "stream",
     "text": [
      "INFO:hnmchallenge.recommender_interface:\u001b[1;36mSPARSE Item Similarity MUL...\u001b[0m\n"
     ]
    },
    {
     "name": "stdout",
     "output_type": "stream",
     "text": [
      "Predicting using time_weight importance...\n"
     ]
    },
    {
     "name": "stderr",
     "output_type": "stream",
     "text": [
      "INFO:hnmchallenge.utils.pandas_utils:\u001b[1;33munique customer_id: 9989\u001b[0m\n",
      "WARNING:hnmchallenge.utils.sparse_matrix:\u001b[1;31musers_num is None, remap user ids to consecutive\u001b[0m\n",
      "INFO:hnmchallenge.utils.sparse_matrix:\u001b[1;36mSort_top_k:True\u001b[0m\n",
      "INFO:hnmchallenge.utils.sparse_matrix:\u001b[1;31mApplying time weight on user-item interactions\u001b[0m\n"
     ]
    },
    {
     "name": "stdout",
     "output_type": "stream",
     "text": [
      "func:interactions_to_sparse_matrix\n",
      " took: 2.2275099754333496 sec\n"
     ]
    },
    {
     "name": "stderr",
     "output_type": "stream",
     "text": [
      "INFO:hnmchallenge.recommender_interface:\u001b[1;36mSPARSE Item Similarity MUL...\u001b[0m\n"
     ]
    },
    {
     "name": "stdout",
     "output_type": "stream",
     "text": [
      "\n"
     ]
    },
    {
     "name": "stderr",
     "output_type": "stream",
     "text": [
      "INFO:hnmchallenge.utils.pandas_utils:\u001b[1;33munique customer_id: 9989\u001b[0m\n"
     ]
    },
    {
     "name": "stdout",
     "output_type": "stream",
     "text": [
      "Predicting using time_weight importance..."
     ]
    },
    {
     "name": "stderr",
     "output_type": "stream",
     "text": [
      "INFO:hnmchallenge.utils.sparse_matrix:\u001b[1;36mSort_top_k:True\u001b[0m\n",
      "WARNING:hnmchallenge.utils.sparse_matrix:\u001b[1;31musers_num is None, remap user ids to consecutive\u001b[0m\n",
      "INFO:hnmchallenge.utils.sparse_matrix:\u001b[1;31mApplying time weight on user-item interactions\u001b[0m\n"
     ]
    },
    {
     "name": "stdout",
     "output_type": "stream",
     "text": [
      "func:interactions_to_sparse_matrix\n",
      " took: 2.4233434200286865 sec\n"
     ]
    },
    {
     "name": "stderr",
     "output_type": "stream",
     "text": [
      "INFO:hnmchallenge.recommender_interface:\u001b[1;36mSPARSE Item Similarity MUL...\u001b[0m\n",
      "INFO:hnmchallenge.utils.sparse_matrix:\u001b[1;36mSort_top_k:True\u001b[0m\n"
     ]
    },
    {
     "name": "stdout",
     "output_type": "stream",
     "text": [
      "Predicting using time_weight importance...\n"
     ]
    },
    {
     "name": "stderr",
     "output_type": "stream",
     "text": [
      "INFO:hnmchallenge.utils.pandas_utils:\u001b[1;33munique customer_id: 9989\u001b[0m\n",
      "WARNING:hnmchallenge.utils.sparse_matrix:\u001b[1;31musers_num is None, remap user ids to consecutive\u001b[0m\n",
      "INFO:hnmchallenge.utils.sparse_matrix:\u001b[1;31mApplying time weight on user-item interactions\u001b[0m\n"
     ]
    },
    {
     "name": "stdout",
     "output_type": "stream",
     "text": [
      "func:interactions_to_sparse_matrix\n",
      " took: 2.3971447944641113 sec\n"
     ]
    },
    {
     "name": "stderr",
     "output_type": "stream",
     "text": [
      "INFO:hnmchallenge.recommender_interface:\u001b[1;36mSPARSE Item Similarity MUL...\u001b[0m\n",
      "INFO:hnmchallenge.utils.sparse_matrix:\u001b[1;36mSort_top_k:True\u001b[0m\n"
     ]
    },
    {
     "name": "stdout",
     "output_type": "stream",
     "text": [
      "Predicting using time_weight importance...\n"
     ]
    },
    {
     "name": "stderr",
     "output_type": "stream",
     "text": [
      "INFO:hnmchallenge.utils.pandas_utils:\u001b[1;33munique customer_id: 9989\u001b[0m\n",
      "WARNING:hnmchallenge.utils.sparse_matrix:\u001b[1;31musers_num is None, remap user ids to consecutive\u001b[0m\n",
      "INFO:hnmchallenge.utils.sparse_matrix:\u001b[1;31mApplying time weight on user-item interactions\u001b[0m\n"
     ]
    },
    {
     "name": "stdout",
     "output_type": "stream",
     "text": [
      "func:interactions_to_sparse_matrix\n",
      " took: 2.344818115234375 sec\n"
     ]
    },
    {
     "name": "stderr",
     "output_type": "stream",
     "text": [
      "INFO:hnmchallenge.recommender_interface:\u001b[1;36mSPARSE Item Similarity MUL...\u001b[0m\n"
     ]
    },
    {
     "name": "stdout",
     "output_type": "stream",
     "text": [
      "Predicting using time_weight importance...\n"
     ]
    },
    {
     "name": "stderr",
     "output_type": "stream",
     "text": [
      "INFO:hnmchallenge.utils.pandas_utils:\u001b[1;33munique customer_id: 9989\u001b[0m\n",
      "WARNING:hnmchallenge.utils.sparse_matrix:\u001b[1;31musers_num is None, remap user ids to consecutive\u001b[0m\n",
      "INFO:hnmchallenge.utils.sparse_matrix:\u001b[1;31mApplying time weight on user-item interactions\u001b[0m\n",
      "INFO:hnmchallenge.utils.sparse_matrix:\u001b[1;36mSort_top_k:True\u001b[0m\n"
     ]
    },
    {
     "name": "stdout",
     "output_type": "stream",
     "text": [
      "func:interactions_to_sparse_matrix\n",
      " took: 2.0791308879852295 sec\n"
     ]
    },
    {
     "name": "stderr",
     "output_type": "stream",
     "text": [
      "INFO:hnmchallenge.recommender_interface:\u001b[1;36mSPARSE Item Similarity MUL...\u001b[0m\n",
      "INFO:hnmchallenge.utils.sparse_matrix:\u001b[1;36mSort_top_k:True\u001b[0m\n"
     ]
    },
    {
     "name": "stdout",
     "output_type": "stream",
     "text": [
      "Predicting using time_weight importance...\n"
     ]
    },
    {
     "name": "stderr",
     "output_type": "stream",
     "text": [
      "INFO:hnmchallenge.utils.pandas_utils:\u001b[1;33munique customer_id: 9989\u001b[0m\n",
      "WARNING:hnmchallenge.utils.sparse_matrix:\u001b[1;31musers_num is None, remap user ids to consecutive\u001b[0m\n",
      "INFO:hnmchallenge.utils.sparse_matrix:\u001b[1;31mApplying time weight on user-item interactions\u001b[0m\n"
     ]
    },
    {
     "name": "stdout",
     "output_type": "stream",
     "text": [
      "func:interactions_to_sparse_matrix\n",
      " took: 1.980480670928955 sec\n"
     ]
    },
    {
     "name": "stderr",
     "output_type": "stream",
     "text": [
      "INFO:hnmchallenge.recommender_interface:\u001b[1;36mSPARSE Item Similarity MUL...\u001b[0m\n",
      "INFO:hnmchallenge.utils.sparse_matrix:\u001b[1;36mSort_top_k:True\u001b[0m\n"
     ]
    },
    {
     "name": "stdout",
     "output_type": "stream",
     "text": [
      "Predicting using time_weight importance...\n"
     ]
    },
    {
     "name": "stderr",
     "output_type": "stream",
     "text": [
      "INFO:hnmchallenge.utils.pandas_utils:\u001b[1;33munique customer_id: 9989\u001b[0m\n",
      "WARNING:hnmchallenge.utils.sparse_matrix:\u001b[1;31musers_num is None, remap user ids to consecutive\u001b[0m\n",
      "INFO:hnmchallenge.utils.sparse_matrix:\u001b[1;31mApplying time weight on user-item interactions\u001b[0m\n"
     ]
    },
    {
     "name": "stdout",
     "output_type": "stream",
     "text": [
      "func:interactions_to_sparse_matrix\n",
      " took: 2.090632915496826 sec\n"
     ]
    },
    {
     "name": "stderr",
     "output_type": "stream",
     "text": [
      "INFO:hnmchallenge.recommender_interface:\u001b[1;36mSPARSE Item Similarity MUL...\u001b[0m\n",
      "INFO:hnmchallenge.utils.sparse_matrix:\u001b[1;36mSort_top_k:True\u001b[0m\n"
     ]
    },
    {
     "name": "stdout",
     "output_type": "stream",
     "text": [
      "Predicting using time_weight importance...\n"
     ]
    },
    {
     "name": "stderr",
     "output_type": "stream",
     "text": [
      "INFO:hnmchallenge.utils.pandas_utils:\u001b[1;33munique customer_id: 9989\u001b[0m\n",
      "WARNING:hnmchallenge.utils.sparse_matrix:\u001b[1;31musers_num is None, remap user ids to consecutive\u001b[0m\n",
      "INFO:hnmchallenge.utils.sparse_matrix:\u001b[1;31mApplying time weight on user-item interactions\u001b[0m\n"
     ]
    },
    {
     "name": "stdout",
     "output_type": "stream",
     "text": [
      "func:interactions_to_sparse_matrix\n",
      " took: 1.9739420413970947 sec\n"
     ]
    },
    {
     "name": "stderr",
     "output_type": "stream",
     "text": [
      "INFO:hnmchallenge.recommender_interface:\u001b[1;36mSPARSE Item Similarity MUL...\u001b[0m\n",
      "INFO:hnmchallenge.utils.sparse_matrix:\u001b[1;36mSort_top_k:True\u001b[0m\n"
     ]
    },
    {
     "name": "stdout",
     "output_type": "stream",
     "text": [
      "Predicting using time_weight importance...\n"
     ]
    },
    {
     "name": "stderr",
     "output_type": "stream",
     "text": [
      "INFO:hnmchallenge.utils.pandas_utils:\u001b[1;33munique customer_id: 9989\u001b[0m\n",
      "WARNING:hnmchallenge.utils.sparse_matrix:\u001b[1;31musers_num is None, remap user ids to consecutive\u001b[0m\n",
      "INFO:hnmchallenge.utils.sparse_matrix:\u001b[1;31mApplying time weight on user-item interactions\u001b[0m\n"
     ]
    },
    {
     "name": "stdout",
     "output_type": "stream",
     "text": [
      "func:interactions_to_sparse_matrix\n",
      " took: 2.6261565685272217 sec"
     ]
    },
    {
     "name": "stderr",
     "output_type": "stream",
     "text": [
      "INFO:hnmchallenge.recommender_interface:\u001b[1;36mSPARSE Item Similarity MUL...\u001b[0m\n"
     ]
    },
    {
     "name": "stdout",
     "output_type": "stream",
     "text": [
      "\n"
     ]
    },
    {
     "name": "stderr",
     "output_type": "stream",
     "text": [
      "INFO:hnmchallenge.utils.sparse_matrix:\u001b[1;36mSort_top_k:True\u001b[0m\n"
     ]
    },
    {
     "name": "stdout",
     "output_type": "stream",
     "text": [
      "Predicting using time_weight importance...\n"
     ]
    },
    {
     "name": "stderr",
     "output_type": "stream",
     "text": [
      "INFO:hnmchallenge.utils.pandas_utils:\u001b[1;33munique customer_id: 9989\u001b[0m\n",
      "WARNING:hnmchallenge.utils.sparse_matrix:\u001b[1;31musers_num is None, remap user ids to consecutive\u001b[0m\n",
      "INFO:hnmchallenge.utils.sparse_matrix:\u001b[1;31mApplying time weight on user-item interactions\u001b[0m\n"
     ]
    },
    {
     "name": "stdout",
     "output_type": "stream",
     "text": [
      "func:interactions_to_sparse_matrix\n",
      " took: 1.716026782989502 sec\n"
     ]
    },
    {
     "name": "stderr",
     "output_type": "stream",
     "text": [
      "INFO:hnmchallenge.recommender_interface:\u001b[1;36mSPARSE Item Similarity MUL...\u001b[0m\n",
      "INFO:hnmchallenge.utils.sparse_matrix:\u001b[1;36mSort_top_k:True\u001b[0m\n"
     ]
    },
    {
     "name": "stdout",
     "output_type": "stream",
     "text": [
      "Predicting using time_weight importance...\n"
     ]
    },
    {
     "name": "stderr",
     "output_type": "stream",
     "text": [
      "INFO:hnmchallenge.utils.pandas_utils:\u001b[1;33munique customer_id: 9989\u001b[0m\n",
      "WARNING:hnmchallenge.utils.sparse_matrix:\u001b[1;31musers_num is None, remap user ids to consecutive\u001b[0m\n",
      "INFO:hnmchallenge.utils.sparse_matrix:\u001b[1;31mApplying time weight on user-item interactions\u001b[0m\n"
     ]
    },
    {
     "name": "stdout",
     "output_type": "stream",
     "text": [
      "func:interactions_to_sparse_matrix\n",
      " took: 1.7410356998443604 sec\n"
     ]
    },
    {
     "name": "stderr",
     "output_type": "stream",
     "text": [
      "INFO:hnmchallenge.recommender_interface:\u001b[1;36mSPARSE Item Similarity MUL...\u001b[0m\n",
      "INFO:hnmchallenge.utils.sparse_matrix:\u001b[1;36mSort_top_k:True\u001b[0m\n"
     ]
    },
    {
     "name": "stdout",
     "output_type": "stream",
     "text": [
      "Predicting using time_weight importance...\n"
     ]
    },
    {
     "name": "stderr",
     "output_type": "stream",
     "text": [
      "INFO:hnmchallenge.utils.pandas_utils:\u001b[1;33munique customer_id: 9989\u001b[0m\n",
      "WARNING:hnmchallenge.utils.sparse_matrix:\u001b[1;31musers_num is None, remap user ids to consecutive\u001b[0m\n",
      "INFO:hnmchallenge.utils.sparse_matrix:\u001b[1;31mApplying time weight on user-item interactions\u001b[0m\n",
      "INFO:hnmchallenge.utils.sparse_matrix:\u001b[1;36mSort_top_k:True\u001b[0m\n"
     ]
    },
    {
     "name": "stdout",
     "output_type": "stream",
     "text": [
      "func:interactions_to_sparse_matrix\n",
      " took: 1.8033006191253662 sec\n"
     ]
    },
    {
     "name": "stderr",
     "output_type": "stream",
     "text": [
      "INFO:hnmchallenge.recommender_interface:\u001b[1;36mSPARSE Item Similarity MUL...\u001b[0m\n"
     ]
    },
    {
     "name": "stdout",
     "output_type": "stream",
     "text": [
      "Predicting using time_weight importance...\n"
     ]
    },
    {
     "name": "stderr",
     "output_type": "stream",
     "text": [
      "INFO:hnmchallenge.utils.pandas_utils:\u001b[1;33munique customer_id: 9989\u001b[0m\n",
      "WARNING:hnmchallenge.utils.sparse_matrix:\u001b[1;31musers_num is None, remap user ids to consecutive\u001b[0m\n",
      "INFO:hnmchallenge.utils.sparse_matrix:\u001b[1;31mApplying time weight on user-item interactions\u001b[0m\n"
     ]
    },
    {
     "name": "stdout",
     "output_type": "stream",
     "text": [
      "func:interactions_to_sparse_matrix\n",
      " took: 1.8603770732879639 sec\n"
     ]
    },
    {
     "name": "stderr",
     "output_type": "stream",
     "text": [
      "INFO:hnmchallenge.recommender_interface:\u001b[1;36mSPARSE Item Similarity MUL...\u001b[0m\n",
      "INFO:hnmchallenge.utils.sparse_matrix:\u001b[1;36mSort_top_k:True\u001b[0m\n"
     ]
    },
    {
     "name": "stdout",
     "output_type": "stream",
     "text": [
      "Predicting using time_weight importance...\n"
     ]
    },
    {
     "name": "stderr",
     "output_type": "stream",
     "text": [
      "INFO:hnmchallenge.utils.pandas_utils:\u001b[1;33munique customer_id: 9989\u001b[0m\n",
      "WARNING:hnmchallenge.utils.sparse_matrix:\u001b[1;31musers_num is None, remap user ids to consecutive\u001b[0m\n",
      "INFO:hnmchallenge.utils.sparse_matrix:\u001b[1;31mApplying time weight on user-item interactions\u001b[0m\n",
      "INFO:hnmchallenge.utils.sparse_matrix:\u001b[1;36mSort_top_k:True\u001b[0m\n",
      "INFO:hnmchallenge.recommender_interface:\u001b[1;36mSPARSE Item Similarity MUL...\u001b[0m\n"
     ]
    },
    {
     "name": "stdout",
     "output_type": "stream",
     "text": [
      "func:interactions_to_sparse_matrix\n",
      " took: 2.4682276248931885 sec\n",
      "Predicting using time_weight importance...\n"
     ]
    },
    {
     "name": "stderr",
     "output_type": "stream",
     "text": [
      "INFO:hnmchallenge.utils.pandas_utils:\u001b[1;33munique customer_id: 9989\u001b[0m\n",
      "WARNING:hnmchallenge.utils.sparse_matrix:\u001b[1;31musers_num is None, remap user ids to consecutive\u001b[0m\n",
      "INFO:hnmchallenge.utils.sparse_matrix:\u001b[1;31mApplying time weight on user-item interactions\u001b[0m\n"
     ]
    },
    {
     "name": "stdout",
     "output_type": "stream",
     "text": [
      "func:interactions_to_sparse_matrix\n",
      " took: 2.00848650932312 sec\n"
     ]
    },
    {
     "name": "stderr",
     "output_type": "stream",
     "text": [
      "INFO:hnmchallenge.recommender_interface:\u001b[1;36mSPARSE Item Similarity MUL...\u001b[0m\n",
      "INFO:hnmchallenge.utils.sparse_matrix:\u001b[1;36mSort_top_k:True\u001b[0m\n"
     ]
    },
    {
     "name": "stdout",
     "output_type": "stream",
     "text": [
      "Predicting using time_weight importance...\n"
     ]
    },
    {
     "name": "stderr",
     "output_type": "stream",
     "text": [
      "INFO:hnmchallenge.utils.pandas_utils:\u001b[1;33munique customer_id: 9989\u001b[0m\n",
      "WARNING:hnmchallenge.utils.sparse_matrix:\u001b[1;31musers_num is None, remap user ids to consecutive\u001b[0m\n",
      "INFO:hnmchallenge.utils.sparse_matrix:\u001b[1;31mApplying time weight on user-item interactions\u001b[0m\n"
     ]
    },
    {
     "name": "stdout",
     "output_type": "stream",
     "text": [
      "func:interactions_to_sparse_matrix\n",
      " took: 1.852159023284912 sec\n"
     ]
    },
    {
     "name": "stderr",
     "output_type": "stream",
     "text": [
      "INFO:hnmchallenge.recommender_interface:\u001b[1;36mSPARSE Item Similarity MUL...\u001b[0m\n",
      "INFO:hnmchallenge.utils.sparse_matrix:\u001b[1;36mSort_top_k:True\u001b[0m\n"
     ]
    },
    {
     "name": "stdout",
     "output_type": "stream",
     "text": [
      "Predicting using time_weight importance...\n"
     ]
    },
    {
     "name": "stderr",
     "output_type": "stream",
     "text": [
      "INFO:hnmchallenge.utils.pandas_utils:\u001b[1;33munique customer_id: 9989\u001b[0m\n",
      "WARNING:hnmchallenge.utils.sparse_matrix:\u001b[1;31musers_num is None, remap user ids to consecutive\u001b[0m\n",
      "INFO:hnmchallenge.utils.sparse_matrix:\u001b[1;31mApplying time weight on user-item interactions\u001b[0m\n"
     ]
    },
    {
     "name": "stdout",
     "output_type": "stream",
     "text": [
      "func:interactions_to_sparse_matrix\n",
      " took: 1.8279752731323242 sec\n"
     ]
    },
    {
     "name": "stderr",
     "output_type": "stream",
     "text": [
      "INFO:hnmchallenge.recommender_interface:\u001b[1;36mSPARSE Item Similarity MUL...\u001b[0m\n",
      "INFO:hnmchallenge.utils.sparse_matrix:\u001b[1;36mSort_top_k:True\u001b[0m\n"
     ]
    },
    {
     "name": "stdout",
     "output_type": "stream",
     "text": [
      "Predicting using time_weight importance...\n"
     ]
    },
    {
     "name": "stderr",
     "output_type": "stream",
     "text": [
      "INFO:hnmchallenge.utils.pandas_utils:\u001b[1;33munique customer_id: 9989\u001b[0m\n",
      "WARNING:hnmchallenge.utils.sparse_matrix:\u001b[1;31musers_num is None, remap user ids to consecutive\u001b[0m\n",
      "INFO:hnmchallenge.utils.sparse_matrix:\u001b[1;31mApplying time weight on user-item interactions\u001b[0m\n"
     ]
    },
    {
     "name": "stdout",
     "output_type": "stream",
     "text": [
      "func:interactions_to_sparse_matrix\n",
      " took: 1.7845914363861084 sec\n"
     ]
    },
    {
     "name": "stderr",
     "output_type": "stream",
     "text": [
      "INFO:hnmchallenge.recommender_interface:\u001b[1;36mSPARSE Item Similarity MUL...\u001b[0m\n",
      "INFO:hnmchallenge.utils.sparse_matrix:\u001b[1;36mSort_top_k:True\u001b[0m\n"
     ]
    },
    {
     "name": "stdout",
     "output_type": "stream",
     "text": [
      "Predicting using time_weight importance...\n"
     ]
    },
    {
     "name": "stderr",
     "output_type": "stream",
     "text": [
      "INFO:hnmchallenge.utils.pandas_utils:\u001b[1;33munique customer_id: 9989\u001b[0m\n",
      "WARNING:hnmchallenge.utils.sparse_matrix:\u001b[1;31musers_num is None, remap user ids to consecutive\u001b[0m\n",
      "INFO:hnmchallenge.utils.sparse_matrix:\u001b[1;31mApplying time weight on user-item interactions\u001b[0m\n"
     ]
    },
    {
     "name": "stdout",
     "output_type": "stream",
     "text": [
      "func:interactions_to_sparse_matrix\n",
      " took: 1.6554641723632812 sec\n"
     ]
    },
    {
     "name": "stderr",
     "output_type": "stream",
     "text": [
      "INFO:hnmchallenge.recommender_interface:\u001b[1;36mSPARSE Item Similarity MUL...\u001b[0m\n",
      "INFO:hnmchallenge.utils.sparse_matrix:\u001b[1;36mSort_top_k:True\u001b[0m\n"
     ]
    },
    {
     "name": "stdout",
     "output_type": "stream",
     "text": [
      "Predicting using time_weight importance...\n"
     ]
    },
    {
     "name": "stderr",
     "output_type": "stream",
     "text": [
      "INFO:hnmchallenge.utils.pandas_utils:\u001b[1;33munique customer_id: 9989\u001b[0m\n",
      "WARNING:hnmchallenge.utils.sparse_matrix:\u001b[1;31musers_num is None, remap user ids to consecutive\u001b[0m\n",
      "INFO:hnmchallenge.utils.sparse_matrix:\u001b[1;31mApplying time weight on user-item interactions\u001b[0m\n"
     ]
    },
    {
     "name": "stdout",
     "output_type": "stream",
     "text": [
      "func:interactions_to_sparse_matrix\n",
      " took: 1.6429336071014404 sec\n"
     ]
    },
    {
     "name": "stderr",
     "output_type": "stream",
     "text": [
      "INFO:hnmchallenge.recommender_interface:\u001b[1;36mSPARSE Item Similarity MUL...\u001b[0m\n",
      "INFO:hnmchallenge.utils.sparse_matrix:\u001b[1;36mSort_top_k:True\u001b[0m\n"
     ]
    },
    {
     "name": "stdout",
     "output_type": "stream",
     "text": [
      "Predicting using time_weight importance...\n"
     ]
    },
    {
     "name": "stderr",
     "output_type": "stream",
     "text": [
      "INFO:hnmchallenge.utils.pandas_utils:\u001b[1;33munique customer_id: 9989\u001b[0m\n",
      "WARNING:hnmchallenge.utils.sparse_matrix:\u001b[1;31musers_num is None, remap user ids to consecutive\u001b[0m\n",
      "INFO:hnmchallenge.utils.sparse_matrix:\u001b[1;31mApplying time weight on user-item interactions\u001b[0m\n",
      "INFO:hnmchallenge.utils.sparse_matrix:\u001b[1;36mSort_top_k:True\u001b[0m\n"
     ]
    },
    {
     "name": "stdout",
     "output_type": "stream",
     "text": [
      "func:interactions_to_sparse_matrix\n",
      " took: 1.5804998874664307 sec\n"
     ]
    },
    {
     "name": "stderr",
     "output_type": "stream",
     "text": [
      "INFO:hnmchallenge.recommender_interface:\u001b[1;36mSPARSE Item Similarity MUL...\u001b[0m\n"
     ]
    },
    {
     "name": "stdout",
     "output_type": "stream",
     "text": [
      "Predicting using time_weight importance...\n"
     ]
    },
    {
     "name": "stderr",
     "output_type": "stream",
     "text": [
      "INFO:hnmchallenge.utils.pandas_utils:\u001b[1;33munique customer_id: 9989\u001b[0m\n",
      "WARNING:hnmchallenge.utils.sparse_matrix:\u001b[1;31musers_num is None, remap user ids to consecutive\u001b[0m\n",
      "INFO:hnmchallenge.utils.sparse_matrix:\u001b[1;31mApplying time weight on user-item interactions\u001b[0m\n",
      "INFO:hnmchallenge.utils.sparse_matrix:\u001b[1;36mSort_top_k:True\u001b[0m\n",
      "INFO:hnmchallenge.recommender_interface:\u001b[1;36mSPARSE Item Similarity MUL...\u001b[0m\n"
     ]
    },
    {
     "name": "stdout",
     "output_type": "stream",
     "text": [
      "func:interactions_to_sparse_matrix\n",
      " took: 2.2050821781158447 sec\n",
      "Predicting using time_weight importance...\n"
     ]
    },
    {
     "name": "stderr",
     "output_type": "stream",
     "text": [
      "INFO:hnmchallenge.utils.pandas_utils:\u001b[1;33munique customer_id: 9989\u001b[0m\n",
      "WARNING:hnmchallenge.utils.sparse_matrix:\u001b[1;31musers_num is None, remap user ids to consecutive\u001b[0m\n",
      "INFO:hnmchallenge.utils.sparse_matrix:\u001b[1;31mApplying time weight on user-item interactions\u001b[0m\n"
     ]
    },
    {
     "name": "stdout",
     "output_type": "stream",
     "text": [
      "func:interactions_to_sparse_matrix\n",
      " took: 1.5075483322143555 sec\n"
     ]
    },
    {
     "name": "stderr",
     "output_type": "stream",
     "text": [
      "INFO:hnmchallenge.recommender_interface:\u001b[1;36mSPARSE Item Similarity MUL...\u001b[0m\n",
      "INFO:hnmchallenge.utils.sparse_matrix:\u001b[1;36mSort_top_k:True\u001b[0m\n"
     ]
    },
    {
     "name": "stdout",
     "output_type": "stream",
     "text": [
      "Predicting using time_weight importance...\n"
     ]
    },
    {
     "name": "stderr",
     "output_type": "stream",
     "text": [
      "INFO:hnmchallenge.utils.pandas_utils:\u001b[1;33munique customer_id: 9989\u001b[0m\n",
      "WARNING:hnmchallenge.utils.sparse_matrix:\u001b[1;31musers_num is None, remap user ids to consecutive\u001b[0m\n",
      "INFO:hnmchallenge.utils.sparse_matrix:\u001b[1;31mApplying time weight on user-item interactions\u001b[0m\n"
     ]
    },
    {
     "name": "stdout",
     "output_type": "stream",
     "text": [
      "func:interactions_to_sparse_matrix\n",
      " took: 1.5220820903778076 sec\n"
     ]
    },
    {
     "name": "stderr",
     "output_type": "stream",
     "text": [
      "INFO:hnmchallenge.recommender_interface:\u001b[1;36mSPARSE Item Similarity MUL...\u001b[0m\n",
      "INFO:hnmchallenge.utils.sparse_matrix:\u001b[1;36mSort_top_k:True\u001b[0m\n"
     ]
    },
    {
     "name": "stdout",
     "output_type": "stream",
     "text": [
      "Predicting using time_weight importance...\n"
     ]
    },
    {
     "name": "stderr",
     "output_type": "stream",
     "text": [
      "INFO:hnmchallenge.utils.pandas_utils:\u001b[1;33munique customer_id: 9989\u001b[0m\n",
      "WARNING:hnmchallenge.utils.sparse_matrix:\u001b[1;31musers_num is None, remap user ids to consecutive\u001b[0m\n",
      "INFO:hnmchallenge.utils.sparse_matrix:\u001b[1;31mApplying time weight on user-item interactions\u001b[0m\n",
      "INFO:hnmchallenge.utils.sparse_matrix:\u001b[1;36mSort_top_k:True\u001b[0m\n"
     ]
    },
    {
     "name": "stdout",
     "output_type": "stream",
     "text": [
      "func:interactions_to_sparse_matrix\n",
      " took: 1.456449270248413 sec\n"
     ]
    },
    {
     "name": "stderr",
     "output_type": "stream",
     "text": [
      "INFO:hnmchallenge.recommender_interface:\u001b[1;36mSPARSE Item Similarity MUL...\u001b[0m\n"
     ]
    },
    {
     "name": "stdout",
     "output_type": "stream",
     "text": [
      "Predicting using time_weight importance...\n"
     ]
    },
    {
     "name": "stderr",
     "output_type": "stream",
     "text": [
      "INFO:hnmchallenge.utils.pandas_utils:\u001b[1;33munique customer_id: 9989\u001b[0m\n",
      "WARNING:hnmchallenge.utils.sparse_matrix:\u001b[1;31musers_num is None, remap user ids to consecutive\u001b[0m\n",
      "INFO:hnmchallenge.utils.sparse_matrix:\u001b[1;31mApplying time weight on user-item interactions\u001b[0m\n",
      "INFO:hnmchallenge.utils.sparse_matrix:\u001b[1;36mSort_top_k:True\u001b[0m\n"
     ]
    },
    {
     "name": "stdout",
     "output_type": "stream",
     "text": [
      "func:interactions_to_sparse_matrix\n",
      " took: 1.5081138610839844 sec\n"
     ]
    },
    {
     "name": "stderr",
     "output_type": "stream",
     "text": [
      "INFO:hnmchallenge.recommender_interface:\u001b[1;36mSPARSE Item Similarity MUL...\u001b[0m\n"
     ]
    },
    {
     "name": "stdout",
     "output_type": "stream",
     "text": [
      "Predicting using time_weight importance...\n"
     ]
    },
    {
     "name": "stderr",
     "output_type": "stream",
     "text": [
      "INFO:hnmchallenge.utils.pandas_utils:\u001b[1;33munique customer_id: 9989\u001b[0m\n",
      "WARNING:hnmchallenge.utils.sparse_matrix:\u001b[1;31musers_num is None, remap user ids to consecutive\u001b[0m\n",
      "INFO:hnmchallenge.utils.sparse_matrix:\u001b[1;31mApplying time weight on user-item interactions\u001b[0m\n",
      "INFO:hnmchallenge.utils.sparse_matrix:\u001b[1;36mSort_top_k:True\u001b[0m\n"
     ]
    },
    {
     "name": "stdout",
     "output_type": "stream",
     "text": [
      "func:interactions_to_sparse_matrix\n",
      " took: 1.4831969738006592 sec\n"
     ]
    },
    {
     "name": "stderr",
     "output_type": "stream",
     "text": [
      "INFO:hnmchallenge.recommender_interface:\u001b[1;36mSPARSE Item Similarity MUL...\u001b[0m\n"
     ]
    },
    {
     "name": "stdout",
     "output_type": "stream",
     "text": [
      "Predicting using time_weight importance..."
     ]
    },
    {
     "name": "stderr",
     "output_type": "stream",
     "text": [
      "INFO:hnmchallenge.utils.pandas_utils:\u001b[1;33munique customer_id: 9989\u001b[0m\n"
     ]
    },
    {
     "name": "stdout",
     "output_type": "stream",
     "text": [
      "\n"
     ]
    },
    {
     "name": "stderr",
     "output_type": "stream",
     "text": [
      "WARNING:hnmchallenge.utils.sparse_matrix:\u001b[1;31musers_num is None, remap user ids to consecutive\u001b[0m\n",
      "INFO:hnmchallenge.utils.sparse_matrix:\u001b[1;31mApplying time weight on user-item interactions\u001b[0m\n"
     ]
    },
    {
     "name": "stdout",
     "output_type": "stream",
     "text": [
      "func:interactions_to_sparse_matrix\n",
      " took: 1.4735825061798096 sec\n"
     ]
    },
    {
     "name": "stderr",
     "output_type": "stream",
     "text": [
      "INFO:hnmchallenge.recommender_interface:\u001b[1;36mSPARSE Item Similarity MUL...\u001b[0m\n",
      "INFO:hnmchallenge.utils.sparse_matrix:\u001b[1;36mSort_top_k:True\u001b[0m\n"
     ]
    },
    {
     "name": "stdout",
     "output_type": "stream",
     "text": [
      "Predicting using time_weight importance...\n"
     ]
    },
    {
     "name": "stderr",
     "output_type": "stream",
     "text": [
      "INFO:hnmchallenge.utils.pandas_utils:\u001b[1;33munique customer_id: 9989\u001b[0m\n",
      "WARNING:hnmchallenge.utils.sparse_matrix:\u001b[1;31musers_num is None, remap user ids to consecutive\u001b[0m\n",
      "INFO:hnmchallenge.utils.sparse_matrix:\u001b[1;31mApplying time weight on user-item interactions\u001b[0m\n",
      "INFO:hnmchallenge.utils.sparse_matrix:\u001b[1;36mSort_top_k:True\u001b[0m\n"
     ]
    },
    {
     "name": "stdout",
     "output_type": "stream",
     "text": [
      "func:interactions_to_sparse_matrix\n",
      " took: 1.6754395961761475 sec\n"
     ]
    },
    {
     "name": "stderr",
     "output_type": "stream",
     "text": [
      "INFO:hnmchallenge.recommender_interface:\u001b[1;36mSPARSE Item Similarity MUL...\u001b[0m\n"
     ]
    },
    {
     "name": "stdout",
     "output_type": "stream",
     "text": [
      "Predicting using time_weight importance...\n"
     ]
    },
    {
     "name": "stderr",
     "output_type": "stream",
     "text": [
      "INFO:hnmchallenge.utils.pandas_utils:\u001b[1;33munique customer_id: 9989\u001b[0m\n",
      "WARNING:hnmchallenge.utils.sparse_matrix:\u001b[1;31musers_num is None, remap user ids to consecutive\u001b[0m\n",
      "INFO:hnmchallenge.utils.sparse_matrix:\u001b[1;31mApplying time weight on user-item interactions\u001b[0m\n",
      "INFO:hnmchallenge.utils.sparse_matrix:\u001b[1;36mSort_top_k:True\u001b[0m\n"
     ]
    },
    {
     "name": "stdout",
     "output_type": "stream",
     "text": [
      "func:interactions_to_sparse_matrix\n",
      " took: 1.3266923427581787 sec\n"
     ]
    },
    {
     "name": "stderr",
     "output_type": "stream",
     "text": [
      "INFO:hnmchallenge.recommender_interface:\u001b[1;36mSPARSE Item Similarity MUL...\u001b[0m\n"
     ]
    },
    {
     "name": "stdout",
     "output_type": "stream",
     "text": [
      "Predicting using time_weight importance...\n"
     ]
    },
    {
     "name": "stderr",
     "output_type": "stream",
     "text": [
      "INFO:hnmchallenge.utils.pandas_utils:\u001b[1;33munique customer_id: 9989\u001b[0m\n",
      "WARNING:hnmchallenge.utils.sparse_matrix:\u001b[1;31musers_num is None, remap user ids to consecutive\u001b[0m\n",
      "INFO:hnmchallenge.utils.sparse_matrix:\u001b[1;31mApplying time weight on user-item interactions\u001b[0m\n",
      "INFO:hnmchallenge.utils.sparse_matrix:\u001b[1;36mSort_top_k:True\u001b[0m\n"
     ]
    },
    {
     "name": "stdout",
     "output_type": "stream",
     "text": [
      "func:interactions_to_sparse_matrix\n",
      " took: 1.3459699153900146 sec\n"
     ]
    },
    {
     "name": "stderr",
     "output_type": "stream",
     "text": [
      "INFO:hnmchallenge.recommender_interface:\u001b[1;36mSPARSE Item Similarity MUL...\u001b[0m\n"
     ]
    },
    {
     "name": "stdout",
     "output_type": "stream",
     "text": [
      "Predicting using time_weight importance...\n"
     ]
    },
    {
     "name": "stderr",
     "output_type": "stream",
     "text": [
      "INFO:hnmchallenge.utils.pandas_utils:\u001b[1;33munique customer_id: 9989\u001b[0m\n",
      "WARNING:hnmchallenge.utils.sparse_matrix:\u001b[1;31musers_num is None, remap user ids to consecutive\u001b[0m\n",
      "INFO:hnmchallenge.utils.sparse_matrix:\u001b[1;31mApplying time weight on user-item interactions\u001b[0m\n",
      "INFO:hnmchallenge.utils.sparse_matrix:\u001b[1;36mSort_top_k:True\u001b[0m\n"
     ]
    },
    {
     "name": "stdout",
     "output_type": "stream",
     "text": [
      "func:interactions_to_sparse_matrix\n",
      " took: 1.3235626220703125 sec\n"
     ]
    },
    {
     "name": "stderr",
     "output_type": "stream",
     "text": [
      "INFO:hnmchallenge.recommender_interface:\u001b[1;36mSPARSE Item Similarity MUL...\u001b[0m\n"
     ]
    },
    {
     "name": "stdout",
     "output_type": "stream",
     "text": [
      "Predicting using time_weight importance...\n"
     ]
    },
    {
     "name": "stderr",
     "output_type": "stream",
     "text": [
      "INFO:hnmchallenge.utils.pandas_utils:\u001b[1;33munique customer_id: 9989\u001b[0m\n",
      "WARNING:hnmchallenge.utils.sparse_matrix:\u001b[1;31musers_num is None, remap user ids to consecutive\u001b[0m\n",
      "INFO:hnmchallenge.utils.sparse_matrix:\u001b[1;31mApplying time weight on user-item interactions\u001b[0m\n",
      "INFO:hnmchallenge.utils.sparse_matrix:\u001b[1;36mSort_top_k:True\u001b[0m\n"
     ]
    },
    {
     "name": "stdout",
     "output_type": "stream",
     "text": [
      "func:interactions_to_sparse_matrix\n",
      " took: 1.2704341411590576 sec\n"
     ]
    },
    {
     "name": "stderr",
     "output_type": "stream",
     "text": [
      "INFO:hnmchallenge.recommender_interface:\u001b[1;36mSPARSE Item Similarity MUL...\u001b[0m\n",
      "INFO:hnmchallenge.utils.sparse_matrix:\u001b[1;36mSort_top_k:True\u001b[0m\n"
     ]
    },
    {
     "name": "stdout",
     "output_type": "stream",
     "text": [
      "\n",
      "Predicting using time_weight importance..."
     ]
    },
    {
     "name": "stderr",
     "output_type": "stream",
     "text": [
      "INFO:hnmchallenge.utils.pandas_utils:\u001b[1;33munique customer_id: 9989\u001b[0m\n",
      "WARNING:hnmchallenge.utils.sparse_matrix:\u001b[1;31musers_num is None, remap user ids to consecutive\u001b[0m\n",
      "INFO:hnmchallenge.utils.sparse_matrix:\u001b[1;31mApplying time weight on user-item interactions\u001b[0m\n"
     ]
    },
    {
     "name": "stdout",
     "output_type": "stream",
     "text": [
      "func:interactions_to_sparse_matrix\n",
      " took: 1.280078649520874 sec\n"
     ]
    },
    {
     "name": "stderr",
     "output_type": "stream",
     "text": [
      "INFO:hnmchallenge.recommender_interface:\u001b[1;36mSPARSE Item Similarity MUL...\u001b[0m\n",
      "INFO:hnmchallenge.utils.sparse_matrix:\u001b[1;36mSort_top_k:True\u001b[0m\n"
     ]
    },
    {
     "name": "stdout",
     "output_type": "stream",
     "text": [
      "Predicting using time_weight importance...\n"
     ]
    },
    {
     "name": "stderr",
     "output_type": "stream",
     "text": [
      "INFO:hnmchallenge.utils.pandas_utils:\u001b[1;33munique customer_id: 9989\u001b[0m\n",
      "WARNING:hnmchallenge.utils.sparse_matrix:\u001b[1;31musers_num is None, remap user ids to consecutive\u001b[0m\n",
      "INFO:hnmchallenge.utils.sparse_matrix:\u001b[1;31mApplying time weight on user-item interactions\u001b[0m\n"
     ]
    },
    {
     "name": "stdout",
     "output_type": "stream",
     "text": [
      "func:interactions_to_sparse_matrix\n",
      " took: 1.2276270389556885 sec\n"
     ]
    },
    {
     "name": "stderr",
     "output_type": "stream",
     "text": [
      "INFO:hnmchallenge.recommender_interface:\u001b[1;36mSPARSE Item Similarity MUL...\u001b[0m\n",
      "INFO:hnmchallenge.utils.sparse_matrix:\u001b[1;36mSort_top_k:True\u001b[0m\n"
     ]
    },
    {
     "name": "stdout",
     "output_type": "stream",
     "text": [
      "Predicting using time_weight importance...\n"
     ]
    },
    {
     "name": "stderr",
     "output_type": "stream",
     "text": [
      "INFO:hnmchallenge.utils.pandas_utils:\u001b[1;33munique customer_id: 9989\u001b[0m\n",
      "WARNING:hnmchallenge.utils.sparse_matrix:\u001b[1;31musers_num is None, remap user ids to consecutive\u001b[0m\n",
      "INFO:hnmchallenge.utils.sparse_matrix:\u001b[1;31mApplying time weight on user-item interactions\u001b[0m\n"
     ]
    },
    {
     "name": "stdout",
     "output_type": "stream",
     "text": [
      "func:interactions_to_sparse_matrix\n",
      " took: 1.1997432708740234 sec\n"
     ]
    },
    {
     "name": "stderr",
     "output_type": "stream",
     "text": [
      "INFO:hnmchallenge.recommender_interface:\u001b[1;36mSPARSE Item Similarity MUL...\u001b[0m\n",
      "INFO:hnmchallenge.utils.sparse_matrix:\u001b[1;36mSort_top_k:True\u001b[0m\n"
     ]
    },
    {
     "name": "stdout",
     "output_type": "stream",
     "text": [
      "Predicting using time_weight importance...\n"
     ]
    },
    {
     "name": "stderr",
     "output_type": "stream",
     "text": [
      "INFO:hnmchallenge.utils.pandas_utils:\u001b[1;33munique customer_id: 9989\u001b[0m\n",
      "WARNING:hnmchallenge.utils.sparse_matrix:\u001b[1;31musers_num is None, remap user ids to consecutive\u001b[0m\n",
      "INFO:hnmchallenge.utils.sparse_matrix:\u001b[1;31mApplying time weight on user-item interactions\u001b[0m\n"
     ]
    },
    {
     "name": "stdout",
     "output_type": "stream",
     "text": [
      "func:interactions_to_sparse_matrix\n",
      " took: 1.2235584259033203 sec\n"
     ]
    },
    {
     "name": "stderr",
     "output_type": "stream",
     "text": [
      "INFO:hnmchallenge.recommender_interface:\u001b[1;36mSPARSE Item Similarity MUL...\u001b[0m\n"
     ]
    },
    {
     "name": "stdout",
     "output_type": "stream",
     "text": [
      "Predicting using time_weight importance...\n"
     ]
    },
    {
     "name": "stderr",
     "output_type": "stream",
     "text": [
      "INFO:hnmchallenge.utils.pandas_utils:\u001b[1;33munique customer_id: 9989\u001b[0m\n",
      "WARNING:hnmchallenge.utils.sparse_matrix:\u001b[1;31musers_num is None, remap user ids to consecutive\u001b[0m\n",
      "INFO:hnmchallenge.utils.sparse_matrix:\u001b[1;31mApplying time weight on user-item interactions\u001b[0m\n",
      "INFO:hnmchallenge.utils.sparse_matrix:\u001b[1;36mSort_top_k:True\u001b[0m\n"
     ]
    },
    {
     "name": "stdout",
     "output_type": "stream",
     "text": [
      "func:interactions_to_sparse_matrix\n",
      " took: 1.215268611907959 sec\n"
     ]
    },
    {
     "name": "stderr",
     "output_type": "stream",
     "text": [
      "INFO:hnmchallenge.recommender_interface:\u001b[1;36mSPARSE Item Similarity MUL...\u001b[0m\n",
      "INFO:hnmchallenge.utils.sparse_matrix:\u001b[1;36mSort_top_k:True\u001b[0m\n"
     ]
    },
    {
     "name": "stdout",
     "output_type": "stream",
     "text": [
      "Predicting using time_weight importance...\n"
     ]
    },
    {
     "name": "stderr",
     "output_type": "stream",
     "text": [
      "INFO:hnmchallenge.utils.pandas_utils:\u001b[1;33munique customer_id: 9989\u001b[0m\n",
      "WARNING:hnmchallenge.utils.sparse_matrix:\u001b[1;31musers_num is None, remap user ids to consecutive\u001b[0m\n",
      "INFO:hnmchallenge.utils.sparse_matrix:\u001b[1;31mApplying time weight on user-item interactions\u001b[0m\n"
     ]
    },
    {
     "name": "stdout",
     "output_type": "stream",
     "text": [
      "func:interactions_to_sparse_matrix\n",
      " took: 1.6054294109344482 sec\n"
     ]
    },
    {
     "name": "stderr",
     "output_type": "stream",
     "text": [
      "INFO:hnmchallenge.recommender_interface:\u001b[1;36mSPARSE Item Similarity MUL...\u001b[0m\n"
     ]
    },
    {
     "name": "stdout",
     "output_type": "stream",
     "text": [
      "Predicting using time_weight importance...\n"
     ]
    },
    {
     "name": "stderr",
     "output_type": "stream",
     "text": [
      "INFO:hnmchallenge.utils.pandas_utils:\u001b[1;33munique customer_id: 9989\u001b[0m\n",
      "INFO:hnmchallenge.utils.sparse_matrix:\u001b[1;36mSort_top_k:True\u001b[0m\n",
      "WARNING:hnmchallenge.utils.sparse_matrix:\u001b[1;31musers_num is None, remap user ids to consecutive\u001b[0m\n",
      "INFO:hnmchallenge.utils.sparse_matrix:\u001b[1;31mApplying time weight on user-item interactions\u001b[0m\n"
     ]
    },
    {
     "name": "stdout",
     "output_type": "stream",
     "text": [
      "func:interactions_to_sparse_matrix\n",
      " took: 1.21820068359375 sec\n"
     ]
    },
    {
     "name": "stderr",
     "output_type": "stream",
     "text": [
      "INFO:hnmchallenge.recommender_interface:\u001b[1;36mSPARSE Item Similarity MUL...\u001b[0m\n"
     ]
    },
    {
     "name": "stdout",
     "output_type": "stream",
     "text": [
      "Predicting using time_weight importance...\n"
     ]
    },
    {
     "name": "stderr",
     "output_type": "stream",
     "text": [
      "INFO:hnmchallenge.utils.pandas_utils:\u001b[1;33munique customer_id: 9989\u001b[0m\n",
      "INFO:hnmchallenge.utils.sparse_matrix:\u001b[1;36mSort_top_k:True\u001b[0m\n",
      "WARNING:hnmchallenge.utils.sparse_matrix:\u001b[1;31musers_num is None, remap user ids to consecutive\u001b[0m\n",
      "INFO:hnmchallenge.utils.sparse_matrix:\u001b[1;31mApplying time weight on user-item interactions\u001b[0m\n"
     ]
    },
    {
     "name": "stdout",
     "output_type": "stream",
     "text": [
      "func:interactions_to_sparse_matrix\n",
      " took: 1.1291697025299072 sec\n"
     ]
    },
    {
     "name": "stderr",
     "output_type": "stream",
     "text": [
      "INFO:hnmchallenge.recommender_interface:\u001b[1;36mSPARSE Item Similarity MUL...\u001b[0m\n",
      "INFO:hnmchallenge.utils.sparse_matrix:\u001b[1;36mSort_top_k:True\u001b[0m\n"
     ]
    },
    {
     "name": "stdout",
     "output_type": "stream",
     "text": [
      "Predicting using time_weight importance...\n"
     ]
    },
    {
     "name": "stderr",
     "output_type": "stream",
     "text": [
      "INFO:hnmchallenge.utils.pandas_utils:\u001b[1;33munique customer_id: 9989\u001b[0m\n",
      "WARNING:hnmchallenge.utils.sparse_matrix:\u001b[1;31musers_num is None, remap user ids to consecutive\u001b[0m\n",
      "INFO:hnmchallenge.utils.sparse_matrix:\u001b[1;31mApplying time weight on user-item interactions\u001b[0m\n"
     ]
    },
    {
     "name": "stdout",
     "output_type": "stream",
     "text": [
      "func:interactions_to_sparse_matrix\n",
      " took: 1.1402714252471924 sec\n"
     ]
    },
    {
     "name": "stderr",
     "output_type": "stream",
     "text": [
      "INFO:hnmchallenge.recommender_interface:\u001b[1;36mSPARSE Item Similarity MUL...\u001b[0m\n",
      "INFO:hnmchallenge.utils.sparse_matrix:\u001b[1;36mSort_top_k:True\u001b[0m\n"
     ]
    },
    {
     "name": "stdout",
     "output_type": "stream",
     "text": [
      "Predicting using time_weight importance...\n"
     ]
    },
    {
     "name": "stderr",
     "output_type": "stream",
     "text": [
      "INFO:hnmchallenge.utils.pandas_utils:\u001b[1;33munique customer_id: 9989\u001b[0m\n",
      "WARNING:hnmchallenge.utils.sparse_matrix:\u001b[1;31musers_num is None, remap user ids to consecutive\u001b[0m\n",
      "INFO:hnmchallenge.utils.sparse_matrix:\u001b[1;31mApplying time weight on user-item interactions\u001b[0m\n"
     ]
    },
    {
     "name": "stdout",
     "output_type": "stream",
     "text": [
      "func:interactions_to_sparse_matrix\n",
      " took: 1.210176706314087 sec\n"
     ]
    },
    {
     "name": "stderr",
     "output_type": "stream",
     "text": [
      "INFO:hnmchallenge.recommender_interface:\u001b[1;36mSPARSE Item Similarity MUL...\u001b[0m\n",
      "INFO:hnmchallenge.utils.sparse_matrix:\u001b[1;36mSort_top_k:True\u001b[0m\n"
     ]
    },
    {
     "name": "stdout",
     "output_type": "stream",
     "text": [
      "Predicting using time_weight importance...\n"
     ]
    },
    {
     "name": "stderr",
     "output_type": "stream",
     "text": [
      "INFO:hnmchallenge.utils.pandas_utils:\u001b[1;33munique customer_id: 9989\u001b[0m\n",
      "WARNING:hnmchallenge.utils.sparse_matrix:\u001b[1;31musers_num is None, remap user ids to consecutive\u001b[0m\n",
      "INFO:hnmchallenge.utils.sparse_matrix:\u001b[1;31mApplying time weight on user-item interactions\u001b[0m\n"
     ]
    },
    {
     "name": "stdout",
     "output_type": "stream",
     "text": [
      "func:interactions_to_sparse_matrix\n",
      " took: 1.0880813598632812 sec\n"
     ]
    },
    {
     "name": "stderr",
     "output_type": "stream",
     "text": [
      "INFO:hnmchallenge.recommender_interface:\u001b[1;36mSPARSE Item Similarity MUL...\u001b[0m\n",
      "INFO:hnmchallenge.utils.sparse_matrix:\u001b[1;36mSort_top_k:True\u001b[0m\n"
     ]
    },
    {
     "name": "stdout",
     "output_type": "stream",
     "text": [
      "Predicting using time_weight importance...\n"
     ]
    },
    {
     "name": "stderr",
     "output_type": "stream",
     "text": [
      "INFO:hnmchallenge.utils.pandas_utils:\u001b[1;33munique customer_id: 9989\u001b[0m\n",
      "WARNING:hnmchallenge.utils.sparse_matrix:\u001b[1;31musers_num is None, remap user ids to consecutive\u001b[0m\n",
      "INFO:hnmchallenge.utils.sparse_matrix:\u001b[1;31mApplying time weight on user-item interactions\u001b[0m\n"
     ]
    },
    {
     "name": "stdout",
     "output_type": "stream",
     "text": [
      "func:interactions_to_sparse_matrix\n",
      " took: 1.5935535430908203 sec\n"
     ]
    },
    {
     "name": "stderr",
     "output_type": "stream",
     "text": [
      "INFO:hnmchallenge.recommender_interface:\u001b[1;36mSPARSE Item Similarity MUL...\u001b[0m\n",
      "INFO:hnmchallenge.utils.sparse_matrix:\u001b[1;36mSort_top_k:True\u001b[0m\n"
     ]
    },
    {
     "name": "stdout",
     "output_type": "stream",
     "text": [
      "Predicting using time_weight importance...\n"
     ]
    },
    {
     "name": "stderr",
     "output_type": "stream",
     "text": [
      "INFO:hnmchallenge.utils.pandas_utils:\u001b[1;33munique customer_id: 9988\u001b[0m\n",
      "WARNING:hnmchallenge.utils.sparse_matrix:\u001b[1;31musers_num is None, remap user ids to consecutive\u001b[0m\n",
      "INFO:hnmchallenge.utils.sparse_matrix:\u001b[1;31mApplying time weight on user-item interactions\u001b[0m\n"
     ]
    },
    {
     "name": "stdout",
     "output_type": "stream",
     "text": [
      "func:interactions_to_sparse_matrix\n",
      " took: 0.8808140754699707 sec\n"
     ]
    },
    {
     "name": "stderr",
     "output_type": "stream",
     "text": [
      "INFO:hnmchallenge.recommender_interface:\u001b[1;36mSPARSE Item Similarity MUL...\u001b[0m\n"
     ]
    },
    {
     "name": "stdout",
     "output_type": "stream",
     "text": [
      "Predicting using time_weight importance...\n"
     ]
    },
    {
     "name": "stderr",
     "output_type": "stream",
     "text": [
      "INFO:hnmchallenge.utils.pandas_utils:\u001b[1;33munique customer_id: 9988\u001b[0m\n",
      "INFO:hnmchallenge.utils.sparse_matrix:\u001b[1;36mSort_top_k:True\u001b[0m\n",
      "WARNING:hnmchallenge.utils.sparse_matrix:\u001b[1;31musers_num is None, remap user ids to consecutive\u001b[0m\n",
      "INFO:hnmchallenge.utils.sparse_matrix:\u001b[1;31mApplying time weight on user-item interactions\u001b[0m\n"
     ]
    },
    {
     "name": "stdout",
     "output_type": "stream",
     "text": [
      "func:interactions_to_sparse_matrix\n",
      " took: 1.0133705139160156 sec\n"
     ]
    },
    {
     "name": "stderr",
     "output_type": "stream",
     "text": [
      "INFO:hnmchallenge.recommender_interface:\u001b[1;36mSPARSE Item Similarity MUL...\u001b[0m\n",
      "INFO:hnmchallenge.utils.sparse_matrix:\u001b[1;36mSort_top_k:True\u001b[0m\n",
      "INFO:hnmchallenge.utils.pandas_utils:\u001b[1;33munique customer_id: 9988\u001b[0m\n"
     ]
    },
    {
     "name": "stdout",
     "output_type": "stream",
     "text": [
      "Predicting using time_weight importance...\n"
     ]
    },
    {
     "name": "stderr",
     "output_type": "stream",
     "text": [
      "WARNING:hnmchallenge.utils.sparse_matrix:\u001b[1;31musers_num is None, remap user ids to consecutive\u001b[0m\n",
      "INFO:hnmchallenge.utils.sparse_matrix:\u001b[1;31mApplying time weight on user-item interactions\u001b[0m\n"
     ]
    },
    {
     "name": "stdout",
     "output_type": "stream",
     "text": [
      "func:interactions_to_sparse_matrix\n",
      " took: 1.0447657108306885 sec\n"
     ]
    },
    {
     "name": "stderr",
     "output_type": "stream",
     "text": [
      "INFO:hnmchallenge.recommender_interface:\u001b[1;36mSPARSE Item Similarity MUL...\u001b[0m\n",
      "INFO:hnmchallenge.utils.sparse_matrix:\u001b[1;36mSort_top_k:True\u001b[0m\n"
     ]
    },
    {
     "name": "stdout",
     "output_type": "stream",
     "text": [
      "Predicting using time_weight importance...\n"
     ]
    },
    {
     "name": "stderr",
     "output_type": "stream",
     "text": [
      "INFO:hnmchallenge.utils.pandas_utils:\u001b[1;33munique customer_id: 9988\u001b[0m\n",
      "WARNING:hnmchallenge.utils.sparse_matrix:\u001b[1;31musers_num is None, remap user ids to consecutive\u001b[0m\n",
      "INFO:hnmchallenge.utils.sparse_matrix:\u001b[1;31mApplying time weight on user-item interactions\u001b[0m\n"
     ]
    },
    {
     "name": "stdout",
     "output_type": "stream",
     "text": [
      "func:interactions_to_sparse_matrix\n",
      " took: 0.9706535339355469 sec\n"
     ]
    },
    {
     "name": "stderr",
     "output_type": "stream",
     "text": [
      "INFO:hnmchallenge.recommender_interface:\u001b[1;36mSPARSE Item Similarity MUL...\u001b[0m\n",
      "INFO:hnmchallenge.utils.sparse_matrix:\u001b[1;36mSort_top_k:True\u001b[0m\n"
     ]
    },
    {
     "name": "stdout",
     "output_type": "stream",
     "text": [
      "Predicting using time_weight importance...\n"
     ]
    },
    {
     "name": "stderr",
     "output_type": "stream",
     "text": [
      "INFO:hnmchallenge.utils.pandas_utils:\u001b[1;33munique customer_id: 9988\u001b[0m\n",
      "WARNING:hnmchallenge.utils.sparse_matrix:\u001b[1;31musers_num is None, remap user ids to consecutive\u001b[0m\n",
      "INFO:hnmchallenge.utils.sparse_matrix:\u001b[1;31mApplying time weight on user-item interactions\u001b[0m\n"
     ]
    },
    {
     "name": "stdout",
     "output_type": "stream",
     "text": [
      "func:interactions_to_sparse_matrix\n",
      " took: 1.0170938968658447 sec\n"
     ]
    },
    {
     "name": "stderr",
     "output_type": "stream",
     "text": [
      "INFO:hnmchallenge.recommender_interface:\u001b[1;36mSPARSE Item Similarity MUL...\u001b[0m\n",
      "INFO:hnmchallenge.utils.sparse_matrix:\u001b[1;36mSort_top_k:True\u001b[0m\n"
     ]
    },
    {
     "name": "stdout",
     "output_type": "stream",
     "text": [
      "Predicting using time_weight importance...\n"
     ]
    },
    {
     "name": "stderr",
     "output_type": "stream",
     "text": [
      "INFO:hnmchallenge.utils.pandas_utils:\u001b[1;33munique customer_id: 9988\u001b[0m\n",
      "WARNING:hnmchallenge.utils.sparse_matrix:\u001b[1;31musers_num is None, remap user ids to consecutive\u001b[0m\n",
      "INFO:hnmchallenge.utils.sparse_matrix:\u001b[1;31mApplying time weight on user-item interactions\u001b[0m\n"
     ]
    },
    {
     "name": "stdout",
     "output_type": "stream",
     "text": [
      "func:interactions_to_sparse_matrix\n",
      " took: 0.9776370525360107 sec\n"
     ]
    },
    {
     "name": "stderr",
     "output_type": "stream",
     "text": [
      "INFO:hnmchallenge.recommender_interface:\u001b[1;36mSPARSE Item Similarity MUL...\u001b[0m\n",
      "INFO:hnmchallenge.utils.sparse_matrix:\u001b[1;36mSort_top_k:True\u001b[0m\n"
     ]
    },
    {
     "name": "stdout",
     "output_type": "stream",
     "text": [
      "Predicting using time_weight importance...\n"
     ]
    },
    {
     "name": "stderr",
     "output_type": "stream",
     "text": [
      "INFO:hnmchallenge.utils.pandas_utils:\u001b[1;33munique customer_id: 9988\u001b[0m\n",
      "WARNING:hnmchallenge.utils.sparse_matrix:\u001b[1;31musers_num is None, remap user ids to consecutive\u001b[0m\n",
      "INFO:hnmchallenge.utils.sparse_matrix:\u001b[1;31mApplying time weight on user-item interactions\u001b[0m\n"
     ]
    },
    {
     "name": "stdout",
     "output_type": "stream",
     "text": [
      "func:interactions_to_sparse_matrix\n",
      " took: 0.8716754913330078 sec\n"
     ]
    },
    {
     "name": "stderr",
     "output_type": "stream",
     "text": [
      "INFO:hnmchallenge.recommender_interface:\u001b[1;36mSPARSE Item Similarity MUL...\u001b[0m\n",
      "INFO:hnmchallenge.utils.sparse_matrix:\u001b[1;36mSort_top_k:True\u001b[0m\n"
     ]
    },
    {
     "name": "stdout",
     "output_type": "stream",
     "text": [
      "Predicting using time_weight importance...\n"
     ]
    },
    {
     "name": "stderr",
     "output_type": "stream",
     "text": [
      "INFO:hnmchallenge.utils.pandas_utils:\u001b[1;33munique customer_id: 9988\u001b[0m\n",
      "WARNING:hnmchallenge.utils.sparse_matrix:\u001b[1;31musers_num is None, remap user ids to consecutive\u001b[0m\n",
      "INFO:hnmchallenge.utils.sparse_matrix:\u001b[1;31mApplying time weight on user-item interactions\u001b[0m\n"
     ]
    },
    {
     "name": "stdout",
     "output_type": "stream",
     "text": [
      "func:interactions_to_sparse_matrix\n",
      " took: 0.8872251510620117 sec\n"
     ]
    },
    {
     "name": "stderr",
     "output_type": "stream",
     "text": [
      "INFO:hnmchallenge.recommender_interface:\u001b[1;36mSPARSE Item Similarity MUL...\u001b[0m\n",
      "INFO:hnmchallenge.utils.sparse_matrix:\u001b[1;36mSort_top_k:True\u001b[0m\n"
     ]
    },
    {
     "name": "stdout",
     "output_type": "stream",
     "text": [
      "Predicting using time_weight importance...\n"
     ]
    },
    {
     "name": "stderr",
     "output_type": "stream",
     "text": [
      "INFO:hnmchallenge.utils.pandas_utils:\u001b[1;33munique customer_id: 9988\u001b[0m\n",
      "WARNING:hnmchallenge.utils.sparse_matrix:\u001b[1;31musers_num is None, remap user ids to consecutive\u001b[0m\n",
      "INFO:hnmchallenge.utils.sparse_matrix:\u001b[1;31mApplying time weight on user-item interactions\u001b[0m\n"
     ]
    },
    {
     "name": "stdout",
     "output_type": "stream",
     "text": [
      "func:interactions_to_sparse_matrix\n",
      " took: 0.9265460968017578 sec\n"
     ]
    },
    {
     "name": "stderr",
     "output_type": "stream",
     "text": [
      "INFO:hnmchallenge.recommender_interface:\u001b[1;36mSPARSE Item Similarity MUL...\u001b[0m\n",
      "INFO:hnmchallenge.utils.sparse_matrix:\u001b[1;36mSort_top_k:True\u001b[0m\n"
     ]
    },
    {
     "name": "stdout",
     "output_type": "stream",
     "text": [
      "Predicting using time_weight importance...\n"
     ]
    },
    {
     "name": "stderr",
     "output_type": "stream",
     "text": [
      "INFO:hnmchallenge.utils.pandas_utils:\u001b[1;33munique customer_id: 9988\u001b[0m\n",
      "WARNING:hnmchallenge.utils.sparse_matrix:\u001b[1;31musers_num is None, remap user ids to consecutive\u001b[0m\n",
      "INFO:hnmchallenge.utils.sparse_matrix:\u001b[1;31mApplying time weight on user-item interactions\u001b[0m\n"
     ]
    },
    {
     "name": "stdout",
     "output_type": "stream",
     "text": [
      "func:interactions_to_sparse_matrix\n",
      " took: 0.8936996459960938 sec\n"
     ]
    },
    {
     "name": "stderr",
     "output_type": "stream",
     "text": [
      "INFO:hnmchallenge.recommender_interface:\u001b[1;36mSPARSE Item Similarity MUL...\u001b[0m\n",
      "INFO:hnmchallenge.utils.sparse_matrix:\u001b[1;36mSort_top_k:True\u001b[0m\n"
     ]
    },
    {
     "name": "stdout",
     "output_type": "stream",
     "text": [
      "Predicting using time_weight importance...\n"
     ]
    },
    {
     "name": "stderr",
     "output_type": "stream",
     "text": [
      "INFO:hnmchallenge.utils.pandas_utils:\u001b[1;33munique customer_id: 9988\u001b[0m\n",
      "WARNING:hnmchallenge.utils.sparse_matrix:\u001b[1;31musers_num is None, remap user ids to consecutive\u001b[0m\n",
      "INFO:hnmchallenge.utils.sparse_matrix:\u001b[1;31mApplying time weight on user-item interactions\u001b[0m\n"
     ]
    },
    {
     "name": "stdout",
     "output_type": "stream",
     "text": [
      "func:interactions_to_sparse_matrix\n",
      " took: 0.9275298118591309 sec\n"
     ]
    },
    {
     "name": "stderr",
     "output_type": "stream",
     "text": [
      "INFO:hnmchallenge.recommender_interface:\u001b[1;36mSPARSE Item Similarity MUL...\u001b[0m\n",
      "INFO:hnmchallenge.utils.sparse_matrix:\u001b[1;36mSort_top_k:True\u001b[0m\n"
     ]
    },
    {
     "name": "stdout",
     "output_type": "stream",
     "text": [
      "Predicting using time_weight importance...\n"
     ]
    },
    {
     "name": "stderr",
     "output_type": "stream",
     "text": [
      "INFO:hnmchallenge.utils.pandas_utils:\u001b[1;33munique customer_id: 9988\u001b[0m\n",
      "WARNING:hnmchallenge.utils.sparse_matrix:\u001b[1;31musers_num is None, remap user ids to consecutive\u001b[0m\n",
      "INFO:hnmchallenge.utils.sparse_matrix:\u001b[1;31mApplying time weight on user-item interactions\u001b[0m\n"
     ]
    },
    {
     "name": "stdout",
     "output_type": "stream",
     "text": [
      "func:interactions_to_sparse_matrix\n",
      " took: 0.9213733673095703 sec\n"
     ]
    },
    {
     "name": "stderr",
     "output_type": "stream",
     "text": [
      "INFO:hnmchallenge.recommender_interface:\u001b[1;36mSPARSE Item Similarity MUL...\u001b[0m\n",
      "INFO:hnmchallenge.utils.sparse_matrix:\u001b[1;36mSort_top_k:True\u001b[0m\n"
     ]
    },
    {
     "name": "stdout",
     "output_type": "stream",
     "text": [
      "Predicting using time_weight importance...\n"
     ]
    },
    {
     "name": "stderr",
     "output_type": "stream",
     "text": [
      "INFO:hnmchallenge.utils.pandas_utils:\u001b[1;33munique customer_id: 9988\u001b[0m\n",
      "WARNING:hnmchallenge.utils.sparse_matrix:\u001b[1;31musers_num is None, remap user ids to consecutive\u001b[0m\n",
      "INFO:hnmchallenge.utils.sparse_matrix:\u001b[1;31mApplying time weight on user-item interactions\u001b[0m\n"
     ]
    },
    {
     "name": "stdout",
     "output_type": "stream",
     "text": [
      "func:interactions_to_sparse_matrix\n",
      " took: 0.9146955013275146 sec\n"
     ]
    },
    {
     "name": "stderr",
     "output_type": "stream",
     "text": [
      "INFO:hnmchallenge.recommender_interface:\u001b[1;36mSPARSE Item Similarity MUL...\u001b[0m\n",
      "INFO:hnmchallenge.utils.sparse_matrix:\u001b[1;36mSort_top_k:True\u001b[0m\n"
     ]
    },
    {
     "name": "stdout",
     "output_type": "stream",
     "text": [
      "Predicting using time_weight importance...\n"
     ]
    },
    {
     "name": "stderr",
     "output_type": "stream",
     "text": [
      "INFO:hnmchallenge.utils.pandas_utils:\u001b[1;33munique customer_id: 9988\u001b[0m\n",
      "WARNING:hnmchallenge.utils.sparse_matrix:\u001b[1;31musers_num is None, remap user ids to consecutive\u001b[0m\n",
      "INFO:hnmchallenge.utils.sparse_matrix:\u001b[1;31mApplying time weight on user-item interactions\u001b[0m\n"
     ]
    },
    {
     "name": "stdout",
     "output_type": "stream",
     "text": [
      "func:interactions_to_sparse_matrix\n",
      " took: 0.9105236530303955 sec\n"
     ]
    },
    {
     "name": "stderr",
     "output_type": "stream",
     "text": [
      "INFO:hnmchallenge.recommender_interface:\u001b[1;36mSPARSE Item Similarity MUL...\u001b[0m\n",
      "INFO:hnmchallenge.utils.sparse_matrix:\u001b[1;36mSort_top_k:True\u001b[0m\n"
     ]
    },
    {
     "name": "stdout",
     "output_type": "stream",
     "text": [
      "Predicting using time_weight importance...\n"
     ]
    },
    {
     "name": "stderr",
     "output_type": "stream",
     "text": [
      "INFO:hnmchallenge.utils.pandas_utils:\u001b[1;33munique customer_id: 9988\u001b[0m\n",
      "WARNING:hnmchallenge.utils.sparse_matrix:\u001b[1;31musers_num is None, remap user ids to consecutive\u001b[0m\n",
      "INFO:hnmchallenge.utils.sparse_matrix:\u001b[1;31mApplying time weight on user-item interactions\u001b[0m\n"
     ]
    },
    {
     "name": "stdout",
     "output_type": "stream",
     "text": [
      "func:interactions_to_sparse_matrix\n",
      " took: 0.9039628505706787 sec\n"
     ]
    },
    {
     "name": "stderr",
     "output_type": "stream",
     "text": [
      "INFO:hnmchallenge.recommender_interface:\u001b[1;36mSPARSE Item Similarity MUL...\u001b[0m\n",
      "INFO:hnmchallenge.utils.sparse_matrix:\u001b[1;36mSort_top_k:True\u001b[0m\n"
     ]
    },
    {
     "name": "stdout",
     "output_type": "stream",
     "text": [
      "Predicting using time_weight importance...\n"
     ]
    },
    {
     "name": "stderr",
     "output_type": "stream",
     "text": [
      "INFO:hnmchallenge.utils.pandas_utils:\u001b[1;33munique customer_id: 9988\u001b[0m\n",
      "WARNING:hnmchallenge.utils.sparse_matrix:\u001b[1;31musers_num is None, remap user ids to consecutive\u001b[0m\n",
      "INFO:hnmchallenge.utils.sparse_matrix:\u001b[1;31mApplying time weight on user-item interactions\u001b[0m\n"
     ]
    },
    {
     "name": "stdout",
     "output_type": "stream",
     "text": [
      "func:interactions_to_sparse_matrix\n",
      " took: 0.8758053779602051 sec\n"
     ]
    },
    {
     "name": "stderr",
     "output_type": "stream",
     "text": [
      "INFO:hnmchallenge.recommender_interface:\u001b[1;36mSPARSE Item Similarity MUL...\u001b[0m\n",
      "INFO:hnmchallenge.utils.sparse_matrix:\u001b[1;36mSort_top_k:True\u001b[0m\n"
     ]
    },
    {
     "name": "stdout",
     "output_type": "stream",
     "text": [
      "Predicting using time_weight importance...\n"
     ]
    },
    {
     "name": "stderr",
     "output_type": "stream",
     "text": [
      "INFO:hnmchallenge.utils.pandas_utils:\u001b[1;33munique customer_id: 9988\u001b[0m\n",
      "WARNING:hnmchallenge.utils.sparse_matrix:\u001b[1;31musers_num is None, remap user ids to consecutive\u001b[0m\n",
      "INFO:hnmchallenge.utils.sparse_matrix:\u001b[1;31mApplying time weight on user-item interactions\u001b[0m\n"
     ]
    },
    {
     "name": "stdout",
     "output_type": "stream",
     "text": [
      "func:interactions_to_sparse_matrix\n",
      " took: 0.8889153003692627 sec\n"
     ]
    },
    {
     "name": "stderr",
     "output_type": "stream",
     "text": [
      "INFO:hnmchallenge.recommender_interface:\u001b[1;36mSPARSE Item Similarity MUL...\u001b[0m\n",
      "INFO:hnmchallenge.utils.sparse_matrix:\u001b[1;36mSort_top_k:True\u001b[0m\n"
     ]
    },
    {
     "name": "stdout",
     "output_type": "stream",
     "text": [
      "Predicting using time_weight importance...\n"
     ]
    },
    {
     "name": "stderr",
     "output_type": "stream",
     "text": [
      "INFO:hnmchallenge.utils.pandas_utils:\u001b[1;33munique customer_id: 9988\u001b[0m\n",
      "WARNING:hnmchallenge.utils.sparse_matrix:\u001b[1;31musers_num is None, remap user ids to consecutive\u001b[0m\n",
      "INFO:hnmchallenge.utils.sparse_matrix:\u001b[1;31mApplying time weight on user-item interactions\u001b[0m\n"
     ]
    },
    {
     "name": "stdout",
     "output_type": "stream",
     "text": [
      "func:interactions_to_sparse_matrix\n",
      " took: 0.8554959297180176 sec\n"
     ]
    },
    {
     "name": "stderr",
     "output_type": "stream",
     "text": [
      "INFO:hnmchallenge.recommender_interface:\u001b[1;36mSPARSE Item Similarity MUL...\u001b[0m\n",
      "INFO:hnmchallenge.utils.sparse_matrix:\u001b[1;36mSort_top_k:True\u001b[0m\n"
     ]
    },
    {
     "name": "stdout",
     "output_type": "stream",
     "text": [
      "Predicting using time_weight importance...\n"
     ]
    },
    {
     "name": "stderr",
     "output_type": "stream",
     "text": [
      "INFO:hnmchallenge.utils.pandas_utils:\u001b[1;33munique customer_id: 9988\u001b[0m\n",
      "WARNING:hnmchallenge.utils.sparse_matrix:\u001b[1;31musers_num is None, remap user ids to consecutive\u001b[0m\n",
      "INFO:hnmchallenge.utils.sparse_matrix:\u001b[1;31mApplying time weight on user-item interactions\u001b[0m\n"
     ]
    },
    {
     "name": "stdout",
     "output_type": "stream",
     "text": [
      "func:interactions_to_sparse_matrix\n",
      " took: 0.7289514541625977 sec\n"
     ]
    },
    {
     "name": "stderr",
     "output_type": "stream",
     "text": [
      "INFO:hnmchallenge.recommender_interface:\u001b[1;36mSPARSE Item Similarity MUL...\u001b[0m\n",
      "INFO:hnmchallenge.utils.sparse_matrix:\u001b[1;36mSort_top_k:True\u001b[0m\n"
     ]
    },
    {
     "name": "stdout",
     "output_type": "stream",
     "text": [
      "Predicting using time_weight importance...\n"
     ]
    },
    {
     "name": "stderr",
     "output_type": "stream",
     "text": [
      "INFO:hnmchallenge.utils.pandas_utils:\u001b[1;33munique customer_id: 9988\u001b[0m\n",
      "WARNING:hnmchallenge.utils.sparse_matrix:\u001b[1;31musers_num is None, remap user ids to consecutive\u001b[0m\n",
      "INFO:hnmchallenge.utils.sparse_matrix:\u001b[1;31mApplying time weight on user-item interactions\u001b[0m\n"
     ]
    },
    {
     "name": "stdout",
     "output_type": "stream",
     "text": [
      "func:interactions_to_sparse_matrix\n",
      " took: 0.8287167549133301 sec\n"
     ]
    },
    {
     "name": "stderr",
     "output_type": "stream",
     "text": [
      "INFO:hnmchallenge.recommender_interface:\u001b[1;36mSPARSE Item Similarity MUL...\u001b[0m\n",
      "INFO:hnmchallenge.utils.sparse_matrix:\u001b[1;36mSort_top_k:True\u001b[0m\n"
     ]
    },
    {
     "name": "stdout",
     "output_type": "stream",
     "text": [
      "Predicting using time_weight importance...\n"
     ]
    },
    {
     "name": "stderr",
     "output_type": "stream",
     "text": [
      "INFO:hnmchallenge.utils.pandas_utils:\u001b[1;33munique customer_id: 9988\u001b[0m\n",
      "WARNING:hnmchallenge.utils.sparse_matrix:\u001b[1;31musers_num is None, remap user ids to consecutive\u001b[0m\n",
      "INFO:hnmchallenge.utils.sparse_matrix:\u001b[1;31mApplying time weight on user-item interactions\u001b[0m\n"
     ]
    },
    {
     "name": "stdout",
     "output_type": "stream",
     "text": [
      "func:interactions_to_sparse_matrix\n",
      " took: 0.8397574424743652 sec\n"
     ]
    },
    {
     "name": "stderr",
     "output_type": "stream",
     "text": [
      "INFO:hnmchallenge.recommender_interface:\u001b[1;36mSPARSE Item Similarity MUL...\u001b[0m\n",
      "INFO:hnmchallenge.utils.sparse_matrix:\u001b[1;36mSort_top_k:True\u001b[0m\n"
     ]
    },
    {
     "name": "stdout",
     "output_type": "stream",
     "text": [
      "Predicting using time_weight importance...\n"
     ]
    },
    {
     "name": "stderr",
     "output_type": "stream",
     "text": [
      "INFO:hnmchallenge.utils.pandas_utils:\u001b[1;33munique customer_id: 9988\u001b[0m\n",
      "WARNING:hnmchallenge.utils.sparse_matrix:\u001b[1;31musers_num is None, remap user ids to consecutive\u001b[0m\n",
      "INFO:hnmchallenge.utils.sparse_matrix:\u001b[1;31mApplying time weight on user-item interactions\u001b[0m\n"
     ]
    },
    {
     "name": "stdout",
     "output_type": "stream",
     "text": [
      "func:interactions_to_sparse_matrix\n",
      " took: 0.9118490219116211 sec\n"
     ]
    },
    {
     "name": "stderr",
     "output_type": "stream",
     "text": [
      "INFO:hnmchallenge.recommender_interface:\u001b[1;36mSPARSE Item Similarity MUL...\u001b[0m\n",
      "INFO:hnmchallenge.utils.sparse_matrix:\u001b[1;36mSort_top_k:True\u001b[0m\n",
      "WARNING:hnmchallenge.utils.sparse_matrix:\u001b[1;31musers_num is None, remap user ids to consecutive\u001b[0m\n"
     ]
    },
    {
     "name": "stdout",
     "output_type": "stream",
     "text": [
      "Predicting using time_weight importance...\n"
     ]
    },
    {
     "name": "stderr",
     "output_type": "stream",
     "text": [
      "INFO:hnmchallenge.utils.pandas_utils:\u001b[1;33munique customer_id: 9988\u001b[0m\n",
      "INFO:hnmchallenge.utils.sparse_matrix:\u001b[1;31mApplying time weight on user-item interactions\u001b[0m\n"
     ]
    },
    {
     "name": "stdout",
     "output_type": "stream",
     "text": [
      "func:interactions_to_sparse_matrix\n",
      " took: 0.79018235206604 sec\n"
     ]
    },
    {
     "name": "stderr",
     "output_type": "stream",
     "text": [
      "INFO:hnmchallenge.recommender_interface:\u001b[1;36mSPARSE Item Similarity MUL...\u001b[0m\n",
      "INFO:hnmchallenge.utils.sparse_matrix:\u001b[1;36mSort_top_k:True\u001b[0m\n"
     ]
    },
    {
     "name": "stdout",
     "output_type": "stream",
     "text": [
      "Predicting using time_weight importance...\n"
     ]
    },
    {
     "name": "stderr",
     "output_type": "stream",
     "text": [
      "INFO:hnmchallenge.utils.pandas_utils:\u001b[1;33munique customer_id: 9988\u001b[0m\n",
      "WARNING:hnmchallenge.utils.sparse_matrix:\u001b[1;31musers_num is None, remap user ids to consecutive\u001b[0m\n",
      "INFO:hnmchallenge.utils.sparse_matrix:\u001b[1;31mApplying time weight on user-item interactions\u001b[0m\n"
     ]
    },
    {
     "name": "stdout",
     "output_type": "stream",
     "text": [
      "func:interactions_to_sparse_matrix\n",
      " took: 0.7448916435241699 sec\n"
     ]
    },
    {
     "name": "stderr",
     "output_type": "stream",
     "text": [
      "INFO:hnmchallenge.recommender_interface:\u001b[1;36mSPARSE Item Similarity MUL...\u001b[0m\n",
      "INFO:hnmchallenge.utils.sparse_matrix:\u001b[1;36mSort_top_k:True\u001b[0m\n"
     ]
    },
    {
     "name": "stdout",
     "output_type": "stream",
     "text": [
      "Predicting using time_weight importance...\n"
     ]
    },
    {
     "name": "stderr",
     "output_type": "stream",
     "text": [
      "INFO:hnmchallenge.utils.pandas_utils:\u001b[1;33munique customer_id: 9988\u001b[0m\n",
      "WARNING:hnmchallenge.utils.sparse_matrix:\u001b[1;31musers_num is None, remap user ids to consecutive\u001b[0m\n",
      "INFO:hnmchallenge.utils.sparse_matrix:\u001b[1;31mApplying time weight on user-item interactions\u001b[0m\n"
     ]
    },
    {
     "name": "stdout",
     "output_type": "stream",
     "text": [
      "func:interactions_to_sparse_matrix\n",
      " took: 0.8173208236694336 sec\n"
     ]
    },
    {
     "name": "stderr",
     "output_type": "stream",
     "text": [
      "INFO:hnmchallenge.recommender_interface:\u001b[1;36mSPARSE Item Similarity MUL...\u001b[0m\n",
      "INFO:hnmchallenge.utils.sparse_matrix:\u001b[1;36mSort_top_k:True\u001b[0m\n"
     ]
    },
    {
     "name": "stdout",
     "output_type": "stream",
     "text": [
      "Predicting using time_weight importance...\n"
     ]
    },
    {
     "name": "stderr",
     "output_type": "stream",
     "text": [
      "INFO:hnmchallenge.utils.pandas_utils:\u001b[1;33munique customer_id: 9988\u001b[0m\n",
      "WARNING:hnmchallenge.utils.sparse_matrix:\u001b[1;31musers_num is None, remap user ids to consecutive\u001b[0m\n",
      "INFO:hnmchallenge.utils.sparse_matrix:\u001b[1;31mApplying time weight on user-item interactions\u001b[0m\n"
     ]
    },
    {
     "name": "stdout",
     "output_type": "stream",
     "text": [
      "func:interactions_to_sparse_matrix\n",
      " took: 1.1215102672576904 sec\n"
     ]
    },
    {
     "name": "stderr",
     "output_type": "stream",
     "text": [
      "INFO:hnmchallenge.recommender_interface:\u001b[1;36mSPARSE Item Similarity MUL...\u001b[0m\n",
      "INFO:hnmchallenge.utils.sparse_matrix:\u001b[1;36mSort_top_k:True\u001b[0m\n"
     ]
    },
    {
     "name": "stdout",
     "output_type": "stream",
     "text": [
      "Predicting using time_weight importance...\n"
     ]
    },
    {
     "name": "stderr",
     "output_type": "stream",
     "text": [
      "INFO:hnmchallenge.utils.pandas_utils:\u001b[1;33munique customer_id: 9988\u001b[0m\n",
      "WARNING:hnmchallenge.utils.sparse_matrix:\u001b[1;31musers_num is None, remap user ids to consecutive\u001b[0m\n",
      "INFO:hnmchallenge.utils.sparse_matrix:\u001b[1;31mApplying time weight on user-item interactions\u001b[0m\n"
     ]
    },
    {
     "name": "stdout",
     "output_type": "stream",
     "text": [
      "func:interactions_to_sparse_matrix\n",
      " took: 0.872683048248291 sec\n"
     ]
    },
    {
     "name": "stderr",
     "output_type": "stream",
     "text": [
      "INFO:hnmchallenge.recommender_interface:\u001b[1;36mSPARSE Item Similarity MUL...\u001b[0m\n",
      "INFO:hnmchallenge.utils.sparse_matrix:\u001b[1;36mSort_top_k:True\u001b[0m\n"
     ]
    },
    {
     "name": "stdout",
     "output_type": "stream",
     "text": [
      "Predicting using time_weight importance...\n"
     ]
    },
    {
     "name": "stderr",
     "output_type": "stream",
     "text": [
      "INFO:hnmchallenge.utils.pandas_utils:\u001b[1;33munique customer_id: 9988\u001b[0m\n",
      "WARNING:hnmchallenge.utils.sparse_matrix:\u001b[1;31musers_num is None, remap user ids to consecutive\u001b[0m\n",
      "INFO:hnmchallenge.utils.sparse_matrix:\u001b[1;31mApplying time weight on user-item interactions\u001b[0m\n"
     ]
    },
    {
     "name": "stdout",
     "output_type": "stream",
     "text": [
      "func:interactions_to_sparse_matrix\n",
      " took: 0.841151237487793 sec\n"
     ]
    },
    {
     "name": "stderr",
     "output_type": "stream",
     "text": [
      "INFO:hnmchallenge.recommender_interface:\u001b[1;36mSPARSE Item Similarity MUL...\u001b[0m\n",
      "INFO:hnmchallenge.utils.sparse_matrix:\u001b[1;36mSort_top_k:True\u001b[0m\n"
     ]
    },
    {
     "name": "stdout",
     "output_type": "stream",
     "text": [
      "Predicting using time_weight importance...\n"
     ]
    },
    {
     "name": "stderr",
     "output_type": "stream",
     "text": [
      "INFO:hnmchallenge.utils.pandas_utils:\u001b[1;33munique customer_id: 9988\u001b[0m\n",
      "WARNING:hnmchallenge.utils.sparse_matrix:\u001b[1;31musers_num is None, remap user ids to consecutive\u001b[0m\n",
      "INFO:hnmchallenge.utils.sparse_matrix:\u001b[1;31mApplying time weight on user-item interactions\u001b[0m\n"
     ]
    },
    {
     "name": "stdout",
     "output_type": "stream",
     "text": [
      "func:interactions_to_sparse_matrix\n",
      " took: 0.7971346378326416 sec\n"
     ]
    },
    {
     "name": "stderr",
     "output_type": "stream",
     "text": [
      "INFO:hnmchallenge.recommender_interface:\u001b[1;36mSPARSE Item Similarity MUL...\u001b[0m\n",
      "INFO:hnmchallenge.utils.sparse_matrix:\u001b[1;36mSort_top_k:True\u001b[0m\n"
     ]
    },
    {
     "name": "stdout",
     "output_type": "stream",
     "text": [
      "Predicting using time_weight importance...\n"
     ]
    },
    {
     "name": "stderr",
     "output_type": "stream",
     "text": [
      "INFO:hnmchallenge.utils.pandas_utils:\u001b[1;33munique customer_id: 9988\u001b[0m\n",
      "WARNING:hnmchallenge.utils.sparse_matrix:\u001b[1;31musers_num is None, remap user ids to consecutive\u001b[0m\n",
      "INFO:hnmchallenge.utils.sparse_matrix:\u001b[1;31mApplying time weight on user-item interactions\u001b[0m\n"
     ]
    },
    {
     "name": "stdout",
     "output_type": "stream",
     "text": [
      "func:interactions_to_sparse_matrix\n",
      " took: 0.699232816696167 sec\n"
     ]
    },
    {
     "name": "stderr",
     "output_type": "stream",
     "text": [
      "INFO:hnmchallenge.recommender_interface:\u001b[1;36mSPARSE Item Similarity MUL...\u001b[0m\n",
      "INFO:hnmchallenge.utils.sparse_matrix:\u001b[1;36mSort_top_k:True\u001b[0m\n"
     ]
    },
    {
     "name": "stdout",
     "output_type": "stream",
     "text": [
      "Predicting using time_weight importance...\n"
     ]
    },
    {
     "name": "stderr",
     "output_type": "stream",
     "text": [
      "INFO:hnmchallenge.utils.pandas_utils:\u001b[1;33munique customer_id: 9988\u001b[0m\n",
      "WARNING:hnmchallenge.utils.sparse_matrix:\u001b[1;31musers_num is None, remap user ids to consecutive\u001b[0m\n",
      "INFO:hnmchallenge.utils.sparse_matrix:\u001b[1;31mApplying time weight on user-item interactions\u001b[0m\n"
     ]
    },
    {
     "name": "stdout",
     "output_type": "stream",
     "text": [
      "func:interactions_to_sparse_matrix\n",
      " took: 0.9165840148925781 sec\n"
     ]
    },
    {
     "name": "stderr",
     "output_type": "stream",
     "text": [
      "INFO:hnmchallenge.recommender_interface:\u001b[1;36mSPARSE Item Similarity MUL...\u001b[0m\n",
      "INFO:hnmchallenge.utils.sparse_matrix:\u001b[1;36mSort_top_k:True\u001b[0m\n"
     ]
    },
    {
     "name": "stdout",
     "output_type": "stream",
     "text": [
      "Predicting using time_weight importance...\n"
     ]
    },
    {
     "name": "stderr",
     "output_type": "stream",
     "text": [
      "INFO:hnmchallenge.utils.pandas_utils:\u001b[1;33munique customer_id: 9988\u001b[0m\n",
      "WARNING:hnmchallenge.utils.sparse_matrix:\u001b[1;31musers_num is None, remap user ids to consecutive\u001b[0m\n",
      "INFO:hnmchallenge.utils.sparse_matrix:\u001b[1;31mApplying time weight on user-item interactions\u001b[0m\n"
     ]
    },
    {
     "name": "stdout",
     "output_type": "stream",
     "text": [
      "func:interactions_to_sparse_matrix\n",
      " took: 0.7201683521270752 sec\n"
     ]
    },
    {
     "name": "stderr",
     "output_type": "stream",
     "text": [
      "INFO:hnmchallenge.recommender_interface:\u001b[1;36mSPARSE Item Similarity MUL...\u001b[0m\n",
      "INFO:hnmchallenge.utils.sparse_matrix:\u001b[1;36mSort_top_k:True\u001b[0m\n"
     ]
    },
    {
     "name": "stdout",
     "output_type": "stream",
     "text": [
      "Predicting using time_weight importance...\n"
     ]
    },
    {
     "name": "stderr",
     "output_type": "stream",
     "text": [
      "INFO:hnmchallenge.utils.pandas_utils:\u001b[1;33munique customer_id: 9988\u001b[0m\n",
      "WARNING:hnmchallenge.utils.sparse_matrix:\u001b[1;31musers_num is None, remap user ids to consecutive\u001b[0m\n",
      "INFO:hnmchallenge.utils.sparse_matrix:\u001b[1;31mApplying time weight on user-item interactions\u001b[0m\n"
     ]
    },
    {
     "name": "stdout",
     "output_type": "stream",
     "text": [
      "func:interactions_to_sparse_matrix\n",
      " took: 0.7790734767913818 sec\n"
     ]
    },
    {
     "name": "stderr",
     "output_type": "stream",
     "text": [
      "INFO:hnmchallenge.recommender_interface:\u001b[1;36mSPARSE Item Similarity MUL...\u001b[0m\n",
      "INFO:hnmchallenge.utils.sparse_matrix:\u001b[1;36mSort_top_k:True\u001b[0m\n"
     ]
    },
    {
     "name": "stdout",
     "output_type": "stream",
     "text": [
      "Predicting using time_weight importance...\n"
     ]
    },
    {
     "name": "stderr",
     "output_type": "stream",
     "text": [
      "INFO:hnmchallenge.utils.pandas_utils:\u001b[1;33munique customer_id: 9988\u001b[0m\n",
      "WARNING:hnmchallenge.utils.sparse_matrix:\u001b[1;31musers_num is None, remap user ids to consecutive\u001b[0m\n",
      "INFO:hnmchallenge.utils.sparse_matrix:\u001b[1;31mApplying time weight on user-item interactions\u001b[0m\n"
     ]
    },
    {
     "name": "stdout",
     "output_type": "stream",
     "text": [
      "func:interactions_to_sparse_matrix\n",
      " took: 0.8333597183227539 sec\n"
     ]
    },
    {
     "name": "stderr",
     "output_type": "stream",
     "text": [
      "INFO:hnmchallenge.recommender_interface:\u001b[1;36mSPARSE Item Similarity MUL...\u001b[0m\n",
      "INFO:hnmchallenge.utils.sparse_matrix:\u001b[1;36mSort_top_k:True\u001b[0m\n"
     ]
    },
    {
     "name": "stdout",
     "output_type": "stream",
     "text": [
      "Predicting using time_weight importance...\n"
     ]
    },
    {
     "name": "stderr",
     "output_type": "stream",
     "text": [
      "INFO:hnmchallenge.utils.pandas_utils:\u001b[1;33munique customer_id: 9988\u001b[0m\n",
      "WARNING:hnmchallenge.utils.sparse_matrix:\u001b[1;31musers_num is None, remap user ids to consecutive\u001b[0m\n",
      "INFO:hnmchallenge.utils.sparse_matrix:\u001b[1;31mApplying time weight on user-item interactions\u001b[0m\n"
     ]
    },
    {
     "name": "stdout",
     "output_type": "stream",
     "text": [
      "func:interactions_to_sparse_matrix\n",
      " took: 0.7046589851379395 sec\n"
     ]
    },
    {
     "name": "stderr",
     "output_type": "stream",
     "text": [
      "INFO:hnmchallenge.recommender_interface:\u001b[1;36mSPARSE Item Similarity MUL...\u001b[0m\n",
      "INFO:hnmchallenge.utils.sparse_matrix:\u001b[1;36mSort_top_k:True\u001b[0m\n"
     ]
    },
    {
     "name": "stdout",
     "output_type": "stream",
     "text": [
      "Predicting using time_weight importance...\n"
     ]
    },
    {
     "name": "stderr",
     "output_type": "stream",
     "text": [
      "INFO:hnmchallenge.utils.pandas_utils:\u001b[1;33munique customer_id: 9988\u001b[0m\n",
      "WARNING:hnmchallenge.utils.sparse_matrix:\u001b[1;31musers_num is None, remap user ids to consecutive\u001b[0m\n",
      "INFO:hnmchallenge.utils.sparse_matrix:\u001b[1;31mApplying time weight on user-item interactions\u001b[0m\n"
     ]
    },
    {
     "name": "stdout",
     "output_type": "stream",
     "text": [
      "func:interactions_to_sparse_matrix\n",
      " took: 0.648585319519043 sec\n"
     ]
    },
    {
     "name": "stderr",
     "output_type": "stream",
     "text": [
      "INFO:hnmchallenge.recommender_interface:\u001b[1;36mSPARSE Item Similarity MUL...\u001b[0m\n",
      "INFO:hnmchallenge.utils.sparse_matrix:\u001b[1;36mSort_top_k:True\u001b[0m\n"
     ]
    },
    {
     "name": "stdout",
     "output_type": "stream",
     "text": [
      "Predicting using time_weight importance...\n"
     ]
    },
    {
     "name": "stderr",
     "output_type": "stream",
     "text": [
      "INFO:hnmchallenge.utils.pandas_utils:\u001b[1;33munique customer_id: 9988\u001b[0m\n",
      "WARNING:hnmchallenge.utils.sparse_matrix:\u001b[1;31musers_num is None, remap user ids to consecutive\u001b[0m\n",
      "INFO:hnmchallenge.utils.sparse_matrix:\u001b[1;31mApplying time weight on user-item interactions\u001b[0m\n"
     ]
    },
    {
     "name": "stdout",
     "output_type": "stream",
     "text": [
      "func:interactions_to_sparse_matrix\n",
      " took: 0.5865132808685303 sec\n"
     ]
    },
    {
     "name": "stderr",
     "output_type": "stream",
     "text": [
      "INFO:hnmchallenge.recommender_interface:\u001b[1;36mSPARSE Item Similarity MUL...\u001b[0m\n",
      "INFO:hnmchallenge.utils.sparse_matrix:\u001b[1;36mSort_top_k:True\u001b[0m\n"
     ]
    },
    {
     "name": "stdout",
     "output_type": "stream",
     "text": [
      "Predicting using time_weight importance...\n"
     ]
    },
    {
     "name": "stderr",
     "output_type": "stream",
     "text": [
      "INFO:hnmchallenge.utils.pandas_utils:\u001b[1;33munique customer_id: 9988\u001b[0m\n",
      "WARNING:hnmchallenge.utils.sparse_matrix:\u001b[1;31musers_num is None, remap user ids to consecutive\u001b[0m\n",
      "INFO:hnmchallenge.utils.sparse_matrix:\u001b[1;31mApplying time weight on user-item interactions\u001b[0m\n"
     ]
    },
    {
     "name": "stdout",
     "output_type": "stream",
     "text": [
      "func:interactions_to_sparse_matrix\n",
      " took: 0.6072046756744385 sec\n"
     ]
    },
    {
     "name": "stderr",
     "output_type": "stream",
     "text": [
      "INFO:hnmchallenge.recommender_interface:\u001b[1;36mSPARSE Item Similarity MUL...\u001b[0m\n",
      "INFO:hnmchallenge.utils.sparse_matrix:\u001b[1;36mSort_top_k:True\u001b[0m\n"
     ]
    },
    {
     "name": "stdout",
     "output_type": "stream",
     "text": [
      "Predicting using time_weight importance...\n"
     ]
    },
    {
     "name": "stderr",
     "output_type": "stream",
     "text": [
      "INFO:hnmchallenge.utils.pandas_utils:\u001b[1;33munique customer_id: 9988\u001b[0m\n",
      "WARNING:hnmchallenge.utils.sparse_matrix:\u001b[1;31musers_num is None, remap user ids to consecutive\u001b[0m\n",
      "INFO:hnmchallenge.utils.sparse_matrix:\u001b[1;31mApplying time weight on user-item interactions\u001b[0m\n"
     ]
    },
    {
     "name": "stdout",
     "output_type": "stream",
     "text": [
      "func:interactions_to_sparse_matrix\n",
      " took: 0.6112420558929443 sec\n"
     ]
    },
    {
     "name": "stderr",
     "output_type": "stream",
     "text": [
      "INFO:hnmchallenge.recommender_interface:\u001b[1;36mSPARSE Item Similarity MUL...\u001b[0m\n",
      "INFO:hnmchallenge.utils.sparse_matrix:\u001b[1;36mSort_top_k:True\u001b[0m\n"
     ]
    },
    {
     "name": "stdout",
     "output_type": "stream",
     "text": [
      "Predicting using time_weight importance...\n"
     ]
    },
    {
     "name": "stderr",
     "output_type": "stream",
     "text": [
      "INFO:hnmchallenge.utils.pandas_utils:\u001b[1;33munique customer_id: 9988\u001b[0m\n",
      "WARNING:hnmchallenge.utils.sparse_matrix:\u001b[1;31musers_num is None, remap user ids to consecutive\u001b[0m\n",
      "INFO:hnmchallenge.utils.sparse_matrix:\u001b[1;31mApplying time weight on user-item interactions\u001b[0m\n"
     ]
    },
    {
     "name": "stdout",
     "output_type": "stream",
     "text": [
      "func:interactions_to_sparse_matrix\n",
      " took: 0.5560591220855713 sec\n"
     ]
    },
    {
     "name": "stderr",
     "output_type": "stream",
     "text": [
      "INFO:hnmchallenge.recommender_interface:\u001b[1;36mSPARSE Item Similarity MUL...\u001b[0m\n",
      "INFO:hnmchallenge.utils.sparse_matrix:\u001b[1;36mSort_top_k:True\u001b[0m\n"
     ]
    },
    {
     "name": "stdout",
     "output_type": "stream",
     "text": [
      "Predicting using time_weight importance..."
     ]
    },
    {
     "name": "stderr",
     "output_type": "stream",
     "text": [
      "INFO:hnmchallenge.utils.sparse_matrix:\u001b[1;36mSort_top_k:True\u001b[0m\n"
     ]
    },
    {
     "name": "stdout",
     "output_type": "stream",
     "text": [
      "\n"
     ]
    },
    {
     "name": "stderr",
     "output_type": "stream",
     "text": [
      "INFO:hnmchallenge.utils.pandas_utils:\u001b[1;33munique customer_id: 9988\u001b[0m\n",
      "WARNING:hnmchallenge.utils.sparse_matrix:\u001b[1;31musers_num is None, remap user ids to consecutive\u001b[0m\n",
      "INFO:hnmchallenge.utils.sparse_matrix:\u001b[1;31mApplying time weight on user-item interactions\u001b[0m\n"
     ]
    },
    {
     "name": "stdout",
     "output_type": "stream",
     "text": [
      "func:interactions_to_sparse_matrix\n",
      " took: 0.5218069553375244 sec\n"
     ]
    },
    {
     "name": "stderr",
     "output_type": "stream",
     "text": [
      "INFO:hnmchallenge.recommender_interface:\u001b[1;36mSPARSE Item Similarity MUL...\u001b[0m\n",
      "INFO:hnmchallenge.utils.sparse_matrix:\u001b[1;36mSort_top_k:True\u001b[0m\n"
     ]
    }
   ],
   "source": [
    "recs = recom.recommend_multicore(interactions=train, batch_size=10_000, num_cpus=20, \n",
    "                                    remove_seen=False, white_list_mb_item=None, cutoff=100)"
   ]
  },
  {
   "cell_type": "code",
   "execution_count": 9,
   "metadata": {},
   "outputs": [
    {
     "data": {
      "text/html": [
       "<div>\n",
       "<style scoped>\n",
       "    .dataframe tbody tr th:only-of-type {\n",
       "        vertical-align: middle;\n",
       "    }\n",
       "\n",
       "    .dataframe tbody tr th {\n",
       "        vertical-align: top;\n",
       "    }\n",
       "\n",
       "    .dataframe thead th {\n",
       "        text-align: right;\n",
       "    }\n",
       "</style>\n",
       "<table border=\"1\" class=\"dataframe\">\n",
       "  <thead>\n",
       "    <tr style=\"text-align: right;\">\n",
       "      <th></th>\n",
       "      <th>customer_id</th>\n",
       "      <th>article_id</th>\n",
       "      <th>prediction</th>\n",
       "      <th>rank</th>\n",
       "    </tr>\n",
       "  </thead>\n",
       "  <tbody>\n",
       "    <tr>\n",
       "      <th>0</th>\n",
       "      <td>0</td>\n",
       "      <td>1482</td>\n",
       "      <td>0.010251</td>\n",
       "      <td>1</td>\n",
       "    </tr>\n",
       "    <tr>\n",
       "      <th>1</th>\n",
       "      <td>0</td>\n",
       "      <td>1638</td>\n",
       "      <td>0.010230</td>\n",
       "      <td>2</td>\n",
       "    </tr>\n",
       "    <tr>\n",
       "      <th>2</th>\n",
       "      <td>0</td>\n",
       "      <td>1797</td>\n",
       "      <td>0.009971</td>\n",
       "      <td>3</td>\n",
       "    </tr>\n",
       "    <tr>\n",
       "      <th>3</th>\n",
       "      <td>0</td>\n",
       "      <td>4861</td>\n",
       "      <td>0.006985</td>\n",
       "      <td>4</td>\n",
       "    </tr>\n",
       "    <tr>\n",
       "      <th>4</th>\n",
       "      <td>0</td>\n",
       "      <td>1652</td>\n",
       "      <td>0.006964</td>\n",
       "      <td>5</td>\n",
       "    </tr>\n",
       "    <tr>\n",
       "      <th>...</th>\n",
       "      <td>...</td>\n",
       "      <td>...</td>\n",
       "      <td>...</td>\n",
       "      <td>...</td>\n",
       "    </tr>\n",
       "    <tr>\n",
       "      <th>998795</th>\n",
       "      <td>1128715</td>\n",
       "      <td>15319</td>\n",
       "      <td>0.011680</td>\n",
       "      <td>96</td>\n",
       "    </tr>\n",
       "    <tr>\n",
       "      <th>998796</th>\n",
       "      <td>1128715</td>\n",
       "      <td>14259</td>\n",
       "      <td>0.011673</td>\n",
       "      <td>97</td>\n",
       "    </tr>\n",
       "    <tr>\n",
       "      <th>998797</th>\n",
       "      <td>1128715</td>\n",
       "      <td>15301</td>\n",
       "      <td>0.011666</td>\n",
       "      <td>98</td>\n",
       "    </tr>\n",
       "    <tr>\n",
       "      <th>998798</th>\n",
       "      <td>1128715</td>\n",
       "      <td>12685</td>\n",
       "      <td>0.011542</td>\n",
       "      <td>99</td>\n",
       "    </tr>\n",
       "    <tr>\n",
       "      <th>998799</th>\n",
       "      <td>1128715</td>\n",
       "      <td>16899</td>\n",
       "      <td>0.011531</td>\n",
       "      <td>100</td>\n",
       "    </tr>\n",
       "  </tbody>\n",
       "</table>\n",
       "<p>112871600 rows × 4 columns</p>\n",
       "</div>"
      ],
      "text/plain": [
       "        customer_id  article_id  prediction  rank\n",
       "0                 0        1482    0.010251     1\n",
       "1                 0        1638    0.010230     2\n",
       "2                 0        1797    0.009971     3\n",
       "3                 0        4861    0.006985     4\n",
       "4                 0        1652    0.006964     5\n",
       "...             ...         ...         ...   ...\n",
       "998795      1128715       15319    0.011680    96\n",
       "998796      1128715       14259    0.011673    97\n",
       "998797      1128715       15301    0.011666    98\n",
       "998798      1128715       12685    0.011542    99\n",
       "998799      1128715       16899    0.011531   100\n",
       "\n",
       "[112871600 rows x 4 columns]"
      ]
     },
     "execution_count": 9,
     "metadata": {},
     "output_type": "execute_result"
    }
   ],
   "source": [
    "recs"
   ]
  },
  {
   "cell_type": "code",
   "execution_count": 68,
   "metadata": {},
   "outputs": [],
   "source": [
    "recs = recs.reset_index(drop=True).reset_index()"
   ]
  },
  {
   "cell_type": "code",
   "execution_count": 43,
   "metadata": {},
   "outputs": [],
   "source": [
    "train_no_dup = train[~train[[DEFAULT_USER_COL, DEFAULT_ITEM_COL]].duplicated()]"
   ]
  },
  {
   "cell_type": "code",
   "execution_count": 44,
   "metadata": {},
   "outputs": [
    {
     "data": {
      "text/html": [
       "<div>\n",
       "<style scoped>\n",
       "    .dataframe tbody tr th:only-of-type {\n",
       "        vertical-align: middle;\n",
       "    }\n",
       "\n",
       "    .dataframe tbody tr th {\n",
       "        vertical-align: top;\n",
       "    }\n",
       "\n",
       "    .dataframe thead th {\n",
       "        text-align: right;\n",
       "    }\n",
       "</style>\n",
       "<table border=\"1\" class=\"dataframe\">\n",
       "  <thead>\n",
       "    <tr style=\"text-align: right;\">\n",
       "      <th></th>\n",
       "      <th>t_dat</th>\n",
       "      <th>customer_id</th>\n",
       "      <th>article_id</th>\n",
       "      <th>price</th>\n",
       "      <th>sales_channel_id</th>\n",
       "    </tr>\n",
       "  </thead>\n",
       "  <tbody>\n",
       "    <tr>\n",
       "      <th>0</th>\n",
       "      <td>2018-09-20</td>\n",
       "      <td>0</td>\n",
       "      <td>0</td>\n",
       "      <td>0.008458</td>\n",
       "      <td>2</td>\n",
       "    </tr>\n",
       "    <tr>\n",
       "      <th>1</th>\n",
       "      <td>2018-09-20</td>\n",
       "      <td>0</td>\n",
       "      <td>0</td>\n",
       "      <td>0.008458</td>\n",
       "      <td>2</td>\n",
       "    </tr>\n",
       "    <tr>\n",
       "      <th>2</th>\n",
       "      <td>2018-09-20</td>\n",
       "      <td>1</td>\n",
       "      <td>1</td>\n",
       "      <td>0.033881</td>\n",
       "      <td>1</td>\n",
       "    </tr>\n",
       "    <tr>\n",
       "      <th>3</th>\n",
       "      <td>2018-09-20</td>\n",
       "      <td>2</td>\n",
       "      <td>2</td>\n",
       "      <td>0.021593</td>\n",
       "      <td>1</td>\n",
       "    </tr>\n",
       "    <tr>\n",
       "      <th>4</th>\n",
       "      <td>2018-09-20</td>\n",
       "      <td>3</td>\n",
       "      <td>3</td>\n",
       "      <td>0.022017</td>\n",
       "      <td>2</td>\n",
       "    </tr>\n",
       "    <tr>\n",
       "      <th>...</th>\n",
       "      <td>...</td>\n",
       "      <td>...</td>\n",
       "      <td>...</td>\n",
       "      <td>...</td>\n",
       "      <td>...</td>\n",
       "    </tr>\n",
       "    <tr>\n",
       "      <th>14094719</th>\n",
       "      <td>2020-09-14</td>\n",
       "      <td>422963</td>\n",
       "      <td>15729</td>\n",
       "      <td>0.025407</td>\n",
       "      <td>1</td>\n",
       "    </tr>\n",
       "    <tr>\n",
       "      <th>14094720</th>\n",
       "      <td>2020-09-14</td>\n",
       "      <td>422963</td>\n",
       "      <td>119</td>\n",
       "      <td>0.033881</td>\n",
       "      <td>1</td>\n",
       "    </tr>\n",
       "    <tr>\n",
       "      <th>14094721</th>\n",
       "      <td>2020-09-14</td>\n",
       "      <td>422963</td>\n",
       "      <td>14206</td>\n",
       "      <td>0.030492</td>\n",
       "      <td>1</td>\n",
       "    </tr>\n",
       "    <tr>\n",
       "      <th>14094722</th>\n",
       "      <td>2020-09-14</td>\n",
       "      <td>422963</td>\n",
       "      <td>8827</td>\n",
       "      <td>0.016932</td>\n",
       "      <td>1</td>\n",
       "    </tr>\n",
       "    <tr>\n",
       "      <th>14094723</th>\n",
       "      <td>2020-09-14</td>\n",
       "      <td>422963</td>\n",
       "      <td>20096</td>\n",
       "      <td>0.042356</td>\n",
       "      <td>1</td>\n",
       "    </tr>\n",
       "  </tbody>\n",
       "</table>\n",
       "<p>14094724 rows × 5 columns</p>\n",
       "</div>"
      ],
      "text/plain": [
       "              t_dat  customer_id  article_id     price  sales_channel_id\n",
       "0        2018-09-20            0           0  0.008458                 2\n",
       "1        2018-09-20            0           0  0.008458                 2\n",
       "2        2018-09-20            1           1  0.033881                 1\n",
       "3        2018-09-20            2           2  0.021593                 1\n",
       "4        2018-09-20            3           3  0.022017                 2\n",
       "...             ...          ...         ...       ...               ...\n",
       "14094719 2020-09-14       422963       15729  0.025407                 1\n",
       "14094720 2020-09-14       422963         119  0.033881                 1\n",
       "14094721 2020-09-14       422963       14206  0.030492                 1\n",
       "14094722 2020-09-14       422963        8827  0.016932                 1\n",
       "14094723 2020-09-14       422963       20096  0.042356                 1\n",
       "\n",
       "[14094724 rows x 5 columns]"
      ]
     },
     "execution_count": 44,
     "metadata": {},
     "output_type": "execute_result"
    }
   ],
   "source": [
    "train"
   ]
  },
  {
   "cell_type": "code",
   "execution_count": 45,
   "metadata": {},
   "outputs": [
    {
     "data": {
      "text/html": [
       "<div>\n",
       "<style scoped>\n",
       "    .dataframe tbody tr th:only-of-type {\n",
       "        vertical-align: middle;\n",
       "    }\n",
       "\n",
       "    .dataframe tbody tr th {\n",
       "        vertical-align: top;\n",
       "    }\n",
       "\n",
       "    .dataframe thead th {\n",
       "        text-align: right;\n",
       "    }\n",
       "</style>\n",
       "<table border=\"1\" class=\"dataframe\">\n",
       "  <thead>\n",
       "    <tr style=\"text-align: right;\">\n",
       "      <th></th>\n",
       "      <th>t_dat</th>\n",
       "      <th>customer_id</th>\n",
       "      <th>article_id</th>\n",
       "      <th>price</th>\n",
       "      <th>sales_channel_id</th>\n",
       "    </tr>\n",
       "  </thead>\n",
       "  <tbody>\n",
       "    <tr>\n",
       "      <th>0</th>\n",
       "      <td>2018-09-20</td>\n",
       "      <td>0</td>\n",
       "      <td>0</td>\n",
       "      <td>0.008458</td>\n",
       "      <td>2</td>\n",
       "    </tr>\n",
       "    <tr>\n",
       "      <th>2</th>\n",
       "      <td>2018-09-20</td>\n",
       "      <td>1</td>\n",
       "      <td>1</td>\n",
       "      <td>0.033881</td>\n",
       "      <td>1</td>\n",
       "    </tr>\n",
       "    <tr>\n",
       "      <th>3</th>\n",
       "      <td>2018-09-20</td>\n",
       "      <td>2</td>\n",
       "      <td>2</td>\n",
       "      <td>0.021593</td>\n",
       "      <td>1</td>\n",
       "    </tr>\n",
       "    <tr>\n",
       "      <th>4</th>\n",
       "      <td>2018-09-20</td>\n",
       "      <td>3</td>\n",
       "      <td>3</td>\n",
       "      <td>0.022017</td>\n",
       "      <td>2</td>\n",
       "    </tr>\n",
       "    <tr>\n",
       "      <th>6</th>\n",
       "      <td>2018-09-20</td>\n",
       "      <td>4</td>\n",
       "      <td>4</td>\n",
       "      <td>0.032186</td>\n",
       "      <td>2</td>\n",
       "    </tr>\n",
       "    <tr>\n",
       "      <th>...</th>\n",
       "      <td>...</td>\n",
       "      <td>...</td>\n",
       "      <td>...</td>\n",
       "      <td>...</td>\n",
       "      <td>...</td>\n",
       "    </tr>\n",
       "    <tr>\n",
       "      <th>14094719</th>\n",
       "      <td>2020-09-14</td>\n",
       "      <td>422963</td>\n",
       "      <td>15729</td>\n",
       "      <td>0.025407</td>\n",
       "      <td>1</td>\n",
       "    </tr>\n",
       "    <tr>\n",
       "      <th>14094720</th>\n",
       "      <td>2020-09-14</td>\n",
       "      <td>422963</td>\n",
       "      <td>119</td>\n",
       "      <td>0.033881</td>\n",
       "      <td>1</td>\n",
       "    </tr>\n",
       "    <tr>\n",
       "      <th>14094721</th>\n",
       "      <td>2020-09-14</td>\n",
       "      <td>422963</td>\n",
       "      <td>14206</td>\n",
       "      <td>0.030492</td>\n",
       "      <td>1</td>\n",
       "    </tr>\n",
       "    <tr>\n",
       "      <th>14094722</th>\n",
       "      <td>2020-09-14</td>\n",
       "      <td>422963</td>\n",
       "      <td>8827</td>\n",
       "      <td>0.016932</td>\n",
       "      <td>1</td>\n",
       "    </tr>\n",
       "    <tr>\n",
       "      <th>14094723</th>\n",
       "      <td>2020-09-14</td>\n",
       "      <td>422963</td>\n",
       "      <td>20096</td>\n",
       "      <td>0.042356</td>\n",
       "      <td>1</td>\n",
       "    </tr>\n",
       "  </tbody>\n",
       "</table>\n",
       "<p>11879588 rows × 5 columns</p>\n",
       "</div>"
      ],
      "text/plain": [
       "              t_dat  customer_id  article_id     price  sales_channel_id\n",
       "0        2018-09-20            0           0  0.008458                 2\n",
       "2        2018-09-20            1           1  0.033881                 1\n",
       "3        2018-09-20            2           2  0.021593                 1\n",
       "4        2018-09-20            3           3  0.022017                 2\n",
       "6        2018-09-20            4           4  0.032186                 2\n",
       "...             ...          ...         ...       ...               ...\n",
       "14094719 2020-09-14       422963       15729  0.025407                 1\n",
       "14094720 2020-09-14       422963         119  0.033881                 1\n",
       "14094721 2020-09-14       422963       14206  0.030492                 1\n",
       "14094722 2020-09-14       422963        8827  0.016932                 1\n",
       "14094723 2020-09-14       422963       20096  0.042356                 1\n",
       "\n",
       "[11879588 rows x 5 columns]"
      ]
     },
     "execution_count": 45,
     "metadata": {},
     "output_type": "execute_result"
    }
   ],
   "source": [
    "train_no_dup"
   ]
  },
  {
   "cell_type": "code",
   "execution_count": 76,
   "metadata": {},
   "outputs": [],
   "source": [
    "hit_df = pd.merge(recs, train_no_dup, on=[DEFAULT_USER_COL, DEFAULT_ITEM_COL])"
   ]
  },
  {
   "cell_type": "code",
   "execution_count": 57,
   "metadata": {},
   "outputs": [
    {
     "data": {
      "text/html": [
       "<div>\n",
       "<style scoped>\n",
       "    .dataframe tbody tr th:only-of-type {\n",
       "        vertical-align: middle;\n",
       "    }\n",
       "\n",
       "    .dataframe tbody tr th {\n",
       "        vertical-align: top;\n",
       "    }\n",
       "\n",
       "    .dataframe thead th {\n",
       "        text-align: right;\n",
       "    }\n",
       "</style>\n",
       "<table border=\"1\" class=\"dataframe\">\n",
       "  <thead>\n",
       "    <tr style=\"text-align: right;\">\n",
       "      <th></th>\n",
       "      <th>index</th>\n",
       "      <th>customer_id</th>\n",
       "      <th>article_id</th>\n",
       "      <th>prediction</th>\n",
       "      <th>rank</th>\n",
       "      <th>relevance</th>\n",
       "      <th>t_dat</th>\n",
       "      <th>price</th>\n",
       "      <th>sales_channel_id</th>\n",
       "    </tr>\n",
       "  </thead>\n",
       "  <tbody>\n",
       "    <tr>\n",
       "      <th>0</th>\n",
       "      <td>0</td>\n",
       "      <td>0</td>\n",
       "      <td>1482</td>\n",
       "      <td>0.010251</td>\n",
       "      <td>1</td>\n",
       "      <td>0</td>\n",
       "      <td>2020-04-15</td>\n",
       "      <td>0.033881</td>\n",
       "      <td>2</td>\n",
       "    </tr>\n",
       "    <tr>\n",
       "      <th>1</th>\n",
       "      <td>1</td>\n",
       "      <td>0</td>\n",
       "      <td>1638</td>\n",
       "      <td>0.010230</td>\n",
       "      <td>2</td>\n",
       "      <td>0</td>\n",
       "      <td>2020-04-15</td>\n",
       "      <td>0.033881</td>\n",
       "      <td>2</td>\n",
       "    </tr>\n",
       "    <tr>\n",
       "      <th>2</th>\n",
       "      <td>2</td>\n",
       "      <td>0</td>\n",
       "      <td>1797</td>\n",
       "      <td>0.009971</td>\n",
       "      <td>3</td>\n",
       "      <td>0</td>\n",
       "      <td>2020-04-15</td>\n",
       "      <td>0.033881</td>\n",
       "      <td>2</td>\n",
       "    </tr>\n",
       "    <tr>\n",
       "      <th>3</th>\n",
       "      <td>3</td>\n",
       "      <td>0</td>\n",
       "      <td>4861</td>\n",
       "      <td>0.006985</td>\n",
       "      <td>4</td>\n",
       "      <td>0</td>\n",
       "      <td>2020-04-15</td>\n",
       "      <td>0.025407</td>\n",
       "      <td>2</td>\n",
       "    </tr>\n",
       "    <tr>\n",
       "      <th>4</th>\n",
       "      <td>4</td>\n",
       "      <td>0</td>\n",
       "      <td>1652</td>\n",
       "      <td>0.006964</td>\n",
       "      <td>5</td>\n",
       "      <td>0</td>\n",
       "      <td>2020-04-15</td>\n",
       "      <td>0.008458</td>\n",
       "      <td>2</td>\n",
       "    </tr>\n",
       "    <tr>\n",
       "      <th>...</th>\n",
       "      <td>...</td>\n",
       "      <td>...</td>\n",
       "      <td>...</td>\n",
       "      <td>...</td>\n",
       "      <td>...</td>\n",
       "      <td>...</td>\n",
       "      <td>...</td>\n",
       "      <td>...</td>\n",
       "      <td>...</td>\n",
       "    </tr>\n",
       "    <tr>\n",
       "      <th>11188544</th>\n",
       "      <td>998707</td>\n",
       "      <td>1128715</td>\n",
       "      <td>15913</td>\n",
       "      <td>0.122632</td>\n",
       "      <td>8</td>\n",
       "      <td>0</td>\n",
       "      <td>2020-09-14</td>\n",
       "      <td>0.050831</td>\n",
       "      <td>2</td>\n",
       "    </tr>\n",
       "    <tr>\n",
       "      <th>11188545</th>\n",
       "      <td>998708</td>\n",
       "      <td>1128715</td>\n",
       "      <td>19166</td>\n",
       "      <td>0.122068</td>\n",
       "      <td>9</td>\n",
       "      <td>0</td>\n",
       "      <td>2020-09-14</td>\n",
       "      <td>0.033881</td>\n",
       "      <td>2</td>\n",
       "    </tr>\n",
       "    <tr>\n",
       "      <th>11188546</th>\n",
       "      <td>998709</td>\n",
       "      <td>1128715</td>\n",
       "      <td>20224</td>\n",
       "      <td>0.117702</td>\n",
       "      <td>10</td>\n",
       "      <td>0</td>\n",
       "      <td>2020-09-14</td>\n",
       "      <td>0.050831</td>\n",
       "      <td>2</td>\n",
       "    </tr>\n",
       "    <tr>\n",
       "      <th>11188547</th>\n",
       "      <td>998710</td>\n",
       "      <td>1128715</td>\n",
       "      <td>17487</td>\n",
       "      <td>0.117553</td>\n",
       "      <td>11</td>\n",
       "      <td>0</td>\n",
       "      <td>2020-09-14</td>\n",
       "      <td>0.218644</td>\n",
       "      <td>2</td>\n",
       "    </tr>\n",
       "    <tr>\n",
       "      <th>11188548</th>\n",
       "      <td>998711</td>\n",
       "      <td>1128715</td>\n",
       "      <td>16652</td>\n",
       "      <td>0.116112</td>\n",
       "      <td>12</td>\n",
       "      <td>0</td>\n",
       "      <td>2020-09-14</td>\n",
       "      <td>0.033881</td>\n",
       "      <td>2</td>\n",
       "    </tr>\n",
       "  </tbody>\n",
       "</table>\n",
       "<p>11188549 rows × 9 columns</p>\n",
       "</div>"
      ],
      "text/plain": [
       "           index  customer_id  article_id  prediction  rank  relevance  \\\n",
       "0              0            0        1482    0.010251     1          0   \n",
       "1              1            0        1638    0.010230     2          0   \n",
       "2              2            0        1797    0.009971     3          0   \n",
       "3              3            0        4861    0.006985     4          0   \n",
       "4              4            0        1652    0.006964     5          0   \n",
       "...          ...          ...         ...         ...   ...        ...   \n",
       "11188544  998707      1128715       15913    0.122632     8          0   \n",
       "11188545  998708      1128715       19166    0.122068     9          0   \n",
       "11188546  998709      1128715       20224    0.117702    10          0   \n",
       "11188547  998710      1128715       17487    0.117553    11          0   \n",
       "11188548  998711      1128715       16652    0.116112    12          0   \n",
       "\n",
       "              t_dat     price  sales_channel_id  \n",
       "0        2020-04-15  0.033881                 2  \n",
       "1        2020-04-15  0.033881                 2  \n",
       "2        2020-04-15  0.033881                 2  \n",
       "3        2020-04-15  0.025407                 2  \n",
       "4        2020-04-15  0.008458                 2  \n",
       "...             ...       ...               ...  \n",
       "11188544 2020-09-14  0.050831                 2  \n",
       "11188545 2020-09-14  0.033881                 2  \n",
       "11188546 2020-09-14  0.050831                 2  \n",
       "11188547 2020-09-14  0.218644                 2  \n",
       "11188548 2020-09-14  0.033881                 2  \n",
       "\n",
       "[11188549 rows x 9 columns]"
      ]
     },
     "execution_count": 57,
     "metadata": {},
     "output_type": "execute_result"
    }
   ],
   "source": [
    "hit_df"
   ]
  },
  {
   "cell_type": "code",
   "execution_count": 77,
   "metadata": {},
   "outputs": [],
   "source": [
    "hit_index = hit_df[\"index\"]"
   ]
  },
  {
   "cell_type": "code",
   "execution_count": 78,
   "metadata": {},
   "outputs": [
    {
     "data": {
      "text/plain": [
       "0                   0\n",
       "1                   1\n",
       "2                   2\n",
       "3                   3\n",
       "4                   4\n",
       "              ...    \n",
       "11188544    112871507\n",
       "11188545    112871508\n",
       "11188546    112871509\n",
       "11188547    112871510\n",
       "11188548    112871511\n",
       "Name: index, Length: 11188549, dtype: int64"
      ]
     },
     "execution_count": 78,
     "metadata": {},
     "output_type": "execute_result"
    }
   ],
   "source": [
    "hit_index"
   ]
  },
  {
   "cell_type": "code",
   "execution_count": 79,
   "metadata": {},
   "outputs": [
    {
     "data": {
      "text/plain": [
       "11188549"
      ]
     },
     "execution_count": 79,
     "metadata": {},
     "output_type": "execute_result"
    }
   ],
   "source": [
    "len(hit_index.unique())"
   ]
  },
  {
   "cell_type": "code",
   "execution_count": 80,
   "metadata": {},
   "outputs": [],
   "source": [
    "recs[\"relevance\"] = 0"
   ]
  },
  {
   "cell_type": "code",
   "execution_count": 81,
   "metadata": {},
   "outputs": [
    {
     "data": {
      "text/html": [
       "<div>\n",
       "<style scoped>\n",
       "    .dataframe tbody tr th:only-of-type {\n",
       "        vertical-align: middle;\n",
       "    }\n",
       "\n",
       "    .dataframe tbody tr th {\n",
       "        vertical-align: top;\n",
       "    }\n",
       "\n",
       "    .dataframe thead th {\n",
       "        text-align: right;\n",
       "    }\n",
       "</style>\n",
       "<table border=\"1\" class=\"dataframe\">\n",
       "  <thead>\n",
       "    <tr style=\"text-align: right;\">\n",
       "      <th></th>\n",
       "      <th>index</th>\n",
       "      <th>customer_id</th>\n",
       "      <th>article_id</th>\n",
       "      <th>prediction</th>\n",
       "      <th>rank</th>\n",
       "      <th>relevance</th>\n",
       "    </tr>\n",
       "  </thead>\n",
       "  <tbody>\n",
       "    <tr>\n",
       "      <th>0</th>\n",
       "      <td>0</td>\n",
       "      <td>0</td>\n",
       "      <td>1482</td>\n",
       "      <td>0.010251</td>\n",
       "      <td>1</td>\n",
       "      <td>0</td>\n",
       "    </tr>\n",
       "    <tr>\n",
       "      <th>1</th>\n",
       "      <td>1</td>\n",
       "      <td>0</td>\n",
       "      <td>1638</td>\n",
       "      <td>0.010230</td>\n",
       "      <td>2</td>\n",
       "      <td>0</td>\n",
       "    </tr>\n",
       "    <tr>\n",
       "      <th>2</th>\n",
       "      <td>2</td>\n",
       "      <td>0</td>\n",
       "      <td>1797</td>\n",
       "      <td>0.009971</td>\n",
       "      <td>3</td>\n",
       "      <td>0</td>\n",
       "    </tr>\n",
       "    <tr>\n",
       "      <th>3</th>\n",
       "      <td>3</td>\n",
       "      <td>0</td>\n",
       "      <td>4861</td>\n",
       "      <td>0.006985</td>\n",
       "      <td>4</td>\n",
       "      <td>0</td>\n",
       "    </tr>\n",
       "    <tr>\n",
       "      <th>4</th>\n",
       "      <td>4</td>\n",
       "      <td>0</td>\n",
       "      <td>1652</td>\n",
       "      <td>0.006964</td>\n",
       "      <td>5</td>\n",
       "      <td>0</td>\n",
       "    </tr>\n",
       "    <tr>\n",
       "      <th>...</th>\n",
       "      <td>...</td>\n",
       "      <td>...</td>\n",
       "      <td>...</td>\n",
       "      <td>...</td>\n",
       "      <td>...</td>\n",
       "      <td>...</td>\n",
       "    </tr>\n",
       "    <tr>\n",
       "      <th>112871595</th>\n",
       "      <td>112871595</td>\n",
       "      <td>1128715</td>\n",
       "      <td>15319</td>\n",
       "      <td>0.011680</td>\n",
       "      <td>96</td>\n",
       "      <td>0</td>\n",
       "    </tr>\n",
       "    <tr>\n",
       "      <th>112871596</th>\n",
       "      <td>112871596</td>\n",
       "      <td>1128715</td>\n",
       "      <td>14259</td>\n",
       "      <td>0.011673</td>\n",
       "      <td>97</td>\n",
       "      <td>0</td>\n",
       "    </tr>\n",
       "    <tr>\n",
       "      <th>112871597</th>\n",
       "      <td>112871597</td>\n",
       "      <td>1128715</td>\n",
       "      <td>15301</td>\n",
       "      <td>0.011666</td>\n",
       "      <td>98</td>\n",
       "      <td>0</td>\n",
       "    </tr>\n",
       "    <tr>\n",
       "      <th>112871598</th>\n",
       "      <td>112871598</td>\n",
       "      <td>1128715</td>\n",
       "      <td>12685</td>\n",
       "      <td>0.011542</td>\n",
       "      <td>99</td>\n",
       "      <td>0</td>\n",
       "    </tr>\n",
       "    <tr>\n",
       "      <th>112871599</th>\n",
       "      <td>112871599</td>\n",
       "      <td>1128715</td>\n",
       "      <td>16899</td>\n",
       "      <td>0.011531</td>\n",
       "      <td>100</td>\n",
       "      <td>0</td>\n",
       "    </tr>\n",
       "  </tbody>\n",
       "</table>\n",
       "<p>112871600 rows × 6 columns</p>\n",
       "</div>"
      ],
      "text/plain": [
       "               index  customer_id  article_id  prediction  rank  relevance\n",
       "0                  0            0        1482    0.010251     1          0\n",
       "1                  1            0        1638    0.010230     2          0\n",
       "2                  2            0        1797    0.009971     3          0\n",
       "3                  3            0        4861    0.006985     4          0\n",
       "4                  4            0        1652    0.006964     5          0\n",
       "...              ...          ...         ...         ...   ...        ...\n",
       "112871595  112871595      1128715       15319    0.011680    96          0\n",
       "112871596  112871596      1128715       14259    0.011673    97          0\n",
       "112871597  112871597      1128715       15301    0.011666    98          0\n",
       "112871598  112871598      1128715       12685    0.011542    99          0\n",
       "112871599  112871599      1128715       16899    0.011531   100          0\n",
       "\n",
       "[112871600 rows x 6 columns]"
      ]
     },
     "execution_count": 81,
     "metadata": {},
     "output_type": "execute_result"
    }
   ],
   "source": [
    "recs"
   ]
  },
  {
   "cell_type": "code",
   "execution_count": 82,
   "metadata": {},
   "outputs": [],
   "source": [
    "recs.loc[recs[\"index\"].isin(hit_index), \"relevance\"] = 1"
   ]
  },
  {
   "cell_type": "code",
   "execution_count": 83,
   "metadata": {},
   "outputs": [
    {
     "data": {
      "text/html": [
       "<div>\n",
       "<style scoped>\n",
       "    .dataframe tbody tr th:only-of-type {\n",
       "        vertical-align: middle;\n",
       "    }\n",
       "\n",
       "    .dataframe tbody tr th {\n",
       "        vertical-align: top;\n",
       "    }\n",
       "\n",
       "    .dataframe thead th {\n",
       "        text-align: right;\n",
       "    }\n",
       "</style>\n",
       "<table border=\"1\" class=\"dataframe\">\n",
       "  <thead>\n",
       "    <tr style=\"text-align: right;\">\n",
       "      <th></th>\n",
       "      <th>index</th>\n",
       "      <th>customer_id</th>\n",
       "      <th>article_id</th>\n",
       "      <th>prediction</th>\n",
       "      <th>rank</th>\n",
       "      <th>relevance</th>\n",
       "    </tr>\n",
       "  </thead>\n",
       "  <tbody>\n",
       "    <tr>\n",
       "      <th>0</th>\n",
       "      <td>0</td>\n",
       "      <td>0</td>\n",
       "      <td>1482</td>\n",
       "      <td>0.010251</td>\n",
       "      <td>1</td>\n",
       "      <td>1</td>\n",
       "    </tr>\n",
       "    <tr>\n",
       "      <th>1</th>\n",
       "      <td>1</td>\n",
       "      <td>0</td>\n",
       "      <td>1638</td>\n",
       "      <td>0.010230</td>\n",
       "      <td>2</td>\n",
       "      <td>1</td>\n",
       "    </tr>\n",
       "    <tr>\n",
       "      <th>2</th>\n",
       "      <td>2</td>\n",
       "      <td>0</td>\n",
       "      <td>1797</td>\n",
       "      <td>0.009971</td>\n",
       "      <td>3</td>\n",
       "      <td>1</td>\n",
       "    </tr>\n",
       "    <tr>\n",
       "      <th>3</th>\n",
       "      <td>3</td>\n",
       "      <td>0</td>\n",
       "      <td>4861</td>\n",
       "      <td>0.006985</td>\n",
       "      <td>4</td>\n",
       "      <td>1</td>\n",
       "    </tr>\n",
       "    <tr>\n",
       "      <th>4</th>\n",
       "      <td>4</td>\n",
       "      <td>0</td>\n",
       "      <td>1652</td>\n",
       "      <td>0.006964</td>\n",
       "      <td>5</td>\n",
       "      <td>1</td>\n",
       "    </tr>\n",
       "    <tr>\n",
       "      <th>...</th>\n",
       "      <td>...</td>\n",
       "      <td>...</td>\n",
       "      <td>...</td>\n",
       "      <td>...</td>\n",
       "      <td>...</td>\n",
       "      <td>...</td>\n",
       "    </tr>\n",
       "    <tr>\n",
       "      <th>112871507</th>\n",
       "      <td>112871507</td>\n",
       "      <td>1128715</td>\n",
       "      <td>15913</td>\n",
       "      <td>0.122632</td>\n",
       "      <td>8</td>\n",
       "      <td>1</td>\n",
       "    </tr>\n",
       "    <tr>\n",
       "      <th>112871508</th>\n",
       "      <td>112871508</td>\n",
       "      <td>1128715</td>\n",
       "      <td>19166</td>\n",
       "      <td>0.122068</td>\n",
       "      <td>9</td>\n",
       "      <td>1</td>\n",
       "    </tr>\n",
       "    <tr>\n",
       "      <th>112871509</th>\n",
       "      <td>112871509</td>\n",
       "      <td>1128715</td>\n",
       "      <td>20224</td>\n",
       "      <td>0.117702</td>\n",
       "      <td>10</td>\n",
       "      <td>1</td>\n",
       "    </tr>\n",
       "    <tr>\n",
       "      <th>112871510</th>\n",
       "      <td>112871510</td>\n",
       "      <td>1128715</td>\n",
       "      <td>17487</td>\n",
       "      <td>0.117553</td>\n",
       "      <td>11</td>\n",
       "      <td>1</td>\n",
       "    </tr>\n",
       "    <tr>\n",
       "      <th>112871511</th>\n",
       "      <td>112871511</td>\n",
       "      <td>1128715</td>\n",
       "      <td>16652</td>\n",
       "      <td>0.116112</td>\n",
       "      <td>12</td>\n",
       "      <td>1</td>\n",
       "    </tr>\n",
       "  </tbody>\n",
       "</table>\n",
       "<p>11188549 rows × 6 columns</p>\n",
       "</div>"
      ],
      "text/plain": [
       "               index  customer_id  article_id  prediction  rank  relevance\n",
       "0                  0            0        1482    0.010251     1          1\n",
       "1                  1            0        1638    0.010230     2          1\n",
       "2                  2            0        1797    0.009971     3          1\n",
       "3                  3            0        4861    0.006985     4          1\n",
       "4                  4            0        1652    0.006964     5          1\n",
       "...              ...          ...         ...         ...   ...        ...\n",
       "112871507  112871507      1128715       15913    0.122632     8          1\n",
       "112871508  112871508      1128715       19166    0.122068     9          1\n",
       "112871509  112871509      1128715       20224    0.117702    10          1\n",
       "112871510  112871510      1128715       17487    0.117553    11          1\n",
       "112871511  112871511      1128715       16652    0.116112    12          1\n",
       "\n",
       "[11188549 rows x 6 columns]"
      ]
     },
     "execution_count": 83,
     "metadata": {},
     "output_type": "execute_result"
    }
   ],
   "source": [
    "recs[recs[\"relevance\"]==1]"
   ]
  },
  {
   "cell_type": "code",
   "execution_count": 84,
   "metadata": {},
   "outputs": [
    {
     "data": {
      "text/html": [
       "<div>\n",
       "<style scoped>\n",
       "    .dataframe tbody tr th:only-of-type {\n",
       "        vertical-align: middle;\n",
       "    }\n",
       "\n",
       "    .dataframe tbody tr th {\n",
       "        vertical-align: top;\n",
       "    }\n",
       "\n",
       "    .dataframe thead th {\n",
       "        text-align: right;\n",
       "    }\n",
       "</style>\n",
       "<table border=\"1\" class=\"dataframe\">\n",
       "  <thead>\n",
       "    <tr style=\"text-align: right;\">\n",
       "      <th></th>\n",
       "      <th>index</th>\n",
       "      <th>customer_id</th>\n",
       "      <th>article_id</th>\n",
       "      <th>prediction</th>\n",
       "      <th>rank</th>\n",
       "      <th>relevance</th>\n",
       "      <th>t_dat</th>\n",
       "      <th>price</th>\n",
       "      <th>sales_channel_id</th>\n",
       "    </tr>\n",
       "  </thead>\n",
       "  <tbody>\n",
       "    <tr>\n",
       "      <th>0</th>\n",
       "      <td>0</td>\n",
       "      <td>0</td>\n",
       "      <td>1482</td>\n",
       "      <td>0.010251</td>\n",
       "      <td>1</td>\n",
       "      <td>1</td>\n",
       "      <td>2020-04-15</td>\n",
       "      <td>0.033881</td>\n",
       "      <td>2</td>\n",
       "    </tr>\n",
       "    <tr>\n",
       "      <th>1</th>\n",
       "      <td>1</td>\n",
       "      <td>0</td>\n",
       "      <td>1638</td>\n",
       "      <td>0.010230</td>\n",
       "      <td>2</td>\n",
       "      <td>1</td>\n",
       "      <td>2020-04-15</td>\n",
       "      <td>0.033881</td>\n",
       "      <td>2</td>\n",
       "    </tr>\n",
       "    <tr>\n",
       "      <th>2</th>\n",
       "      <td>2</td>\n",
       "      <td>0</td>\n",
       "      <td>1797</td>\n",
       "      <td>0.009971</td>\n",
       "      <td>3</td>\n",
       "      <td>1</td>\n",
       "      <td>2020-04-15</td>\n",
       "      <td>0.033881</td>\n",
       "      <td>2</td>\n",
       "    </tr>\n",
       "    <tr>\n",
       "      <th>3</th>\n",
       "      <td>3</td>\n",
       "      <td>0</td>\n",
       "      <td>4861</td>\n",
       "      <td>0.006985</td>\n",
       "      <td>4</td>\n",
       "      <td>1</td>\n",
       "      <td>2020-04-15</td>\n",
       "      <td>0.025407</td>\n",
       "      <td>2</td>\n",
       "    </tr>\n",
       "    <tr>\n",
       "      <th>4</th>\n",
       "      <td>4</td>\n",
       "      <td>0</td>\n",
       "      <td>1652</td>\n",
       "      <td>0.006964</td>\n",
       "      <td>5</td>\n",
       "      <td>1</td>\n",
       "      <td>2020-04-15</td>\n",
       "      <td>0.008458</td>\n",
       "      <td>2</td>\n",
       "    </tr>\n",
       "    <tr>\n",
       "      <th>...</th>\n",
       "      <td>...</td>\n",
       "      <td>...</td>\n",
       "      <td>...</td>\n",
       "      <td>...</td>\n",
       "      <td>...</td>\n",
       "      <td>...</td>\n",
       "      <td>...</td>\n",
       "      <td>...</td>\n",
       "      <td>...</td>\n",
       "    </tr>\n",
       "    <tr>\n",
       "      <th>11188544</th>\n",
       "      <td>112871507</td>\n",
       "      <td>1128715</td>\n",
       "      <td>15913</td>\n",
       "      <td>0.122632</td>\n",
       "      <td>8</td>\n",
       "      <td>1</td>\n",
       "      <td>2020-09-14</td>\n",
       "      <td>0.050831</td>\n",
       "      <td>2</td>\n",
       "    </tr>\n",
       "    <tr>\n",
       "      <th>11188545</th>\n",
       "      <td>112871508</td>\n",
       "      <td>1128715</td>\n",
       "      <td>19166</td>\n",
       "      <td>0.122068</td>\n",
       "      <td>9</td>\n",
       "      <td>1</td>\n",
       "      <td>2020-09-14</td>\n",
       "      <td>0.033881</td>\n",
       "      <td>2</td>\n",
       "    </tr>\n",
       "    <tr>\n",
       "      <th>11188546</th>\n",
       "      <td>112871509</td>\n",
       "      <td>1128715</td>\n",
       "      <td>20224</td>\n",
       "      <td>0.117702</td>\n",
       "      <td>10</td>\n",
       "      <td>1</td>\n",
       "      <td>2020-09-14</td>\n",
       "      <td>0.050831</td>\n",
       "      <td>2</td>\n",
       "    </tr>\n",
       "    <tr>\n",
       "      <th>11188547</th>\n",
       "      <td>112871510</td>\n",
       "      <td>1128715</td>\n",
       "      <td>17487</td>\n",
       "      <td>0.117553</td>\n",
       "      <td>11</td>\n",
       "      <td>1</td>\n",
       "      <td>2020-09-14</td>\n",
       "      <td>0.218644</td>\n",
       "      <td>2</td>\n",
       "    </tr>\n",
       "    <tr>\n",
       "      <th>11188548</th>\n",
       "      <td>112871511</td>\n",
       "      <td>1128715</td>\n",
       "      <td>16652</td>\n",
       "      <td>0.116112</td>\n",
       "      <td>12</td>\n",
       "      <td>1</td>\n",
       "      <td>2020-09-14</td>\n",
       "      <td>0.033881</td>\n",
       "      <td>2</td>\n",
       "    </tr>\n",
       "  </tbody>\n",
       "</table>\n",
       "<p>11188549 rows × 9 columns</p>\n",
       "</div>"
      ],
      "text/plain": [
       "              index  customer_id  article_id  prediction  rank  relevance  \\\n",
       "0                 0            0        1482    0.010251     1          1   \n",
       "1                 1            0        1638    0.010230     2          1   \n",
       "2                 2            0        1797    0.009971     3          1   \n",
       "3                 3            0        4861    0.006985     4          1   \n",
       "4                 4            0        1652    0.006964     5          1   \n",
       "...             ...          ...         ...         ...   ...        ...   \n",
       "11188544  112871507      1128715       15913    0.122632     8          1   \n",
       "11188545  112871508      1128715       19166    0.122068     9          1   \n",
       "11188546  112871509      1128715       20224    0.117702    10          1   \n",
       "11188547  112871510      1128715       17487    0.117553    11          1   \n",
       "11188548  112871511      1128715       16652    0.116112    12          1   \n",
       "\n",
       "              t_dat     price  sales_channel_id  \n",
       "0        2020-04-15  0.033881                 2  \n",
       "1        2020-04-15  0.033881                 2  \n",
       "2        2020-04-15  0.033881                 2  \n",
       "3        2020-04-15  0.025407                 2  \n",
       "4        2020-04-15  0.008458                 2  \n",
       "...             ...       ...               ...  \n",
       "11188544 2020-09-14  0.050831                 2  \n",
       "11188545 2020-09-14  0.033881                 2  \n",
       "11188546 2020-09-14  0.050831                 2  \n",
       "11188547 2020-09-14  0.218644                 2  \n",
       "11188548 2020-09-14  0.033881                 2  \n",
       "\n",
       "[11188549 rows x 9 columns]"
      ]
     },
     "execution_count": 84,
     "metadata": {},
     "output_type": "execute_result"
    }
   ],
   "source": [
    "hit_df"
   ]
  },
  {
   "cell_type": "code",
   "execution_count": 89,
   "metadata": {},
   "outputs": [
    {
     "data": {
      "text/html": [
       "<div>\n",
       "<style scoped>\n",
       "    .dataframe tbody tr th:only-of-type {\n",
       "        vertical-align: middle;\n",
       "    }\n",
       "\n",
       "    .dataframe tbody tr th {\n",
       "        vertical-align: top;\n",
       "    }\n",
       "\n",
       "    .dataframe thead th {\n",
       "        text-align: right;\n",
       "    }\n",
       "</style>\n",
       "<table border=\"1\" class=\"dataframe\">\n",
       "  <thead>\n",
       "    <tr style=\"text-align: right;\">\n",
       "      <th></th>\n",
       "      <th>index</th>\n",
       "      <th>customer_id</th>\n",
       "      <th>article_id</th>\n",
       "      <th>prediction</th>\n",
       "      <th>rank</th>\n",
       "      <th>relevance</th>\n",
       "    </tr>\n",
       "  </thead>\n",
       "  <tbody>\n",
       "    <tr>\n",
       "      <th>0</th>\n",
       "      <td>0</td>\n",
       "      <td>0</td>\n",
       "      <td>1482</td>\n",
       "      <td>0.010251</td>\n",
       "      <td>1</td>\n",
       "      <td>1</td>\n",
       "    </tr>\n",
       "    <tr>\n",
       "      <th>1</th>\n",
       "      <td>1</td>\n",
       "      <td>0</td>\n",
       "      <td>1638</td>\n",
       "      <td>0.010230</td>\n",
       "      <td>2</td>\n",
       "      <td>1</td>\n",
       "    </tr>\n",
       "    <tr>\n",
       "      <th>2</th>\n",
       "      <td>2</td>\n",
       "      <td>0</td>\n",
       "      <td>1797</td>\n",
       "      <td>0.009971</td>\n",
       "      <td>3</td>\n",
       "      <td>1</td>\n",
       "    </tr>\n",
       "    <tr>\n",
       "      <th>3</th>\n",
       "      <td>3</td>\n",
       "      <td>0</td>\n",
       "      <td>4861</td>\n",
       "      <td>0.006985</td>\n",
       "      <td>4</td>\n",
       "      <td>1</td>\n",
       "    </tr>\n",
       "    <tr>\n",
       "      <th>4</th>\n",
       "      <td>4</td>\n",
       "      <td>0</td>\n",
       "      <td>1652</td>\n",
       "      <td>0.006964</td>\n",
       "      <td>5</td>\n",
       "      <td>1</td>\n",
       "    </tr>\n",
       "    <tr>\n",
       "      <th>...</th>\n",
       "      <td>...</td>\n",
       "      <td>...</td>\n",
       "      <td>...</td>\n",
       "      <td>...</td>\n",
       "      <td>...</td>\n",
       "      <td>...</td>\n",
       "    </tr>\n",
       "    <tr>\n",
       "      <th>112871595</th>\n",
       "      <td>112871595</td>\n",
       "      <td>1128715</td>\n",
       "      <td>15319</td>\n",
       "      <td>0.011680</td>\n",
       "      <td>96</td>\n",
       "      <td>0</td>\n",
       "    </tr>\n",
       "    <tr>\n",
       "      <th>112871596</th>\n",
       "      <td>112871596</td>\n",
       "      <td>1128715</td>\n",
       "      <td>14259</td>\n",
       "      <td>0.011673</td>\n",
       "      <td>97</td>\n",
       "      <td>0</td>\n",
       "    </tr>\n",
       "    <tr>\n",
       "      <th>112871597</th>\n",
       "      <td>112871597</td>\n",
       "      <td>1128715</td>\n",
       "      <td>15301</td>\n",
       "      <td>0.011666</td>\n",
       "      <td>98</td>\n",
       "      <td>0</td>\n",
       "    </tr>\n",
       "    <tr>\n",
       "      <th>112871598</th>\n",
       "      <td>112871598</td>\n",
       "      <td>1128715</td>\n",
       "      <td>12685</td>\n",
       "      <td>0.011542</td>\n",
       "      <td>99</td>\n",
       "      <td>0</td>\n",
       "    </tr>\n",
       "    <tr>\n",
       "      <th>112871599</th>\n",
       "      <td>112871599</td>\n",
       "      <td>1128715</td>\n",
       "      <td>16899</td>\n",
       "      <td>0.011531</td>\n",
       "      <td>100</td>\n",
       "      <td>0</td>\n",
       "    </tr>\n",
       "  </tbody>\n",
       "</table>\n",
       "<p>112871600 rows × 6 columns</p>\n",
       "</div>"
      ],
      "text/plain": [
       "               index  customer_id  article_id  prediction  rank  relevance\n",
       "0                  0            0        1482    0.010251     1          1\n",
       "1                  1            0        1638    0.010230     2          1\n",
       "2                  2            0        1797    0.009971     3          1\n",
       "3                  3            0        4861    0.006985     4          1\n",
       "4                  4            0        1652    0.006964     5          1\n",
       "...              ...          ...         ...         ...   ...        ...\n",
       "112871595  112871595      1128715       15319    0.011680    96          0\n",
       "112871596  112871596      1128715       14259    0.011673    97          0\n",
       "112871597  112871597      1128715       15301    0.011666    98          0\n",
       "112871598  112871598      1128715       12685    0.011542    99          0\n",
       "112871599  112871599      1128715       16899    0.011531   100          0\n",
       "\n",
       "[112871600 rows x 6 columns]"
      ]
     },
     "execution_count": 89,
     "metadata": {},
     "output_type": "execute_result"
    }
   ],
   "source": [
    "recs"
   ]
  },
  {
   "cell_type": "code",
   "execution_count": 95,
   "metadata": {},
   "outputs": [],
   "source": [
    "recs = recs.drop(\"index\", axis=1)"
   ]
  },
  {
   "cell_type": "code",
   "execution_count": 97,
   "metadata": {},
   "outputs": [],
   "source": [
    "# reset the index to save in feather format\n",
    "recs = recs.reset_index(drop=True)"
   ]
  },
  {
   "cell_type": "code",
   "execution_count": 98,
   "metadata": {},
   "outputs": [
    {
     "data": {
      "text/plain": [
       "PosixPath('/home/edoardo/hnm_data/preprocessed')"
      ]
     },
     "execution_count": 98,
     "metadata": {},
     "output_type": "execute_result"
    }
   ],
   "source": [
    "dr.get_preprocessed_data_path()"
   ]
  },
  {
   "cell_type": "code",
   "execution_count": 99,
   "metadata": {},
   "outputs": [],
   "source": [
    "recs.to_feather(dr.get_preprocessed_data_path() / \"filtered_cosine_cutoff100.feather\")"
   ]
  },
  {
   "cell_type": "code",
   "execution_count": 94,
   "metadata": {},
   "outputs": [
    {
     "data": {
      "text/html": [
       "<div>\n",
       "<style scoped>\n",
       "    .dataframe tbody tr th:only-of-type {\n",
       "        vertical-align: middle;\n",
       "    }\n",
       "\n",
       "    .dataframe tbody tr th {\n",
       "        vertical-align: top;\n",
       "    }\n",
       "\n",
       "    .dataframe thead th {\n",
       "        text-align: right;\n",
       "    }\n",
       "</style>\n",
       "<table border=\"1\" class=\"dataframe\">\n",
       "  <thead>\n",
       "    <tr style=\"text-align: right;\">\n",
       "      <th></th>\n",
       "      <th>t_dat</th>\n",
       "      <th>customer_id</th>\n",
       "      <th>article_id</th>\n",
       "      <th>price</th>\n",
       "      <th>sales_channel_id</th>\n",
       "    </tr>\n",
       "  </thead>\n",
       "  <tbody>\n",
       "  </tbody>\n",
       "</table>\n",
       "</div>"
      ],
      "text/plain": [
       "Empty DataFrame\n",
       "Columns: [t_dat, customer_id, article_id, price, sales_channel_id]\n",
       "Index: []"
      ]
     },
     "execution_count": 94,
     "metadata": {},
     "output_type": "execute_result"
    }
   ],
   "source": [
    "train[(train[DEFAULT_USER_COL]==1128715) & (train[DEFAULT_ITEM_COL]==16899)]"
   ]
  },
  {
   "cell_type": "code",
   "execution_count": 88,
   "metadata": {},
   "outputs": [
    {
     "data": {
      "text/plain": [
       "0"
      ]
     },
     "execution_count": 88,
     "metadata": {},
     "output_type": "execute_result"
    }
   ],
   "source": [
    "recs[\"relevance\"].min()"
   ]
  }
 ],
 "metadata": {
  "interpreter": {
   "hash": "49c059d58f0ec17badd0cdbe6e6b441d467a7aa9fe76b97f622dc3d7d564b644"
  },
  "kernelspec": {
   "display_name": "Python 3.9.7 64-bit ('.venv': poetry)",
   "language": "python",
   "name": "python3"
  },
  "language_info": {
   "codemirror_mode": {
    "name": "ipython",
    "version": 3
   },
   "file_extension": ".py",
   "mimetype": "text/x-python",
   "name": "python",
   "nbconvert_exporter": "python",
   "pygments_lexer": "ipython3",
   "version": "3.9.7"
  },
  "orig_nbformat": 4
 },
 "nbformat": 4,
 "nbformat_minor": 2
}
