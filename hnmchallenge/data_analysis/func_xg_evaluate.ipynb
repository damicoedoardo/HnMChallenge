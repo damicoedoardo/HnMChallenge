{
 "cells": [
  {
   "cell_type": "code",
   "execution_count": 1,
   "metadata": {},
   "outputs": [
    {
     "name": "stderr",
     "output_type": "stream",
     "text": [
      "/home/aayush/.cache/pypoetry/virtualenvs/hnmchallenge-2TdcNkYi-py3.9/lib/python3.9/site-packages/xgboost/compat.py:36: FutureWarning: pandas.Int64Index is deprecated and will be removed from pandas in a future version. Use pandas.Index with the appropriate dtype instead.\n",
      "  from pandas import MultiIndex, Int64Index\n"
     ]
    }
   ],
   "source": [
    "import math\n",
    "\n",
    "import matplotlib.pyplot as plt\n",
    "import numpy as np\n",
    "import pandas as pd\n",
    "import seaborn as sns\n",
    "import xgboost as xgb\n",
    "from xgboost import plot_importance\n",
    "\n",
    "from hnmchallenge.constant import *\n",
    "from hnmchallenge.data_reader import DataReader\n",
    "from hnmchallenge.dataset import Dataset\n",
    "from hnmchallenge.evaluation.python_evaluation import map_at_k, recall_at_k\n",
    "from hnmchallenge.feature_manager import FeatureManager\n",
    "from hnmchallenge.filtered_dataset import FilterdDataset\n",
    "from hnmchallenge.models.ease.ease import EASE\n",
    "from hnmchallenge.models.itemknn.itemknn import ItemKNN\n",
    "from hnmchallenge.models.sgmc.sgmc import SGMC\n",
    "from hnmchallenge.models.top_pop import TopPop\n",
    "from hnmchallenge.stratified_dataset import StratifiedDataset"
   ]
  },
  {
   "cell_type": "code",
   "execution_count": 2,
   "metadata": {},
   "outputs": [],
   "source": [
    "dataset = StratifiedDataset()\n",
    "dr = DataReader()"
   ]
  },
  {
   "cell_type": "code",
   "execution_count": 3,
   "metadata": {},
   "outputs": [],
   "source": [
    "base_load_path = dr.get_preprocessed_data_path() / \"xgb_models\""
   ]
  },
  {
   "cell_type": "code",
   "execution_count": 4,
   "metadata": {},
   "outputs": [],
   "source": [
    "MODEL_NAME = \"xgb_v4.json\""
   ]
  },
  {
   "cell_type": "code",
   "execution_count": 5,
   "metadata": {},
   "outputs": [],
   "source": [
    "model = xgb.XGBRanker()\n",
    "model.load_model(base_load_path/MODEL_NAME)"
   ]
  },
  {
   "cell_type": "code",
   "execution_count": 6,
   "metadata": {},
   "outputs": [
    {
     "data": {
      "text/plain": [
       "120"
      ]
     },
     "execution_count": 6,
     "metadata": {},
     "output_type": "execute_result"
    }
   ],
   "source": [
    "model.best_ntree_limit"
   ]
  },
  {
   "cell_type": "code",
   "execution_count": 7,
   "metadata": {},
   "outputs": [],
   "source": [
    "features = pd.read_feather(dr.get_preprocessed_data_path()/ \"xgb_predictions_datasets\" / \"dataset_v4.feather\")"
   ]
  },
  {
   "cell_type": "code",
   "execution_count": 8,
   "metadata": {},
   "outputs": [],
   "source": [
    "customer_article_df = features[[DEFAULT_USER_COL, DEFAULT_ITEM_COL]].copy()\n",
    "X = features.drop([DEFAULT_USER_COL, DEFAULT_ITEM_COL], axis=1)"
   ]
  },
  {
   "cell_type": "code",
   "execution_count": 9,
   "metadata": {},
   "outputs": [
    {
     "data": {
      "text/html": [
       "<div>\n",
       "<style scoped>\n",
       "    .dataframe tbody tr th:only-of-type {\n",
       "        vertical-align: middle;\n",
       "    }\n",
       "\n",
       "    .dataframe tbody tr th {\n",
       "        vertical-align: top;\n",
       "    }\n",
       "\n",
       "    .dataframe thead th {\n",
       "        text-align: right;\n",
       "    }\n",
       "</style>\n",
       "<table border=\"1\" class=\"dataframe\">\n",
       "  <thead>\n",
       "    <tr style=\"text-align: right;\">\n",
       "      <th></th>\n",
       "      <th>ItemKNN_score</th>\n",
       "      <th>ItemKNN_rank</th>\n",
       "      <th>colour_group_code</th>\n",
       "      <th>department_no</th>\n",
       "      <th>popularity</th>\n",
       "      <th>popularity_last_month</th>\n",
       "      <th>number_bought</th>\n",
       "      <th>perceived_colour_master_id</th>\n",
       "      <th>perceived_colour_value_id</th>\n",
       "      <th>product_type_no</th>\n",
       "      <th>section_no</th>\n",
       "      <th>active</th>\n",
       "      <th>age</th>\n",
       "      <th>user_tendency</th>\n",
       "    </tr>\n",
       "  </thead>\n",
       "  <tbody>\n",
       "    <tr>\n",
       "      <th>0</th>\n",
       "      <td>0.010266</td>\n",
       "      <td>1</td>\n",
       "      <td>71</td>\n",
       "      <td>1747</td>\n",
       "      <td>9558.0</td>\n",
       "      <td>93.0</td>\n",
       "      <td>25485</td>\n",
       "      <td>2</td>\n",
       "      <td>3</td>\n",
       "      <td>272</td>\n",
       "      <td>53</td>\n",
       "      <td>0.0</td>\n",
       "      <td>22.0</td>\n",
       "      <td>0.214286</td>\n",
       "    </tr>\n",
       "    <tr>\n",
       "      <th>1</th>\n",
       "      <td>0.010237</td>\n",
       "      <td>2</td>\n",
       "      <td>9</td>\n",
       "      <td>1747</td>\n",
       "      <td>18036.0</td>\n",
       "      <td>315.0</td>\n",
       "      <td>32251</td>\n",
       "      <td>5</td>\n",
       "      <td>4</td>\n",
       "      <td>272</td>\n",
       "      <td>53</td>\n",
       "      <td>0.0</td>\n",
       "      <td>22.0</td>\n",
       "      <td>0.214286</td>\n",
       "    </tr>\n",
       "    <tr>\n",
       "      <th>2</th>\n",
       "      <td>0.009981</td>\n",
       "      <td>3</td>\n",
       "      <td>73</td>\n",
       "      <td>1747</td>\n",
       "      <td>5006.0</td>\n",
       "      <td>142.0</td>\n",
       "      <td>16235</td>\n",
       "      <td>2</td>\n",
       "      <td>2</td>\n",
       "      <td>272</td>\n",
       "      <td>53</td>\n",
       "      <td>0.0</td>\n",
       "      <td>22.0</td>\n",
       "      <td>0.214286</td>\n",
       "    </tr>\n",
       "    <tr>\n",
       "      <th>3</th>\n",
       "      <td>0.006984</td>\n",
       "      <td>4</td>\n",
       "      <td>9</td>\n",
       "      <td>1722</td>\n",
       "      <td>2153.0</td>\n",
       "      <td>121.0</td>\n",
       "      <td>6142</td>\n",
       "      <td>5</td>\n",
       "      <td>4</td>\n",
       "      <td>272</td>\n",
       "      <td>15</td>\n",
       "      <td>0.0</td>\n",
       "      <td>22.0</td>\n",
       "      <td>0.214286</td>\n",
       "    </tr>\n",
       "    <tr>\n",
       "      <th>4</th>\n",
       "      <td>0.006967</td>\n",
       "      <td>5</td>\n",
       "      <td>10</td>\n",
       "      <td>1643</td>\n",
       "      <td>1229.0</td>\n",
       "      <td>NaN</td>\n",
       "      <td>5300</td>\n",
       "      <td>9</td>\n",
       "      <td>3</td>\n",
       "      <td>255</td>\n",
       "      <td>51</td>\n",
       "      <td>0.0</td>\n",
       "      <td>22.0</td>\n",
       "      <td>0.214286</td>\n",
       "    </tr>\n",
       "  </tbody>\n",
       "</table>\n",
       "</div>"
      ],
      "text/plain": [
       "   ItemKNN_score  ItemKNN_rank  colour_group_code  department_no  popularity  \\\n",
       "0       0.010266             1                 71           1747      9558.0   \n",
       "1       0.010237             2                  9           1747     18036.0   \n",
       "2       0.009981             3                 73           1747      5006.0   \n",
       "3       0.006984             4                  9           1722      2153.0   \n",
       "4       0.006967             5                 10           1643      1229.0   \n",
       "\n",
       "   popularity_last_month  number_bought  perceived_colour_master_id  \\\n",
       "0                   93.0          25485                           2   \n",
       "1                  315.0          32251                           5   \n",
       "2                  142.0          16235                           2   \n",
       "3                  121.0           6142                           5   \n",
       "4                    NaN           5300                           9   \n",
       "\n",
       "   perceived_colour_value_id  product_type_no  section_no  active   age  \\\n",
       "0                          3              272          53     0.0  22.0   \n",
       "1                          4              272          53     0.0  22.0   \n",
       "2                          2              272          53     0.0  22.0   \n",
       "3                          4              272          15     0.0  22.0   \n",
       "4                          3              255          51     0.0  22.0   \n",
       "\n",
       "   user_tendency  \n",
       "0       0.214286  \n",
       "1       0.214286  \n",
       "2       0.214286  \n",
       "3       0.214286  \n",
       "4       0.214286  "
      ]
     },
     "execution_count": 9,
     "metadata": {},
     "output_type": "execute_result"
    }
   ],
   "source": [
    "X.head()"
   ]
  },
  {
   "cell_type": "code",
   "execution_count": 10,
   "metadata": {},
   "outputs": [
    {
     "name": "stderr",
     "output_type": "stream",
     "text": [
      "/home/aayush/.cache/pypoetry/virtualenvs/hnmchallenge-2TdcNkYi-py3.9/lib/python3.9/site-packages/xgboost/core.py:105: UserWarning: ntree_limit is deprecated, use `iteration_range` or model slicing instead.\n",
      "  warnings.warn(\n",
      "/home/aayush/.cache/pypoetry/virtualenvs/hnmchallenge-2TdcNkYi-py3.9/lib/python3.9/site-packages/xgboost/data.py:262: FutureWarning: pandas.Int64Index is deprecated and will be removed from pandas in a future version. Use pandas.Index with the appropriate dtype instead.\n",
      "  elif isinstance(data.columns, (pd.Int64Index, pd.RangeIndex)):\n"
     ]
    }
   ],
   "source": [
    "y_pred = model.predict(X, ntree_limit=model.best_ntree_limit)"
   ]
  },
  {
   "cell_type": "code",
   "execution_count": 11,
   "metadata": {},
   "outputs": [],
   "source": [
    "customer_article_df[\"predicted_score\"] = y_pred"
   ]
  },
  {
   "cell_type": "code",
   "execution_count": 12,
   "metadata": {},
   "outputs": [],
   "source": [
    "sorted_scores = customer_article_df.sort_values([DEFAULT_USER_COL, \"predicted_score\"], ascending=False)"
   ]
  },
  {
   "cell_type": "code",
   "execution_count": 13,
   "metadata": {},
   "outputs": [],
   "source": [
    "sorted_scores_index = sorted_scores.reset_index(drop=True)"
   ]
  },
  {
   "cell_type": "code",
   "execution_count": 14,
   "metadata": {},
   "outputs": [
    {
     "data": {
      "text/html": [
       "<div>\n",
       "<style scoped>\n",
       "    .dataframe tbody tr th:only-of-type {\n",
       "        vertical-align: middle;\n",
       "    }\n",
       "\n",
       "    .dataframe tbody tr th {\n",
       "        vertical-align: top;\n",
       "    }\n",
       "\n",
       "    .dataframe thead th {\n",
       "        text-align: right;\n",
       "    }\n",
       "</style>\n",
       "<table border=\"1\" class=\"dataframe\">\n",
       "  <thead>\n",
       "    <tr style=\"text-align: right;\">\n",
       "      <th></th>\n",
       "      <th>customer_id</th>\n",
       "      <th>article_id</th>\n",
       "      <th>predicted_score</th>\n",
       "    </tr>\n",
       "  </thead>\n",
       "  <tbody>\n",
       "    <tr>\n",
       "      <th>0</th>\n",
       "      <td>1136205</td>\n",
       "      <td>7580</td>\n",
       "      <td>2.476382</td>\n",
       "    </tr>\n",
       "    <tr>\n",
       "      <th>1</th>\n",
       "      <td>1136205</td>\n",
       "      <td>15003</td>\n",
       "      <td>2.136454</td>\n",
       "    </tr>\n",
       "    <tr>\n",
       "      <th>2</th>\n",
       "      <td>1136205</td>\n",
       "      <td>1765</td>\n",
       "      <td>1.991270</td>\n",
       "    </tr>\n",
       "    <tr>\n",
       "      <th>3</th>\n",
       "      <td>1136205</td>\n",
       "      <td>838</td>\n",
       "      <td>1.856465</td>\n",
       "    </tr>\n",
       "    <tr>\n",
       "      <th>4</th>\n",
       "      <td>1136205</td>\n",
       "      <td>12955</td>\n",
       "      <td>1.731871</td>\n",
       "    </tr>\n",
       "    <tr>\n",
       "      <th>...</th>\n",
       "      <td>...</td>\n",
       "      <td>...</td>\n",
       "      <td>...</td>\n",
       "    </tr>\n",
       "    <tr>\n",
       "      <th>113620595</th>\n",
       "      <td>0</td>\n",
       "      <td>4018</td>\n",
       "      <td>-3.115914</td>\n",
       "    </tr>\n",
       "    <tr>\n",
       "      <th>113620596</th>\n",
       "      <td>0</td>\n",
       "      <td>2385</td>\n",
       "      <td>-3.121913</td>\n",
       "    </tr>\n",
       "    <tr>\n",
       "      <th>113620597</th>\n",
       "      <td>0</td>\n",
       "      <td>203</td>\n",
       "      <td>-3.408237</td>\n",
       "    </tr>\n",
       "    <tr>\n",
       "      <th>113620598</th>\n",
       "      <td>0</td>\n",
       "      <td>414</td>\n",
       "      <td>-3.422912</td>\n",
       "    </tr>\n",
       "    <tr>\n",
       "      <th>113620599</th>\n",
       "      <td>0</td>\n",
       "      <td>315</td>\n",
       "      <td>-3.700385</td>\n",
       "    </tr>\n",
       "  </tbody>\n",
       "</table>\n",
       "<p>113620600 rows × 3 columns</p>\n",
       "</div>"
      ],
      "text/plain": [
       "           customer_id  article_id  predicted_score\n",
       "0              1136205        7580         2.476382\n",
       "1              1136205       15003         2.136454\n",
       "2              1136205        1765         1.991270\n",
       "3              1136205         838         1.856465\n",
       "4              1136205       12955         1.731871\n",
       "...                ...         ...              ...\n",
       "113620595            0        4018        -3.115914\n",
       "113620596            0        2385        -3.121913\n",
       "113620597            0         203        -3.408237\n",
       "113620598            0         414        -3.422912\n",
       "113620599            0         315        -3.700385\n",
       "\n",
       "[113620600 rows x 3 columns]"
      ]
     },
     "execution_count": 14,
     "metadata": {},
     "output_type": "execute_result"
    }
   ],
   "source": [
    "sorted_scores_index \n"
   ]
  },
  {
   "cell_type": "code",
   "execution_count": 17,
   "metadata": {},
   "outputs": [],
   "source": [
    "cutoff=[]\n",
    "groups = sorted_scores_index.groupby(DEFAULT_USER_COL).size().values"
   ]
  },
  {
   "cell_type": "code",
   "execution_count": 19,
   "metadata": {},
   "outputs": [],
   "source": [
    "cutoff=groups"
   ]
  },
  {
   "cell_type": "code",
   "execution_count": 22,
   "metadata": {},
   "outputs": [
    {
     "data": {
      "text/plain": [
       "array([100, 100, 100, ..., 100, 100, 100])"
      ]
     },
     "execution_count": 22,
     "metadata": {},
     "output_type": "execute_result"
    }
   ],
   "source": [
    "cutoff"
   ]
  },
  {
   "cell_type": "code",
   "execution_count": 21,
   "metadata": {},
   "outputs": [],
   "source": [
    "abc = sorted_scores_index.groupby(DEFAULT_USER_COL)[DEFAULT_ITEM_COL].apply(list)"
   ]
  },
  {
   "cell_type": "code",
   "execution_count": 23,
   "metadata": {},
   "outputs": [],
   "source": [
    "i=0\n",
    "filter_indices = []\n",
    "for cut in cutoff:\n",
    "    filter_indices.extend(range(i, i+12))\n",
    "    i=cut\n"
   ]
  },
  {
   "cell_type": "code",
   "execution_count": 24,
   "metadata": {},
   "outputs": [],
   "source": [
    "final_df = sorted_scores_index.loc[filter_indices]"
   ]
  },
  {
   "cell_type": "code",
   "execution_count": 25,
   "metadata": {},
   "outputs": [
    {
     "data": {
      "text/html": [
       "<div>\n",
       "<style scoped>\n",
       "    .dataframe tbody tr th:only-of-type {\n",
       "        vertical-align: middle;\n",
       "    }\n",
       "\n",
       "    .dataframe tbody tr th {\n",
       "        vertical-align: top;\n",
       "    }\n",
       "\n",
       "    .dataframe thead th {\n",
       "        text-align: right;\n",
       "    }\n",
       "</style>\n",
       "<table border=\"1\" class=\"dataframe\">\n",
       "  <thead>\n",
       "    <tr style=\"text-align: right;\">\n",
       "      <th></th>\n",
       "      <th>customer_id</th>\n",
       "      <th>article_id</th>\n",
       "      <th>predicted_score</th>\n",
       "    </tr>\n",
       "  </thead>\n",
       "  <tbody>\n",
       "    <tr>\n",
       "      <th>0</th>\n",
       "      <td>1136205</td>\n",
       "      <td>7580</td>\n",
       "      <td>2.476382</td>\n",
       "    </tr>\n",
       "    <tr>\n",
       "      <th>1</th>\n",
       "      <td>1136205</td>\n",
       "      <td>15003</td>\n",
       "      <td>2.136454</td>\n",
       "    </tr>\n",
       "    <tr>\n",
       "      <th>2</th>\n",
       "      <td>1136205</td>\n",
       "      <td>1765</td>\n",
       "      <td>1.991270</td>\n",
       "    </tr>\n",
       "    <tr>\n",
       "      <th>3</th>\n",
       "      <td>1136205</td>\n",
       "      <td>838</td>\n",
       "      <td>1.856465</td>\n",
       "    </tr>\n",
       "    <tr>\n",
       "      <th>4</th>\n",
       "      <td>1136205</td>\n",
       "      <td>12955</td>\n",
       "      <td>1.731871</td>\n",
       "    </tr>\n",
       "    <tr>\n",
       "      <th>...</th>\n",
       "      <td>...</td>\n",
       "      <td>...</td>\n",
       "      <td>...</td>\n",
       "    </tr>\n",
       "    <tr>\n",
       "      <th>107</th>\n",
       "      <td>1136204</td>\n",
       "      <td>21592</td>\n",
       "      <td>1.229490</td>\n",
       "    </tr>\n",
       "    <tr>\n",
       "      <th>108</th>\n",
       "      <td>1136204</td>\n",
       "      <td>16023</td>\n",
       "      <td>1.159974</td>\n",
       "    </tr>\n",
       "    <tr>\n",
       "      <th>109</th>\n",
       "      <td>1136204</td>\n",
       "      <td>14384</td>\n",
       "      <td>1.021737</td>\n",
       "    </tr>\n",
       "    <tr>\n",
       "      <th>110</th>\n",
       "      <td>1136204</td>\n",
       "      <td>12872</td>\n",
       "      <td>1.021459</td>\n",
       "    </tr>\n",
       "    <tr>\n",
       "      <th>111</th>\n",
       "      <td>1136204</td>\n",
       "      <td>16477</td>\n",
       "      <td>0.955704</td>\n",
       "    </tr>\n",
       "  </tbody>\n",
       "</table>\n",
       "<p>13634472 rows × 3 columns</p>\n",
       "</div>"
      ],
      "text/plain": [
       "     customer_id  article_id  predicted_score\n",
       "0        1136205        7580         2.476382\n",
       "1        1136205       15003         2.136454\n",
       "2        1136205        1765         1.991270\n",
       "3        1136205         838         1.856465\n",
       "4        1136205       12955         1.731871\n",
       "..           ...         ...              ...\n",
       "107      1136204       21592         1.229490\n",
       "108      1136204       16023         1.159974\n",
       "109      1136204       14384         1.021737\n",
       "110      1136204       12872         1.021459\n",
       "111      1136204       16477         0.955704\n",
       "\n",
       "[13634472 rows x 3 columns]"
      ]
     },
     "execution_count": 25,
     "metadata": {},
     "output_type": "execute_result"
    }
   ],
   "source": [
    "final_df"
   ]
  },
  {
   "cell_type": "code",
   "execution_count": null,
   "metadata": {},
   "outputs": [],
   "source": [
    "CUTOFF = sorted_scores_index.groupby(DEFAULT_USER_COL).size().values\n",
    "filter_indices = []\n",
    "for i in range(len(sorted_scores_index)):\n",
    "    for j in CUTOFF:\n",
    "        if i % j == 0:\n",
    "            filter_indices.extend(range(i, i+12))"
   ]
  }
 ],
 "metadata": {
  "interpreter": {
   "hash": "de506fd929a0e17bc117e411a14c04dcc80817054af17ef91edabe100d67ef14"
  },
  "kernelspec": {
   "display_name": "Python 3.9.7 ('hnmchallenge-2TdcNkYi-py3.9')",
   "language": "python",
   "name": "python3"
  },
  "language_info": {
   "codemirror_mode": {
    "name": "ipython",
    "version": 3
   },
   "file_extension": ".py",
   "mimetype": "text/x-python",
   "name": "python",
   "nbconvert_exporter": "python",
   "pygments_lexer": "ipython3",
   "version": "3.9.7"
  },
  "orig_nbformat": 4
 },
 "nbformat": 4,
 "nbformat_minor": 2
}
