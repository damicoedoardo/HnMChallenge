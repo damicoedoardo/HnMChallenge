{
 "cells": [
  {
   "cell_type": "code",
   "execution_count": 40,
   "metadata": {},
   "outputs": [],
   "source": [
    "import pandas as pd\n",
    "from hnmchallenge.data_reader import DataReader\n",
    "import matplotlib.pyplot as plt\n",
    "import seaborn as sns\n",
    "import numpy as np\n",
    "from hnmchallenge.dataset import Dataset\n",
    "from hnmchallenge.filtered_dataset import FilterdDataset\n",
    "from hnmchallenge.models.top_pop import TopPop\n",
    "from hnmchallenge.evaluation.python_evaluation import map_at_k\n",
    "from hnmchallenge.constant import *\n",
    "from hnmchallenge.models.sgmc.sgmc import SGMC\n",
    "from hnmchallenge.models.ease.ease import EASE\n",
    "from hnmchallenge.models.itemknn.itemknn import ItemKNN \n",
    "from hnmchallenge.data_reader import DataReader\n",
    "import datetime"
   ]
  },
  {
   "cell_type": "code",
   "execution_count": 41,
   "metadata": {},
   "outputs": [],
   "source": [
    "dataset = FilterdDataset()\n",
    "dr = DataReader()"
   ]
  },
  {
   "cell_type": "code",
   "execution_count": 62,
   "metadata": {},
   "outputs": [],
   "source": [
    "user_data = dr.get_transactions()"
   ]
  },
  {
   "cell_type": "code",
   "execution_count": null,
   "metadata": {},
   "outputs": [],
   "source": []
  },
  {
   "cell_type": "code",
   "execution_count": 65,
   "metadata": {},
   "outputs": [],
   "source": [
    "unique_items = user_data[user_data['t_dat'] >= \"2020-09-10\"][DEFAULT_ITEM_COL].unique()"
   ]
  },
  {
   "cell_type": "code",
   "execution_count": 66,
   "metadata": {},
   "outputs": [
    {
     "data": {
      "text/plain": [
       "22069"
      ]
     },
     "execution_count": 66,
     "metadata": {},
     "output_type": "execute_result"
    }
   ],
   "source": [
    "len(unique_items)"
   ]
  },
  {
   "cell_type": "code",
   "execution_count": 59,
   "metadata": {},
   "outputs": [],
   "source": [
    "user_data['t_dat'] = pd.to_datetime(user_data['t_dat'])"
   ]
  },
  {
   "cell_type": "code",
   "execution_count": 44,
   "metadata": {},
   "outputs": [],
   "source": [
    "from datetime import timedelta, date\n",
    "def daterange1(start_date, end_date):\n",
    "     for n in range(0, int((end_date - start_date).days) + 1, 7):\n",
    "         yield start_date + timedelta(n)\n",
    "         \n",
    "start_dt = date(2020, 7, 1)\n",
    "end_dt = date(2020, 9, 22)"
   ]
  },
  {
   "cell_type": "code",
   "execution_count": 18,
   "metadata": {},
   "outputs": [],
   "source": [
    "daterange = pd.date_range(\"2020-07-01\", \"2020-09-22\")"
   ]
  },
  {
   "cell_type": "code",
   "execution_count": null,
   "metadata": {},
   "outputs": [],
   "source": []
  },
  {
   "cell_type": "code",
   "execution_count": 45,
   "metadata": {},
   "outputs": [],
   "source": [
    "count=[]\n",
    "time=[]\n",
    "for i in daterange1(start_dt, end_dt):\n",
    "    count_articles = user_data[(user_data[\"t_dat\"]>= pd.to_datetime(i))]\n",
    "    data=count_articles[DEFAULT_ITEM_COL].nunique()\n",
    "    count.append(data)\n",
    "    time.append(i)\n",
    "    "
   ]
  },
  {
   "cell_type": "code",
   "execution_count": 46,
   "metadata": {},
   "outputs": [
    {
     "data": {
      "text/plain": [
       "[40772,\n",
       " 39521,\n",
       " 38331,\n",
       " 37102,\n",
       " 35576,\n",
       " 33971,\n",
       " 32257,\n",
       " 30482,\n",
       " 28297,\n",
       " 25899,\n",
       " 22640,\n",
       " 17986]"
      ]
     },
     "execution_count": 46,
     "metadata": {},
     "output_type": "execute_result"
    }
   ],
   "source": [
    "count"
   ]
  },
  {
   "cell_type": "code",
   "execution_count": 47,
   "metadata": {},
   "outputs": [
    {
     "data": {
      "text/plain": [
       "[datetime.date(2020, 7, 1),\n",
       " datetime.date(2020, 7, 8),\n",
       " datetime.date(2020, 7, 15),\n",
       " datetime.date(2020, 7, 22),\n",
       " datetime.date(2020, 7, 29),\n",
       " datetime.date(2020, 8, 5),\n",
       " datetime.date(2020, 8, 12),\n",
       " datetime.date(2020, 8, 19),\n",
       " datetime.date(2020, 8, 26),\n",
       " datetime.date(2020, 9, 2),\n",
       " datetime.date(2020, 9, 9),\n",
       " datetime.date(2020, 9, 16)]"
      ]
     },
     "execution_count": 47,
     "metadata": {},
     "output_type": "execute_result"
    }
   ],
   "source": [
    "time"
   ]
  },
  {
   "cell_type": "code",
   "execution_count": 49,
   "metadata": {},
   "outputs": [
    {
     "data": {
      "image/png": "[encoded data removed]",
      "text/plain": [
       "<Figure size 432x288 with 1 Axes>"
      ]
     },
     "metadata": {
      "needs_background": "light"
     },
     "output_type": "display_data"
    }
   ],
   "source": [
    "import matplotlib.pyplot as plt\n",
    "\n",
    "plt.bar(time, count)\n",
    "plt.show()"
   ]
  }
 ],
 "metadata": {
  "interpreter": {
   "hash": "de506fd929a0e17bc117e411a14c04dcc80817054af17ef91edabe100d67ef14"
  },
  "kernelspec": {
   "display_name": "Python 3.9.7 ('hnmchallenge-2TdcNkYi-py3.9')",
   "language": "python",
   "name": "python3"
  },
  "language_info": {
   "codemirror_mode": {
    "name": "ipython",
    "version": 3
   },
   "file_extension": ".py",
   "mimetype": "text/x-python",
   "name": "python",
   "nbconvert_exporter": "python",
   "pygments_lexer": "ipython3",
   "version": "3.9.7"
  },
  "orig_nbformat": 4
 },
 "nbformat": 4,
 "nbformat_minor": 2
}
