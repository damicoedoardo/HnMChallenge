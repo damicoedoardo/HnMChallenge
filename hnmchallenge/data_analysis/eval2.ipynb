{
 "cells": [
  {
   "cell_type": "code",
   "execution_count": 1,
   "metadata": {},
   "outputs": [],
   "source": [
    "import math\n",
    "import re\n",
    "import time\n",
    "\n",
    "import joblib\n",
    "import lightgbm as lgb\n",
    "import numpy as np\n",
    "import pandas as pd\n",
    "from tqdm import tqdm\n",
    "\n",
    "from hnmchallenge.constant import *\n",
    "from hnmchallenge.data_reader import DataReader\n",
    "from hnmchallenge.datasets.all_items_last_mont__last_day_last_week import AILMLDWDataset\n",
    "from hnmchallenge.datasets.all_items_last_month_last_day import AILMLDDataset\n",
    "from hnmchallenge.datasets.all_items_last_month_last_week import AILMLWDataset\n",
    "from hnmchallenge.datasets.last2month_last_day import L2MLDDataset\n",
    "from hnmchallenge.datasets.last_month_last_day import LMLDDataset\n",
    "from hnmchallenge.datasets.last_month_last_week_dataset import LMLWDataset\n",
    "from hnmchallenge.datasets.last_month_last_week_user import LMLUWDataset\n",
    "from hnmchallenge.datasets.last_week_last_week import LWLWDataset\n",
    "from hnmchallenge.evaluation.python_evaluation import map_at_k, recall_at_k\n",
    "from hnmchallenge.feature_manager import FeatureManager\n",
    "from hnmchallenge.models.itemknn.itemknn import ItemKNN\n",
    "from hnmchallenge.datasets.all_items_last_month_last_week import AILMLWDataset"
   ]
  },
  {
   "cell_type": "code",
   "execution_count": 7,
   "metadata": {},
   "outputs": [
    {
     "data": {
      "text/plain": [
       "0.05161388888888889"
      ]
     },
     "execution_count": 7,
     "metadata": {},
     "output_type": "execute_result"
    }
   ],
   "source": [
    "(0.2*18581)/72_000"
   ]
  },
  {
   "cell_type": "code",
   "execution_count": 4,
   "metadata": {},
   "outputs": [
    {
     "data": {
      "text/plain": [
       "72019"
      ]
     },
     "execution_count": 4,
     "metadata": {},
     "output_type": "execute_result"
    }
   ],
   "source": [
    "dataset = AILMLWDataset()\n",
    "holdout = dataset.get_holdout()\n",
    "holdout[DEFAULT_USER_COL].nunique()"
   ]
  },
  {
   "cell_type": "code",
   "execution_count": 3,
   "metadata": {},
   "outputs": [],
   "source": [
    "VERSION = 0\n",
    "NAME = f\"cutf_200_ItemKNN_tw_True_rs_False\"\n",
    "DATASET = f\"{NAME}_{VERSION}.feather\"\n",
    "MODEL_NAME = f\"lgbm_{DATASET}_2.pkl\""
   ]
  },
  {
   "cell_type": "code",
   "execution_count": 2,
   "metadata": {},
   "outputs": [
    {
     "ename": "IndentationError",
     "evalue": "unexpected indent (526306424.py, line 2)",
     "output_type": "error",
     "traceback": [
      "\u001b[0;36m  Input \u001b[0;32mIn [2]\u001b[0;36m\u001b[0m\n\u001b[0;31m    base_load_path = dataset._DATASET_PATH / \"lgbm_models\"\u001b[0m\n\u001b[0m    ^\u001b[0m\n\u001b[0;31mIndentationError\u001b[0m\u001b[0;31m:\u001b[0m unexpected indent\n"
     ]
    }
   ],
   "source": [
    "dataset = AILMLWDataset()\n",
    "base_load_path = dataset._DATASET_PATH / \"lgbm_models\"\n",
    "model = joblib.load(base_load_path / MODEL_NAME)\n",
    "\n",
    "\n",
    "print(\"Read Dataset...\")\n",
    "features = pd.read_feather(dataset._DATASET_PATH / f\"dataset_dfs/full/{DATASET}\")\n",
    "print(features.shape)\n",
    "# features = features.drop([\"ItemKNN_tw_True_rs_False_rank\"], axis=1)\n",
    "\n",
    "features = features.rename(columns=lambda x: re.sub(\"[^A-Za-z0-9_]+\", \"\", x))\n",
    "\n",
    "cat = [\n",
    "    \"index_code_gbm\",\n",
    "    \"product_group_name_gbm\",\n",
    "    \"index_group_name_gbm\",\n",
    "    \"graphical_appearance_no_gbm\",\n",
    "]\n",
    "cat_index = [i for i, c in enumerate(features.columns) if c in cat]\n",
    "print(\"Categorical conversion...\")\n",
    "for col in cat:\n",
    "    features[col] = pd.Categorical(features[col])\n",
    "customer_article_df = features[[DEFAULT_USER_COL, DEFAULT_ITEM_COL]]\n",
    "X = features.drop([DEFAULT_USER_COL, DEFAULT_ITEM_COL], axis=1)\n"
   ]
  },
  {
   "cell_type": "code",
   "execution_count": null,
   "metadata": {},
   "outputs": [],
   "source": []
  }
 ],
 "metadata": {
  "interpreter": {
   "hash": "de506fd929a0e17bc117e411a14c04dcc80817054af17ef91edabe100d67ef14"
  },
  "kernelspec": {
   "display_name": "Python 3.9.7 ('hnmchallenge-2TdcNkYi-py3.9')",
   "language": "python",
   "name": "python3"
  },
  "language_info": {
   "codemirror_mode": {
    "name": "ipython",
    "version": 3
   },
   "file_extension": ".py",
   "mimetype": "text/x-python",
   "name": "python",
   "nbconvert_exporter": "python",
   "pygments_lexer": "ipython3",
   "version": "3.9.7"
  },
  "orig_nbformat": 4
 },
 "nbformat": 4,
 "nbformat_minor": 2
}
