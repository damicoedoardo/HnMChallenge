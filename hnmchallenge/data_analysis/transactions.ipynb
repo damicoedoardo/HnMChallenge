{
 "cells": [
  {
   "cell_type": "code",
   "execution_count": 1,
   "metadata": {},
   "outputs": [],
   "source": [
    "import pandas as pd\n",
    "from hnmchallenge.data_reader import DataReader\n",
    "import matplotlib.pyplot as plt\n",
    "import seaborn as sns\n",
    "import numpy as np\n",
    "from hnmchallenge.dataset import Dataset\n",
    "from hnmchallenge.models.top_pop import TopPop\n",
    "from hnmchallenge.evaluation.python_evaluation import map_at_k\n",
    "from hnmchallenge.constant import *\n",
    "from hnmchallenge.models.sgmc.sgmc import SGMC\n",
    "from hnmchallenge.models.ease.ease import EASE\n",
    "from hnmchallenge.models.itemknn.itemknn import ItemKNN "
   ]
  },
  {
   "cell_type": "code",
   "execution_count": 2,
   "metadata": {},
   "outputs": [],
   "source": [
    "import logging\n",
    "logger = logging.getLogger(__name__)\n",
    "logging.basicConfig(level=logging.DEBUG)"
   ]
  },
  {
   "cell_type": "code",
   "execution_count": 3,
   "metadata": {},
   "outputs": [],
   "source": [
    "dataset = Dataset()\n",
    "dr = DataReader()\n"
   ]
  },
  {
   "cell_type": "code",
   "execution_count": 4,
   "metadata": {},
   "outputs": [],
   "source": [
    "recom = ItemKNN(dataset, topk=100)"
   ]
  },
  {
   "cell_type": "code",
   "execution_count": 5,
   "metadata": {},
   "outputs": [],
   "source": [
    "train = dataset.get_train_df()\n",
    "fd = dr.get_full_data()\n",
    "train_sub = dataset.get_train_df_user_subset()"
   ]
  },
  {
   "cell_type": "code",
   "execution_count": 6,
   "metadata": {},
   "outputs": [
    {
     "name": "stderr",
     "output_type": "stream",
     "text": [
      "INFO:hnmchallenge.utils.pandas_utils:\u001b[1;33munique customer_id: 99147\u001b[0m\n",
      "WARNING:hnmchallenge.utils.sparse_matrix:\u001b[1;31musers_num is None, remap user ids to consecutive\u001b[0m\n"
     ]
    },
    {
     "name": "stdout",
     "output_type": "stream",
     "text": [
      "func:interactions_to_sparse_matrix\n",
      " took: 1.2948768138885498 sec\n"
     ]
    }
   ],
   "source": [
    "recom.compute_similarity_matrix(train_sub)  "
   ]
  },
  {
   "cell_type": "code",
   "execution_count": 10,
   "metadata": {},
   "outputs": [
    {
     "name": "stderr",
     "output_type": "stream",
     "text": [
      "INFO:hnmchallenge.recommender_interface:\u001b[1;36mRecommending items MULTICORE\u001b[0m\n",
      "INFO:hnmchallenge.utils.pandas_utils:\u001b[1;33munique customer_id: 4958\u001b[0m\n",
      "INFO:hnmchallenge.recommender_interface:\u001b[1;36mSPARSE Item Similarity MUL...\u001b[0m\n",
      "WARNING:hnmchallenge.utils.sparse_matrix:\u001b[1;31musers_num is None, remap user ids to consecutive\u001b[0m\n"
     ]
    },
    {
     "name": "stdout",
     "output_type": "stream",
     "text": [
      "func:interactions_to_sparse_matrix\n",
      " took: 0.22511935234069824 sec\n"
     ]
    },
    {
     "name": "stderr",
     "output_type": "stream",
     "text": [
      "INFO:hnmchallenge.utils.pandas_utils:\u001b[1;33munique customer_id: 4958\u001b[0m\n",
      "WARNING:hnmchallenge.utils.sparse_matrix:\u001b[1;31musers_num is None, remap user ids to consecutive\u001b[0m\n"
     ]
    },
    {
     "name": "stdout",
     "output_type": "stream",
     "text": [
      "func:interactions_to_sparse_matrix\n",
      " took: 0.20349788665771484 sec\n"
     ]
    },
    {
     "name": "stderr",
     "output_type": "stream",
     "text": [
      "INFO:hnmchallenge.recommender_interface:\u001b[1;36mSPARSE Item Similarity MUL...\u001b[0m\n",
      "INFO:hnmchallenge.utils.pandas_utils:\u001b[1;33munique customer_id: 4958\u001b[0m\n",
      "INFO:hnmchallenge.recommender_interface:\u001b[1;36mSPARSE Item Similarity MUL...\u001b[0m\n",
      "WARNING:hnmchallenge.utils.sparse_matrix:\u001b[1;31musers_num is None, remap user ids to consecutive\u001b[0m\n"
     ]
    },
    {
     "name": "stdout",
     "output_type": "stream",
     "text": [
      "func:interactions_to_sparse_matrix\n",
      " took: 0.20093393325805664 sec\n",
      "took 22.530889987945557s\n"
     ]
    },
    {
     "name": "stderr",
     "output_type": "stream",
     "text": [
      "INFO:hnmchallenge.utils.pandas_utils:\u001b[1;33munique customer_id: 4958\u001b[0m\n",
      "WARNING:hnmchallenge.utils.sparse_matrix:\u001b[1;31musers_num is None, remap user ids to consecutive\u001b[0m\n"
     ]
    },
    {
     "name": "stdout",
     "output_type": "stream",
     "text": [
      "func:interactions_to_sparse_matrix\n",
      " took: 0.18763017654418945 sec\n"
     ]
    },
    {
     "name": "stderr",
     "output_type": "stream",
     "text": [
      "INFO:hnmchallenge.recommender_interface:\u001b[1;36mSPARSE Item Similarity MUL...\u001b[0m\n"
     ]
    },
    {
     "name": "stdout",
     "output_type": "stream",
     "text": [
      "took 16.785139322280884s\n",
      "took2 25.244405031204224s\n"
     ]
    },
    {
     "name": "stderr",
     "output_type": "stream",
     "text": [
      "INFO:hnmchallenge.utils.sparse_matrix:\u001b[1;36mSort_top_k:True\u001b[0m\n"
     ]
    },
    {
     "name": "stdout",
     "output_type": "stream",
     "text": [
      "took2 19.4250648021698s\n"
     ]
    },
    {
     "name": "stderr",
     "output_type": "stream",
     "text": [
      "INFO:hnmchallenge.utils.sparse_matrix:\u001b[1;36mSort_top_k:True\u001b[0m\n",
      "INFO:hnmchallenge.utils.pandas_utils:\u001b[1;33munique customer_id: 4958\u001b[0m\n",
      "INFO:hnmchallenge.recommender_interface:\u001b[1;36mSPARSE Item Similarity MUL...\u001b[0m\n",
      "WARNING:hnmchallenge.utils.sparse_matrix:\u001b[1;31musers_num is None, remap user ids to consecutive\u001b[0m\n"
     ]
    },
    {
     "name": "stdout",
     "output_type": "stream",
     "text": [
      "func:interactions_to_sparse_matrix\n",
      " took: 0.16022562980651855 sec\n",
      "took 17.44469165802002s\n",
      "took2 20.021817684173584s\n"
     ]
    },
    {
     "name": "stderr",
     "output_type": "stream",
     "text": [
      "INFO:hnmchallenge.utils.sparse_matrix:\u001b[1;36mSort_top_k:True\u001b[0m\n",
      "INFO:hnmchallenge.utils.pandas_utils:\u001b[1;33munique customer_id: 4958\u001b[0m\n"
     ]
    },
    {
     "name": "stdout",
     "output_type": "stream",
     "text": [
      "\n"
     ]
    },
    {
     "name": "stderr",
     "output_type": "stream",
     "text": [
      "WARNING:hnmchallenge.utils.sparse_matrix:\u001b[1;31musers_num is None, remap user ids to consecutive\u001b[0m\n"
     ]
    },
    {
     "name": "stdout",
     "output_type": "stream",
     "text": [
      "func:interactions_to_sparse_matrix\n",
      " took: 0.1546008586883545 sec\n"
     ]
    },
    {
     "name": "stderr",
     "output_type": "stream",
     "text": [
      "INFO:hnmchallenge.recommender_interface:\u001b[1;36mSPARSE Item Similarity MUL...\u001b[0m\n"
     ]
    },
    {
     "name": "stdout",
     "output_type": "stream",
     "text": [
      "took 16.01194739341736stook2 18.753186225891113s\n"
     ]
    },
    {
     "name": "stderr",
     "output_type": "stream",
     "text": [
      "INFO:hnmchallenge.utils.sparse_matrix:\u001b[1;36mSort_top_k:True\u001b[0m\n"
     ]
    },
    {
     "name": "stdout",
     "output_type": "stream",
     "text": [
      "took 13.99798059463501s\n"
     ]
    },
    {
     "name": "stderr",
     "output_type": "stream",
     "text": [
      "INFO:hnmchallenge.utils.pandas_utils:\u001b[1;33munique customer_id: 4958\u001b[0m\n",
      "WARNING:hnmchallenge.utils.sparse_matrix:\u001b[1;31musers_num is None, remap user ids to consecutive\u001b[0m\n"
     ]
    },
    {
     "name": "stdout",
     "output_type": "stream",
     "text": [
      "func:interactions_to_sparse_matrix\n",
      " took: 0.15028977394104004 sec\n"
     ]
    },
    {
     "name": "stderr",
     "output_type": "stream",
     "text": [
      "INFO:hnmchallenge.recommender_interface:\u001b[1;36mSPARSE Item Similarity MUL...\u001b[0m\n"
     ]
    },
    {
     "name": "stdout",
     "output_type": "stream",
     "text": [
      "took2 16.558870315551758s\n"
     ]
    },
    {
     "name": "stderr",
     "output_type": "stream",
     "text": [
      "INFO:hnmchallenge.utils.sparse_matrix:\u001b[1;36mSort_top_k:True\u001b[0m\n"
     ]
    },
    {
     "name": "stdout",
     "output_type": "stream",
     "text": [
      "took 12.381552696228027s\n",
      "took2 14.903785467147827s\n"
     ]
    },
    {
     "name": "stderr",
     "output_type": "stream",
     "text": [
      "INFO:hnmchallenge.utils.sparse_matrix:\u001b[1;36mSort_top_k:True\u001b[0m\n",
      "INFO:hnmchallenge.utils.pandas_utils:\u001b[1;33munique customer_id: 4957\u001b[0m\n",
      "WARNING:hnmchallenge.utils.sparse_matrix:\u001b[1;31musers_num is None, remap user ids to consecutive\u001b[0m\n"
     ]
    },
    {
     "name": "stdout",
     "output_type": "stream",
     "text": [
      "func:interactions_to_sparse_matrix\n",
      " took: 0.12743496894836426 sec\n"
     ]
    },
    {
     "name": "stderr",
     "output_type": "stream",
     "text": [
      "INFO:hnmchallenge.recommender_interface:\u001b[1;36mSPARSE Item Similarity MUL...\u001b[0m\n"
     ]
    },
    {
     "name": "stdout",
     "output_type": "stream",
     "text": [
      "took 11.576061964035034s\n",
      "took2 13.906291007995605s\n"
     ]
    },
    {
     "name": "stderr",
     "output_type": "stream",
     "text": [
      "INFO:hnmchallenge.utils.sparse_matrix:\u001b[1;36mSort_top_k:True\u001b[0m\n",
      "INFO:hnmchallenge.utils.pandas_utils:\u001b[1;33munique customer_id: 4957\u001b[0m\n",
      "INFO:hnmchallenge.recommender_interface:\u001b[1;36mSPARSE Item Similarity MUL...\u001b[0m\n",
      "WARNING:hnmchallenge.utils.sparse_matrix:\u001b[1;31musers_num is None, remap user ids to consecutive\u001b[0m\n"
     ]
    },
    {
     "name": "stdout",
     "output_type": "stream",
     "text": [
      "func:interactions_to_sparse_matrix\n",
      " took: 0.12635493278503418 sec\n",
      "took 9.221601724624634s\n",
      "took2 11.6551673412323s\n"
     ]
    },
    {
     "name": "stderr",
     "output_type": "stream",
     "text": [
      "INFO:hnmchallenge.utils.sparse_matrix:\u001b[1;36mSort_top_k:True\u001b[0m\n",
      "INFO:hnmchallenge.utils.pandas_utils:\u001b[1;33munique customer_id: 4957\u001b[0m\n",
      "INFO:hnmchallenge.recommender_interface:\u001b[1;36mSPARSE Item Similarity MUL...\u001b[0m\n",
      "WARNING:hnmchallenge.utils.sparse_matrix:\u001b[1;31musers_num is None, remap user ids to consecutive\u001b[0m\n"
     ]
    },
    {
     "name": "stdout",
     "output_type": "stream",
     "text": [
      "func:interactions_to_sparse_matrix\n",
      " took: 0.12283921241760254 sec\n",
      "took 9.93787145614624s\n",
      "took2 12.292980194091797s"
     ]
    },
    {
     "name": "stderr",
     "output_type": "stream",
     "text": [
      "INFO:hnmchallenge.utils.pandas_utils:\u001b[1;33munique customer_id: 4957\u001b[0m\n"
     ]
    },
    {
     "name": "stdout",
     "output_type": "stream",
     "text": [
      "\n"
     ]
    },
    {
     "name": "stderr",
     "output_type": "stream",
     "text": [
      "INFO:hnmchallenge.utils.sparse_matrix:\u001b[1;36mSort_top_k:True\u001b[0m\n",
      "WARNING:hnmchallenge.utils.sparse_matrix:\u001b[1;31musers_num is None, remap user ids to consecutive\u001b[0m\n"
     ]
    },
    {
     "name": "stdout",
     "output_type": "stream",
     "text": [
      "func:interactions_to_sparse_matrix\n",
      " took: 0.1054677963256836 sec\n"
     ]
    },
    {
     "name": "stderr",
     "output_type": "stream",
     "text": [
      "INFO:hnmchallenge.recommender_interface:\u001b[1;36mSPARSE Item Similarity MUL...\u001b[0m\n"
     ]
    },
    {
     "name": "stdout",
     "output_type": "stream",
     "text": [
      "took 8.578898429870605s\n",
      "took2 10.930671453475952s\n"
     ]
    },
    {
     "name": "stderr",
     "output_type": "stream",
     "text": [
      "INFO:hnmchallenge.utils.sparse_matrix:\u001b[1;36mSort_top_k:True\u001b[0m\n",
      "INFO:hnmchallenge.utils.pandas_utils:\u001b[1;33munique customer_id: 4957\u001b[0m\n",
      "INFO:hnmchallenge.recommender_interface:\u001b[1;36mSPARSE Item Similarity MUL...\u001b[0m\n",
      "WARNING:hnmchallenge.utils.sparse_matrix:\u001b[1;31musers_num is None, remap user ids to consecutive\u001b[0m\n"
     ]
    },
    {
     "name": "stdout",
     "output_type": "stream",
     "text": [
      "func:interactions_to_sparse_matrix\n",
      " took: 0.11357831954956055 sec\n",
      "took 7.5423009395599365s\n",
      "took2 10.148638725280762s\n"
     ]
    },
    {
     "name": "stderr",
     "output_type": "stream",
     "text": [
      "INFO:hnmchallenge.utils.sparse_matrix:\u001b[1;36mSort_top_k:True\u001b[0m\n",
      "INFO:hnmchallenge.utils.pandas_utils:\u001b[1;33munique customer_id: 4957\u001b[0m\n"
     ]
    },
    {
     "name": "stdout",
     "output_type": "stream",
     "text": [
      "\n"
     ]
    },
    {
     "name": "stderr",
     "output_type": "stream",
     "text": [
      "WARNING:hnmchallenge.utils.sparse_matrix:\u001b[1;31musers_num is None, remap user ids to consecutive\u001b[0m\n"
     ]
    },
    {
     "name": "stdout",
     "output_type": "stream",
     "text": [
      "func:interactions_to_sparse_matrix\n",
      " took: 0.08878874778747559 sec"
     ]
    },
    {
     "name": "stderr",
     "output_type": "stream",
     "text": [
      "INFO:hnmchallenge.recommender_interface:\u001b[1;36mSPARSE Item Similarity MUL...\u001b[0m\n"
     ]
    },
    {
     "name": "stdout",
     "output_type": "stream",
     "text": [
      "took 7.958160161972046s\n",
      "took2 10.32870626449585s\n"
     ]
    },
    {
     "name": "stderr",
     "output_type": "stream",
     "text": [
      "INFO:hnmchallenge.utils.sparse_matrix:\u001b[1;36mSort_top_k:True\u001b[0m\n"
     ]
    },
    {
     "name": "stdout",
     "output_type": "stream",
     "text": [
      "took 7.482563257217407s\n"
     ]
    },
    {
     "name": "stderr",
     "output_type": "stream",
     "text": [
      "INFO:hnmchallenge.utils.pandas_utils:\u001b[1;33munique customer_id: 4957\u001b[0m\n",
      "WARNING:hnmchallenge.utils.sparse_matrix:\u001b[1;31musers_num is None, remap user ids to consecutive\u001b[0m\n"
     ]
    },
    {
     "name": "stdout",
     "output_type": "stream",
     "text": [
      "func:interactions_to_sparse_matrix\n",
      " took: 0.09329724311828613 sec\n"
     ]
    },
    {
     "name": "stderr",
     "output_type": "stream",
     "text": [
      "INFO:hnmchallenge.recommender_interface:\u001b[1;36mSPARSE Item Similarity MUL...\u001b[0m\n"
     ]
    },
    {
     "name": "stdout",
     "output_type": "stream",
     "text": [
      "took2 10.009361267089844s\n"
     ]
    },
    {
     "name": "stderr",
     "output_type": "stream",
     "text": [
      "INFO:hnmchallenge.utils.sparse_matrix:\u001b[1;36mSort_top_k:True\u001b[0m\n",
      "INFO:hnmchallenge.utils.pandas_utils:\u001b[1;33munique customer_id: 4957\u001b[0m\n",
      "WARNING:hnmchallenge.utils.sparse_matrix:\u001b[1;31musers_num is None, remap user ids to consecutive\u001b[0m\n"
     ]
    },
    {
     "name": "stdout",
     "output_type": "stream",
     "text": [
      "func:interactions_to_sparse_matrix\n",
      " took: 0.08277225494384766 sectook 7.31201434135437s\n",
      "\n"
     ]
    },
    {
     "name": "stderr",
     "output_type": "stream",
     "text": [
      "INFO:hnmchallenge.recommender_interface:\u001b[1;36mSPARSE Item Similarity MUL...\u001b[0m\n"
     ]
    },
    {
     "name": "stdout",
     "output_type": "stream",
     "text": [
      "took2 9.566479444503784s\n"
     ]
    },
    {
     "name": "stderr",
     "output_type": "stream",
     "text": [
      "INFO:hnmchallenge.utils.sparse_matrix:\u001b[1;36mSort_top_k:True\u001b[0m\n"
     ]
    },
    {
     "name": "stdout",
     "output_type": "stream",
     "text": [
      "took 5.8665993213653564s\n"
     ]
    },
    {
     "name": "stderr",
     "output_type": "stream",
     "text": [
      "INFO:hnmchallenge.utils.pandas_utils:\u001b[1;33munique customer_id: 4957\u001b[0m\n",
      "WARNING:hnmchallenge.utils.sparse_matrix:\u001b[1;31musers_num is None, remap user ids to consecutive\u001b[0m\n"
     ]
    },
    {
     "name": "stdout",
     "output_type": "stream",
     "text": [
      "func:interactions_to_sparse_matrix\n",
      " took: 0.08177757263183594 sec\n"
     ]
    },
    {
     "name": "stderr",
     "output_type": "stream",
     "text": [
      "INFO:hnmchallenge.recommender_interface:\u001b[1;36mSPARSE Item Similarity MUL...\u001b[0m\n"
     ]
    },
    {
     "name": "stdout",
     "output_type": "stream",
     "text": [
      "took2 8.330403566360474s\n"
     ]
    },
    {
     "name": "stderr",
     "output_type": "stream",
     "text": [
      "INFO:hnmchallenge.utils.sparse_matrix:\u001b[1;36mSort_top_k:True\u001b[0m\n"
     ]
    },
    {
     "name": "stdout",
     "output_type": "stream",
     "text": [
      "took 4.792306423187256s\n",
      "took2 6.944134473800659s\n"
     ]
    },
    {
     "name": "stderr",
     "output_type": "stream",
     "text": [
      "INFO:hnmchallenge.utils.sparse_matrix:\u001b[1;36mSort_top_k:True\u001b[0m\n",
      "INFO:hnmchallenge.utils.pandas_utils:\u001b[1;33munique customer_id: 4957\u001b[0m\n",
      "WARNING:hnmchallenge.utils.sparse_matrix:\u001b[1;31musers_num is None, remap user ids to consecutive\u001b[0m\n"
     ]
    },
    {
     "name": "stdout",
     "output_type": "stream",
     "text": [
      "func:interactions_to_sparse_matrix\n",
      " took: 0.08030247688293457 sec\n"
     ]
    },
    {
     "name": "stderr",
     "output_type": "stream",
     "text": [
      "INFO:hnmchallenge.recommender_interface:\u001b[1;36mSPARSE Item Similarity MUL...\u001b[0m\n"
     ]
    },
    {
     "name": "stdout",
     "output_type": "stream",
     "text": [
      "took 4.224332809448242s\n",
      "took2 6.358786582946777s\n"
     ]
    },
    {
     "name": "stderr",
     "output_type": "stream",
     "text": [
      "INFO:hnmchallenge.utils.sparse_matrix:\u001b[1;36mSort_top_k:True\u001b[0m\n",
      "INFO:hnmchallenge.utils.pandas_utils:\u001b[1;33munique customer_id: 4957\u001b[0m\n",
      "WARNING:hnmchallenge.utils.sparse_matrix:\u001b[1;31musers_num is None, remap user ids to consecutive\u001b[0m\n"
     ]
    },
    {
     "name": "stdout",
     "output_type": "stream",
     "text": [
      "func:interactions_to_sparse_matrix\n",
      " took: 0.12081718444824219 sec\n"
     ]
    },
    {
     "name": "stderr",
     "output_type": "stream",
     "text": [
      "INFO:hnmchallenge.recommender_interface:\u001b[1;36mSPARSE Item Similarity MUL...\u001b[0m\n"
     ]
    },
    {
     "name": "stdout",
     "output_type": "stream",
     "text": [
      "took 4.323887825012207s\n",
      "took2 6.350343465805054s\n"
     ]
    },
    {
     "name": "stderr",
     "output_type": "stream",
     "text": [
      "INFO:hnmchallenge.utils.sparse_matrix:\u001b[1;36mSort_top_k:True\u001b[0m\n",
      "INFO:hnmchallenge.utils.pandas_utils:\u001b[1;33munique customer_id: 4957\u001b[0m\n",
      "WARNING:hnmchallenge.utils.sparse_matrix:\u001b[1;31musers_num is None, remap user ids to consecutive\u001b[0m\n"
     ]
    },
    {
     "name": "stdout",
     "output_type": "stream",
     "text": [
      "func:interactions_to_sparse_matrix\n",
      " took: 0.11764740943908691 sec\n"
     ]
    },
    {
     "name": "stderr",
     "output_type": "stream",
     "text": [
      "INFO:hnmchallenge.recommender_interface:\u001b[1;36mSPARSE Item Similarity MUL...\u001b[0m\n"
     ]
    },
    {
     "name": "stdout",
     "output_type": "stream",
     "text": [
      "took 3.710632801055908s\n",
      "took2 5.804130554199219s\n"
     ]
    },
    {
     "name": "stderr",
     "output_type": "stream",
     "text": [
      "INFO:hnmchallenge.utils.sparse_matrix:\u001b[1;36mSort_top_k:True\u001b[0m\n",
      "INFO:hnmchallenge.utils.pandas_utils:\u001b[1;33munique customer_id: 4957\u001b[0m\n",
      "WARNING:hnmchallenge.utils.sparse_matrix:\u001b[1;31musers_num is None, remap user ids to consecutive\u001b[0m\n"
     ]
    },
    {
     "name": "stdout",
     "output_type": "stream",
     "text": [
      "func:interactions_to_sparse_matrix\n",
      " took: 0.07710504531860352 sec\n"
     ]
    },
    {
     "name": "stderr",
     "output_type": "stream",
     "text": [
      "INFO:hnmchallenge.recommender_interface:\u001b[1;36mSPARSE Item Similarity MUL...\u001b[0m\n",
      "Process ForkPoolWorker-15:\n",
      "Process ForkPoolWorker-18:\n",
      "Process ForkPoolWorker-26:\n",
      "Process ForkPoolWorker-24:\n",
      "Process ForkPoolWorker-13:\n",
      "Process ForkPoolWorker-16:\n",
      "Process ForkPoolWorker-23:\n",
      "Process ForkPoolWorker-11:\n",
      "Process ForkPoolWorker-25:\n",
      "Process ForkPoolWorker-19:\n",
      "Process ForkPoolWorker-12:\n"
     ]
    },
    {
     "ename": "KeyboardInterrupt",
     "evalue": "",
     "output_type": "error",
     "traceback": [
      "\u001b[0;31m---------------------------------------------------------------------------\u001b[0m",
      "\u001b[0;31mIndexError\u001b[0m                                Traceback (most recent call last)",
      "File \u001b[0;32m/raid/home/edoardo/GitProjects/HnMChallenge/.venv/lib/python3.9/site-packages/multiprocess/pool.py:853\u001b[0m, in \u001b[0;36mIMapIterator.next\u001b[0;34m(self, timeout)\u001b[0m\n\u001b[1;32m    852\u001b[0m \u001b[38;5;28;01mtry\u001b[39;00m:\n\u001b[0;32m--> 853\u001b[0m     item \u001b[38;5;241m=\u001b[39m \u001b[38;5;28;43mself\u001b[39;49m\u001b[38;5;241;43m.\u001b[39;49m\u001b[43m_items\u001b[49m\u001b[38;5;241;43m.\u001b[39;49m\u001b[43mpopleft\u001b[49m\u001b[43m(\u001b[49m\u001b[43m)\u001b[49m\n\u001b[1;32m    854\u001b[0m \u001b[38;5;28;01mexcept\u001b[39;00m \u001b[38;5;167;01mIndexError\u001b[39;00m:\n",
      "\u001b[0;31mIndexError\u001b[0m: pop from an empty deque",
      "\nDuring handling of the above exception, another exception occurred:\n",
      "\u001b[0;31mKeyboardInterrupt\u001b[0m                         Traceback (most recent call last)",
      "Input \u001b[0;32mIn [10]\u001b[0m, in \u001b[0;36m<module>\u001b[0;34m\u001b[0m\n\u001b[0;32m----> 1\u001b[0m recs \u001b[38;5;241m=\u001b[39m \u001b[43mrecom\u001b[49m\u001b[38;5;241;43m.\u001b[39;49m\u001b[43mrecommend_multicore\u001b[49m\u001b[43m(\u001b[49m\u001b[43minteractions\u001b[49m\u001b[38;5;241;43m=\u001b[39;49m\u001b[43mtrain_sub\u001b[49m\u001b[43m,\u001b[49m\u001b[43m \u001b[49m\u001b[43mbatch_size\u001b[49m\u001b[38;5;241;43m=\u001b[39;49m\u001b[38;5;241;43m5000\u001b[39;49m\u001b[43m,\u001b[49m\u001b[43m \u001b[49m\u001b[43mnum_cpus\u001b[49m\u001b[38;5;241;43m=\u001b[39;49m\u001b[38;5;241;43m20\u001b[39;49m\u001b[43m,\u001b[49m\u001b[43m \u001b[49m\u001b[43mremove_seen\u001b[49m\u001b[38;5;241;43m=\u001b[39;49m\u001b[38;5;28;43;01mFalse\u001b[39;49;00m\u001b[43m)\u001b[49m\n",
      "File \u001b[0;32m/raid/home/edoardo/GitProjects/HnMChallenge/hnmchallenge/recommender_interface.py:212\u001b[0m, in \u001b[0;36mAbstractRecommender.recommend_multicore\u001b[0;34m(self, interactions, cutoff, remove_seen, batch_size, num_cpus)\u001b[0m\n\u001b[1;32m    210\u001b[0m     pool \u001b[38;5;241m=\u001b[39m ProcessPool(nodes\u001b[38;5;241m=\u001b[39mnum_cpus)\n\u001b[1;32m    211\u001b[0m     results \u001b[38;5;241m=\u001b[39m pool\u001b[38;5;241m.\u001b[39mimap(_rec, train_dfs)\n\u001b[0;32m--> 212\u001b[0m     recs_dfs_list \u001b[38;5;241m=\u001b[39m \u001b[38;5;28;43mlist\u001b[39;49m\u001b[43m(\u001b[49m\u001b[43mresults\u001b[49m\u001b[43m)\u001b[49m\n\u001b[1;32m    214\u001b[0m     \u001b[38;5;66;03m# recs_dfs_list = p_map(_rec, train_dfs, num_cpus=num_cpus)\u001b[39;00m\n\u001b[1;32m    215\u001b[0m \n\u001b[1;32m    216\u001b[0m \u001b[38;5;66;03m# concat all the batch recommendations dfs\u001b[39;00m\n\u001b[1;32m    217\u001b[0m recommendation_df \u001b[38;5;241m=\u001b[39m pd\u001b[38;5;241m.\u001b[39mconcat(recs_dfs_list, axis\u001b[38;5;241m=\u001b[39m\u001b[38;5;241m0\u001b[39m)\n",
      "File \u001b[0;32m/raid/home/edoardo/GitProjects/HnMChallenge/.venv/lib/python3.9/site-packages/multiprocess/pool.py:858\u001b[0m, in \u001b[0;36mIMapIterator.next\u001b[0;34m(self, timeout)\u001b[0m\n\u001b[1;32m    856\u001b[0m     \u001b[38;5;28mself\u001b[39m\u001b[38;5;241m.\u001b[39m_pool \u001b[38;5;241m=\u001b[39m \u001b[38;5;28;01mNone\u001b[39;00m\n\u001b[1;32m    857\u001b[0m     \u001b[38;5;28;01mraise\u001b[39;00m \u001b[38;5;167;01mStopIteration\u001b[39;00m \u001b[38;5;28;01mfrom\u001b[39;00m \u001b[38;5;28mNone\u001b[39m\n\u001b[0;32m--> 858\u001b[0m \u001b[38;5;28;43mself\u001b[39;49m\u001b[38;5;241;43m.\u001b[39;49m\u001b[43m_cond\u001b[49m\u001b[38;5;241;43m.\u001b[39;49m\u001b[43mwait\u001b[49m\u001b[43m(\u001b[49m\u001b[43mtimeout\u001b[49m\u001b[43m)\u001b[49m\n\u001b[1;32m    859\u001b[0m \u001b[38;5;28;01mtry\u001b[39;00m:\n\u001b[1;32m    860\u001b[0m     item \u001b[38;5;241m=\u001b[39m \u001b[38;5;28mself\u001b[39m\u001b[38;5;241m.\u001b[39m_items\u001b[38;5;241m.\u001b[39mpopleft()\n",
      "File \u001b[0;32m~/miniconda3/lib/python3.9/threading.py:312\u001b[0m, in \u001b[0;36mCondition.wait\u001b[0;34m(self, timeout)\u001b[0m\n\u001b[1;32m    310\u001b[0m \u001b[38;5;28;01mtry\u001b[39;00m:    \u001b[38;5;66;03m# restore state no matter what (e.g., KeyboardInterrupt)\u001b[39;00m\n\u001b[1;32m    311\u001b[0m     \u001b[38;5;28;01mif\u001b[39;00m timeout \u001b[38;5;129;01mis\u001b[39;00m \u001b[38;5;28;01mNone\u001b[39;00m:\n\u001b[0;32m--> 312\u001b[0m         \u001b[43mwaiter\u001b[49m\u001b[38;5;241;43m.\u001b[39;49m\u001b[43macquire\u001b[49m\u001b[43m(\u001b[49m\u001b[43m)\u001b[49m\n\u001b[1;32m    313\u001b[0m         gotit \u001b[38;5;241m=\u001b[39m \u001b[38;5;28;01mTrue\u001b[39;00m\n\u001b[1;32m    314\u001b[0m     \u001b[38;5;28;01melse\u001b[39;00m:\n",
      "\u001b[0;31mKeyboardInterrupt\u001b[0m: "
     ]
    },
    {
     "name": "stderr",
     "output_type": "stream",
     "text": [
      "Process ForkPoolWorker-28:\n",
      "Process ForkPoolWorker-14:\n",
      "Process ForkPoolWorker-22:\n",
      "Process ForkPoolWorker-21:\n",
      "Process ForkPoolWorker-17:\n",
      "Process ForkPoolWorker-27:\n",
      "Process ForkPoolWorker-20:\n",
      "Traceback (most recent call last):\n",
      "Traceback (most recent call last):\n",
      "Traceback (most recent call last):\n",
      "Traceback (most recent call last):\n",
      "Traceback (most recent call last):\n",
      "Traceback (most recent call last):\n",
      "Traceback (most recent call last):\n",
      "Traceback (most recent call last):\n",
      "Traceback (most recent call last):\n",
      "Traceback (most recent call last):\n",
      "Traceback (most recent call last):\n",
      "Traceback (most recent call last):\n",
      "Traceback (most recent call last):\n",
      "Traceback (most recent call last):\n",
      "Traceback (most recent call last):\n",
      "Traceback (most recent call last):\n",
      "Traceback (most recent call last):\n",
      "Traceback (most recent call last):\n",
      "  File \"/raid/home/edoardo/GitProjects/HnMChallenge/.venv/lib/python3.9/site-packages/multiprocess/process.py\", line 315, in _bootstrap\n",
      "    self.run()\n",
      "  File \"/raid/home/edoardo/GitProjects/HnMChallenge/.venv/lib/python3.9/site-packages/multiprocess/process.py\", line 315, in _bootstrap\n",
      "    self.run()\n",
      "  File \"/raid/home/edoardo/GitProjects/HnMChallenge/.venv/lib/python3.9/site-packages/multiprocess/process.py\", line 315, in _bootstrap\n",
      "    self.run()\n",
      "  File \"/raid/home/edoardo/GitProjects/HnMChallenge/.venv/lib/python3.9/site-packages/multiprocess/process.py\", line 315, in _bootstrap\n",
      "    self.run()\n",
      "  File \"/raid/home/edoardo/GitProjects/HnMChallenge/.venv/lib/python3.9/site-packages/multiprocess/process.py\", line 315, in _bootstrap\n",
      "    self.run()\n",
      "  File \"/raid/home/edoardo/GitProjects/HnMChallenge/.venv/lib/python3.9/site-packages/multiprocess/process.py\", line 315, in _bootstrap\n",
      "    self.run()\n",
      "  File \"/raid/home/edoardo/GitProjects/HnMChallenge/.venv/lib/python3.9/site-packages/multiprocess/process.py\", line 315, in _bootstrap\n",
      "    self.run()\n",
      "  File \"/raid/home/edoardo/GitProjects/HnMChallenge/.venv/lib/python3.9/site-packages/multiprocess/process.py\", line 315, in _bootstrap\n",
      "    self.run()\n",
      "  File \"/raid/home/edoardo/GitProjects/HnMChallenge/.venv/lib/python3.9/site-packages/multiprocess/process.py\", line 315, in _bootstrap\n",
      "    self.run()\n",
      "  File \"/raid/home/edoardo/GitProjects/HnMChallenge/.venv/lib/python3.9/site-packages/multiprocess/process.py\", line 315, in _bootstrap\n",
      "    self.run()\n",
      "  File \"/raid/home/edoardo/GitProjects/HnMChallenge/.venv/lib/python3.9/site-packages/multiprocess/process.py\", line 315, in _bootstrap\n",
      "    self.run()\n",
      "Process ForkPoolWorker-30:\n",
      "  File \"/raid/home/edoardo/GitProjects/HnMChallenge/.venv/lib/python3.9/site-packages/multiprocess/process.py\", line 315, in _bootstrap\n",
      "    self.run()\n",
      "  File \"/raid/home/edoardo/GitProjects/HnMChallenge/.venv/lib/python3.9/site-packages/multiprocess/process.py\", line 315, in _bootstrap\n",
      "    self.run()\n",
      "  File \"/raid/home/edoardo/GitProjects/HnMChallenge/.venv/lib/python3.9/site-packages/multiprocess/process.py\", line 315, in _bootstrap\n",
      "    self.run()\n",
      "  File \"/raid/home/edoardo/GitProjects/HnMChallenge/.venv/lib/python3.9/site-packages/multiprocess/process.py\", line 315, in _bootstrap\n",
      "    self.run()\n",
      "  File \"/raid/home/edoardo/GitProjects/HnMChallenge/.venv/lib/python3.9/site-packages/multiprocess/process.py\", line 315, in _bootstrap\n",
      "    self.run()\n",
      "Process ForkPoolWorker-29:\n",
      "  File \"/raid/home/edoardo/GitProjects/HnMChallenge/.venv/lib/python3.9/site-packages/multiprocess/process.py\", line 315, in _bootstrap\n",
      "    self.run()\n",
      "  File \"/raid/home/edoardo/GitProjects/HnMChallenge/.venv/lib/python3.9/site-packages/multiprocess/process.py\", line 315, in _bootstrap\n",
      "    self.run()\n",
      "  File \"/raid/home/edoardo/GitProjects/HnMChallenge/.venv/lib/python3.9/site-packages/multiprocess/process.py\", line 108, in run\n",
      "    self._target(*self._args, **self._kwargs)\n",
      "  File \"/raid/home/edoardo/GitProjects/HnMChallenge/.venv/lib/python3.9/site-packages/multiprocess/process.py\", line 108, in run\n",
      "    self._target(*self._args, **self._kwargs)\n",
      "  File \"/raid/home/edoardo/GitProjects/HnMChallenge/.venv/lib/python3.9/site-packages/multiprocess/process.py\", line 108, in run\n",
      "    self._target(*self._args, **self._kwargs)\n",
      "  File \"/raid/home/edoardo/GitProjects/HnMChallenge/.venv/lib/python3.9/site-packages/multiprocess/process.py\", line 108, in run\n",
      "    self._target(*self._args, **self._kwargs)\n",
      "  File \"/raid/home/edoardo/GitProjects/HnMChallenge/.venv/lib/python3.9/site-packages/multiprocess/process.py\", line 108, in run\n",
      "    self._target(*self._args, **self._kwargs)\n",
      "  File \"/raid/home/edoardo/GitProjects/HnMChallenge/.venv/lib/python3.9/site-packages/multiprocess/process.py\", line 108, in run\n",
      "    self._target(*self._args, **self._kwargs)\n",
      "  File \"/raid/home/edoardo/GitProjects/HnMChallenge/.venv/lib/python3.9/site-packages/multiprocess/process.py\", line 108, in run\n",
      "    self._target(*self._args, **self._kwargs)\n",
      "  File \"/raid/home/edoardo/GitProjects/HnMChallenge/.venv/lib/python3.9/site-packages/multiprocess/process.py\", line 108, in run\n",
      "    self._target(*self._args, **self._kwargs)\n",
      "  File \"/raid/home/edoardo/GitProjects/HnMChallenge/.venv/lib/python3.9/site-packages/multiprocess/process.py\", line 108, in run\n",
      "    self._target(*self._args, **self._kwargs)\n",
      "  File \"/raid/home/edoardo/GitProjects/HnMChallenge/.venv/lib/python3.9/site-packages/multiprocess/process.py\", line 108, in run\n",
      "    self._target(*self._args, **self._kwargs)\n",
      "  File \"/raid/home/edoardo/GitProjects/HnMChallenge/.venv/lib/python3.9/site-packages/multiprocess/process.py\", line 108, in run\n",
      "    self._target(*self._args, **self._kwargs)\n",
      "Traceback (most recent call last):\n",
      "  File \"/raid/home/edoardo/GitProjects/HnMChallenge/.venv/lib/python3.9/site-packages/multiprocess/process.py\", line 108, in run\n",
      "    self._target(*self._args, **self._kwargs)\n",
      "  File \"/raid/home/edoardo/GitProjects/HnMChallenge/.venv/lib/python3.9/site-packages/multiprocess/process.py\", line 108, in run\n",
      "    self._target(*self._args, **self._kwargs)\n",
      "  File \"/raid/home/edoardo/GitProjects/HnMChallenge/.venv/lib/python3.9/site-packages/multiprocess/process.py\", line 108, in run\n",
      "    self._target(*self._args, **self._kwargs)\n",
      "  File \"/raid/home/edoardo/GitProjects/HnMChallenge/.venv/lib/python3.9/site-packages/multiprocess/process.py\", line 108, in run\n",
      "    self._target(*self._args, **self._kwargs)\n",
      "  File \"/raid/home/edoardo/GitProjects/HnMChallenge/.venv/lib/python3.9/site-packages/multiprocess/process.py\", line 108, in run\n",
      "    self._target(*self._args, **self._kwargs)\n",
      "Traceback (most recent call last):\n",
      "  File \"/raid/home/edoardo/GitProjects/HnMChallenge/.venv/lib/python3.9/site-packages/multiprocess/process.py\", line 108, in run\n",
      "    self._target(*self._args, **self._kwargs)\n",
      "  File \"/raid/home/edoardo/GitProjects/HnMChallenge/.venv/lib/python3.9/site-packages/multiprocess/process.py\", line 108, in run\n",
      "    self._target(*self._args, **self._kwargs)\n",
      "  File \"/raid/home/edoardo/GitProjects/HnMChallenge/.venv/lib/python3.9/site-packages/multiprocess/pool.py\", line 114, in worker\n",
      "    task = get()\n",
      "  File \"/raid/home/edoardo/GitProjects/HnMChallenge/.venv/lib/python3.9/site-packages/multiprocess/pool.py\", line 114, in worker\n",
      "    task = get()\n",
      "  File \"/raid/home/edoardo/GitProjects/HnMChallenge/.venv/lib/python3.9/site-packages/multiprocess/pool.py\", line 114, in worker\n",
      "    task = get()\n",
      "  File \"/raid/home/edoardo/GitProjects/HnMChallenge/.venv/lib/python3.9/site-packages/multiprocess/pool.py\", line 114, in worker\n",
      "    task = get()\n",
      "  File \"/raid/home/edoardo/GitProjects/HnMChallenge/.venv/lib/python3.9/site-packages/multiprocess/pool.py\", line 114, in worker\n",
      "    task = get()\n",
      "  File \"/raid/home/edoardo/GitProjects/HnMChallenge/.venv/lib/python3.9/site-packages/multiprocess/pool.py\", line 114, in worker\n",
      "    task = get()\n",
      "  File \"/raid/home/edoardo/GitProjects/HnMChallenge/.venv/lib/python3.9/site-packages/multiprocess/pool.py\", line 114, in worker\n",
      "    task = get()\n",
      "  File \"/raid/home/edoardo/GitProjects/HnMChallenge/.venv/lib/python3.9/site-packages/multiprocess/pool.py\", line 114, in worker\n",
      "    task = get()\n",
      "  File \"/raid/home/edoardo/GitProjects/HnMChallenge/.venv/lib/python3.9/site-packages/multiprocess/pool.py\", line 114, in worker\n",
      "    task = get()\n",
      "  File \"/raid/home/edoardo/GitProjects/HnMChallenge/.venv/lib/python3.9/site-packages/multiprocess/pool.py\", line 114, in worker\n",
      "    task = get()\n",
      "  File \"/raid/home/edoardo/GitProjects/HnMChallenge/.venv/lib/python3.9/site-packages/multiprocess/pool.py\", line 114, in worker\n",
      "    task = get()\n",
      "  File \"/raid/home/edoardo/GitProjects/HnMChallenge/.venv/lib/python3.9/site-packages/multiprocess/process.py\", line 315, in _bootstrap\n",
      "    self.run()\n",
      "  File \"/raid/home/edoardo/GitProjects/HnMChallenge/.venv/lib/python3.9/site-packages/multiprocess/pool.py\", line 114, in worker\n",
      "    task = get()\n",
      "  File \"/raid/home/edoardo/GitProjects/HnMChallenge/.venv/lib/python3.9/site-packages/multiprocess/pool.py\", line 114, in worker\n",
      "    task = get()\n",
      "  File \"/raid/home/edoardo/GitProjects/HnMChallenge/.venv/lib/python3.9/site-packages/multiprocess/pool.py\", line 114, in worker\n",
      "    task = get()\n",
      "  File \"/raid/home/edoardo/GitProjects/HnMChallenge/.venv/lib/python3.9/site-packages/multiprocess/pool.py\", line 114, in worker\n",
      "    task = get()\n",
      "  File \"/raid/home/edoardo/GitProjects/HnMChallenge/.venv/lib/python3.9/site-packages/multiprocess/pool.py\", line 114, in worker\n",
      "    task = get()\n",
      "  File \"/raid/home/edoardo/GitProjects/HnMChallenge/.venv/lib/python3.9/site-packages/multiprocess/process.py\", line 315, in _bootstrap\n",
      "    self.run()\n",
      "  File \"/raid/home/edoardo/GitProjects/HnMChallenge/.venv/lib/python3.9/site-packages/multiprocess/pool.py\", line 114, in worker\n",
      "    task = get()\n",
      "  File \"/raid/home/edoardo/GitProjects/HnMChallenge/.venv/lib/python3.9/site-packages/multiprocess/pool.py\", line 114, in worker\n",
      "    task = get()\n",
      "  File \"/raid/home/edoardo/GitProjects/HnMChallenge/.venv/lib/python3.9/site-packages/multiprocess/queues.py\", line 368, in get\n",
      "    with self._rlock:\n",
      "  File \"/raid/home/edoardo/GitProjects/HnMChallenge/.venv/lib/python3.9/site-packages/multiprocess/queues.py\", line 368, in get\n",
      "    with self._rlock:\n",
      "  File \"/raid/home/edoardo/GitProjects/HnMChallenge/.venv/lib/python3.9/site-packages/multiprocess/queues.py\", line 368, in get\n",
      "    with self._rlock:\n",
      "  File \"/raid/home/edoardo/GitProjects/HnMChallenge/.venv/lib/python3.9/site-packages/multiprocess/queues.py\", line 368, in get\n",
      "    with self._rlock:\n",
      "  File \"/raid/home/edoardo/GitProjects/HnMChallenge/.venv/lib/python3.9/site-packages/multiprocess/queues.py\", line 368, in get\n",
      "    with self._rlock:\n",
      "  File \"/raid/home/edoardo/GitProjects/HnMChallenge/.venv/lib/python3.9/site-packages/multiprocess/queues.py\", line 368, in get\n",
      "    with self._rlock:\n",
      "  File \"/raid/home/edoardo/GitProjects/HnMChallenge/.venv/lib/python3.9/site-packages/multiprocess/queues.py\", line 368, in get\n",
      "    with self._rlock:\n",
      "  File \"/raid/home/edoardo/GitProjects/HnMChallenge/.venv/lib/python3.9/site-packages/multiprocess/queues.py\", line 369, in get\n",
      "    res = self._reader.recv_bytes()\n",
      "  File \"/raid/home/edoardo/GitProjects/HnMChallenge/.venv/lib/python3.9/site-packages/multiprocess/queues.py\", line 368, in get\n",
      "    with self._rlock:\n",
      "  File \"/raid/home/edoardo/GitProjects/HnMChallenge/.venv/lib/python3.9/site-packages/multiprocess/queues.py\", line 368, in get\n",
      "    with self._rlock:\n",
      "  File \"/raid/home/edoardo/GitProjects/HnMChallenge/.venv/lib/python3.9/site-packages/multiprocess/queues.py\", line 368, in get\n",
      "    with self._rlock:\n",
      "  File \"/raid/home/edoardo/GitProjects/HnMChallenge/.venv/lib/python3.9/site-packages/multiprocess/process.py\", line 108, in run\n",
      "    self._target(*self._args, **self._kwargs)\n",
      "  File \"/raid/home/edoardo/GitProjects/HnMChallenge/.venv/lib/python3.9/site-packages/multiprocess/queues.py\", line 368, in get\n",
      "    with self._rlock:\n",
      "  File \"/raid/home/edoardo/GitProjects/HnMChallenge/.venv/lib/python3.9/site-packages/multiprocess/queues.py\", line 368, in get\n",
      "    with self._rlock:\n",
      "  File \"/raid/home/edoardo/GitProjects/HnMChallenge/.venv/lib/python3.9/site-packages/multiprocess/queues.py\", line 368, in get\n",
      "    with self._rlock:\n",
      "  File \"/raid/home/edoardo/GitProjects/HnMChallenge/.venv/lib/python3.9/site-packages/multiprocess/queues.py\", line 368, in get\n",
      "    with self._rlock:\n",
      "  File \"/raid/home/edoardo/GitProjects/HnMChallenge/.venv/lib/python3.9/site-packages/multiprocess/queues.py\", line 368, in get\n",
      "    with self._rlock:\n",
      "  File \"/raid/home/edoardo/GitProjects/HnMChallenge/.venv/lib/python3.9/site-packages/multiprocess/process.py\", line 108, in run\n",
      "    self._target(*self._args, **self._kwargs)\n",
      "  File \"/raid/home/edoardo/GitProjects/HnMChallenge/.venv/lib/python3.9/site-packages/multiprocess/queues.py\", line 368, in get\n",
      "    with self._rlock:\n",
      "  File \"/raid/home/edoardo/GitProjects/HnMChallenge/.venv/lib/python3.9/site-packages/multiprocess/queues.py\", line 368, in get\n",
      "    with self._rlock:\n",
      "  File \"/raid/home/edoardo/GitProjects/HnMChallenge/.venv/lib/python3.9/site-packages/multiprocess/synchronize.py\", line 101, in __enter__\n",
      "    return self._semlock.__enter__()\n",
      "  File \"/raid/home/edoardo/GitProjects/HnMChallenge/.venv/lib/python3.9/site-packages/multiprocess/synchronize.py\", line 101, in __enter__\n",
      "    return self._semlock.__enter__()\n",
      "  File \"/raid/home/edoardo/GitProjects/HnMChallenge/.venv/lib/python3.9/site-packages/multiprocess/synchronize.py\", line 101, in __enter__\n",
      "    return self._semlock.__enter__()\n",
      "  File \"/raid/home/edoardo/GitProjects/HnMChallenge/.venv/lib/python3.9/site-packages/multiprocess/synchronize.py\", line 101, in __enter__\n",
      "    return self._semlock.__enter__()\n",
      "  File \"/raid/home/edoardo/GitProjects/HnMChallenge/.venv/lib/python3.9/site-packages/multiprocess/synchronize.py\", line 101, in __enter__\n",
      "    return self._semlock.__enter__()\n",
      "  File \"/raid/home/edoardo/GitProjects/HnMChallenge/.venv/lib/python3.9/site-packages/multiprocess/synchronize.py\", line 101, in __enter__\n",
      "    return self._semlock.__enter__()\n",
      "  File \"/raid/home/edoardo/GitProjects/HnMChallenge/.venv/lib/python3.9/site-packages/multiprocess/synchronize.py\", line 101, in __enter__\n",
      "    return self._semlock.__enter__()\n",
      "  File \"/raid/home/edoardo/GitProjects/HnMChallenge/.venv/lib/python3.9/site-packages/multiprocess/connection.py\", line 224, in recv_bytes\n",
      "    buf = self._recv_bytes(maxlength)\n",
      "  File \"/raid/home/edoardo/GitProjects/HnMChallenge/.venv/lib/python3.9/site-packages/multiprocess/synchronize.py\", line 101, in __enter__\n",
      "    return self._semlock.__enter__()\n",
      "  File \"/raid/home/edoardo/GitProjects/HnMChallenge/.venv/lib/python3.9/site-packages/multiprocess/synchronize.py\", line 101, in __enter__\n",
      "    return self._semlock.__enter__()\n",
      "  File \"/raid/home/edoardo/GitProjects/HnMChallenge/.venv/lib/python3.9/site-packages/multiprocess/synchronize.py\", line 101, in __enter__\n",
      "    return self._semlock.__enter__()\n",
      "  File \"/raid/home/edoardo/GitProjects/HnMChallenge/.venv/lib/python3.9/site-packages/multiprocess/synchronize.py\", line 101, in __enter__\n",
      "    return self._semlock.__enter__()\n",
      "  File \"/raid/home/edoardo/GitProjects/HnMChallenge/.venv/lib/python3.9/site-packages/multiprocess/synchronize.py\", line 101, in __enter__\n",
      "    return self._semlock.__enter__()\n",
      "  File \"/raid/home/edoardo/GitProjects/HnMChallenge/.venv/lib/python3.9/site-packages/multiprocess/pool.py\", line 125, in worker\n",
      "    result = (True, func(*args, **kwds))\n",
      "  File \"/raid/home/edoardo/GitProjects/HnMChallenge/.venv/lib/python3.9/site-packages/multiprocess/synchronize.py\", line 101, in __enter__\n",
      "    return self._semlock.__enter__()\n",
      "  File \"/raid/home/edoardo/GitProjects/HnMChallenge/.venv/lib/python3.9/site-packages/multiprocess/synchronize.py\", line 101, in __enter__\n",
      "    return self._semlock.__enter__()\n",
      "  File \"/raid/home/edoardo/GitProjects/HnMChallenge/.venv/lib/python3.9/site-packages/multiprocess/synchronize.py\", line 101, in __enter__\n",
      "    return self._semlock.__enter__()\n",
      "  File \"/raid/home/edoardo/GitProjects/HnMChallenge/.venv/lib/python3.9/site-packages/multiprocess/pool.py\", line 125, in worker\n",
      "    result = (True, func(*args, **kwds))\n",
      "  File \"/raid/home/edoardo/GitProjects/HnMChallenge/.venv/lib/python3.9/site-packages/multiprocess/synchronize.py\", line 101, in __enter__\n",
      "    return self._semlock.__enter__()\n",
      "  File \"/raid/home/edoardo/GitProjects/HnMChallenge/.venv/lib/python3.9/site-packages/multiprocess/synchronize.py\", line 101, in __enter__\n",
      "    return self._semlock.__enter__()\n",
      "KeyboardInterrupt\n",
      "KeyboardInterrupt\n",
      "KeyboardInterrupt\n",
      "KeyboardInterrupt\n",
      "KeyboardInterrupt\n",
      "KeyboardInterrupt\n",
      "KeyboardInterrupt\n",
      "  File \"/raid/home/edoardo/GitProjects/HnMChallenge/.venv/lib/python3.9/site-packages/multiprocess/connection.py\", line 422, in _recv_bytes\n",
      "    buf = self._recv(4)\n",
      "KeyboardInterrupt\n",
      "KeyboardInterrupt\n",
      "KeyboardInterrupt\n",
      "KeyboardInterrupt\n",
      "KeyboardInterrupt\n",
      "  File \"/raid/home/edoardo/GitProjects/HnMChallenge/.venv/lib/python3.9/site-packages/pathos/helpers/mp_helper.py\", line 15, in <lambda>\n",
      "    func = lambda args: f(*args)\n",
      "KeyboardInterrupt\n",
      "KeyboardInterrupt\n",
      "KeyboardInterrupt\n",
      "  File \"/raid/home/edoardo/GitProjects/HnMChallenge/.venv/lib/python3.9/site-packages/pathos/helpers/mp_helper.py\", line 15, in <lambda>\n",
      "    func = lambda args: f(*args)\n",
      "KeyboardInterrupt\n",
      "KeyboardInterrupt\n",
      "  File \"/raid/home/edoardo/GitProjects/HnMChallenge/.venv/lib/python3.9/site-packages/multiprocess/connection.py\", line 387, in _recv\n",
      "    chunk = read(handle, remaining)\n",
      "  File \"/raid/home/edoardo/GitProjects/HnMChallenge/hnmchallenge/recommender_interface.py\", line 189, in _rec\n",
      "    scores = self.predict(interactions_df)\n",
      "  File \"/raid/home/edoardo/GitProjects/HnMChallenge/hnmchallenge/recommender_interface.py\", line 196, in _rec\n",
      "    items, scores = get_top_k(\n",
      "KeyboardInterrupt\n",
      "  File \"/raid/home/edoardo/GitProjects/HnMChallenge/hnmchallenge/recommender_interface.py\", line 280, in predict\n",
      "    scores = sparse_interaction @ self.similarity_matrix\n",
      "  File \"/raid/home/edoardo/GitProjects/HnMChallenge/hnmchallenge/utils/sparse_matrix.py\", line 137, in get_top_k\n",
      "    top_items = np.argpartition(scores, -k, axis=1)[:, -k:]\n",
      "  File \"/raid/home/edoardo/GitProjects/HnMChallenge/.venv/lib/python3.9/site-packages/scipy/sparse/base.py\", line 560, in __matmul__\n",
      "    return self.__mul__(other)\n",
      "  File \"<__array_function__ internals>\", line 180, in argpartition\n",
      "  File \"/raid/home/edoardo/GitProjects/HnMChallenge/.venv/lib/python3.9/site-packages/scipy/sparse/base.py\", line 480, in __mul__\n",
      "    return self._mul_sparse_matrix(other)\n",
      "  File \"/raid/home/edoardo/GitProjects/HnMChallenge/.venv/lib/python3.9/site-packages/numpy/core/fromnumeric.py\", line 845, in argpartition\n",
      "    return _wrapfunc(a, 'argpartition', kth, axis=axis, kind=kind, order=order)\n",
      "  File \"/raid/home/edoardo/GitProjects/HnMChallenge/.venv/lib/python3.9/site-packages/scipy/sparse/base.py\", line 539, in _mul_sparse_matrix\n",
      "    return self.tocsr()._mul_sparse_matrix(other)\n",
      "  File \"/raid/home/edoardo/GitProjects/HnMChallenge/.venv/lib/python3.9/site-packages/scipy/sparse/compressed.py\", line 522, in _mul_sparse_matrix\n",
      "    fn(M, N, np.asarray(self.indptr, dtype=idx_dtype),\n",
      "  File \"/raid/home/edoardo/GitProjects/HnMChallenge/.venv/lib/python3.9/site-packages/numpy/core/fromnumeric.py\", line 57, in _wrapfunc\n",
      "    return bound(*args, **kwds)\n",
      "KeyboardInterrupt\n",
      "KeyboardInterrupt\n"
     ]
    }
   ],
   "source": [
    "recs = recom.recommend_multicore(interactions=train_sub, batch_size=10_000, num_cpus=10, remove_seen=False)"
   ]
  },
  {
   "cell_type": "code",
   "execution_count": 8,
   "metadata": {},
   "outputs": [
    {
     "data": {
      "text/plain": [
       "0.015227202906427983"
      ]
     },
     "execution_count": 8,
     "metadata": {},
     "output_type": "execute_result"
    }
   ],
   "source": [
    "map_at_k(rating_true=dataset.get_val_df_user_subset(), rating_pred=recs)"
   ]
  },
  {
   "cell_type": "code",
   "execution_count": 9,
   "metadata": {},
   "outputs": [
    {
     "data": {
      "text/plain": [
       "0.00791077573723103"
      ]
     },
     "execution_count": 9,
     "metadata": {},
     "output_type": "execute_result"
    }
   ],
   "source": [
    "map_at_k(rating_true=dataset.get_test_df_user_subset(), rating_pred=recs)"
   ]
  },
  {
   "cell_type": "code",
   "execution_count": 1,
   "metadata": {},
   "outputs": [],
   "source": [
    "from hnmchallenge.submission_handler import SubmissionHandler\n",
    "sh = SubmissionHandler()                                               "
   ]
  },
  {
   "cell_type": "code",
   "execution_count": 15,
   "metadata": {},
   "outputs": [],
   "source": [
    "sh.create_submission(recs, sub_name=\"TopPop_1M_rs\")"
   ]
  },
  {
   "cell_type": "code",
   "execution_count": null,
   "metadata": {},
   "outputs": [],
   "source": [
    "user_map_dict, item_map_dict = dr.get_new_raw_mapping_dict()"
   ]
  },
  {
   "cell_type": "code",
   "execution_count": null,
   "metadata": {},
   "outputs": [],
   "source": []
  },
  {
   "cell_type": "code",
   "execution_count": null,
   "metadata": {},
   "outputs": [],
   "source": [
    "grp_recs_df = recs.groupby(DEFAULT_USER_COL)[DEFAULT_ITEM_COL].apply(list)\n",
    "grp_recs_df = grp_recs_df.to_frame().reset_index()\n",
    "# map back to original ids\n",
    "grp_recs_df[DEFAULT_USER_COL] = grp_recs_df[DEFAULT_USER_COL].apply(\n",
    "    lambda x: user_map_dict.get(x)\n",
    ")"
   ]
  },
  {
   "cell_type": "code",
   "execution_count": null,
   "metadata": {},
   "outputs": [],
   "source": [
    "grp_recs_df[DEFAULT_ITEM_COL] = grp_recs_df[DEFAULT_ITEM_COL].apply(\n",
    "    lambda x: \" \".join(list(map(item_map_dict.get, x)))\n",
    ")"
   ]
  },
  {
   "cell_type": "code",
   "execution_count": null,
   "metadata": {},
   "outputs": [],
   "source": [
    "grp_recs_df"
   ]
  },
  {
   "cell_type": "code",
   "execution_count": null,
   "metadata": {},
   "outputs": [],
   "source": [
    "map_at_k(rating_true=test_df_s, rating_pred=recs)"
   ]
  },
  {
   "cell_type": "code",
   "execution_count": null,
   "metadata": {},
   "outputs": [],
   "source": [
    "map_at_k(rating_true=val_df_s, rating_pred=recs)"
   ]
  },
  {
   "cell_type": "code",
   "execution_count": 3,
   "metadata": {},
   "outputs": [],
   "source": [
    "dr = DataReader()"
   ]
  },
  {
   "cell_type": "code",
   "execution_count": 4,
   "metadata": {},
   "outputs": [
    {
     "data": {
      "text/html": [
       "<div>\n",
       "<style scoped>\n",
       "    .dataframe tbody tr th:only-of-type {\n",
       "        vertical-align: middle;\n",
       "    }\n",
       "\n",
       "    .dataframe tbody tr th {\n",
       "        vertical-align: top;\n",
       "    }\n",
       "\n",
       "    .dataframe thead th {\n",
       "        text-align: right;\n",
       "    }\n",
       "</style>\n",
       "<table border=\"1\" class=\"dataframe\">\n",
       "  <thead>\n",
       "    <tr style=\"text-align: right;\">\n",
       "      <th></th>\n",
       "      <th>customer_id</th>\n",
       "      <th>prediction</th>\n",
       "    </tr>\n",
       "  </thead>\n",
       "  <tbody>\n",
       "    <tr>\n",
       "      <th>0</th>\n",
       "      <td>00058ecf091cea1bba9d800cabac6ed1ae284202cdab68...</td>\n",
       "      <td>0751471001 0909370001 0918522001 0924243001 09...</td>\n",
       "    </tr>\n",
       "    <tr>\n",
       "      <th>1</th>\n",
       "      <td>000df4d2084d142416b8165bdd249bab8fea2393447aed...</td>\n",
       "      <td>0751471001 0909370001 0918522001 0924243001 09...</td>\n",
       "    </tr>\n",
       "    <tr>\n",
       "      <th>2</th>\n",
       "      <td>00193ff7f374dbcfecfa7fead0488e454be4918bec1ebd...</td>\n",
       "      <td>0751471001 0909370001 0918522001 0924243001 09...</td>\n",
       "    </tr>\n",
       "    <tr>\n",
       "      <th>3</th>\n",
       "      <td>001f00e8c1eba437ff0dbad26a9a3d49e47cbf05fff02a...</td>\n",
       "      <td>0751471001 0909370001 0918522001 0924243001 09...</td>\n",
       "    </tr>\n",
       "    <tr>\n",
       "      <th>4</th>\n",
       "      <td>002648d8f3b288531b24860f4a68a31d029ec5a0495c04...</td>\n",
       "      <td>0751471001 0909370001 0918522001 0924243001 09...</td>\n",
       "    </tr>\n",
       "    <tr>\n",
       "      <th>...</th>\n",
       "      <td>...</td>\n",
       "      <td>...</td>\n",
       "    </tr>\n",
       "    <tr>\n",
       "      <th>9694</th>\n",
       "      <td>ffe5801cb2a5b51d4d068322d7f8082e995f427a6f22a6...</td>\n",
       "      <td>0751471001 0909370001 0918522001 0924243001 09...</td>\n",
       "    </tr>\n",
       "    <tr>\n",
       "      <th>9695</th>\n",
       "      <td>ffeb3ca867aba57a312fe9d28d67dd46ef2240fe92a94c...</td>\n",
       "      <td>0751471001 0909370001 0918522001 0924243001 09...</td>\n",
       "    </tr>\n",
       "    <tr>\n",
       "      <th>9696</th>\n",
       "      <td>fff456fa60aac9174456c2f36ede5e0f25429a16c88a34...</td>\n",
       "      <td>0751471001 0909370001 0918522001 0924243001 09...</td>\n",
       "    </tr>\n",
       "    <tr>\n",
       "      <th>9697</th>\n",
       "      <td>fffa8d3cea26d4f5186472b923629b35fa28051f258030...</td>\n",
       "      <td>0751471001 0909370001 0918522001 0924243001 09...</td>\n",
       "    </tr>\n",
       "    <tr>\n",
       "      <th>9698</th>\n",
       "      <td>ffff01710b4f0d558ff62d7dc00f0641065b37e840bb43...</td>\n",
       "      <td>0751471001 0909370001 0918522001 0924243001 09...</td>\n",
       "    </tr>\n",
       "  </tbody>\n",
       "</table>\n",
       "<p>9699 rows × 2 columns</p>\n",
       "</div>"
      ],
      "text/plain": [
       "                                            customer_id  \\\n",
       "0     00058ecf091cea1bba9d800cabac6ed1ae284202cdab68...   \n",
       "1     000df4d2084d142416b8165bdd249bab8fea2393447aed...   \n",
       "2     00193ff7f374dbcfecfa7fead0488e454be4918bec1ebd...   \n",
       "3     001f00e8c1eba437ff0dbad26a9a3d49e47cbf05fff02a...   \n",
       "4     002648d8f3b288531b24860f4a68a31d029ec5a0495c04...   \n",
       "...                                                 ...   \n",
       "9694  ffe5801cb2a5b51d4d068322d7f8082e995f427a6f22a6...   \n",
       "9695  ffeb3ca867aba57a312fe9d28d67dd46ef2240fe92a94c...   \n",
       "9696  fff456fa60aac9174456c2f36ede5e0f25429a16c88a34...   \n",
       "9697  fffa8d3cea26d4f5186472b923629b35fa28051f258030...   \n",
       "9698  ffff01710b4f0d558ff62d7dc00f0641065b37e840bb43...   \n",
       "\n",
       "                                             prediction  \n",
       "0     0751471001 0909370001 0918522001 0924243001 09...  \n",
       "1     0751471001 0909370001 0918522001 0924243001 09...  \n",
       "2     0751471001 0909370001 0918522001 0924243001 09...  \n",
       "3     0751471001 0909370001 0918522001 0924243001 09...  \n",
       "4     0751471001 0909370001 0918522001 0924243001 09...  \n",
       "...                                                 ...  \n",
       "9694  0751471001 0909370001 0918522001 0924243001 09...  \n",
       "9695  0751471001 0909370001 0918522001 0924243001 09...  \n",
       "9696  0751471001 0909370001 0918522001 0924243001 09...  \n",
       "9697  0751471001 0909370001 0918522001 0924243001 09...  \n",
       "9698  0751471001 0909370001 0918522001 0924243001 09...  \n",
       "\n",
       "[9699 rows x 2 columns]"
      ]
     },
     "execution_count": 4,
     "metadata": {},
     "output_type": "execute_result"
    }
   ],
   "source": [
    "dr.get_zero_interactions_recs()"
   ]
  },
  {
   "cell_type": "code",
   "execution_count": 11,
   "metadata": {},
   "outputs": [
    {
     "data": {
      "text/html": [
       "<div>\n",
       "<style scoped>\n",
       "    .dataframe tbody tr th:only-of-type {\n",
       "        vertical-align: middle;\n",
       "    }\n",
       "\n",
       "    .dataframe tbody tr th {\n",
       "        vertical-align: top;\n",
       "    }\n",
       "\n",
       "    .dataframe thead th {\n",
       "        text-align: right;\n",
       "    }\n",
       "</style>\n",
       "<table border=\"1\" class=\"dataframe\">\n",
       "  <thead>\n",
       "    <tr style=\"text-align: right;\">\n",
       "      <th></th>\n",
       "      <th>customer_id</th>\n",
       "      <th>prediction</th>\n",
       "    </tr>\n",
       "  </thead>\n",
       "  <tbody>\n",
       "    <tr>\n",
       "      <th>0</th>\n",
       "      <td>00058ecf091cea1bba9d800cabac6ed1ae284202cdab68...</td>\n",
       "      <td>0751471001 0909370001 0918522001 0924243001 09...</td>\n",
       "    </tr>\n",
       "    <tr>\n",
       "      <th>1</th>\n",
       "      <td>000df4d2084d142416b8165bdd249bab8fea2393447aed...</td>\n",
       "      <td>0751471001 0909370001 0918522001 0924243001 09...</td>\n",
       "    </tr>\n",
       "    <tr>\n",
       "      <th>2</th>\n",
       "      <td>00193ff7f374dbcfecfa7fead0488e454be4918bec1ebd...</td>\n",
       "      <td>0751471001 0909370001 0918522001 0924243001 09...</td>\n",
       "    </tr>\n",
       "    <tr>\n",
       "      <th>3</th>\n",
       "      <td>001f00e8c1eba437ff0dbad26a9a3d49e47cbf05fff02a...</td>\n",
       "      <td>0751471001 0909370001 0918522001 0924243001 09...</td>\n",
       "    </tr>\n",
       "    <tr>\n",
       "      <th>4</th>\n",
       "      <td>002648d8f3b288531b24860f4a68a31d029ec5a0495c04...</td>\n",
       "      <td>0751471001 0909370001 0918522001 0924243001 09...</td>\n",
       "    </tr>\n",
       "    <tr>\n",
       "      <th>...</th>\n",
       "      <td>...</td>\n",
       "      <td>...</td>\n",
       "    </tr>\n",
       "    <tr>\n",
       "      <th>9694</th>\n",
       "      <td>ffe5801cb2a5b51d4d068322d7f8082e995f427a6f22a6...</td>\n",
       "      <td>0751471001 0909370001 0918522001 0924243001 09...</td>\n",
       "    </tr>\n",
       "    <tr>\n",
       "      <th>9695</th>\n",
       "      <td>ffeb3ca867aba57a312fe9d28d67dd46ef2240fe92a94c...</td>\n",
       "      <td>0751471001 0909370001 0918522001 0924243001 09...</td>\n",
       "    </tr>\n",
       "    <tr>\n",
       "      <th>9696</th>\n",
       "      <td>fff456fa60aac9174456c2f36ede5e0f25429a16c88a34...</td>\n",
       "      <td>0751471001 0909370001 0918522001 0924243001 09...</td>\n",
       "    </tr>\n",
       "    <tr>\n",
       "      <th>9697</th>\n",
       "      <td>fffa8d3cea26d4f5186472b923629b35fa28051f258030...</td>\n",
       "      <td>0751471001 0909370001 0918522001 0924243001 09...</td>\n",
       "    </tr>\n",
       "    <tr>\n",
       "      <th>9698</th>\n",
       "      <td>ffff01710b4f0d558ff62d7dc00f0641065b37e840bb43...</td>\n",
       "      <td>0751471001 0909370001 0918522001 0924243001 09...</td>\n",
       "    </tr>\n",
       "  </tbody>\n",
       "</table>\n",
       "<p>9699 rows × 2 columns</p>\n",
       "</div>"
      ],
      "text/plain": [
       "                                            customer_id  \\\n",
       "0     00058ecf091cea1bba9d800cabac6ed1ae284202cdab68...   \n",
       "1     000df4d2084d142416b8165bdd249bab8fea2393447aed...   \n",
       "2     00193ff7f374dbcfecfa7fead0488e454be4918bec1ebd...   \n",
       "3     001f00e8c1eba437ff0dbad26a9a3d49e47cbf05fff02a...   \n",
       "4     002648d8f3b288531b24860f4a68a31d029ec5a0495c04...   \n",
       "...                                                 ...   \n",
       "9694  ffe5801cb2a5b51d4d068322d7f8082e995f427a6f22a6...   \n",
       "9695  ffeb3ca867aba57a312fe9d28d67dd46ef2240fe92a94c...   \n",
       "9696  fff456fa60aac9174456c2f36ede5e0f25429a16c88a34...   \n",
       "9697  fffa8d3cea26d4f5186472b923629b35fa28051f258030...   \n",
       "9698  ffff01710b4f0d558ff62d7dc00f0641065b37e840bb43...   \n",
       "\n",
       "                                             prediction  \n",
       "0     0751471001 0909370001 0918522001 0924243001 09...  \n",
       "1     0751471001 0909370001 0918522001 0924243001 09...  \n",
       "2     0751471001 0909370001 0918522001 0924243001 09...  \n",
       "3     0751471001 0909370001 0918522001 0924243001 09...  \n",
       "4     0751471001 0909370001 0918522001 0924243001 09...  \n",
       "...                                                 ...  \n",
       "9694  0751471001 0909370001 0918522001 0924243001 09...  \n",
       "9695  0751471001 0909370001 0918522001 0924243001 09...  \n",
       "9696  0751471001 0909370001 0918522001 0924243001 09...  \n",
       "9697  0751471001 0909370001 0918522001 0924243001 09...  \n",
       "9698  0751471001 0909370001 0918522001 0924243001 09...  \n",
       "\n",
       "[9699 rows x 2 columns]"
      ]
     },
     "execution_count": 11,
     "metadata": {},
     "output_type": "execute_result"
    }
   ],
   "source": [
    "zero_int_users"
   ]
  },
  {
   "cell_type": "code",
   "execution_count": null,
   "metadata": {},
   "outputs": [],
   "source": []
  }
 ],
 "metadata": {
  "interpreter": {
   "hash": "49c059d58f0ec17badd0cdbe6e6b441d467a7aa9fe76b97f622dc3d7d564b644"
  },
  "kernelspec": {
   "display_name": "Python 3.9.7 64-bit ('.venv': poetry)",
   "language": "python",
   "name": "python3"
  },
  "language_info": {
   "codemirror_mode": {
    "name": "ipython",
    "version": 3
   },
   "file_extension": ".py",
   "mimetype": "text/x-python",
   "name": "python",
   "nbconvert_exporter": "python",
   "pygments_lexer": "ipython3",
   "version": "3.9.7"
  },
  "orig_nbformat": 4
 },
 "nbformat": 4,
 "nbformat_minor": 2
}
