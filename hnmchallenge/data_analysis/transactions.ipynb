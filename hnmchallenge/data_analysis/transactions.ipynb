{
 "cells": [
  {
   "cell_type": "code",
   "execution_count": 1,
   "metadata": {},
   "outputs": [],
   "source": [
    "import pandas as pd\n",
    "from hnmchallenge.data_reader import DataReader\n",
    "import matplotlib.pyplot as plt\n",
    "import seaborn as sns\n",
    "import numpy as np\n",
    "from hnmchallenge.dataset import Dataset\n",
    "from hnmchallenge.filtered_dataset import FilterdDataset\n",
    "from hnmchallenge.models.top_pop import TopPop\n",
    "from hnmchallenge.evaluation.python_evaluation import map_at_k\n",
    "from hnmchallenge.constant import *\n",
    "from hnmchallenge.models.sgmc.sgmc import SGMC\n",
    "from hnmchallenge.models.ease.ease import EASE\n",
    "from hnmchallenge.models.itemknn.itemknn import ItemKNN "
   ]
  },
  {
   "cell_type": "code",
   "execution_count": 2,
   "metadata": {},
   "outputs": [],
   "source": [
    "import logging\n",
    "logger = logging.getLogger(__name__)\n",
    "logging.basicConfig(level=logging.DEBUG)"
   ]
  },
  {
   "cell_type": "code",
   "execution_count": 3,
   "metadata": {},
   "outputs": [],
   "source": [
    "dataset = FilterdDataset()\n",
    "dr = DataReader()\n"
   ]
  },
  {
   "cell_type": "code",
   "execution_count": 4,
   "metadata": {},
   "outputs": [],
   "source": [
    "recom = SGMC(dataset, k=128, time_weight=True)"
   ]
  },
  {
   "cell_type": "code",
   "execution_count": 4,
   "metadata": {},
   "outputs": [],
   "source": [
    "recom = ItemKNN(dataset, topk=1000, time_weight=True)"
   ]
  },
  {
   "cell_type": "code",
   "execution_count": 10,
   "metadata": {},
   "outputs": [],
   "source": [
    "recom = EASE(dataset, l2=1e-3, time_weight=False)"
   ]
  },
  {
   "cell_type": "code",
   "execution_count": 11,
   "metadata": {},
   "outputs": [],
   "source": [
    "train = dataset.get_train_df()\n",
    "train_sub = dataset.get_train_df_user_subset()\n",
    "fd = dr.get_filtered_full_data()"
   ]
  },
  {
   "cell_type": "code",
   "execution_count": 12,
   "metadata": {},
   "outputs": [
    {
     "name": "stderr",
     "output_type": "stream",
     "text": [
      "INFO:hnmchallenge.utils.pandas_utils:\u001b[1;33munique customer_id: 1128716\u001b[0m\n",
      "WARNING:hnmchallenge.utils.sparse_matrix:\u001b[1;31musers_num is None, remap user ids to consecutive\u001b[0m\n"
     ]
    },
    {
     "name": "stdout",
     "output_type": "stream",
     "text": [
      "func:interactions_to_sparse_matrix\n",
      " took: 9.908806324005127 sec\n"
     ]
    }
   ],
   "source": [
    "recom.compute_similarity_matrix(train)  "
   ]
  },
  {
   "cell_type": "code",
   "execution_count": 13,
   "metadata": {},
   "outputs": [
    {
     "name": "stderr",
     "output_type": "stream",
     "text": [
      "INFO:hnmchallenge.recommender_interface:\u001b[1;36mRecommending items MONOCORE\u001b[0m\n",
      "INFO:hnmchallenge.recommender_interface:\u001b[1;36mPredicting for: 45014 users\u001b[0m\n",
      "INFO:hnmchallenge.recommender_interface:\u001b[1;36mnum batches: 5\u001b[0m\n",
      "  0%|          | 0/5 [00:00<?, ?it/s]INFO:hnmchallenge.recommender_interface:\u001b[1;36mgetting predictions...\u001b[0m\n",
      "INFO:hnmchallenge.utils.pandas_utils:\u001b[1;33munique customer_id: 9003\u001b[0m\n",
      "WARNING:hnmchallenge.utils.sparse_matrix:\u001b[1;31musers_num is None, remap user ids to consecutive\u001b[0m\n",
      "INFO:hnmchallenge.recommender_interface:\u001b[1;36mDENSE Item Similarity MUL...\u001b[0m\n"
     ]
    },
    {
     "name": "stdout",
     "output_type": "stream",
     "text": [
      "func:interactions_to_sparse_matrix\n",
      " took: 0.32175326347351074 sec\n"
     ]
    },
    {
     "name": "stderr",
     "output_type": "stream",
     "text": [
      "  0%|          | 0/5 [00:02<?, ?it/s]\n"
     ]
    },
    {
     "ename": "KeyboardInterrupt",
     "evalue": "",
     "output_type": "error",
     "traceback": [
      "\u001b[0;31m---------------------------------------------------------------------------\u001b[0m",
      "\u001b[0;31mKeyboardInterrupt\u001b[0m                         Traceback (most recent call last)",
      "Input \u001b[0;32mIn [13]\u001b[0m, in \u001b[0;36m<module>\u001b[0;34m\u001b[0m\n\u001b[0;32m----> 1\u001b[0m recs \u001b[38;5;241m=\u001b[39m \u001b[43mrecom\u001b[49m\u001b[38;5;241;43m.\u001b[39;49m\u001b[43mrecommend\u001b[49m\u001b[43m(\u001b[49m\u001b[43minteractions\u001b[49m\u001b[38;5;241;43m=\u001b[39;49m\u001b[43mtrain_sub\u001b[49m\u001b[43m,\u001b[49m\u001b[43m \u001b[49m\u001b[43mbatch_size\u001b[49m\u001b[38;5;241;43m=\u001b[39;49m\u001b[38;5;241;43m10_000\u001b[39;49m\u001b[43m,\u001b[49m\u001b[43m \u001b[49m\u001b[43mremove_seen\u001b[49m\u001b[38;5;241;43m=\u001b[39;49m\u001b[38;5;28;43;01mFalse\u001b[39;49;00m\u001b[43m)\u001b[49m\n",
      "File \u001b[0;32m/raid/home/edoardo/GitProjects/HnMChallenge/hnmchallenge/recommender_interface.py:123\u001b[0m, in \u001b[0;36mAbstractRecommender.recommend\u001b[0;34m(self, interactions, cutoff, remove_seen, batch_size)\u001b[0m\n\u001b[1;32m    119\u001b[0m interactions_slice \u001b[38;5;241m=\u001b[39m interactions[\n\u001b[1;32m    120\u001b[0m     interactions[DEFAULT_USER_COL]\u001b[38;5;241m.\u001b[39misin(user_batch)\n\u001b[1;32m    121\u001b[0m ]\n\u001b[1;32m    122\u001b[0m logger\u001b[38;5;241m.\u001b[39minfo(set_color(\u001b[38;5;124mf\u001b[39m\u001b[38;5;124m\"\u001b[39m\u001b[38;5;124mgetting predictions...\u001b[39m\u001b[38;5;124m\"\u001b[39m, \u001b[38;5;124m\"\u001b[39m\u001b[38;5;124mcyan\u001b[39m\u001b[38;5;124m\"\u001b[39m))\n\u001b[0;32m--> 123\u001b[0m scores \u001b[38;5;241m=\u001b[39m \u001b[38;5;28;43mself\u001b[39;49m\u001b[38;5;241;43m.\u001b[39;49m\u001b[43mpredict\u001b[49m\u001b[43m(\u001b[49m\u001b[43minteractions_slice\u001b[49m\u001b[43m)\u001b[49m\n\u001b[1;32m    124\u001b[0m logger\u001b[38;5;241m.\u001b[39minfo(set_color(\u001b[38;5;124mf\u001b[39m\u001b[38;5;124m\"\u001b[39m\u001b[38;5;124mdone...\u001b[39m\u001b[38;5;124m\"\u001b[39m, \u001b[38;5;124m\"\u001b[39m\u001b[38;5;124mcyan\u001b[39m\u001b[38;5;124m\"\u001b[39m))\n\u001b[1;32m    125\u001b[0m \u001b[38;5;66;03m# set the score of the items used during the training to -inf\u001b[39;00m\n",
      "File \u001b[0;32m/raid/home/edoardo/GitProjects/HnMChallenge/hnmchallenge/recommender_interface.py:263\u001b[0m, in \u001b[0;36mItemSimilarityRecommender.predict\u001b[0;34m(self, interactions)\u001b[0m\n\u001b[1;32m    261\u001b[0m \u001b[38;5;28;01mif\u001b[39;00m \u001b[38;5;129;01mnot\u001b[39;00m sps\u001b[38;5;241m.\u001b[39missparse(\u001b[38;5;28mself\u001b[39m\u001b[38;5;241m.\u001b[39msimilarity_matrix):\n\u001b[1;32m    262\u001b[0m     logger\u001b[38;5;241m.\u001b[39minfo(set_color(\u001b[38;5;124mf\u001b[39m\u001b[38;5;124m\"\u001b[39m\u001b[38;5;124mDENSE Item Similarity MUL...\u001b[39m\u001b[38;5;124m\"\u001b[39m, \u001b[38;5;124m\"\u001b[39m\u001b[38;5;124mcyan\u001b[39m\u001b[38;5;124m\"\u001b[39m))\n\u001b[0;32m--> 263\u001b[0m     scores \u001b[38;5;241m=\u001b[39m \u001b[43msparse_interaction\u001b[49m\u001b[43m \u001b[49m\u001b[38;5;241;43m@\u001b[39;49m\u001b[43m \u001b[49m\u001b[38;5;28;43mself\u001b[39;49m\u001b[38;5;241;43m.\u001b[39;49m\u001b[43msimilarity_matrix\u001b[49m\n\u001b[1;32m    265\u001b[0m     \u001b[38;5;66;03m# gpu\u001b[39;00m\n\u001b[1;32m    266\u001b[0m     \u001b[38;5;66;03m# dense_interactions = sparse_interaction.toarray()\u001b[39;00m\n\u001b[1;32m    267\u001b[0m \n\u001b[0;32m   (...)\u001b[0m\n\u001b[1;32m    290\u001b[0m     \u001b[38;5;66;03m# scores = scores_torch.cpu().numpy()\u001b[39;00m\n\u001b[1;32m    291\u001b[0m \u001b[38;5;28;01melse\u001b[39;00m:\n\u001b[1;32m    292\u001b[0m     logger\u001b[38;5;241m.\u001b[39minfo(set_color(\u001b[38;5;124mf\u001b[39m\u001b[38;5;124m\"\u001b[39m\u001b[38;5;124mSPARSE Item Similarity MUL...\u001b[39m\u001b[38;5;124m\"\u001b[39m, \u001b[38;5;124m\"\u001b[39m\u001b[38;5;124mcyan\u001b[39m\u001b[38;5;124m\"\u001b[39m))\n",
      "File \u001b[0;32m/raid/home/edoardo/GitProjects/HnMChallenge/.venv/lib/python3.9/site-packages/scipy/sparse/base.py:560\u001b[0m, in \u001b[0;36mspmatrix.__matmul__\u001b[0;34m(self, other)\u001b[0m\n\u001b[1;32m    557\u001b[0m \u001b[38;5;28;01mif\u001b[39;00m isscalarlike(other):\n\u001b[1;32m    558\u001b[0m     \u001b[38;5;28;01mraise\u001b[39;00m \u001b[38;5;167;01mValueError\u001b[39;00m(\u001b[38;5;124m\"\u001b[39m\u001b[38;5;124mScalar operands are not allowed, \u001b[39m\u001b[38;5;124m\"\u001b[39m\n\u001b[1;32m    559\u001b[0m                      \u001b[38;5;124m\"\u001b[39m\u001b[38;5;124muse \u001b[39m\u001b[38;5;124m'\u001b[39m\u001b[38;5;124m*\u001b[39m\u001b[38;5;124m'\u001b[39m\u001b[38;5;124m instead\u001b[39m\u001b[38;5;124m\"\u001b[39m)\n\u001b[0;32m--> 560\u001b[0m \u001b[38;5;28;01mreturn\u001b[39;00m \u001b[38;5;28;43mself\u001b[39;49m\u001b[38;5;241;43m.\u001b[39;49m\u001b[38;5;21;43m__mul__\u001b[39;49m\u001b[43m(\u001b[49m\u001b[43mother\u001b[49m\u001b[43m)\u001b[49m\n",
      "File \u001b[0;32m/raid/home/edoardo/GitProjects/HnMChallenge/.venv/lib/python3.9/site-packages/scipy/sparse/base.py:471\u001b[0m, in \u001b[0;36mspmatrix.__mul__\u001b[0;34m(self, other)\u001b[0m\n\u001b[1;32m    469\u001b[0m         \u001b[38;5;28;01mreturn\u001b[39;00m \u001b[38;5;28mself\u001b[39m\u001b[38;5;241m.\u001b[39m_mul_vector(other\u001b[38;5;241m.\u001b[39mravel())\u001b[38;5;241m.\u001b[39mreshape(M, \u001b[38;5;241m1\u001b[39m)\n\u001b[1;32m    470\u001b[0m     \u001b[38;5;28;01melif\u001b[39;00m other\u001b[38;5;241m.\u001b[39mndim \u001b[38;5;241m==\u001b[39m \u001b[38;5;241m2\u001b[39m \u001b[38;5;129;01mand\u001b[39;00m other\u001b[38;5;241m.\u001b[39mshape[\u001b[38;5;241m0\u001b[39m] \u001b[38;5;241m==\u001b[39m N:\n\u001b[0;32m--> 471\u001b[0m         \u001b[38;5;28;01mreturn\u001b[39;00m \u001b[38;5;28;43mself\u001b[39;49m\u001b[38;5;241;43m.\u001b[39;49m\u001b[43m_mul_multivector\u001b[49m\u001b[43m(\u001b[49m\u001b[43mother\u001b[49m\u001b[43m)\u001b[49m\n\u001b[1;32m    473\u001b[0m \u001b[38;5;28;01mif\u001b[39;00m isscalarlike(other):\n\u001b[1;32m    474\u001b[0m     \u001b[38;5;66;03m# scalar value\u001b[39;00m\n\u001b[1;32m    475\u001b[0m     \u001b[38;5;28;01mreturn\u001b[39;00m \u001b[38;5;28mself\u001b[39m\u001b[38;5;241m.\u001b[39m_mul_scalar(other)\n",
      "File \u001b[0;32m/raid/home/edoardo/GitProjects/HnMChallenge/.venv/lib/python3.9/site-packages/scipy/sparse/coo.py:592\u001b[0m, in \u001b[0;36mcoo_matrix._mul_multivector\u001b[0;34m(self, other)\u001b[0m\n\u001b[1;32m    589\u001b[0m result \u001b[38;5;241m=\u001b[39m np\u001b[38;5;241m.\u001b[39mzeros((other\u001b[38;5;241m.\u001b[39mshape[\u001b[38;5;241m1\u001b[39m], \u001b[38;5;28mself\u001b[39m\u001b[38;5;241m.\u001b[39mshape[\u001b[38;5;241m0\u001b[39m]),\n\u001b[1;32m    590\u001b[0m                   dtype\u001b[38;5;241m=\u001b[39mupcast_char(\u001b[38;5;28mself\u001b[39m\u001b[38;5;241m.\u001b[39mdtype\u001b[38;5;241m.\u001b[39mchar, other\u001b[38;5;241m.\u001b[39mdtype\u001b[38;5;241m.\u001b[39mchar))\n\u001b[1;32m    591\u001b[0m \u001b[38;5;28;01mfor\u001b[39;00m i, col \u001b[38;5;129;01min\u001b[39;00m \u001b[38;5;28menumerate\u001b[39m(other\u001b[38;5;241m.\u001b[39mT):\n\u001b[0;32m--> 592\u001b[0m     \u001b[43mcoo_matvec\u001b[49m\u001b[43m(\u001b[49m\u001b[38;5;28;43mself\u001b[39;49m\u001b[38;5;241;43m.\u001b[39;49m\u001b[43mnnz\u001b[49m\u001b[43m,\u001b[49m\u001b[43m \u001b[49m\u001b[38;5;28;43mself\u001b[39;49m\u001b[38;5;241;43m.\u001b[39;49m\u001b[43mrow\u001b[49m\u001b[43m,\u001b[49m\u001b[43m \u001b[49m\u001b[38;5;28;43mself\u001b[39;49m\u001b[38;5;241;43m.\u001b[39;49m\u001b[43mcol\u001b[49m\u001b[43m,\u001b[49m\u001b[43m \u001b[49m\u001b[38;5;28;43mself\u001b[39;49m\u001b[38;5;241;43m.\u001b[39;49m\u001b[43mdata\u001b[49m\u001b[43m,\u001b[49m\u001b[43m \u001b[49m\u001b[43mcol\u001b[49m\u001b[43m,\u001b[49m\u001b[43m \u001b[49m\u001b[43mresult\u001b[49m\u001b[43m[\u001b[49m\u001b[43mi\u001b[49m\u001b[43m]\u001b[49m\u001b[43m)\u001b[49m\n\u001b[1;32m    593\u001b[0m \u001b[38;5;28;01mreturn\u001b[39;00m result\u001b[38;5;241m.\u001b[39mT\u001b[38;5;241m.\u001b[39mview(\u001b[38;5;28mtype\u001b[39m\u001b[38;5;241m=\u001b[39m\u001b[38;5;28mtype\u001b[39m(other))\n",
      "\u001b[0;31mKeyboardInterrupt\u001b[0m: "
     ]
    }
   ],
   "source": [
    "recs = recom.recommend(interactions=train_sub, batch_size=10_000, remove_seen=False)"
   ]
  },
  {
   "cell_type": "code",
   "execution_count": 14,
   "metadata": {},
   "outputs": [
    {
     "name": "stderr",
     "output_type": "stream",
     "text": [
      "INFO:hnmchallenge.recommender_interface:\u001b[1;36mRecommending items MULTICORE\u001b[0m\n"
     ]
    },
    {
     "data": {
      "application/vnd.jupyter.widget-view+json": {
       "model_id": "1b01a3019c5b4653b5f2d47c30b9b8f8",
       "version_major": 2,
       "version_minor": 0
      },
      "text/plain": [
       "  0%|          | 0/5 [00:00<?, ?it/s]"
      ]
     },
     "metadata": {},
     "output_type": "display_data"
    },
    {
     "name": "stderr",
     "output_type": "stream",
     "text": [
      "INFO:hnmchallenge.utils.pandas_utils:\u001b[1;33munique customer_id: 9003\u001b[0m\n",
      "INFO:hnmchallenge.recommender_interface:\u001b[1;36mDENSE Item Similarity MUL...\u001b[0m\n",
      "WARNING:hnmchallenge.utils.sparse_matrix:\u001b[1;31musers_num is None, remap user ids to consecutive\u001b[0m\n"
     ]
    },
    {
     "name": "stdout",
     "output_type": "stream",
     "text": [
      "func:interactions_to_sparse_matrix\n",
      " took: 0.3506743907928467 sec\n"
     ]
    },
    {
     "name": "stderr",
     "output_type": "stream",
     "text": [
      "INFO:hnmchallenge.utils.pandas_utils:\u001b[1;33munique customer_id: 9003\u001b[0m\n",
      "WARNING:hnmchallenge.utils.sparse_matrix:\u001b[1;31musers_num is None, remap user ids to consecutive\u001b[0m\n"
     ]
    },
    {
     "name": "stdout",
     "output_type": "stream",
     "text": [
      "func:interactions_to_sparse_matrix\n",
      " took: 0.273942232131958 sec\n"
     ]
    },
    {
     "name": "stderr",
     "output_type": "stream",
     "text": [
      "INFO:hnmchallenge.recommender_interface:\u001b[1;36mDENSE Item Similarity MUL...\u001b[0m\n",
      "INFO:hnmchallenge.utils.pandas_utils:\u001b[1;33munique customer_id: 9003\u001b[0m\n",
      "WARNING:hnmchallenge.utils.sparse_matrix:\u001b[1;31musers_num is None, remap user ids to consecutive\u001b[0m\n"
     ]
    },
    {
     "name": "stdout",
     "output_type": "stream",
     "text": [
      "func:interactions_to_sparse_matrix\n",
      " took: 0.22741484642028809 sec\n"
     ]
    },
    {
     "name": "stderr",
     "output_type": "stream",
     "text": [
      "INFO:hnmchallenge.recommender_interface:\u001b[1;36mDENSE Item Similarity MUL...\u001b[0m\n",
      "INFO:hnmchallenge.recommender_interface:\u001b[1;36mRemoving seen items\u001b[0m\n",
      "INFO:hnmchallenge.utils.sparse_matrix:\u001b[1;36mSort_top_k:True\u001b[0m\n",
      "INFO:hnmchallenge.utils.pandas_utils:\u001b[1;33munique customer_id: 9003\u001b[0m\n",
      "WARNING:hnmchallenge.utils.sparse_matrix:\u001b[1;31musers_num is None, remap user ids to consecutive\u001b[0m\n"
     ]
    },
    {
     "name": "stdout",
     "output_type": "stream",
     "text": [
      "func:interactions_to_sparse_matrix\n",
      " took: 0.1773083209991455 sec\n"
     ]
    },
    {
     "name": "stderr",
     "output_type": "stream",
     "text": [
      "INFO:hnmchallenge.recommender_interface:\u001b[1;36mDENSE Item Similarity MUL...\u001b[0m\n",
      "INFO:hnmchallenge.recommender_interface:\u001b[1;36mRemoving seen items\u001b[0m\n",
      "INFO:hnmchallenge.utils.sparse_matrix:\u001b[1;36mSort_top_k:True\u001b[0m\n",
      "INFO:hnmchallenge.utils.pandas_utils:\u001b[1;33munique customer_id: 9002\u001b[0m\n",
      "WARNING:hnmchallenge.utils.sparse_matrix:\u001b[1;31musers_num is None, remap user ids to consecutive\u001b[0m\n"
     ]
    },
    {
     "name": "stdout",
     "output_type": "stream",
     "text": [
      "func:interactions_to_sparse_matrix\n",
      " took: 0.12210536003112793 sec\n"
     ]
    },
    {
     "name": "stderr",
     "output_type": "stream",
     "text": [
      "INFO:hnmchallenge.recommender_interface:\u001b[1;36mDENSE Item Similarity MUL...\u001b[0m\n",
      "INFO:hnmchallenge.recommender_interface:\u001b[1;36mRemoving seen items\u001b[0m\n",
      "INFO:hnmchallenge.utils.sparse_matrix:\u001b[1;36mSort_top_k:True\u001b[0m\n",
      "INFO:hnmchallenge.recommender_interface:\u001b[1;36mRemoving seen items\u001b[0m\n",
      "INFO:hnmchallenge.utils.sparse_matrix:\u001b[1;36mSort_top_k:True\u001b[0m\n",
      "INFO:hnmchallenge.recommender_interface:\u001b[1;36mRemoving seen items\u001b[0m\n",
      "INFO:hnmchallenge.utils.sparse_matrix:\u001b[1;36mSort_top_k:True\u001b[0m\n"
     ]
    }
   ],
   "source": [
    "recs = recom.recommend_multicore(interactions=train_sub, batch_size=10_000, num_cpus=20,\n",
    "                                 remove_seen=True)"
   ]
  },
  {
   "cell_type": "code",
   "execution_count": 15,
   "metadata": {},
   "outputs": [
    {
     "data": {
      "text/plain": [
       "0.007157400365645329"
      ]
     },
     "execution_count": 15,
     "metadata": {},
     "output_type": "execute_result"
    }
   ],
   "source": [
    "map_at_k(rating_true=dataset.get_val_df(), rating_pred=recs)"
   ]
  },
  {
   "cell_type": "code",
   "execution_count": 9,
   "metadata": {},
   "outputs": [
    {
     "data": {
      "text/plain": [
       "0.008800728749777206"
      ]
     },
     "execution_count": 9,
     "metadata": {},
     "output_type": "execute_result"
    }
   ],
   "source": [
    "map_at_k(rating_true=dataset.get_test_df(), rating_pred=recs)"
   ]
  },
  {
   "cell_type": "code",
   "execution_count": 13,
   "metadata": {},
   "outputs": [],
   "source": [
    "from hnmchallenge.submission_handler import SubmissionHandler\n",
    "sh = SubmissionHandler()                                               "
   ]
  },
  {
   "cell_type": "code",
   "execution_count": 14,
   "metadata": {},
   "outputs": [
    {
     "name": "stderr",
     "output_type": "stream",
     "text": [
      "INFO:hnmchallenge.submission_handler:\u001b[1;33mSubmission with Filtered Data: EASE created succesfully!\u001b[0m\n"
     ]
    }
   ],
   "source": [
    "sh.create_submission_filtered_data(recs, sub_name=\"EASE\")"
   ]
  },
  {
   "cell_type": "code",
   "execution_count": null,
   "metadata": {},
   "outputs": [],
   "source": [
    "user_map_dict, item_map_dict = dr.get_new_raw_mapping_dict()"
   ]
  },
  {
   "cell_type": "code",
   "execution_count": null,
   "metadata": {},
   "outputs": [],
   "source": []
  },
  {
   "cell_type": "code",
   "execution_count": null,
   "metadata": {},
   "outputs": [],
   "source": [
    "grp_recs_df = recs.groupby(DEFAULT_USER_COL)[DEFAULT_ITEM_COL].apply(list)\n",
    "grp_recs_df = grp_recs_df.to_frame().reset_index()\n",
    "# map back to original ids\n",
    "grp_recs_df[DEFAULT_USER_COL] = grp_recs_df[DEFAULT_USER_COL].apply(\n",
    "    lambda x: user_map_dict.get(x)\n",
    ")"
   ]
  },
  {
   "cell_type": "code",
   "execution_count": null,
   "metadata": {},
   "outputs": [],
   "source": [
    "grp_recs_df[DEFAULT_ITEM_COL] = grp_recs_df[DEFAULT_ITEM_COL].apply(\n",
    "    lambda x: \" \".join(list(map(item_map_dict.get, x)))\n",
    ")"
   ]
  },
  {
   "cell_type": "code",
   "execution_count": null,
   "metadata": {},
   "outputs": [],
   "source": [
    "grp_recs_df"
   ]
  },
  {
   "cell_type": "code",
   "execution_count": null,
   "metadata": {},
   "outputs": [],
   "source": [
    "map_at_k(rating_true=test_df_s, rating_pred=recs)"
   ]
  },
  {
   "cell_type": "code",
   "execution_count": null,
   "metadata": {},
   "outputs": [],
   "source": [
    "map_at_k(rating_true=val_df_s, rating_pred=recs)"
   ]
  },
  {
   "cell_type": "code",
   "execution_count": null,
   "metadata": {},
   "outputs": [],
   "source": [
    "dr = DataReader()"
   ]
  },
  {
   "cell_type": "code",
   "execution_count": null,
   "metadata": {},
   "outputs": [],
   "source": [
    "dr.get_zero_interactions_recs()"
   ]
  },
  {
   "cell_type": "code",
   "execution_count": null,
   "metadata": {},
   "outputs": [],
   "source": [
    "zero_int_users"
   ]
  },
  {
   "cell_type": "code",
   "execution_count": null,
   "metadata": {},
   "outputs": [],
   "source": []
  }
 ],
 "metadata": {
  "interpreter": {
   "hash": "49c059d58f0ec17badd0cdbe6e6b441d467a7aa9fe76b97f622dc3d7d564b644"
  },
  "kernelspec": {
   "display_name": "Python 3.9.7 64-bit ('.venv': poetry)",
   "language": "python",
   "name": "python3"
  },
  "language_info": {
   "codemirror_mode": {
    "name": "ipython",
    "version": 3
   },
   "file_extension": ".py",
   "mimetype": "text/x-python",
   "name": "python",
   "nbconvert_exporter": "python",
   "pygments_lexer": "ipython3",
   "version": "3.9.7"
  },
  "orig_nbformat": 4
 },
 "nbformat": 4,
 "nbformat_minor": 2
}
