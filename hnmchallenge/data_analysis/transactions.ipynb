{
 "cells": [
  {
   "cell_type": "code",
   "execution_count": 20,
   "metadata": {},
   "outputs": [],
   "source": [
    "import pandas as pd\n",
    "from hnmchallenge.data_reader import DataReader\n",
    "import matplotlib.pyplot as plt\n",
    "import seaborn as sns\n",
    "import numpy as np\n",
    "from hnmchallenge.dataset import Dataset\n",
    "from hnmchallenge.filtered_dataset import FilterdDataset\n",
    "from hnmchallenge.models.top_pop import TopPop\n",
    "from hnmchallenge.evaluation.python_evaluation import map_at_k\n",
    "from hnmchallenge.constant import *\n",
    "from hnmchallenge.models.sgmc.sgmc import SGMC\n",
    "from hnmchallenge.models.ease.ease import EASE\n",
    "from hnmchallenge.models.itemknn.itemknn import ItemKNN "
   ]
  },
  {
   "cell_type": "code",
   "execution_count": 21,
   "metadata": {},
   "outputs": [],
   "source": [
    "import logging\n",
    "logger = logging.getLogger(__name__)\n",
    "logging.basicConfig(level=logging.DEBUG)"
   ]
  },
  {
   "cell_type": "code",
   "execution_count": 22,
   "metadata": {},
   "outputs": [],
   "source": [
    "dataset = FilterdDataset()\n",
    "dr = DataReader()\n"
   ]
  },
  {
   "cell_type": "code",
   "execution_count": 4,
   "metadata": {},
   "outputs": [],
   "source": [
    "recom = SGMC(dataset, k=128, time_weight=True)"
   ]
  },
  {
   "cell_type": "code",
   "execution_count": 23,
   "metadata": {},
   "outputs": [],
   "source": [
    "recom = ItemKNN(dataset, topk=1000, time_weight=True)"
   ]
  },
  {
   "cell_type": "code",
   "execution_count": 4,
   "metadata": {},
   "outputs": [],
   "source": [
    "recom = EASE(dataset, l2=0.00000001, time_weight=True)"
   ]
  },
  {
   "cell_type": "code",
   "execution_count": 24,
   "metadata": {},
   "outputs": [],
   "source": [
    "train = dataset.get_train_df()\n",
    "train_sub = dataset.get_train_df_user_subset()\n",
    "fd = dr.get_filtered_full_data()"
   ]
  },
  {
   "cell_type": "code",
   "execution_count": 25,
   "metadata": {},
   "outputs": [
    {
     "name": "stderr",
     "output_type": "stream",
     "text": [
      "INFO:hnmchallenge.utils.pandas_utils:\u001b[1;33munique customer_id: 1128716\u001b[0m\n",
      "WARNING:hnmchallenge.utils.sparse_matrix:\u001b[1;31musers_num is None, remap user ids to consecutive\u001b[0m\n"
     ]
    },
    {
     "name": "stdout",
     "output_type": "stream",
     "text": [
      "func:interactions_to_sparse_matrix\n",
      " took: 8.841273307800293 sec\n"
     ]
    }
   ],
   "source": [
    "recom.compute_similarity_matrix(train)  "
   ]
  },
  {
   "cell_type": "code",
   "execution_count": null,
   "metadata": {},
   "outputs": [],
   "source": [
    "recs = recom.recommend(interactions=train_sub, batch_size=10_000, remove_seen=False)"
   ]
  },
  {
   "cell_type": "code",
   "execution_count": 26,
   "metadata": {},
   "outputs": [
    {
     "name": "stderr",
     "output_type": "stream",
     "text": [
      "INFO:hnmchallenge.recommender_interface:\u001b[1;36mRecommending items MULTICORE\u001b[0m\n"
     ]
    },
    {
     "data": {
      "application/vnd.jupyter.widget-view+json": {
       "model_id": "a8a29ac6765b4611b807d07ab27e207a",
       "version_major": 2,
       "version_minor": 0
      },
      "text/plain": [
       "  0%|          | 0/5 [00:00<?, ?it/s]"
      ]
     },
     "metadata": {},
     "output_type": "display_data"
    },
    {
     "name": "stdout",
     "output_type": "stream",
     "text": [
      "Predicting using time_weight importance...\n"
     ]
    },
    {
     "name": "stderr",
     "output_type": "stream",
     "text": [
      "INFO:hnmchallenge.utils.pandas_utils:\u001b[1;33munique customer_id: 9003\u001b[0m\n",
      "WARNING:hnmchallenge.utils.sparse_matrix:\u001b[1;31musers_num is None, remap user ids to consecutive\u001b[0m\n",
      "INFO:hnmchallenge.utils.sparse_matrix:\u001b[1;31mApplying time weight on user-item interactions\u001b[0m\n"
     ]
    },
    {
     "name": "stdout",
     "output_type": "stream",
     "text": [
      "func:interactions_to_sparse_matrix\n",
      " took: 0.44321417808532715 sec\n"
     ]
    },
    {
     "name": "stderr",
     "output_type": "stream",
     "text": [
      "INFO:hnmchallenge.recommender_interface:\u001b[1;36mSPARSE Item Similarity MUL...\u001b[0m\n"
     ]
    },
    {
     "name": "stdout",
     "output_type": "stream",
     "text": [
      "Predicting using time_weight importance...\n"
     ]
    },
    {
     "name": "stderr",
     "output_type": "stream",
     "text": [
      "INFO:hnmchallenge.utils.pandas_utils:\u001b[1;33munique customer_id: 9003\u001b[0m\n",
      "WARNING:hnmchallenge.utils.sparse_matrix:\u001b[1;31musers_num is None, remap user ids to consecutive\u001b[0m\n",
      "INFO:hnmchallenge.utils.sparse_matrix:\u001b[1;31mApplying time weight on user-item interactions\u001b[0m\n"
     ]
    },
    {
     "name": "stdout",
     "output_type": "stream",
     "text": [
      "func:interactions_to_sparse_matrix\n",
      " took: 0.42298221588134766 sec\n"
     ]
    },
    {
     "name": "stderr",
     "output_type": "stream",
     "text": [
      "INFO:hnmchallenge.recommender_interface:\u001b[1;36mSPARSE Item Similarity MUL...\u001b[0m\n"
     ]
    },
    {
     "name": "stdout",
     "output_type": "stream",
     "text": [
      "Predicting using time_weight importance...\n"
     ]
    },
    {
     "name": "stderr",
     "output_type": "stream",
     "text": [
      "INFO:hnmchallenge.utils.pandas_utils:\u001b[1;33munique customer_id: 9003\u001b[0m\n",
      "WARNING:hnmchallenge.utils.sparse_matrix:\u001b[1;31musers_num is None, remap user ids to consecutive\u001b[0m\n",
      "INFO:hnmchallenge.utils.sparse_matrix:\u001b[1;31mApplying time weight on user-item interactions\u001b[0m\n"
     ]
    },
    {
     "name": "stdout",
     "output_type": "stream",
     "text": [
      "func:interactions_to_sparse_matrix\n",
      " took: 0.3144676685333252 sec\n"
     ]
    },
    {
     "name": "stderr",
     "output_type": "stream",
     "text": [
      "INFO:hnmchallenge.recommender_interface:\u001b[1;36mSPARSE Item Similarity MUL...\u001b[0m\n"
     ]
    },
    {
     "name": "stdout",
     "output_type": "stream",
     "text": [
      "Predicting using time_weight importance...\n"
     ]
    },
    {
     "name": "stderr",
     "output_type": "stream",
     "text": [
      "INFO:hnmchallenge.utils.pandas_utils:\u001b[1;33munique customer_id: 9003\u001b[0m\n",
      "WARNING:hnmchallenge.utils.sparse_matrix:\u001b[1;31musers_num is None, remap user ids to consecutive\u001b[0m\n",
      "INFO:hnmchallenge.utils.sparse_matrix:\u001b[1;31mApplying time weight on user-item interactions\u001b[0m\n"
     ]
    },
    {
     "name": "stdout",
     "output_type": "stream",
     "text": [
      "func:interactions_to_sparse_matrix\n",
      " took: 0.2696864604949951 sec\n"
     ]
    },
    {
     "name": "stderr",
     "output_type": "stream",
     "text": [
      "INFO:hnmchallenge.recommender_interface:\u001b[1;36mSPARSE Item Similarity MUL...\u001b[0m\n"
     ]
    },
    {
     "name": "stdout",
     "output_type": "stream",
     "text": [
      "Predicting using time_weight importance...\n"
     ]
    },
    {
     "name": "stderr",
     "output_type": "stream",
     "text": [
      "INFO:hnmchallenge.utils.pandas_utils:\u001b[1;33munique customer_id: 9002\u001b[0m\n",
      "WARNING:hnmchallenge.utils.sparse_matrix:\u001b[1;31musers_num is None, remap user ids to consecutive\u001b[0m\n",
      "INFO:hnmchallenge.utils.sparse_matrix:\u001b[1;31mApplying time weight on user-item interactions\u001b[0m\n"
     ]
    },
    {
     "name": "stdout",
     "output_type": "stream",
     "text": [
      "func:interactions_to_sparse_matrix\n",
      " took: 0.1939706802368164 sec\n"
     ]
    },
    {
     "name": "stderr",
     "output_type": "stream",
     "text": [
      "INFO:hnmchallenge.recommender_interface:\u001b[1;36mSPARSE Item Similarity MUL...\u001b[0m\n",
      "INFO:hnmchallenge.utils.sparse_matrix:\u001b[1;36mSort_top_k:True\u001b[0m\n",
      "INFO:hnmchallenge.utils.sparse_matrix:\u001b[1;36mSort_top_k:True\u001b[0m\n",
      "INFO:hnmchallenge.utils.sparse_matrix:\u001b[1;36mSort_top_k:True\u001b[0m\n",
      "INFO:hnmchallenge.utils.sparse_matrix:\u001b[1;36mSort_top_k:True\u001b[0m\n",
      "INFO:hnmchallenge.utils.sparse_matrix:\u001b[1;36mSort_top_k:True\u001b[0m\n"
     ]
    }
   ],
   "source": [
    "recs = recom.recommend_multicore(interactions=train_sub, batch_size=10_000, num_cpus=20,\n",
    "                                 remove_seen=False)"
   ]
  },
  {
   "cell_type": "code",
   "execution_count": 27,
   "metadata": {},
   "outputs": [
    {
     "data": {
      "text/plain": [
       "0.02960409727623696"
      ]
     },
     "execution_count": 27,
     "metadata": {},
     "output_type": "execute_result"
    }
   ],
   "source": [
    "map_at_k(rating_true=dataset.get_val_df(), rating_pred=recs)"
   ]
  },
  {
   "cell_type": "code",
   "execution_count": 28,
   "metadata": {},
   "outputs": [
    {
     "data": {
      "text/plain": [
       "0.02988199549883098"
      ]
     },
     "execution_count": 28,
     "metadata": {},
     "output_type": "execute_result"
    }
   ],
   "source": [
    "map_at_k(rating_true=dataset.get_test_df(), rating_pred=recs)"
   ]
  },
  {
   "cell_type": "code",
   "execution_count": 9,
   "metadata": {},
   "outputs": [],
   "source": [
    "from hnmchallenge.submission_handler import SubmissionHandler\n",
    "sh = SubmissionHandler()                                               "
   ]
  },
  {
   "cell_type": "code",
   "execution_count": 10,
   "metadata": {},
   "outputs": [
    {
     "name": "stderr",
     "output_type": "stream",
     "text": [
      "INFO:hnmchallenge.submission_handler:\u001b[1;33mSubmission with Filtered Data: ItemKNN-td-50 created succesfully!\u001b[0m\n"
     ]
    }
   ],
   "source": [
    "sh.create_submission_filtered_data(recs, sub_name=\"ItemKNN-td-50\")"
   ]
  },
  {
   "cell_type": "code",
   "execution_count": null,
   "metadata": {},
   "outputs": [],
   "source": [
    "user_map_dict, item_map_dict = dr.get_new_raw_mapping_dict()"
   ]
  },
  {
   "cell_type": "code",
   "execution_count": null,
   "metadata": {},
   "outputs": [],
   "source": []
  },
  {
   "cell_type": "code",
   "execution_count": null,
   "metadata": {},
   "outputs": [],
   "source": [
    "grp_recs_df = recs.groupby(DEFAULT_USER_COL)[DEFAULT_ITEM_COL].apply(list)\n",
    "grp_recs_df = grp_recs_df.to_frame().reset_index()\n",
    "# map back to original ids\n",
    "grp_recs_df[DEFAULT_USER_COL] = grp_recs_df[DEFAULT_USER_COL].apply(\n",
    "    lambda x: user_map_dict.get(x)\n",
    ")"
   ]
  },
  {
   "cell_type": "code",
   "execution_count": null,
   "metadata": {},
   "outputs": [],
   "source": [
    "grp_recs_df[DEFAULT_ITEM_COL] = grp_recs_df[DEFAULT_ITEM_COL].apply(\n",
    "    lambda x: \" \".join(list(map(item_map_dict.get, x)))\n",
    ")"
   ]
  },
  {
   "cell_type": "code",
   "execution_count": null,
   "metadata": {},
   "outputs": [],
   "source": [
    "grp_recs_df"
   ]
  },
  {
   "cell_type": "code",
   "execution_count": null,
   "metadata": {},
   "outputs": [],
   "source": [
    "map_at_k(rating_true=test_df_s, rating_pred=recs)"
   ]
  },
  {
   "cell_type": "code",
   "execution_count": null,
   "metadata": {},
   "outputs": [],
   "source": [
    "map_at_k(rating_true=val_df_s, rating_pred=recs)"
   ]
  },
  {
   "cell_type": "code",
   "execution_count": null,
   "metadata": {},
   "outputs": [],
   "source": [
    "dr = DataReader()"
   ]
  },
  {
   "cell_type": "code",
   "execution_count": null,
   "metadata": {},
   "outputs": [],
   "source": [
    "dr.get_zero_interactions_recs()"
   ]
  },
  {
   "cell_type": "code",
   "execution_count": null,
   "metadata": {},
   "outputs": [],
   "source": [
    "zero_int_users"
   ]
  },
  {
   "cell_type": "code",
   "execution_count": null,
   "metadata": {},
   "outputs": [],
   "source": []
  }
 ],
 "metadata": {
  "interpreter": {
   "hash": "49c059d58f0ec17badd0cdbe6e6b441d467a7aa9fe76b97f622dc3d7d564b644"
  },
  "kernelspec": {
   "display_name": "Python 3.9.7 64-bit ('.venv': poetry)",
   "language": "python",
   "name": "python3"
  },
  "language_info": {
   "codemirror_mode": {
    "name": "ipython",
    "version": 3
   },
   "file_extension": ".py",
   "mimetype": "text/x-python",
   "name": "python",
   "nbconvert_exporter": "python",
   "pygments_lexer": "ipython3",
   "version": "3.9.7"
  },
  "orig_nbformat": 4
 },
 "nbformat": 4,
 "nbformat_minor": 2
}
